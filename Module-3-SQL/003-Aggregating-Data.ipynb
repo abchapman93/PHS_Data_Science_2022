{
 "cells": [
  {
   "cell_type": "markdown",
   "id": "eede350c",
   "metadata": {},
   "source": [
    "<html>\n",
    "<table width=\"100%\" cellspacing=\"2\" cellpadding=\"2\" border=\"1\">\n",
    "<tbody>\n",
    "<tr>\n",
    "<td valign=\"center\" align=\"center\" width=\"45%\"><img src=\"../media/Univ-Utah.jpeg\"><br>\n",
    "</td>\n",
    "    <td valign=\"center\" align=\"center\" width=\"75%\">\n",
    "<h1 align=\"center\"><font size=\"+1\">University of Utah<br>Population Health Sciences<br>Data Science Workshop</font></h1></td>\n",
    "<td valign=\"center\" align=\"center\" width=\"45%\"><img\n",
    "src=\"../media/U_Health_stacked_png_red.png\" alt=\"Utah Health\n",
    "Logo\" width=\"128\" height=\"134\"><br>\n",
    "</td>\n",
    "</tr>\n",
    "</tbody>\n",
    "</table>\n",
    "<br>\n",
    "</html>\n"
   ]
  },
  {
   "cell_type": "code",
   "execution_count": 1,
   "id": "602c509b",
   "metadata": {},
   "outputs": [],
   "source": [
    "import pandas as pd\n",
    "from util import connect_to_mimic"
   ]
  },
  {
   "cell_type": "code",
   "execution_count": 2,
   "id": "3be6db56",
   "metadata": {},
   "outputs": [
    {
     "name": "stdout",
     "output_type": "stream",
     "text": [
      "Enter password for MIMIC2 database········\n"
     ]
    }
   ],
   "source": [
    "conn = connect_to_mimic(\"uu-phs\")"
   ]
  },
  {
   "cell_type": "markdown",
   "id": "27ae5a1c",
   "metadata": {},
   "source": []
  },
  {
   "cell_type": "markdown",
   "id": "51bc9d6e",
   "metadata": {},
   "source": [
    "### COUNT"
   ]
  },
  {
   "cell_type": "markdown",
   "id": "3726a0f4",
   "metadata": {},
   "source": []
  },
  {
   "cell_type": "code",
   "execution_count": 3,
   "id": "f3d22f0c",
   "metadata": {
    "scrolled": true
   },
   "outputs": [
    {
     "name": "stderr",
     "output_type": "stream",
     "text": [
      "/Users/alecchapman/opt/miniconda3/envs/phs/lib/python3.9/site-packages/pandas/io/sql.py:761: UserWarning: pandas only support SQLAlchemy connectable(engine/connection) ordatabase string URI or sqlite3 DBAPI2 connectionother DBAPI2 objects are not tested, please consider using SQLAlchemy\n",
      "  warnings.warn(\n"
     ]
    },
    {
     "data": {
      "text/html": [
       "<div>\n",
       "<style scoped>\n",
       "    .dataframe tbody tr th:only-of-type {\n",
       "        vertical-align: middle;\n",
       "    }\n",
       "\n",
       "    .dataframe tbody tr th {\n",
       "        vertical-align: top;\n",
       "    }\n",
       "\n",
       "    .dataframe thead th {\n",
       "        text-align: right;\n",
       "    }\n",
       "</style>\n",
       "<table border=\"1\" class=\"dataframe\">\n",
       "  <thead>\n",
       "    <tr style=\"text-align: right;\">\n",
       "      <th></th>\n",
       "      <th>COUNT(1)</th>\n",
       "    </tr>\n",
       "  </thead>\n",
       "  <tbody>\n",
       "    <tr>\n",
       "      <th>0</th>\n",
       "      <td>5074</td>\n",
       "    </tr>\n",
       "  </tbody>\n",
       "</table>\n",
       "</div>"
      ],
      "text/plain": [
       "   COUNT(1)\n",
       "0      5074"
      ]
     },
     "execution_count": 3,
     "metadata": {},
     "output_type": "execute_result"
    }
   ],
   "source": [
    "query = \"\"\"\n",
    "SELECT COUNT(1)\n",
    "FROM admissions\n",
    "\"\"\"\n",
    "pd.read_sql(query, conn)"
   ]
  },
  {
   "cell_type": "markdown",
   "id": "8ecccc0c",
   "metadata": {},
   "source": [
    "#### TODO\n",
    "Write a query to get the number of admissions from the ED."
   ]
  },
  {
   "cell_type": "code",
   "execution_count": null,
   "id": "853d4301",
   "metadata": {},
   "outputs": [],
   "source": []
  },
  {
   "cell_type": "code",
   "execution_count": 7,
   "id": "e7ffea9d",
   "metadata": {},
   "outputs": [
    {
     "name": "stderr",
     "output_type": "stream",
     "text": [
      "/Users/alecchapman/opt/miniconda3/envs/phs/lib/python3.9/site-packages/pandas/io/sql.py:761: UserWarning: pandas only support SQLAlchemy connectable(engine/connection) ordatabase string URI or sqlite3 DBAPI2 connectionother DBAPI2 objects are not tested, please consider using SQLAlchemy\n",
      "  warnings.warn(\n"
     ]
    },
    {
     "data": {
      "text/html": [
       "<div>\n",
       "<style scoped>\n",
       "    .dataframe tbody tr th:only-of-type {\n",
       "        vertical-align: middle;\n",
       "    }\n",
       "\n",
       "    .dataframe tbody tr th {\n",
       "        vertical-align: top;\n",
       "    }\n",
       "\n",
       "    .dataframe thead th {\n",
       "        text-align: right;\n",
       "    }\n",
       "</style>\n",
       "<table border=\"1\" class=\"dataframe\">\n",
       "  <thead>\n",
       "    <tr style=\"text-align: right;\">\n",
       "      <th></th>\n",
       "      <th>COUNT(1)</th>\n",
       "    </tr>\n",
       "  </thead>\n",
       "  <tbody>\n",
       "    <tr>\n",
       "      <th>0</th>\n",
       "      <td>3193</td>\n",
       "    </tr>\n",
       "  </tbody>\n",
       "</table>\n",
       "</div>"
      ],
      "text/plain": [
       "   COUNT(1)\n",
       "0      3193"
      ]
     },
     "execution_count": 7,
     "metadata": {},
     "output_type": "execute_result"
    }
   ],
   "source": [
    "query = \"\"\"\n",
    "SELECT COUNT(1)\n",
    "FROM demographic_detail \n",
    "WHERE admission_source_descr = 'EMERGENCY ROOM ADMIT'\n",
    "\"\"\"\n",
    "pd.read_sql(query, conn)"
   ]
  },
  {
   "cell_type": "code",
   "execution_count": null,
   "id": "863467e4",
   "metadata": {},
   "outputs": [],
   "source": []
  },
  {
   "cell_type": "markdown",
   "id": "124cb813",
   "metadata": {},
   "source": []
  },
  {
   "cell_type": "code",
   "execution_count": 16,
   "id": "46e4e850",
   "metadata": {},
   "outputs": [
    {
     "name": "stderr",
     "output_type": "stream",
     "text": [
      "/Users/alecchapman/opt/miniconda3/envs/phs/lib/python3.9/site-packages/pandas/io/sql.py:761: UserWarning: pandas only support SQLAlchemy connectable(engine/connection) ordatabase string URI or sqlite3 DBAPI2 connectionother DBAPI2 objects are not tested, please consider using SQLAlchemy\n",
      "  warnings.warn(\n"
     ]
    },
    {
     "data": {
      "text/html": [
       "<div>\n",
       "<style scoped>\n",
       "    .dataframe tbody tr th:only-of-type {\n",
       "        vertical-align: middle;\n",
       "    }\n",
       "\n",
       "    .dataframe tbody tr th {\n",
       "        vertical-align: top;\n",
       "    }\n",
       "\n",
       "    .dataframe thead th {\n",
       "        text-align: right;\n",
       "    }\n",
       "</style>\n",
       "<table border=\"1\" class=\"dataframe\">\n",
       "  <thead>\n",
       "    <tr style=\"text-align: right;\">\n",
       "      <th></th>\n",
       "      <th>earliest_birth</th>\n",
       "      <th>latest_birth</th>\n",
       "      <th>earliest_death</th>\n",
       "      <th>latest_death</th>\n",
       "    </tr>\n",
       "  </thead>\n",
       "  <tbody>\n",
       "    <tr>\n",
       "      <th>0</th>\n",
       "      <td>2405-06-25 00:00:00</td>\n",
       "      <td>3498-02-04 00:00:00</td>\n",
       "      <td>2501-04-08 00:00:00</td>\n",
       "      <td>3586-01-08 00:00:00</td>\n",
       "    </tr>\n",
       "  </tbody>\n",
       "</table>\n",
       "</div>"
      ],
      "text/plain": [
       "        earliest_birth         latest_birth       earliest_death  \\\n",
       "0  2405-06-25 00:00:00  3498-02-04 00:00:00  2501-04-08 00:00:00   \n",
       "\n",
       "          latest_death  \n",
       "0  3586-01-08 00:00:00  "
      ]
     },
     "execution_count": 16,
     "metadata": {},
     "output_type": "execute_result"
    }
   ],
   "source": [
    "query = \"\"\"\n",
    "SELECT \n",
    "    MIN(dob) earliest_birth, MAX(dob) latest_birth, MIN(dod) earliest_death, MAX(dod) latest_death\n",
    "FROM d_patients p\n",
    "\"\"\"\n",
    "pd.read_sql(query, conn)"
   ]
  },
  {
   "cell_type": "code",
   "execution_count": 17,
   "id": "8932fdd0",
   "metadata": {},
   "outputs": [
    {
     "name": "stderr",
     "output_type": "stream",
     "text": [
      "/Users/alecchapman/opt/miniconda3/envs/phs/lib/python3.9/site-packages/pandas/io/sql.py:761: UserWarning: pandas only support SQLAlchemy connectable(engine/connection) ordatabase string URI or sqlite3 DBAPI2 connectionother DBAPI2 objects are not tested, please consider using SQLAlchemy\n",
      "  warnings.warn(\n"
     ]
    },
    {
     "data": {
      "text/html": [
       "<div>\n",
       "<style scoped>\n",
       "    .dataframe tbody tr th:only-of-type {\n",
       "        vertical-align: middle;\n",
       "    }\n",
       "\n",
       "    .dataframe tbody tr th {\n",
       "        vertical-align: top;\n",
       "    }\n",
       "\n",
       "    .dataframe thead th {\n",
       "        text-align: right;\n",
       "    }\n",
       "</style>\n",
       "<table border=\"1\" class=\"dataframe\">\n",
       "  <thead>\n",
       "    <tr style=\"text-align: right;\">\n",
       "      <th></th>\n",
       "      <th>min_age_at_death</th>\n",
       "      <th>min_age_at_death</th>\n",
       "    </tr>\n",
       "  </thead>\n",
       "  <tbody>\n",
       "    <tr>\n",
       "      <th>0</th>\n",
       "      <td>0.0</td>\n",
       "      <td>105.4219</td>\n",
       "    </tr>\n",
       "  </tbody>\n",
       "</table>\n",
       "</div>"
      ],
      "text/plain": [
       "   min_age_at_death  min_age_at_death\n",
       "0               0.0          105.4219"
      ]
     },
     "execution_count": 17,
     "metadata": {},
     "output_type": "execute_result"
    }
   ],
   "source": [
    "query = \"\"\"\n",
    "SELECT \n",
    "    MIN(DATEDIFF(dod, dob)/365) min_age_at_death,\n",
    "    MAX(DATEDIFF(dod, dob)/365) min_age_at_death\n",
    "FROM d_patients p\n",
    "\"\"\"\n",
    "pd.read_sql(query, conn)"
   ]
  },
  {
   "cell_type": "code",
   "execution_count": 23,
   "id": "c4ad9581",
   "metadata": {},
   "outputs": [
    {
     "data": {
      "text/html": [
       "<div>\n",
       "<style scoped>\n",
       "    .dataframe tbody tr th:only-of-type {\n",
       "        vertical-align: middle;\n",
       "    }\n",
       "\n",
       "    .dataframe tbody tr th {\n",
       "        vertical-align: top;\n",
       "    }\n",
       "\n",
       "    .dataframe thead th {\n",
       "        text-align: right;\n",
       "    }\n",
       "</style>\n",
       "<table border=\"1\" class=\"dataframe\">\n",
       "  <thead>\n",
       "    <tr style=\"text-align: right;\">\n",
       "      <th></th>\n",
       "      <th>min_age_at_death</th>\n",
       "      <th>min_age_at_death</th>\n",
       "      <th>mean_age_at_death</th>\n",
       "      <th>sd_age_at_death</th>\n",
       "    </tr>\n",
       "  </thead>\n",
       "  <tbody>\n",
       "    <tr>\n",
       "      <th>0</th>\n",
       "      <td>0.0</td>\n",
       "      <td>105.4219</td>\n",
       "      <td>72.202496</td>\n",
       "      <td>16.276323</td>\n",
       "    </tr>\n",
       "  </tbody>\n",
       "</table>\n",
       "</div>"
      ],
      "text/plain": [
       "   min_age_at_death  min_age_at_death  mean_age_at_death  sd_age_at_death\n",
       "0               0.0          105.4219          72.202496        16.276323"
      ]
     },
     "execution_count": 23,
     "metadata": {},
     "output_type": "execute_result"
    }
   ],
   "source": [
    "query = \"\"\"\n",
    "SELECT \n",
    "    MIN(DATEDIFF(dod, dob)/365) min_age_at_death,\n",
    "    MAX(DATEDIFF(dod, dob)/365) min_age_at_death,\n",
    "    AVG(DATEDIFF(dod, dob)/365) mean_age_at_death,\n",
    "    STD(DATEDIFF(dod, dob)/365) sd_age_at_death\n",
    "FROM d_patients p\n",
    "\"\"\"\n",
    "pd.read_sql(query, conn)"
   ]
  },
  {
   "cell_type": "markdown",
   "id": "b4767b5c",
   "metadata": {},
   "source": [
    "## GROUP BY\n",
    "The queries above gave us the *total* counts in MIMIC. But we might want to break our statistics up into groups. We'll use the `GROUP BY` clause for that. \n",
    "\n",
    "The `GROUP BY` clause tells us which column to use for breaking our patients up into groups."
   ]
  },
  {
   "cell_type": "code",
   "execution_count": 24,
   "id": "85da7b55",
   "metadata": {},
   "outputs": [
    {
     "name": "stderr",
     "output_type": "stream",
     "text": [
      "/Users/alecchapman/opt/miniconda3/envs/phs/lib/python3.9/site-packages/pandas/io/sql.py:761: UserWarning: pandas only support SQLAlchemy connectable(engine/connection) ordatabase string URI or sqlite3 DBAPI2 connectionother DBAPI2 objects are not tested, please consider using SQLAlchemy\n",
      "  warnings.warn(\n"
     ]
    },
    {
     "data": {
      "text/html": [
       "<div>\n",
       "<style scoped>\n",
       "    .dataframe tbody tr th:only-of-type {\n",
       "        vertical-align: middle;\n",
       "    }\n",
       "\n",
       "    .dataframe tbody tr th {\n",
       "        vertical-align: top;\n",
       "    }\n",
       "\n",
       "    .dataframe thead th {\n",
       "        text-align: right;\n",
       "    }\n",
       "</style>\n",
       "<table border=\"1\" class=\"dataframe\">\n",
       "  <thead>\n",
       "    <tr style=\"text-align: right;\">\n",
       "      <th></th>\n",
       "      <th>sex</th>\n",
       "      <th>n</th>\n",
       "    </tr>\n",
       "  </thead>\n",
       "  <tbody>\n",
       "    <tr>\n",
       "      <th>0</th>\n",
       "      <td>None</td>\n",
       "      <td>13</td>\n",
       "    </tr>\n",
       "    <tr>\n",
       "      <th>1</th>\n",
       "      <td>F</td>\n",
       "      <td>1856</td>\n",
       "    </tr>\n",
       "    <tr>\n",
       "      <th>2</th>\n",
       "      <td>M</td>\n",
       "      <td>2131</td>\n",
       "    </tr>\n",
       "  </tbody>\n",
       "</table>\n",
       "</div>"
      ],
      "text/plain": [
       "    sex     n\n",
       "0  None    13\n",
       "1     F  1856\n",
       "2     M  2131"
      ]
     },
     "execution_count": 24,
     "metadata": {},
     "output_type": "execute_result"
    }
   ],
   "source": [
    "query = \"\"\"\n",
    "SELECT sex, COUNT(1) n\n",
    "FROM d_patients \n",
    "GROUP BY sex\n",
    "\"\"\"\n",
    "pd.read_sql(query, conn)"
   ]
  },
  {
   "cell_type": "markdown",
   "id": "4c6b843e",
   "metadata": {},
   "source": [
    "#### TODO"
   ]
  },
  {
   "cell_type": "code",
   "execution_count": 25,
   "id": "b7ee6c6a",
   "metadata": {},
   "outputs": [
    {
     "name": "stderr",
     "output_type": "stream",
     "text": [
      "/Users/alecchapman/opt/miniconda3/envs/phs/lib/python3.9/site-packages/pandas/io/sql.py:761: UserWarning: pandas only support SQLAlchemy connectable(engine/connection) ordatabase string URI or sqlite3 DBAPI2 connectionother DBAPI2 objects are not tested, please consider using SQLAlchemy\n",
      "  warnings.warn(\n"
     ]
    },
    {
     "data": {
      "text/html": [
       "<div>\n",
       "<style scoped>\n",
       "    .dataframe tbody tr th:only-of-type {\n",
       "        vertical-align: middle;\n",
       "    }\n",
       "\n",
       "    .dataframe tbody tr th {\n",
       "        vertical-align: top;\n",
       "    }\n",
       "\n",
       "    .dataframe thead th {\n",
       "        text-align: right;\n",
       "    }\n",
       "</style>\n",
       "<table border=\"1\" class=\"dataframe\">\n",
       "  <thead>\n",
       "    <tr style=\"text-align: right;\">\n",
       "      <th></th>\n",
       "      <th>admission_source_descr</th>\n",
       "      <th>COUNT(1)</th>\n",
       "    </tr>\n",
       "  </thead>\n",
       "  <tbody>\n",
       "    <tr>\n",
       "      <th>0</th>\n",
       "      <td>** INFO NOT AVAILABLE **</td>\n",
       "      <td>4</td>\n",
       "    </tr>\n",
       "    <tr>\n",
       "      <th>1</th>\n",
       "      <td>CLINIC REFERRAL/PREMATURE</td>\n",
       "      <td>211</td>\n",
       "    </tr>\n",
       "    <tr>\n",
       "      <th>2</th>\n",
       "      <td>EMERGENCY ROOM ADMIT</td>\n",
       "      <td>3193</td>\n",
       "    </tr>\n",
       "    <tr>\n",
       "      <th>3</th>\n",
       "      <td>HMO REFERRAL/SICK</td>\n",
       "      <td>1</td>\n",
       "    </tr>\n",
       "    <tr>\n",
       "      <th>4</th>\n",
       "      <td>PHYS REFERRAL/NORMAL DELI</td>\n",
       "      <td>616</td>\n",
       "    </tr>\n",
       "    <tr>\n",
       "      <th>5</th>\n",
       "      <td>TRANSFER FROM HOSP/EXTRAM</td>\n",
       "      <td>957</td>\n",
       "    </tr>\n",
       "    <tr>\n",
       "      <th>6</th>\n",
       "      <td>TRANSFER FROM OTHER HEALT</td>\n",
       "      <td>13</td>\n",
       "    </tr>\n",
       "    <tr>\n",
       "      <th>7</th>\n",
       "      <td>TRANSFER FROM SKILLED NUR</td>\n",
       "      <td>79</td>\n",
       "    </tr>\n",
       "  </tbody>\n",
       "</table>\n",
       "</div>"
      ],
      "text/plain": [
       "      admission_source_descr  COUNT(1)\n",
       "0   ** INFO NOT AVAILABLE **         4\n",
       "1  CLINIC REFERRAL/PREMATURE       211\n",
       "2       EMERGENCY ROOM ADMIT      3193\n",
       "3          HMO REFERRAL/SICK         1\n",
       "4  PHYS REFERRAL/NORMAL DELI       616\n",
       "5  TRANSFER FROM HOSP/EXTRAM       957\n",
       "6  TRANSFER FROM OTHER HEALT        13\n",
       "7  TRANSFER FROM SKILLED NUR        79"
      ]
     },
     "execution_count": 25,
     "metadata": {},
     "output_type": "execute_result"
    }
   ],
   "source": [
    "query = \"\"\"\n",
    "SELECT admission_source_descr, COUNT(1)\n",
    "FROM demographic_detail \n",
    "GROUP BY admission_source_descr\n",
    "\"\"\"\n",
    "pd.read_sql(query, conn)"
   ]
  },
  {
   "cell_type": "markdown",
   "id": "1c074243",
   "metadata": {},
   "source": [
    "### TODO\n",
    "Calculate the count *and* aggregate statistics for age of death based on `ethnicity_descr`."
   ]
  },
  {
   "cell_type": "code",
   "execution_count": 31,
   "id": "9cca731a",
   "metadata": {},
   "outputs": [
    {
     "name": "stderr",
     "output_type": "stream",
     "text": [
      "/Users/alecchapman/opt/miniconda3/envs/phs/lib/python3.9/site-packages/pandas/io/sql.py:761: UserWarning: pandas only support SQLAlchemy connectable(engine/connection) ordatabase string URI or sqlite3 DBAPI2 connectionother DBAPI2 objects are not tested, please consider using SQLAlchemy\n",
      "  warnings.warn(\n"
     ]
    },
    {
     "data": {
      "text/html": [
       "<div>\n",
       "<style scoped>\n",
       "    .dataframe tbody tr th:only-of-type {\n",
       "        vertical-align: middle;\n",
       "    }\n",
       "\n",
       "    .dataframe tbody tr th {\n",
       "        vertical-align: top;\n",
       "    }\n",
       "\n",
       "    .dataframe thead th {\n",
       "        text-align: right;\n",
       "    }\n",
       "</style>\n",
       "<table border=\"1\" class=\"dataframe\">\n",
       "  <thead>\n",
       "    <tr style=\"text-align: right;\">\n",
       "      <th></th>\n",
       "      <th>ethnicity_descr</th>\n",
       "      <th>n</th>\n",
       "      <th>min_age_at_death</th>\n",
       "      <th>min_age_at_death</th>\n",
       "      <th>mean_age_at_death</th>\n",
       "      <th>sd_age_at_death</th>\n",
       "    </tr>\n",
       "  </thead>\n",
       "  <tbody>\n",
       "    <tr>\n",
       "      <th>0</th>\n",
       "      <td>AMERICAN INDIAN/ALASKA NATIVE</td>\n",
       "      <td>3</td>\n",
       "      <td>0.0411</td>\n",
       "      <td>54.5068</td>\n",
       "      <td>30.156133</td>\n",
       "      <td>22.606056</td>\n",
       "    </tr>\n",
       "    <tr>\n",
       "      <th>1</th>\n",
       "      <td>ASIAN</td>\n",
       "      <td>86</td>\n",
       "      <td>0.0603</td>\n",
       "      <td>100.3890</td>\n",
       "      <td>69.176678</td>\n",
       "      <td>20.173166</td>\n",
       "    </tr>\n",
       "    <tr>\n",
       "      <th>2</th>\n",
       "      <td>ASIAN - CHINESE</td>\n",
       "      <td>5</td>\n",
       "      <td>39.7479</td>\n",
       "      <td>79.2712</td>\n",
       "      <td>68.517240</td>\n",
       "      <td>14.810103</td>\n",
       "    </tr>\n",
       "    <tr>\n",
       "      <th>3</th>\n",
       "      <td>ASIAN - VIETNAMESE</td>\n",
       "      <td>1</td>\n",
       "      <td>57.3205</td>\n",
       "      <td>57.3205</td>\n",
       "      <td>57.320500</td>\n",
       "      <td>0.000000</td>\n",
       "    </tr>\n",
       "    <tr>\n",
       "      <th>4</th>\n",
       "      <td>BLACK/AFRICAN AMERICAN</td>\n",
       "      <td>474</td>\n",
       "      <td>0.0027</td>\n",
       "      <td>100.1589</td>\n",
       "      <td>63.558630</td>\n",
       "      <td>17.670570</td>\n",
       "    </tr>\n",
       "    <tr>\n",
       "      <th>5</th>\n",
       "      <td>BLACK/CAPE VERDEAN</td>\n",
       "      <td>2</td>\n",
       "      <td>70.6055</td>\n",
       "      <td>70.7205</td>\n",
       "      <td>70.663000</td>\n",
       "      <td>0.057534</td>\n",
       "    </tr>\n",
       "    <tr>\n",
       "      <th>6</th>\n",
       "      <td>BLACK/HAITIAN</td>\n",
       "      <td>2</td>\n",
       "      <td>82.4000</td>\n",
       "      <td>82.4000</td>\n",
       "      <td>82.400000</td>\n",
       "      <td>0.000000</td>\n",
       "    </tr>\n",
       "    <tr>\n",
       "      <th>7</th>\n",
       "      <td>HISPANIC OR LATINO</td>\n",
       "      <td>71</td>\n",
       "      <td>34.4822</td>\n",
       "      <td>92.4192</td>\n",
       "      <td>61.434151</td>\n",
       "      <td>14.010629</td>\n",
       "    </tr>\n",
       "    <tr>\n",
       "      <th>8</th>\n",
       "      <td>HISPANIC/LATINO - PUERTO RICAN</td>\n",
       "      <td>3</td>\n",
       "      <td>73.1397</td>\n",
       "      <td>79.0110</td>\n",
       "      <td>77.053900</td>\n",
       "      <td>2.767726</td>\n",
       "    </tr>\n",
       "    <tr>\n",
       "      <th>9</th>\n",
       "      <td>MULTI RACE ETHNICITY</td>\n",
       "      <td>2</td>\n",
       "      <td>36.9014</td>\n",
       "      <td>68.1918</td>\n",
       "      <td>52.546600</td>\n",
       "      <td>15.645205</td>\n",
       "    </tr>\n",
       "    <tr>\n",
       "      <th>10</th>\n",
       "      <td>NATIVE HAWAIIAN OR OTHER PACIFIC ISLAND</td>\n",
       "      <td>2</td>\n",
       "      <td>79.8329</td>\n",
       "      <td>79.8329</td>\n",
       "      <td>79.832900</td>\n",
       "      <td>0.000000</td>\n",
       "    </tr>\n",
       "    <tr>\n",
       "      <th>11</th>\n",
       "      <td>OTHER</td>\n",
       "      <td>78</td>\n",
       "      <td>0.0000</td>\n",
       "      <td>95.5178</td>\n",
       "      <td>69.234922</td>\n",
       "      <td>18.516586</td>\n",
       "    </tr>\n",
       "    <tr>\n",
       "      <th>12</th>\n",
       "      <td>PATIENT DECLINED TO ANSWER</td>\n",
       "      <td>52</td>\n",
       "      <td>28.1452</td>\n",
       "      <td>95.3342</td>\n",
       "      <td>66.381988</td>\n",
       "      <td>12.999658</td>\n",
       "    </tr>\n",
       "    <tr>\n",
       "      <th>13</th>\n",
       "      <td>UNABLE TO OBTAIN</td>\n",
       "      <td>18</td>\n",
       "      <td>20.6027</td>\n",
       "      <td>91.5507</td>\n",
       "      <td>69.267272</td>\n",
       "      <td>18.762983</td>\n",
       "    </tr>\n",
       "    <tr>\n",
       "      <th>14</th>\n",
       "      <td>UNKNOWN/NOT SPECIFIED</td>\n",
       "      <td>730</td>\n",
       "      <td>0.0000</td>\n",
       "      <td>96.8137</td>\n",
       "      <td>72.160853</td>\n",
       "      <td>15.693363</td>\n",
       "    </tr>\n",
       "    <tr>\n",
       "      <th>15</th>\n",
       "      <td>WHITE</td>\n",
       "      <td>3544</td>\n",
       "      <td>0.0000</td>\n",
       "      <td>105.4219</td>\n",
       "      <td>72.569157</td>\n",
       "      <td>15.755279</td>\n",
       "    </tr>\n",
       "    <tr>\n",
       "      <th>16</th>\n",
       "      <td>WHITE - RUSSIAN</td>\n",
       "      <td>1</td>\n",
       "      <td>83.4630</td>\n",
       "      <td>83.4630</td>\n",
       "      <td>83.463000</td>\n",
       "      <td>0.000000</td>\n",
       "    </tr>\n",
       "  </tbody>\n",
       "</table>\n",
       "</div>"
      ],
      "text/plain": [
       "                            ethnicity_descr     n  min_age_at_death  \\\n",
       "0             AMERICAN INDIAN/ALASKA NATIVE     3            0.0411   \n",
       "1                                     ASIAN    86            0.0603   \n",
       "2                           ASIAN - CHINESE     5           39.7479   \n",
       "3                        ASIAN - VIETNAMESE     1           57.3205   \n",
       "4                    BLACK/AFRICAN AMERICAN   474            0.0027   \n",
       "5                        BLACK/CAPE VERDEAN     2           70.6055   \n",
       "6                             BLACK/HAITIAN     2           82.4000   \n",
       "7                        HISPANIC OR LATINO    71           34.4822   \n",
       "8            HISPANIC/LATINO - PUERTO RICAN     3           73.1397   \n",
       "9                      MULTI RACE ETHNICITY     2           36.9014   \n",
       "10  NATIVE HAWAIIAN OR OTHER PACIFIC ISLAND     2           79.8329   \n",
       "11                                    OTHER    78            0.0000   \n",
       "12               PATIENT DECLINED TO ANSWER    52           28.1452   \n",
       "13                         UNABLE TO OBTAIN    18           20.6027   \n",
       "14                    UNKNOWN/NOT SPECIFIED   730            0.0000   \n",
       "15                                    WHITE  3544            0.0000   \n",
       "16                          WHITE - RUSSIAN     1           83.4630   \n",
       "\n",
       "    min_age_at_death  mean_age_at_death  sd_age_at_death  \n",
       "0            54.5068          30.156133        22.606056  \n",
       "1           100.3890          69.176678        20.173166  \n",
       "2            79.2712          68.517240        14.810103  \n",
       "3            57.3205          57.320500         0.000000  \n",
       "4           100.1589          63.558630        17.670570  \n",
       "5            70.7205          70.663000         0.057534  \n",
       "6            82.4000          82.400000         0.000000  \n",
       "7            92.4192          61.434151        14.010629  \n",
       "8            79.0110          77.053900         2.767726  \n",
       "9            68.1918          52.546600        15.645205  \n",
       "10           79.8329          79.832900         0.000000  \n",
       "11           95.5178          69.234922        18.516586  \n",
       "12           95.3342          66.381988        12.999658  \n",
       "13           91.5507          69.267272        18.762983  \n",
       "14           96.8137          72.160853        15.693363  \n",
       "15          105.4219          72.569157        15.755279  \n",
       "16           83.4630          83.463000         0.000000  "
      ]
     },
     "execution_count": 31,
     "metadata": {},
     "output_type": "execute_result"
    }
   ],
   "source": [
    "query = \"\"\"\n",
    "SELECT \n",
    "    ethnicity_descr,\n",
    "    COUNT(1) n,\n",
    "    MIN(DATEDIFF(dod, dob)/365) min_age_at_death,\n",
    "    MAX(DATEDIFF(dod, dob)/365) min_age_at_death,\n",
    "    AVG(DATEDIFF(dod, dob)/365) mean_age_at_death,\n",
    "    STD(DATEDIFF(dod, dob)/365) sd_age_at_death\n",
    "FROM d_patients p\n",
    "    INNER JOIN demographic_detail d\n",
    "        ON p.subject_id = d.subject_id\n",
    "GROUP BY ethnicity_descr\n",
    "\"\"\"\n",
    "pd.read_sql(query, conn)"
   ]
  },
  {
   "cell_type": "code",
   "execution_count": null,
   "id": "8c8b7715",
   "metadata": {},
   "outputs": [],
   "source": []
  }
 ],
 "metadata": {
  "kernelspec": {
   "display_name": "Python 3 (ipykernel)",
   "language": "python",
   "name": "python3"
  },
  "language_info": {
   "codemirror_mode": {
    "name": "ipython",
    "version": 3
   },
   "file_extension": ".py",
   "mimetype": "text/x-python",
   "name": "python",
   "nbconvert_exporter": "python",
   "pygments_lexer": "ipython3",
   "version": "3.9.12"
  }
 },
 "nbformat": 4,
 "nbformat_minor": 5
}
