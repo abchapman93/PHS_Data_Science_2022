{
 "cells": [
  {
   "cell_type": "markdown",
   "id": "eede350c",
   "metadata": {},
   "source": [
    "<html>\n",
    "<table width=\"100%\" cellspacing=\"2\" cellpadding=\"2\" border=\"1\">\n",
    "<tbody>\n",
    "<tr>\n",
    "<td valign=\"center\" align=\"center\" width=\"45%\"><img src=\"../media/Univ-Utah.jpeg\"><br>\n",
    "</td>\n",
    "    <td valign=\"center\" align=\"center\" width=\"75%\">\n",
    "<h1 align=\"center\"><font size=\"+1\">University of Utah<br>Population Health Sciences<br>Data Science Workshop</font></h1></td>\n",
    "<td valign=\"center\" align=\"center\" width=\"45%\"><img\n",
    "src=\"../media/U_Health_stacked_png_red.png\" alt=\"Utah Health\n",
    "Logo\" width=\"128\" height=\"134\"><br>\n",
    "</td>\n",
    "</tr>\n",
    "</tbody>\n",
    "</table>\n",
    "<br>\n",
    "</html>\n"
   ]
  },
  {
   "cell_type": "code",
   "execution_count": 2,
   "id": "80535351",
   "metadata": {},
   "outputs": [],
   "source": [
    "from helpers import *"
   ]
  },
  {
   "cell_type": "markdown",
   "id": "0c5f5ed2",
   "metadata": {},
   "source": [
    "# Introduction to Relational Databases and SQL\n",
    "In Module 3, we'll move beyond pure Python and start using the **SQL** programming language to get data from clinical databases. This will be an important addition to your data science skillset and will allow you to build your own datasets from raw clinical data.\n",
    "\n",
    "This notebook will begin with a brief overview of what relational databases are and why they're so useful in healthcare. We'll then be introduced to the database we'll be working with in this class and how to write queries to pull data.\n",
    "\n",
    "- What is a database?\n",
    "- Introduction to MIMIC\n",
    "- SQL basics"
   ]
  },
  {
   "cell_type": "markdown",
   "id": "753fd85c",
   "metadata": {},
   "source": [
    "## Electronic Health Record Data\n",
    "Electronic Health Records (EHRs) allow us to collect and store massive amounts of patient data. This data is extremely valuable both for providing care to patients and for performing research. Using EHR data allows us to analyze how patients were treated and what outcomes they had, along with covariates such as demographics and past medical history. This can offer a cheaper, quicker alternative to clinical trials by taking advantage of data that already exists.\n",
    "\n",
    "Sounds easy, right? Well, it's not quite as simple as it sounds. EHR data offers a host of challenges. The first is **size**. The massive volume of EHR data puts it into the category of \"big data\", so we need to be able to store it and retrieve it in a way that is efficient and scalable. The second is **purpose**. The primary purpose of EHR data is really to support clinical care. Research is one of several \"secondary\" uses of clinical data. That means that the data may not be represented in a way that is most useful to us for research, meaning that we need to do some extra work to transform it into the format we need it. The third is **messiness**. Any data is extremely messy, prone to errors, inconsistencies, or missingness, and due to the complexity of clinical care, this is especially true of clinical data. So we also need to \"wrangle\" our data and clean it up so that it's consistent and usable for our research.\n",
    "\n",
    "(Note: Even once you get the data, there are still many challenges like confounding and bias, but we will be mainly focusing on the issues of just getting the data.)"
   ]
  },
  {
   "cell_type": "markdown",
   "id": "3fe48d8c",
   "metadata": {},
   "source": [
    "#### Discussion\n",
    "What are some examples of data stored in the EHR? How might those be useful to researchers?"
   ]
  },
  {
   "cell_type": "markdown",
   "id": "6c31e370",
   "metadata": {},
   "source": [
    "## What is a Database?\n",
    "Broadly defined, a database is any [\"organized collection of data\"](https://en.wikipedia.org/wiki/Database). In this class, we'll specifically be focusing on [**relational databases**](https://en.wikipedia.org/wiki/Relational_database), the most common type of database used in healthcare and many other applications.\n",
    "\n",
    "Here's a simple example of a relation database. Let's say we wanted to use a database to store a list of all of our patients and their diagnoses. If it's a small list of patient, we could do this very simply in an Excel spreadsheet. This would, technically, count as a \"database\". We'll refer to each sheet in the spreadsheet as a **table** because of their tabular format. \n",
    "\n",
    "### A Simple Example\n",
    "\n",
    "Our example spreadsheet would have  nice format for this is by storing them in two **tables**: a `patient` table and a `diagnosis` table. In the `patient` table, each row would represent a different patient, and there would only be *one* row per patient. In the `diagnosis` table , each row would represent a single diagnosis for a single patient. A patient might appear in the table more than once, but a unique diagnosis for a patient should only appear once (although what \"unique\" means may not be clear - would if they get diagnoses more than once with a disease?)\n",
    "\n",
    "![patient_table](./media/example_patient_table.png) \n",
    "![patient_diagnosis_table](./media/example_patient_diagnosis_table.png)\n",
    "\n",
    "### Problems\n",
    "This is nice and simple, but there are a few problems with the implementation of our mini-database:\n",
    "1. **Redundancy**: We store the full patient name in both `patient` and `diagnosis`. That's fine when we have three patients with just a few diagnoses, but eventually we're going to have many more patients and this will take up a lot more space.\n",
    "2. **Uniqueness**: While we're unlikely to see another patient named Thor in our clinic, most people's names are not so unique. Eventually we'll end up with two \"John Smith\"'s. How will we tell them apart in the `diagnosis` table?\n",
    "3. **Granularity**: The `Patient Name` column has both the first and last name for the patient. But what if we just want one of those values? Similarly with `Location`, the entire city/state/country/planet are stored in one cell.\n",
    "4. **Consistency** Looking again at `Location`, we see a few different formats: Tony Stark's location is a city and state. But Natasha Romanoff's is a city followed by a country. Thor doesn't have either of these - just a planet. So the format and meaning of the values are *not consistent* with one another.\n",
    "5. **Size**: As we see more patients, our `Patient` sheet will eventually have thousands or millions of rows. And we'll get much more than just diagnoses for each patient, so we could have hundreds of sheets, each with millions of rows. Eventually, Excel is just not going to be enough.\n",
    "\n",
    "### Relational Database\n",
    "Well-designed relational databases solve many of these issues. Here are some steps we could take to have a better database: \n",
    "1. To address the **redundancy** issue, we'll instead just store the value of patient names in the `patient` table and then **link** other tables to that table using an identifier (typically a number) which is less expensive to store. This is why we call this type of database *relational*.\n",
    "2. To fix the **uniqueness** issue, we'll make that identifier unique. \n",
    "3. To allow for more **granular** analysis, we'll break up the `Name` column into `last_name` and `first_name`, and `location` columns up into `city`, `state`, `country`, and `planet`.\n",
    "4. Having these columns broken up will also make the data more consistent with each other since we'll know who has which element recorded and be able to compare appropriately.\n",
    "5. For our **size** issue, the steps above might help us reduce our space, but we may ultimately need to move out of Excel and into some other framework.\n",
    "\n",
    "Below is a diagram showing a possible **schema** for our database with an added third table of `encounter`. The columns in **bold** are **keys** which are used to identify a particular entity - such as a patient, diagnosis, or encounter - in the various tables. The arrows show how the keys link the three tables with each other. \n",
    "\n",
    "For example, `subject_id` is the primary identifier for the `patient` table - it represents a single, unique patient. It's used in both the `diagnosis` and `encounter` tables to join those with the `patient` table.\n",
    "\n",
    "![example_schema](./media/example_schema.png)"
   ]
  },
  {
   "cell_type": "markdown",
   "id": "94991474",
   "metadata": {},
   "source": [
    "## Joining tables in a relational database\n",
    "To get data, we might need elements from multiple different tables. To do that we need to **join** them using the relationships shown in the diagram above.\n",
    "\n",
    "For example, let's say we wanted a list of patient first/last names, diagnoses, and type of encounter:\n",
    "\n",
    "![joined_values](./media/example_joined_values.png)\n",
    "\n",
    "To get these values, we might do the following, alternating between pulling a value from a table and joining to another table to get the next value:\n",
    "\n",
    "- **(Get Value)** Get the columns `last_name` and `first_name` from the `patient` table\n",
    "- **(Join Table)** Use the `subject_id` column to join `patient` and `diagnosis` tables\n",
    "- **(Get Value)** Take the `diagnosis` column from the `diagnosis` table\n",
    "- **(Join Table)** Use the `encounter_id` column to join `diagnosis` and `encounter`\n",
    "- **(Get Value)** Take the `encounter_type` column from `encounter`\n",
    "\n",
    "#### TODO\n",
    "Let's say that the leaders of our clinic ask us to pull some data for a report so we need to pull some data from our database. Which columns would we need to get the requested information? Think both about the values we want that we want to present as well as the ones needed to link the appropriate tables together.\n",
    "\n",
    "In the notation below, `encounter.date` refers to the date column of `encounter`, while `diagnosis.date` refers to the date column of `diagnosis`."
   ]
  },
  {
   "cell_type": "code",
   "execution_count": 40,
   "id": "c106b3a5",
   "metadata": {},
   "outputs": [
    {
     "data": {
      "application/vnd.jupyter.widget-view+json": {
       "model_id": "bc318f1d3145448f9f4a2cf7975ac30a",
       "version_major": 2,
       "version_minor": 0
      },
      "text/plain": [
       "VBox(children=(HTML(value=\"The ID's of all patients who have had Covid-19.\"), SelectMultiple(index=(1,), optio…"
      ]
     },
     "metadata": {},
     "output_type": "display_data"
    },
    {
     "data": {
      "text/plain": []
     },
     "execution_count": 40,
     "metadata": {},
     "output_type": "execute_result"
    }
   ],
   "source": [
    "# RUN CELL TO SEE QUIZ\n",
    "quiz_relational_columns1"
   ]
  },
  {
   "cell_type": "code",
   "execution_count": 41,
   "id": "ab3e61f1",
   "metadata": {},
   "outputs": [
    {
     "data": {
      "application/vnd.jupyter.widget-view+json": {
       "model_id": "e1735dccc94a432ba71a15928ee78faf",
       "version_major": 2,
       "version_minor": 0
      },
      "text/plain": [
       "VBox(children=(HTML(value='The number of outpatient encounters between January and May of 2022.'), SelectMulti…"
      ]
     },
     "metadata": {},
     "output_type": "display_data"
    },
    {
     "data": {
      "text/plain": []
     },
     "execution_count": 41,
     "metadata": {},
     "output_type": "execute_result"
    }
   ],
   "source": [
    "# RUN CELL TO SEE QUIZ\n",
    "quiz_relational_columns2"
   ]
  },
  {
   "cell_type": "code",
   "execution_count": 42,
   "id": "e7ffea9d",
   "metadata": {},
   "outputs": [
    {
     "data": {
      "application/vnd.jupyter.widget-view+json": {
       "model_id": "95fa70e1a42a47f79bcabc117633edc9",
       "version_major": 2,
       "version_minor": 0
      },
      "text/plain": [
       "VBox(children=(HTML(value='The age at time of diagnosis for patients with cancer.'), SelectMultiple(index=(0, …"
      ]
     },
     "metadata": {},
     "output_type": "display_data"
    },
    {
     "data": {
      "text/plain": []
     },
     "execution_count": 42,
     "metadata": {},
     "output_type": "execute_result"
    }
   ],
   "source": [
    "# RUN CELL TO SEE QUIZ\n",
    "quiz_relational_columns3"
   ]
  },
  {
   "cell_type": "code",
   "execution_count": null,
   "id": "9ca0378c",
   "metadata": {},
   "outputs": [],
   "source": []
  },
  {
   "cell_type": "markdown",
   "id": "5126428f",
   "metadata": {},
   "source": [
    "Instead of working with an example of a superhero clinic, in the rest of this module we'll use real clinical data from a deidentified clinical database called **MIMIC-II**.\n",
    "\n",
    "## Introduction to MIMIC-II\n",
    "\n",
    "MIMIC is an openly available clinical database. It is **de-identified**, meaning that any information which would connect a patient to their data has been removed or altered. That means that we have access to it as researchers, students, and developers. \n",
    "\n",
    "The research database has been updated to MIMIC-III, which is similar but contains patients for living patients, while MIMIC-II has only deceased patients. MIMIC-III requires a data usage agreement, so we will instead use the older version. The two versions are very similar and contain much of the same data.\n",
    "\n",
    "Here is a description of MIMIC-III from the [MIMIC website](https://mimic.physionet.org/):\n",
    "\n",
    "***\n",
    "<strong>\n",
    "MIMIC-III (Medical Information Mart for Intensive Care III) is a large, freely-available database comprising deidentified health-related data associated with over forty thousand patients who stayed in critical care units of the Beth Israel Deaconess Medical Center between 2001 and 2012.\n",
    "\n",
    "The database includes information such as demographics, vital sign measurements made at the bedside (~1 data point per hour), laboratory test results, procedures, medications, caregiver notes, imaging reports, and mortality (both in and out of hospital).\n",
    "</strong>\n",
    "***\n",
    "\n",
    "There is a PDF containing MIMIC-II documentation here:\n",
    "https://mimic.mit.edu/archive/mimic-ii-guide.pdf\n",
    "\n",
    "The documentation is quite detailed and technical, but it's useful if you have a specific question about a table or schema. The diagram below shows a high-lebel summary of the types of data contained in the MIMIC database.  If you want to see it enlarged, you can open it in a separate window: [MIMIC architecture](../media/mimic-ii-architecture.png).\n",
    "\n",
    "This diagram shows the architecture of the database along with column names and relationships between tables. While it's more complex than the fictional superhero clinic, it's fundamentally designed the same way.\n",
    "\n",
    "\n",
    "![MIMIC architecture](../media/mimic-ii-architecture.png)\n",
    "\n",
    "The file `mimic_tables.csv` contains a list of tables in the database:"
   ]
  },
  {
   "cell_type": "code",
   "execution_count": 1,
   "id": "61c32d7c",
   "metadata": {
    "scrolled": true
   },
   "outputs": [
    {
     "data": {
      "text/html": [
       "<div>\n",
       "<style scoped>\n",
       "    .dataframe tbody tr th:only-of-type {\n",
       "        vertical-align: middle;\n",
       "    }\n",
       "\n",
       "    .dataframe tbody tr th {\n",
       "        vertical-align: top;\n",
       "    }\n",
       "\n",
       "    .dataframe thead th {\n",
       "        text-align: right;\n",
       "    }\n",
       "</style>\n",
       "<table border=\"1\" class=\"dataframe\">\n",
       "  <thead>\n",
       "    <tr style=\"text-align: right;\">\n",
       "      <th></th>\n",
       "      <th>Tables_in_mimic2</th>\n",
       "    </tr>\n",
       "  </thead>\n",
       "  <tbody>\n",
       "    <tr>\n",
       "      <th>0</th>\n",
       "      <td>a_chartdurations</td>\n",
       "    </tr>\n",
       "    <tr>\n",
       "      <th>1</th>\n",
       "      <td>a_iodurations</td>\n",
       "    </tr>\n",
       "    <tr>\n",
       "      <th>2</th>\n",
       "      <td>a_meddurations</td>\n",
       "    </tr>\n",
       "    <tr>\n",
       "      <th>3</th>\n",
       "      <td>additives</td>\n",
       "    </tr>\n",
       "    <tr>\n",
       "      <th>4</th>\n",
       "      <td>admissions</td>\n",
       "    </tr>\n",
       "    <tr>\n",
       "      <th>5</th>\n",
       "      <td>censusevents</td>\n",
       "    </tr>\n",
       "    <tr>\n",
       "      <th>6</th>\n",
       "      <td>chartevents</td>\n",
       "    </tr>\n",
       "    <tr>\n",
       "      <th>7</th>\n",
       "      <td>comorbidity_scores</td>\n",
       "    </tr>\n",
       "    <tr>\n",
       "      <th>8</th>\n",
       "      <td>d_caregivers</td>\n",
       "    </tr>\n",
       "    <tr>\n",
       "      <th>9</th>\n",
       "      <td>d_careunits</td>\n",
       "    </tr>\n",
       "    <tr>\n",
       "      <th>10</th>\n",
       "      <td>d_chartitems</td>\n",
       "    </tr>\n",
       "    <tr>\n",
       "      <th>11</th>\n",
       "      <td>d_chartitems_detail</td>\n",
       "    </tr>\n",
       "    <tr>\n",
       "      <th>12</th>\n",
       "      <td>d_codeditems</td>\n",
       "    </tr>\n",
       "    <tr>\n",
       "      <th>13</th>\n",
       "      <td>d_demographicitems</td>\n",
       "    </tr>\n",
       "    <tr>\n",
       "      <th>14</th>\n",
       "      <td>d_ioitems</td>\n",
       "    </tr>\n",
       "    <tr>\n",
       "      <th>15</th>\n",
       "      <td>d_labitems</td>\n",
       "    </tr>\n",
       "    <tr>\n",
       "      <th>16</th>\n",
       "      <td>d_meditems</td>\n",
       "    </tr>\n",
       "    <tr>\n",
       "      <th>17</th>\n",
       "      <td>d_parammap_items</td>\n",
       "    </tr>\n",
       "    <tr>\n",
       "      <th>18</th>\n",
       "      <td>d_patients</td>\n",
       "    </tr>\n",
       "    <tr>\n",
       "      <th>19</th>\n",
       "      <td>db_schema</td>\n",
       "    </tr>\n",
       "    <tr>\n",
       "      <th>20</th>\n",
       "      <td>deliveries</td>\n",
       "    </tr>\n",
       "    <tr>\n",
       "      <th>21</th>\n",
       "      <td>demographic_detail</td>\n",
       "    </tr>\n",
       "    <tr>\n",
       "      <th>22</th>\n",
       "      <td>demographicevents</td>\n",
       "    </tr>\n",
       "    <tr>\n",
       "      <th>23</th>\n",
       "      <td>drgevents</td>\n",
       "    </tr>\n",
       "    <tr>\n",
       "      <th>24</th>\n",
       "      <td>drugs_antibiotics_selection</td>\n",
       "    </tr>\n",
       "    <tr>\n",
       "      <th>25</th>\n",
       "      <td>icd9</td>\n",
       "    </tr>\n",
       "    <tr>\n",
       "      <th>26</th>\n",
       "      <td>icustay_days</td>\n",
       "    </tr>\n",
       "    <tr>\n",
       "      <th>27</th>\n",
       "      <td>icustay_detail</td>\n",
       "    </tr>\n",
       "    <tr>\n",
       "      <th>28</th>\n",
       "      <td>icustayevents</td>\n",
       "    </tr>\n",
       "    <tr>\n",
       "      <th>29</th>\n",
       "      <td>ioevents</td>\n",
       "    </tr>\n",
       "    <tr>\n",
       "      <th>30</th>\n",
       "      <td>labevents</td>\n",
       "    </tr>\n",
       "    <tr>\n",
       "      <th>31</th>\n",
       "      <td>medevents</td>\n",
       "    </tr>\n",
       "    <tr>\n",
       "      <th>32</th>\n",
       "      <td>microbiologyevents</td>\n",
       "    </tr>\n",
       "    <tr>\n",
       "      <th>33</th>\n",
       "      <td>noteevents</td>\n",
       "    </tr>\n",
       "    <tr>\n",
       "      <th>34</th>\n",
       "      <td>parameter_mapping</td>\n",
       "    </tr>\n",
       "    <tr>\n",
       "      <th>35</th>\n",
       "      <td>poe_med</td>\n",
       "    </tr>\n",
       "    <tr>\n",
       "      <th>36</th>\n",
       "      <td>poe_order</td>\n",
       "    </tr>\n",
       "    <tr>\n",
       "      <th>37</th>\n",
       "      <td>procedureevents</td>\n",
       "    </tr>\n",
       "    <tr>\n",
       "      <th>38</th>\n",
       "      <td>snomed</td>\n",
       "    </tr>\n",
       "    <tr>\n",
       "      <th>39</th>\n",
       "      <td>totalbalevents</td>\n",
       "    </tr>\n",
       "    <tr>\n",
       "      <th>40</th>\n",
       "      <td>vitalsfirstday</td>\n",
       "    </tr>\n",
       "  </tbody>\n",
       "</table>\n",
       "</div>"
      ],
      "text/plain": [
       "               Tables_in_mimic2\n",
       "0              a_chartdurations\n",
       "1                 a_iodurations\n",
       "2                a_meddurations\n",
       "3                     additives\n",
       "4                    admissions\n",
       "5                  censusevents\n",
       "6                   chartevents\n",
       "7            comorbidity_scores\n",
       "8                  d_caregivers\n",
       "9                   d_careunits\n",
       "10                 d_chartitems\n",
       "11          d_chartitems_detail\n",
       "12                 d_codeditems\n",
       "13           d_demographicitems\n",
       "14                    d_ioitems\n",
       "15                   d_labitems\n",
       "16                   d_meditems\n",
       "17             d_parammap_items\n",
       "18                   d_patients\n",
       "19                    db_schema\n",
       "20                   deliveries\n",
       "21           demographic_detail\n",
       "22            demographicevents\n",
       "23                    drgevents\n",
       "24  drugs_antibiotics_selection\n",
       "25                         icd9\n",
       "26                 icustay_days\n",
       "27               icustay_detail\n",
       "28                icustayevents\n",
       "29                     ioevents\n",
       "30                    labevents\n",
       "31                    medevents\n",
       "32           microbiologyevents\n",
       "33                   noteevents\n",
       "34            parameter_mapping\n",
       "35                      poe_med\n",
       "36                    poe_order\n",
       "37              procedureevents\n",
       "38                       snomed\n",
       "39               totalbalevents\n",
       "40               vitalsfirstday"
      ]
     },
     "execution_count": 1,
     "metadata": {},
     "output_type": "execute_result"
    }
   ],
   "source": [
    "import pandas as pd\n",
    "pd.read_csv(\"mimic_tables.csv\")"
   ]
  },
  {
   "cell_type": "markdown",
   "id": "386ce4b8",
   "metadata": {},
   "source": [
    "#### Discussion\n",
    "Think of clinical data you might want to use in research. Where might you find these data elements in MIMIC? Which tables and column names would you need?\n",
    "\n",
    "In the next few notebooks, we'll go through some of these tables in more detail and sharpen our SQL skills along the way."
   ]
  },
  {
   "cell_type": "code",
   "execution_count": null,
   "id": "8dc19489",
   "metadata": {},
   "outputs": [],
   "source": []
  }
 ],
 "metadata": {
  "kernelspec": {
   "display_name": "Python 3 (ipykernel)",
   "language": "python",
   "name": "python3"
  },
  "language_info": {
   "codemirror_mode": {
    "name": "ipython",
    "version": 3
   },
   "file_extension": ".py",
   "mimetype": "text/x-python",
   "name": "python",
   "nbconvert_exporter": "python",
   "pygments_lexer": "ipython3",
   "version": "3.9.12"
  }
 },
 "nbformat": 4,
 "nbformat_minor": 5
}
