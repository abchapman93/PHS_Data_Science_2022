{
 "cells": [
  {
   "cell_type": "markdown",
   "metadata": {},
   "source": [
    "<html>\n",
    "<table width=\"100%\" cellspacing=\"2\" cellpadding=\"2\" border=\"1\">\n",
    "<tbody>\n",
    "<tr>\n",
    "<td valign=\"center\" align=\"center\" width=\"45%\"><img src=\"../media/Univ-Utah.jpeg\"><br>\n",
    "</td>\n",
    "    <td valign=\"center\" align=\"center\" width=\"75%\">\n",
    "<h1 align=\"center\"><font size=\"+1\">University of Utah<br>Population Health Sciences<br>Data Science Workshop</font></h1></td>\n",
    "<td valign=\"center\" align=\"center\" width=\"45%\"><img\n",
    "src=\"../media/U_Health_stacked_png_red.png\" alt=\"Utah Health\n",
    "Logo\" width=\"128\" height=\"134\"><br>\n",
    "</td>\n",
    "</tr>\n",
    "</tbody>\n",
    "</table>\n",
    "<br>\n",
    "</html>"
   ]
  },
  {
   "cell_type": "code",
   "execution_count": null,
   "metadata": {},
   "outputs": [],
   "source": [
    "from helpers import *\n",
    "import pandas as pd"
   ]
  },
  {
   "cell_type": "code",
   "execution_count": null,
   "metadata": {},
   "outputs": [],
   "source": [
    "conn = connect_to_mimic()"
   ]
  },
  {
   "cell_type": "code",
   "execution_count": null,
   "metadata": {},
   "outputs": [],
   "source": [
    "import seaborn as sns\n",
    "sns.set()"
   ]
  },
  {
   "cell_type": "markdown",
   "metadata": {},
   "source": [
    "# Diagnosis Data in MIMIC-II"
   ]
  },
  {
   "cell_type": "markdown",
   "metadata": {},
   "source": [
    "## Standards and Terminologies\n",
    "**Terminologies** are collections of concepts used to describe data. Each concept represents a single, unique item and has a unique identifier, also called a **code**. Medical data has terminologies to represent diagnoses, medications, and procedures. Furthermore, these terminologies are **standardized** so that they can be used across institutions - the same concepts used to represent a disease in one healthcare system means the same thing in another.\n",
    "\n",
    "One example of a terminology is the [**International Disease Classification (ICD)**](https://www.who.int/standards/classifications/classification-of-diseases) system. ICD codes are used to represent patient diagnoses and are used in healthcare systems across the world. There are a few different versions of the ICD system. In the US, ICD-9 codes were used until 2015, at which point ICD-10 became the main system. Since MIMIC-II data was generated before 2015, it uses ICD-9 codes to represent patient diagnoses.\n",
    "\n",
    "The table `icd9` contains the diagnoses assigned to patient hospitalizations. Here are the first 10 rows of `icd9`. A hospitalization can have one or more ICD-9 code and codes are ordered in importance by the `sequence` column."
   ]
  },
  {
   "cell_type": "code",
   "execution_count": null,
   "metadata": {},
   "outputs": [],
   "source": [
    "query = \"\"\"\n",
    "SELECT * FROM icd9\n",
    "LIMIT 10;\n",
    "\"\"\"\n",
    "df = pd.read_sql(query, conn)\n",
    "df.head(10)"
   ]
  },
  {
   "cell_type": "code",
   "execution_count": null,
   "metadata": {},
   "outputs": [],
   "source": []
  },
  {
   "cell_type": "markdown",
   "metadata": {},
   "source": [
    "### Most common codes\n",
    "Let's see which codes are used most frequently in MIMIC.\n",
    "\n",
    "#### TODO\n",
    "Write a query to get the `code` and `description` columns from `icd9`, along with a column called `n` which counts how many times they appear in the table."
   ]
  },
  {
   "cell_type": "code",
   "execution_count": null,
   "metadata": {},
   "outputs": [],
   "source": [
    "query = \"\"\"\n",
    "SELECT code, ____, ____ n\n",
    "FROM ____\n",
    "GROUP BY ____, ____\n",
    "ORDER BY COUNT(*) DESC\n",
    "\"\"\"\n",
    "icd_counts = pd.read_sql(query, conn)\n",
    "icd_counts.head()"
   ]
  },
  {
   "cell_type": "markdown",
   "metadata": {},
   "source": [
    "#### TODO\n",
    "How many *unique* diagnosis codes are there in `icd9`?"
   ]
  },
  {
   "cell_type": "code",
   "execution_count": null,
   "metadata": {},
   "outputs": [],
   "source": [
    "# RUN CELL TO SEE QUIZ\n",
    "quiz_unique_icd"
   ]
  },
  {
   "cell_type": "code",
   "execution_count": null,
   "metadata": {},
   "outputs": [],
   "source": []
  },
  {
   "cell_type": "markdown",
   "metadata": {},
   "source": [
    "#### TODO\n",
    "How many *total* diagnosis codes are there in `icd9`?"
   ]
  },
  {
   "cell_type": "code",
   "execution_count": null,
   "metadata": {},
   "outputs": [],
   "source": [
    "# RUN CELL TO SEE QUIZ\n",
    "quiz_total_icd9"
   ]
  },
  {
   "cell_type": "code",
   "execution_count": null,
   "metadata": {},
   "outputs": [],
   "source": []
  },
  {
   "cell_type": "markdown",
   "metadata": {},
   "source": [
    "#### TODO\n",
    "Create a plot showing the counts of the **10 most common** ICD-9 codes. Display the **description** on one of the axes."
   ]
  },
  {
   "cell_type": "code",
   "execution_count": null,
   "metadata": {},
   "outputs": [],
   "source": [
    "# RUN CELL TO SEE QUIZ\n",
    "hint_plot_icd9_counts"
   ]
  },
  {
   "cell_type": "code",
   "execution_count": null,
   "metadata": {},
   "outputs": [],
   "source": []
  },
  {
   "cell_type": "markdown",
   "metadata": {},
   "source": [
    "## Creating patient cohorts\n",
    "\n",
    "Research projects typically create a dataset from a particular **patient cohort** which is defined by some common attributes among a set of patients. This criterion will often include a particular diagnosis. For example, if we want to create a cohort of patients with diabetes, we could run a query like this to identify all hospitalizations with the code **250.00: Diabetes Mellitus w/o Complications Type II**."
   ]
  },
  {
   "cell_type": "code",
   "execution_count": null,
   "metadata": {
    "scrolled": true
   },
   "outputs": [],
   "source": [
    "query = \"\"\"\n",
    "SELECT *\n",
    "FROM icd9\n",
    "WHERE code = '250.00'\n",
    "LIMIT 10\n",
    "\"\"\"\n",
    "pd.read_sql(query, conn)"
   ]
  },
  {
   "cell_type": "code",
   "execution_count": null,
   "metadata": {},
   "outputs": [],
   "source": []
  },
  {
   "cell_type": "markdown",
   "metadata": {},
   "source": [
    "### `DISTINCT` and `LIKE`\n",
    "The last query gave us the first 10 rows of `icd9` which had a particular diabetes code. But there are codes which represent diabetes. Additionally, instead of identifying all hospitalizations which had this code, maybe we just want a unique list of ICD-9 codes to use as a **value set** for building datasets.\n",
    "\n",
    "Two keywords which can help us here are `DISTINCT` and `LIKE`. The `DISTINCT` keyword deduplicates the values in your `SELECT` statement. So the code below returns all unique code/description pairs for this particular ICD-9 code:"
   ]
  },
  {
   "cell_type": "code",
   "execution_count": null,
   "metadata": {},
   "outputs": [],
   "source": [
    "query = \"\"\"\n",
    "SELECT DISTINCT code, description\n",
    "FROM icd9\n",
    "WHERE code = '250.00';\n",
    "\"\"\"\n",
    "pd.read_sql(query, conn)"
   ]
  },
  {
   "cell_type": "markdown",
   "metadata": {},
   "source": [
    "The `LIKE` statement lets us do wildcard searches to match part of a text column, where `'%'` is used to represent any character. So by replacing the `WHERE` clause above to `description LIKE '%diabetes%'`, we can find all rows in the table whhere the description column contains \"diabetes\". Then we can use `DISTINCT` to deduplicate them."
   ]
  },
  {
   "cell_type": "code",
   "execution_count": null,
   "metadata": {
    "scrolled": true
   },
   "outputs": [],
   "source": [
    "query = \"\"\"\n",
    "SELECT DISTINCT code, description\n",
    "FROM icd9\n",
    "WHERE description LIKE '%diabetes%';\n",
    "\"\"\"\n",
    "pd.read_sql(query, conn)"
   ]
  },
  {
   "cell_type": "code",
   "execution_count": null,
   "metadata": {},
   "outputs": [],
   "source": []
  },
  {
   "cell_type": "markdown",
   "metadata": {},
   "source": [
    "#### TODO\n",
    "Write and execute a query which returns all *unique* code/description pairs containing the word **pneumonia**. Save the result as `pna_codes`."
   ]
  },
  {
   "cell_type": "code",
   "execution_count": null,
   "metadata": {},
   "outputs": [],
   "source": [
    "query = \"\"\"\n",
    "\n",
    "\"\"\"\n",
    "pna_codes = pd.read_sql(query, conn)"
   ]
  },
  {
   "cell_type": "code",
   "execution_count": null,
   "metadata": {},
   "outputs": [],
   "source": [
    "pna_codes.head()"
   ]
  },
  {
   "cell_type": "code",
   "execution_count": null,
   "metadata": {},
   "outputs": [],
   "source": [
    "# RUN CELL TO TEST VALUE\n",
    "test_pna_codes.test(pna_codes)"
   ]
  },
  {
   "cell_type": "code",
   "execution_count": null,
   "metadata": {},
   "outputs": [],
   "source": []
  },
  {
   "cell_type": "markdown",
   "metadata": {},
   "source": [
    "## Patient characteristics\n",
    "Now that we know how to identify particular diagnoses, let's next study the characteristics of patients with those diagnoses.\n",
    "\n",
    "The `icd9` column contains two columns which can be used to join to the tables `d_patients` and `demographic_detail`."
   ]
  },
  {
   "cell_type": "code",
   "execution_count": null,
   "metadata": {},
   "outputs": [],
   "source": [
    "# RUN CELL TO SEE QUIZ\n",
    "quiz_icd9_join_d_patients"
   ]
  },
  {
   "cell_type": "code",
   "execution_count": null,
   "metadata": {},
   "outputs": [],
   "source": [
    "# RUN CELL TO SEE QUIZ\n",
    "quiz_icd9_join_demographic_detail"
   ]
  },
  {
   "cell_type": "code",
   "execution_count": null,
   "metadata": {},
   "outputs": [],
   "source": []
  },
  {
   "cell_type": "markdown",
   "metadata": {},
   "source": [
    "### `COUNT(DISTINCT ...)`\n",
    "`icd9` and `demographic_detail` are both at the **hospitalization** level, meaning each row represents a unique hospitalization, while `d_patients` is at the **patient** level. That means that selecting  `COUNT(*)` from `demographic_detail` or `icd9` will give us a count of of hospitalizations, not patients.\n",
    "\n",
    "One way we could count the number of patients is by selecting `COUNT(DISTINCT subject_id)`. This first deduplicates the results by `subject_id`, then returns a count of the deduplicated set of patients.\n",
    "\n",
    "Let's say we want to count the total number of patients who have had diabetes during any of their hospitalizations. We could write the following query:"
   ]
  },
  {
   "cell_type": "code",
   "execution_count": null,
   "metadata": {},
   "outputs": [],
   "source": [
    "query = \"\"\"\n",
    "SELECT COUNT(DISTINCT subject_id) n\n",
    "FROM icd9\n",
    "WHERE description LIKE '%diabetes%'\n",
    "\"\"\"\n",
    "pd.read_sql(query, conn)"
   ]
  },
  {
   "cell_type": "code",
   "execution_count": null,
   "metadata": {},
   "outputs": [],
   "source": [
    "# RUN CELL TO SEE QUIZ\n",
    "quiz_count_distinct"
   ]
  },
  {
   "cell_type": "markdown",
   "metadata": {},
   "source": [
    "We can also use `COUNT(DISTINCT ...)` with `GROUP BY` queries to count the number of distinct values in each group. For example, the query below counts the number of distinct patients in each ethnic group who had a code for diabetes:"
   ]
  },
  {
   "cell_type": "code",
   "execution_count": null,
   "metadata": {},
   "outputs": [],
   "source": [
    "query = \"\"\"\n",
    "SELECT \n",
    "    e.ethnicity_descr, COUNT(DISTINCT i.subject_id) n\n",
    "FROM icd9 i\n",
    "    INNER JOIN demographic_detail e\n",
    "        ON i.hadm_id = e.hadm_id\n",
    "WHERE description LIKE '%diabetes%'\n",
    "GROUP BY e.ethnicity_descr\n",
    "ORDER BY n DESC\n",
    "\"\"\"\n",
    "\n",
    "pd.read_sql(query, conn)"
   ]
  },
  {
   "cell_type": "code",
   "execution_count": null,
   "metadata": {},
   "outputs": [],
   "source": []
  },
  {
   "cell_type": "markdown",
   "metadata": {},
   "source": [
    "#### TODO\n",
    "Count the number of *unique* patients by sex who had a code containing **\"pneumonia\"**."
   ]
  },
  {
   "cell_type": "code",
   "execution_count": null,
   "metadata": {},
   "outputs": [],
   "source": [
    "# RUN CELL TO SEE HINT\n",
    "hint_pna_by_sex"
   ]
  },
  {
   "cell_type": "code",
   "execution_count": null,
   "metadata": {},
   "outputs": [],
   "source": [
    "query = \"\"\"\n",
    "\n",
    "\"\"\"\n",
    "pd.read_sql(query, conn)"
   ]
  },
  {
   "cell_type": "code",
   "execution_count": null,
   "metadata": {},
   "outputs": [],
   "source": [
    "# RUN CELL TO SEE QUIZ\n",
    "quiz_count_pna_by_sex"
   ]
  },
  {
   "cell_type": "code",
   "execution_count": null,
   "metadata": {},
   "outputs": [],
   "source": []
  },
  {
   "cell_type": "markdown",
   "metadata": {},
   "source": [
    "## Comorbidities\n",
    "We're often interested in knowing about the **\"comorbidity\"** of a disease. A comorbidity is a condition which a patient has in addition to another condition. For example, if a patient has diabetes and they are also diagnosed with hypertension, then these two conditions would be comorbid. \n",
    "\n",
    "This is useful if we want to understand what conditions a population of patients might be at risk for based on the conditions they already have, or for measuring how certain diseases interact.\n",
    "\n",
    "In this exercise we will identify what co-morbidities patients have. But first, let's look at one more SQL technique called **subqueries**.\n",
    "\n",
    "### Subqueries\n",
    "A **subquery** is a nested query within a larger query. Subqueries appear in the `FROM` clause, are surrounded by parentheses, and need to have an alias:\n",
    "```sql\n",
    "SELECT * FROM (\n",
    "    SELECT \n",
    "    FROM table\n",
    ") AS sub\n",
    "```\n",
    "\n",
    "Instead of directly querying a table, this selects from the subquery. This can be useful if we want to reduce the results of one table before joining with another.\n",
    "\n",
    "For example, the following query first identifies unique patients who have a diabetes code, then joins with `d_patients`:"
   ]
  },
  {
   "cell_type": "code",
   "execution_count": null,
   "metadata": {},
   "outputs": [],
   "source": [
    "query = \"\"\"\n",
    "SELECT p.*\n",
    "FROM (\n",
    "    SELECT DISTINCT subject_id \n",
    "    FROM icd9\n",
    "    WHERE description LIKE '%diabetes%'\n",
    ") sub\n",
    "    INNER JOIN d_patients p\n",
    "        ON sub.subject_id = p.subject_id\n",
    "LIMIT 10\n",
    "\"\"\"\n",
    "pd.read_sql(query, conn)"
   ]
  },
  {
   "cell_type": "markdown",
   "metadata": {},
   "source": [
    "Let's see how this can help us identify comorbidities. \n",
    "\n",
    "In the query below, the subquery first identifies patients who have the diabetes code `250.00`. Then we join that set of patients with the `icd9` table to get all other codes for those patients. We'll also filter out 250.00 codes in the larger query, since we already know that those patients have this code:"
   ]
  },
  {
   "cell_type": "code",
   "execution_count": null,
   "metadata": {},
   "outputs": [],
   "source": [
    "query = \"\"\"\n",
    "SELECT \n",
    "    i.*\n",
    "FROM \n",
    "    icd9 i\n",
    "    INNER JOIN \n",
    "        /** Write the subquery here to get the subject_ids*/\n",
    "        (\n",
    "            SELECT DISTINCT\n",
    "            subject_id\n",
    "            FROM icd9\n",
    "            WHERE description LIKE '%diabetes%'\n",
    "        ) AS sub\n",
    "    ON i.subject_id = sub.subject_id\n",
    "WHERE i.description NOT LIKE '%diabetes%' -- filter out rows with 'diabetes'\n",
    "LIMIT 10\n",
    "\"\"\"\n",
    "pd.read_sql(query, conn)"
   ]
  },
  {
   "cell_type": "markdown",
   "metadata": {},
   "source": [
    "The next query then counts the number of *unique* patients who have each co-morbidity and returns the 10 most common comorbidities."
   ]
  },
  {
   "cell_type": "code",
   "execution_count": null,
   "metadata": {},
   "outputs": [],
   "source": [
    "query = \"\"\"\n",
    "SELECT \n",
    "    code,\n",
    "    description,\n",
    "    COUNT(DISTINCT i.subject_id) n\n",
    "FROM \n",
    "    icd9 i\n",
    "    INNER JOIN \n",
    "        /** Write the subquery here to get the subject_ids*/\n",
    "        (\n",
    "            SELECT DISTINCT\n",
    "            subject_id\n",
    "            FROM icd9\n",
    "            WHERE description LIKE '%diabetes%'\n",
    "        ) AS sub\n",
    "    ON i.subject_id = sub.subject_id\n",
    "WHERE i.description NOT LIKE '%diabetes%' -- filter out rows with 'diabetes'\n",
    "GROUP BY code, description\n",
    "ORDER BY COUNT(DISTINCT i.subject_id) desc\n",
    "LIMIT 10\n",
    "\"\"\"\n",
    "pd.read_sql(query, conn)"
   ]
  },
  {
   "cell_type": "markdown",
   "metadata": {},
   "source": [
    "#### TODO\n",
    "Write a query which contains the 10 most common co-morbidities for patients with pneumonia. Save the results as `pna_cmrbd`. Make sure to count distinct patients."
   ]
  },
  {
   "cell_type": "code",
   "execution_count": null,
   "metadata": {},
   "outputs": [],
   "source": [
    "query = \"\"\"\n",
    "\n",
    "\"\"\"\n",
    "pna_cmrbd = pd.read_sql(query, conn)\n",
    "pna_cmrbd"
   ]
  },
  {
   "cell_type": "code",
   "execution_count": null,
   "metadata": {},
   "outputs": [],
   "source": [
    "# RUN CELL TO SEE QUIZ\n",
    "quiz_pna_cmrbd"
   ]
  },
  {
   "cell_type": "markdown",
   "metadata": {},
   "source": [
    "#### Advanced\n",
    "Can you add a column `prop` to the table above which is the **proportion** of all patients with pneumonia who have a co-morbid condition?"
   ]
  },
  {
   "cell_type": "code",
   "execution_count": null,
   "metadata": {},
   "outputs": [],
   "source": [
    "# RUN CELL TO SEE HINT\n",
    "hint_pna_prop_cmrbd"
   ]
  },
  {
   "cell_type": "code",
   "execution_count": null,
   "metadata": {},
   "outputs": [],
   "source": []
  }
 ],
 "metadata": {
  "kernelspec": {
   "display_name": "Python 3 (ipykernel)",
   "language": "python",
   "name": "python3"
  },
  "language_info": {
   "codemirror_mode": {
    "name": "ipython",
    "version": 3
   },
   "file_extension": ".py",
   "mimetype": "text/x-python",
   "name": "python",
   "nbconvert_exporter": "python",
   "pygments_lexer": "ipython3",
   "version": "3.9.12"
  }
 },
 "nbformat": 4,
 "nbformat_minor": 4
}
