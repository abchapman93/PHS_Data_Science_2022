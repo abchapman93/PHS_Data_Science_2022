{
 "cells": [
  {
   "cell_type": "markdown",
   "id": "4b9b565b",
   "metadata": {},
   "source": [
    "<html>\n",
    "<table width=\"100%\" cellspacing=\"2\" cellpadding=\"2\" border=\"1\">\n",
    "<tbody>\n",
    "<tr>\n",
    "<td valign=\"center\" align=\"center\" width=\"45%\"><img src=\"../media/Univ-Utah.jpeg\"><br>\n",
    "</td>\n",
    "    <td valign=\"center\" align=\"center\" width=\"75%\">\n",
    "<h1 align=\"center\"><font size=\"+1\">University of Utah<br>Population Health Sciences<br>Data Science Workshop</font></h1></td>\n",
    "<td valign=\"center\" align=\"center\" width=\"45%\"><img\n",
    "src=\"../media/U_Health_stacked_png_red.png\" alt=\"Utah Health\n",
    "Logo\" width=\"128\" height=\"134\"><br>\n",
    "</td>\n",
    "</tr>\n",
    "</tbody>\n",
    "</table>\n",
    "<br>\n",
    "</html>\n"
   ]
  },
  {
   "cell_type": "markdown",
   "id": "4ca4a0e1",
   "metadata": {},
   "source": [
    "# Module 3 Exercises\n",
    "These exercises will ask you to query and analyze data from MIMIC."
   ]
  },
  {
   "cell_type": "code",
   "execution_count": null,
   "id": "82c12b37",
   "metadata": {},
   "outputs": [],
   "source": [
    "from helpers import *"
   ]
  },
  {
   "cell_type": "code",
   "execution_count": null,
   "id": "fdfd907d",
   "metadata": {},
   "outputs": [],
   "source": [
    "import pandas as pd\n",
    "import os\n",
    "import numpy as np\n",
    "\n",
    "import matplotlib.pyplot as plt\n",
    "import seaborn as sns\n",
    "\n",
    "%matplotlib inline\n",
    "\n",
    "sns.set()"
   ]
  },
  {
   "cell_type": "code",
   "execution_count": null,
   "id": "c07047f3",
   "metadata": {},
   "outputs": [],
   "source": [
    "conn = connect_to_mimic()"
   ]
  },
  {
   "cell_type": "code",
   "execution_count": null,
   "id": "c63ad900",
   "metadata": {},
   "outputs": [],
   "source": []
  },
  {
   "cell_type": "markdown",
   "id": "fd7ee368",
   "metadata": {},
   "source": [
    "## 1. Race/ethnicity\n",
    "### 1.1\n",
    "Write a query to count how many patients are in each racial/ethnic group. Sort your query results in **ascending alphabetical order** and assign to `ethnicity`. Then create a visualization to display the counts which arranges the plot in **descending order by count**. "
   ]
  },
  {
   "cell_type": "code",
   "execution_count": null,
   "id": "6be2597b",
   "metadata": {
    "scrolled": true
   },
   "outputs": [],
   "source": [
    "# Option 1: SQL\n",
    "query = \"\"\"\n",
    "\n",
    "\"\"\"\n",
    "ethnicity = pd.read_sql(query, conn)\n",
    "ethnicity"
   ]
  },
  {
   "cell_type": "code",
   "execution_count": null,
   "id": "79dce3a7",
   "metadata": {
    "scrolled": true
   },
   "outputs": [],
   "source": [
    "# Visualization"
   ]
  },
  {
   "cell_type": "code",
   "execution_count": null,
   "id": "97457a09",
   "metadata": {},
   "outputs": [],
   "source": []
  },
  {
   "cell_type": "markdown",
   "id": "70fe2cbc",
   "metadata": {},
   "source": [
    "### 1.2 In-hospital mortality by race\n",
    "Let's compare the **proportion** of patients who died in the hospital by race. We'll limit to the 4 highest frequency races so the denominators aren't too small:\n",
    "```\n",
    "(\"WHITE\", \"BLACK/AFRICAN AMERICAN\", \"ASIAN\", \"HISPANIC OR LATINO\")\n",
    "```\n",
    "1. First, write a query which returns a **patient-level** dataframe (meaning one row per patient) containing the race/ethnicity and whether a patient died in the hospital. Filter to patients in the racial groups above.\n",
    "2. Then group by race/ethnicity (either in pandas or SQL) and calculate the proportion of patients in each category who died in the hospital.\n",
    "3. Finally, plot the proportions as a barplot."
   ]
  },
  {
   "cell_type": "code",
   "execution_count": null,
   "id": "2abeeb8a",
   "metadata": {},
   "outputs": [],
   "source": [
    "# RUN CELL TO SEE HINT\n",
    "hint_mortality_by_race"
   ]
  },
  {
   "cell_type": "code",
   "execution_count": null,
   "id": "e8a2ce1d",
   "metadata": {},
   "outputs": [],
   "source": [
    "query = \"\"\"\n",
    "\n",
    "\"\"\"\n",
    "df = pd.read_sql(query, conn)"
   ]
  },
  {
   "cell_type": "code",
   "execution_count": null,
   "id": "bb83ef36",
   "metadata": {},
   "outputs": [],
   "source": []
  },
  {
   "cell_type": "code",
   "execution_count": null,
   "id": "c9a4252c",
   "metadata": {},
   "outputs": [],
   "source": []
  },
  {
   "cell_type": "code",
   "execution_count": null,
   "id": "58197aaf",
   "metadata": {},
   "outputs": [],
   "source": []
  },
  {
   "cell_type": "markdown",
   "id": "e59ed5e4",
   "metadata": {},
   "source": [
    "# 2. Hematocrit\n",
    "A hematocrit test measures the percentage of red blood cells in a patient's blood.\n",
    "\n",
    "1. Select a **the first 20,000 rows** of labs which contain results for the following test. Save the resulting dataframe as a variable called `hemat`.\n",
    "    - **Loinc Code**: 20570-8\t\n",
    "    - **LOINC Description**: Hematocrit [Volume Fraction] of Blood<br>\n",
    "\n",
    "2. Fill the **NaN** values in the **\"flag\"** column with **\"Normal\"**. You can either do this with SQL using the `coalesce` function, or with Pandas using the `fillna` method. How many rows have normal vs. abnormal values?\n",
    "3. Generate descriptive statistics for the lab results in the column **\"valuenum\"**, stratified by **flag**\n",
    "4. Create a plot which show the distribution of test result values within each stratum of **flag**"
   ]
  },
  {
   "cell_type": "code",
   "execution_count": null,
   "id": "76debac8",
   "metadata": {},
   "outputs": [],
   "source": [
    "# RUN CELL TO SEE HINT\n",
    "hint_hematocrit_viz"
   ]
  },
  {
   "cell_type": "code",
   "execution_count": null,
   "id": "be4eac9e",
   "metadata": {},
   "outputs": [],
   "source": [
    "# RUN CELL TO SEE QUIZ\n",
    "quiz_hematocrit_normal"
   ]
  },
  {
   "cell_type": "code",
   "execution_count": null,
   "id": "0ff1d798",
   "metadata": {},
   "outputs": [],
   "source": [
    "query = \"\"\"\n",
    "\n",
    "\n",
    "LIMIT 20000;\n",
    "\"\"\"\n",
    "hemat = pd.read_sql(query, conn)\n",
    "hemat.head()"
   ]
  },
  {
   "cell_type": "code",
   "execution_count": null,
   "id": "b070f2b9",
   "metadata": {},
   "outputs": [],
   "source": []
  },
  {
   "cell_type": "markdown",
   "id": "ccf9c313",
   "metadata": {},
   "source": [
    "# 3. ABI\n",
    "The **ankle-brachial index test** compares the blood pressure measured at your ankle with the blood pressure measured at your arm. It is used to check for peripheral artery disease. A low ABI can indicate a blocking in your arteries. [[Mayo Clinic]](https://www.mayoclinic.org/tests-procedures/ankle-brachial-index/about/pac-20392934) \n",
    "\n",
    "Let's analyze this test and see what the distribution of values look like. In MIMIC, the following chartevents itemids indicate ABI measurements:\n",
    "\n",
    "```\n",
    "(2, 3, 4, 5)\n",
    "```\n",
    "\n",
    "## Instructions\n",
    "1. Join the tables `d_chartitems` and `chartevents`. Filter the results to rows which measure ABI values using the `itemid`s given above. Select all rows (there won't be too many). Assign the results to `abi`\n",
    "2. Drop rows which are missing `value1num`\n",
    "3. Calculate the min, max, and mean values of `value1num`\n",
    "4. Generate a histogram. Change the number of bins to more clearly show the detail of the distribution using the `bins` argument "
   ]
  },
  {
   "cell_type": "code",
   "execution_count": null,
   "id": "7e35be60",
   "metadata": {},
   "outputs": [],
   "source": [
    "# RUN CELL TO SEE HINT\n",
    "hint_abi"
   ]
  },
  {
   "cell_type": "code",
   "execution_count": null,
   "id": "82c58a4f",
   "metadata": {},
   "outputs": [],
   "source": [
    "# RUN CELL TO SEE QUIZ\n",
    "quiz_count_abi"
   ]
  },
  {
   "cell_type": "code",
   "execution_count": null,
   "id": "38d8b4f8",
   "metadata": {},
   "outputs": [],
   "source": [
    "query = \"\"\"\n",
    "\n",
    "\"\"\"\n",
    "abi = pd.read_sql(query, conn)\n",
    "abi.head()"
   ]
  },
  {
   "cell_type": "code",
   "execution_count": null,
   "id": "2d537f95",
   "metadata": {},
   "outputs": [],
   "source": []
  },
  {
   "cell_type": "markdown",
   "id": "b3e422aa",
   "metadata": {},
   "source": [
    "## 4 (Advanced) Comparing prevalence by race/ethnicity\n",
    "Let's say we wanted to compare the prevalence of certain diseases among patients who were black/african american and those who were white. Calculate the proportion out of all patients in those racial categories who have the following ICD-9 codes:\n",
    "\n",
    "- `401.9`: Unspecified essential hypertension\n",
    "- `428.0`: Congestive heart failure unspecified\n",
    "- `427.31`: Atrial fibrillation\n",
    "- `403.91`: Hypertensive chronic kidney disease with stage 5 chronic kidney disease or end stage renal disease\n",
    "- `584.9`: Acute kidney failure, unspecified\n"
   ]
  },
  {
   "cell_type": "code",
   "execution_count": null,
   "id": "8d1652f8",
   "metadata": {},
   "outputs": [],
   "source": []
  },
  {
   "cell_type": "code",
   "execution_count": null,
   "id": "af9656e3",
   "metadata": {},
   "outputs": [],
   "source": [
    "# RUN CELL TO SEE HINT\n",
    "hint_prevalence_by_race"
   ]
  },
  {
   "cell_type": "code",
   "execution_count": null,
   "id": "df64ebee",
   "metadata": {},
   "outputs": [],
   "source": [
    "# RUN CELL TO SEE QUIZ\n",
    "quiz_dx_prevalence_by_race"
   ]
  },
  {
   "cell_type": "code",
   "execution_count": null,
   "id": "8704473c",
   "metadata": {},
   "outputs": [],
   "source": []
  },
  {
   "cell_type": "code",
   "execution_count": null,
   "id": "3fbb5bc7",
   "metadata": {},
   "outputs": [],
   "source": []
  },
  {
   "cell_type": "code",
   "execution_count": null,
   "id": "a2e8014a",
   "metadata": {},
   "outputs": [],
   "source": []
  }
 ],
 "metadata": {
  "kernelspec": {
   "display_name": "Python 3 (ipykernel)",
   "language": "python",
   "name": "python3"
  },
  "language_info": {
   "codemirror_mode": {
    "name": "ipython",
    "version": 3
   },
   "file_extension": ".py",
   "mimetype": "text/x-python",
   "name": "python",
   "nbconvert_exporter": "python",
   "pygments_lexer": "ipython3",
   "version": "3.9.12"
  }
 },
 "nbformat": 4,
 "nbformat_minor": 5
}
