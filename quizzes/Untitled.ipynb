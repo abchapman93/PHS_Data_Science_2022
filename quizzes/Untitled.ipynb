{
 "cells": [
  {
   "cell_type": "code",
   "execution_count": null,
   "id": "e11abccc",
   "metadata": {},
   "outputs": [],
   "source": []
  },
  {
   "cell_type": "code",
   "execution_count": 1,
   "id": "9ab7834c",
   "metadata": {},
   "outputs": [],
   "source": [
    "import ipywidgets as widgets"
   ]
  },
  {
   "cell_type": "code",
   "execution_count": 135,
   "id": "a74f5d81",
   "metadata": {},
   "outputs": [
    {
     "name": "stdout",
     "output_type": "stream",
     "text": [
      "/Users/alecchapman/opt/miniconda3/condabin/conda\r\n"
     ]
    }
   ],
   "source": [
    "!which conda"
   ]
  },
  {
   "cell_type": "code",
   "execution_count": 134,
   "id": "2f3176c6",
   "metadata": {},
   "outputs": [
    {
     "name": "stdout",
     "output_type": "stream",
     "text": [
      "/Users/alecchapman/opt/miniconda3/envs/phs/bin/python\r\n"
     ]
    }
   ],
   "source": [
    "!which python"
   ]
  },
  {
   "cell_type": "code",
   "execution_count": 131,
   "id": "02f45507",
   "metadata": {},
   "outputs": [],
   "source": [
    "class MultipleChoiceQuiz:\n",
    "    def __init__(self, description=\"\", answer=\"True\", options=(\"True\", \"False\")):\n",
    "        self._output = widgets.Output()\n",
    "        if answer not in options:\n",
    "            raise ValueError(f\"Invalid answer {answer}. Options = {options}\")\n",
    "        self.description = description\n",
    "        self._description = widgets.HTML(value=self.description)\n",
    "        self.options = options\n",
    "        self._options = widgets.RadioButtons(\n",
    "                    options=self.options\n",
    "                )\n",
    "        self.answer = answer        \n",
    "        self.submitted = None\n",
    "        \n",
    "        self._submit = widgets.Button(description=\"Submit\")\n",
    "        self._submit.on_click(self._submit_answer)\n",
    "        \n",
    "        self.response = \"\"\n",
    "        self._response = self._response = widgets.HTML(\n",
    "                    value=self.response\n",
    "                )\n",
    "        \n",
    "        self._box = widgets.VBox(\n",
    "            [\n",
    "                self._description,\n",
    "                self._options,\n",
    "                self._submit,\n",
    "                self._response,\n",
    "                self._output\n",
    "                \n",
    "            ]\n",
    "        )\n",
    "        \n",
    "        self.display()\n",
    "        \n",
    "    def _submit_answer(self, change):\n",
    "        self.submitted = self._options.value\n",
    "        self._validate_answer()\n",
    "        \n",
    "    def _validate_answer(self):\n",
    "        # If there's already a response, remove it\n",
    "        if self.submitted == self.answer:\n",
    "            self.response = \"That is correct!\"\n",
    "        else:\n",
    "            self.response = \"That is incorrect.\"\n",
    "        self._response.value = self.response\n",
    "        \n",
    "        \n",
    "        \n",
    "    def display(self):\n",
    "        \"\"\"Display the Box widget in the current IPython cell.\"\"\"\n",
    "        from IPython.display import display as ipydisplay\n",
    "        self._output.clear_output()\n",
    "        \n",
    "        ipydisplay(self._box)\n",
    "        \n",
    "        \n",
    "    def __repr__(self):\n",
    "        return \"\""
   ]
  },
  {
   "cell_type": "code",
   "execution_count": 132,
   "id": "07e33729",
   "metadata": {},
   "outputs": [
    {
     "data": {
      "application/vnd.jupyter.widget-view+json": {
       "model_id": "fb5e0c3cf521434598437c3be923b99d",
       "version_major": 2,
       "version_minor": 0
      },
      "text/plain": [
       "VBox(children=(HTML(value='<strong>True or False:</strong> Python is a programming language'), RadioButtons(op…"
      ]
     },
     "metadata": {},
     "output_type": "display_data"
    }
   ],
   "source": [
    "q = MultipleChoiceQuiz(\n",
    "    description=\"<strong>True or False:</strong> Python is a programming language\",\n",
    "    options=[True, False],\n",
    "    answer=True\n",
    ")"
   ]
  },
  {
   "cell_type": "code",
   "execution_count": 112,
   "id": "022ab14d",
   "metadata": {},
   "outputs": [
    {
     "data": {
      "application/vnd.jupyter.widget-view+json": {
       "model_id": "9ae32d1cde99408aa9a627318c3456cd",
       "version_major": 2,
       "version_minor": 0
      },
      "text/plain": [
       "HTML(value='')"
      ]
     },
     "metadata": {},
     "output_type": "display_data"
    }
   ],
   "source": [
    "q._response"
   ]
  },
  {
   "cell_type": "code",
   "execution_count": 97,
   "id": "c77349ba",
   "metadata": {},
   "outputs": [
    {
     "data": {
      "text/plain": [
       "False"
      ]
     },
     "execution_count": 97,
     "metadata": {},
     "output_type": "execute_result"
    }
   ],
   "source": [
    "q._options.value == q.submitted"
   ]
  },
  {
   "cell_type": "code",
   "execution_count": 63,
   "id": "dddc130a",
   "metadata": {},
   "outputs": [
    {
     "data": {
      "text/plain": [
       "True"
      ]
     },
     "execution_count": 63,
     "metadata": {},
     "output_type": "execute_result"
    }
   ],
   "source": [
    "q._options.value"
   ]
  },
  {
   "cell_type": "code",
   "execution_count": 64,
   "id": "5c7e6502",
   "metadata": {},
   "outputs": [],
   "source": [
    "q.submitted"
   ]
  },
  {
   "cell_type": "code",
   "execution_count": 36,
   "id": "05123c9e",
   "metadata": {},
   "outputs": [],
   "source": [
    "question = widgets.HTML(\n",
    "    value=\"<strong>True or False:</strong> Python is a programming language\"\n",
    ")"
   ]
  },
  {
   "cell_type": "code",
   "execution_count": 41,
   "id": "81bea94f",
   "metadata": {},
   "outputs": [],
   "source": [
    "answers = widgets.RadioButtons(\n",
    "    options=[\"True\", \"False\"]\n",
    ")"
   ]
  },
  {
   "cell_type": "code",
   "execution_count": 42,
   "id": "ba8b0f33",
   "metadata": {},
   "outputs": [
    {
     "data": {
      "application/vnd.jupyter.widget-view+json": {
       "model_id": "913bf714b90f45da808e7b1ed49aff36",
       "version_major": 2,
       "version_minor": 0
      },
      "text/plain": [
       "RadioButtons(options=('True', 'False'), value='True')"
      ]
     },
     "metadata": {},
     "output_type": "display_data"
    }
   ],
   "source": [
    "answers"
   ]
  },
  {
   "cell_type": "code",
   "execution_count": 44,
   "id": "40e85ee8",
   "metadata": {},
   "outputs": [
    {
     "data": {
      "text/plain": [
       "'False'"
      ]
     },
     "execution_count": 44,
     "metadata": {},
     "output_type": "execute_result"
    }
   ],
   "source": [
    "answers.value"
   ]
  },
  {
   "cell_type": "code",
   "execution_count": 38,
   "id": "92b45550",
   "metadata": {},
   "outputs": [
    {
     "data": {
      "application/vnd.jupyter.widget-view+json": {
       "model_id": "92abb2fea36f46468dee7b31533397b1",
       "version_major": 2,
       "version_minor": 0
      },
      "text/plain": [
       "VBox(children=(HTML(value='<strong>True or False:</strong> Python is a programming language'), RadioButtons(op…"
      ]
     },
     "metadata": {},
     "output_type": "display_data"
    }
   ],
   "source": [
    "widgets.VBox([question, answers])"
   ]
  },
  {
   "cell_type": "code",
   "execution_count": 4,
   "id": "46168ea4",
   "metadata": {},
   "outputs": [
    {
     "data": {
      "application/vnd.jupyter.widget-view+json": {
       "model_id": "bd42411fc3604681bba15f38e979b3eb",
       "version_major": 2,
       "version_minor": 0
      },
      "text/plain": [
       "HBox(children=(Button(description='house.jpg', style=ButtonStyle()), Button(description='door.jpg', style=Butt…"
      ]
     },
     "metadata": {},
     "output_type": "display_data"
    }
   ],
   "source": [
    "import random\n",
    "import time\n",
    "from IPython.display import Image, display, clear_output\n",
    "from ipywidgets import widgets\n",
    "\n",
    "x = ['tree.jpg','house.jpg','car.jpg','door.jpg','train.jpg','moon.jpg']\n",
    "\n",
    "def redraw():\n",
    "    choices = random.sample(x, 4)\n",
    "    correct = random.choice(choices)\n",
    "\n",
    "#     display(Image(correct))\n",
    "    time.sleep(3)\n",
    "\n",
    "    button1 = widgets.Button(description = choices[0])\n",
    "    button2 = widgets.Button(description = choices[1])\n",
    "    button3 = widgets.Button(description = choices[2])\n",
    "    button4 = widgets.Button(description = choices[3])\n",
    "\n",
    "    container = widgets.HBox(children=[button1,button2,button3,button4])\n",
    "    display(container)\n",
    "\n",
    "    def on_button1_clicked(b):\n",
    "        # [insert code to record choice] \n",
    "        container.close()\n",
    "        clear_output()\n",
    "        redraw()\n",
    "\n",
    "    def on_button2_clicked(b):\n",
    "        # [insert code to record choice] \n",
    "        container.close()\n",
    "        clear_output()\n",
    "        redraw()\n",
    "\n",
    "    def on_button3_clicked(b):\n",
    "        # [insert code to record choice] \n",
    "        container.close()\n",
    "        clear_output()\n",
    "        redraw()\n",
    "\n",
    "    def on_button4_clicked(b):\n",
    "        # [insert code to record choice] \n",
    "        container.close()\n",
    "        clear_output()\n",
    "        redraw()\n",
    "\n",
    "    button1.on_click(on_button1_clicked)\n",
    "    button2.on_click(on_button2_clicked)\n",
    "    button3.on_click(on_button3_clicked)\n",
    "    button4.on_click(on_button4_clicked)\n",
    "\n",
    "redraw() # initializes the first choice"
   ]
  },
  {
   "cell_type": "code",
   "execution_count": null,
   "id": "db9455fd",
   "metadata": {},
   "outputs": [],
   "source": [
    "class MultipleChoice:\n",
    "    def __init__():"
   ]
  }
 ],
 "metadata": {
  "kernelspec": {
   "display_name": "Python 3 (ipykernel)",
   "language": "python",
   "name": "python3"
  },
  "language_info": {
   "codemirror_mode": {
    "name": "ipython",
    "version": 3
   },
   "file_extension": ".py",
   "mimetype": "text/x-python",
   "name": "python",
   "nbconvert_exporter": "python",
   "pygments_lexer": "ipython3",
   "version": "3.9.12"
  }
 },
 "nbformat": 4,
 "nbformat_minor": 5
}
