{
 "cells": [
  {
   "cell_type": "markdown",
   "id": "a96f3930",
   "metadata": {},
   "source": [
    "<html>\n",
    "<table width=\"100%\" cellspacing=\"2\" cellpadding=\"2\" border=\"1\">\n",
    "<tbody>\n",
    "<tr>\n",
    "<td valign=\"center\" align=\"center\" width=\"45%\"><img src=\"../media/Univ-Utah.jpeg\"><br>\n",
    "</td>\n",
    "    <td valign=\"center\" align=\"center\" width=\"75%\">\n",
    "<h1 align=\"center\"><font size=\"+1\">University of Utah<br>Population Health Sciences<br>Data Science Workshop</font></h1></td>\n",
    "<td valign=\"center\" align=\"center\" width=\"45%\"><img\n",
    "src=\"../media/U_Health_stacked_png_red.png\" alt=\"Utah Health\n",
    "Logo\" width=\"128\" height=\"134\"><br>\n",
    "</td>\n",
    "</tr>\n",
    "</tbody>\n",
    "</table>\n",
    "<br>\n",
    "</html>"
   ]
  },
  {
   "cell_type": "code",
   "execution_count": null,
   "id": "4993c080",
   "metadata": {},
   "outputs": [],
   "source": [
    "from helpers import *"
   ]
  },
  {
   "cell_type": "markdown",
   "id": "a2e07e76",
   "metadata": {},
   "source": [
    "# Text Data in Python\n",
    "As we've seen throughout this workshop, text is represented in Python with **strings**. So far, we've mainly limited our use of strings to short descriptions which represent structured elements. In this module, we'll see how text data plays a large role in medicine and why it's important to be able to analyze text data.\n",
    "\n",
    "In this notebook, we'll dive deeper into working with strings in Python. Then the next few notebooks will demonstrate a set of tools for extracting information from clinical text using Natural Language Processing.\n"
   ]
  },
  {
   "cell_type": "markdown",
   "id": "9e9a11aa",
   "metadata": {},
   "source": [
    "## String methods\n",
    "Strings are defined using quotation marks (single, double, or triple). For example, these are all valid ways of defining strings:"
   ]
  },
  {
   "cell_type": "code",
   "execution_count": null,
   "id": "a1b0e60c",
   "metadata": {},
   "outputs": [],
   "source": [
    "string1 = 'This is a string'\n",
    "string2 = \"This is also a string.\"\n",
    "text = \"\"\"Chief Complaint:\n",
    "5 days worsening SOB, DOE\"\"\""
   ]
  },
  {
   "cell_type": "markdown",
   "id": "deb2a4f9",
   "metadata": {},
   "source": [
    "Let's learn a few methods for dealing with strings data."
   ]
  },
  {
   "cell_type": "markdown",
   "id": "b536ca9f",
   "metadata": {},
   "source": [
    "### Slicing\n",
    "Under the hood, strings act similarly lists, so we can slice and index them in the same way.\n",
    "\n",
    "To get the number of characters in a string we use the `len` function:"
   ]
  },
  {
   "cell_type": "code",
   "execution_count": null,
   "id": "060b46e9",
   "metadata": {},
   "outputs": [],
   "source": [
    "len(\"Chief Complaint:\")"
   ]
  },
  {
   "cell_type": "markdown",
   "id": "bee0fa46",
   "metadata": {},
   "source": [
    "We can access individual characters by index (also 0-indexed, like everything in Python):"
   ]
  },
  {
   "cell_type": "code",
   "execution_count": null,
   "id": "f38a6791",
   "metadata": {},
   "outputs": [],
   "source": [
    "text[0]"
   ]
  },
  {
   "cell_type": "code",
   "execution_count": null,
   "id": "0697efdb",
   "metadata": {},
   "outputs": [],
   "source": [
    "text[:16]"
   ]
  },
  {
   "cell_type": "code",
   "execution_count": null,
   "id": "d155505f",
   "metadata": {},
   "outputs": [],
   "source": [
    "text[-3:-1]"
   ]
  },
  {
   "cell_type": "code",
   "execution_count": null,
   "id": "dc2ba01d",
   "metadata": {},
   "outputs": [],
   "source": [
    "# RUN CELL TO SEE QUIZ\n",
    "quiz_text_3"
   ]
  },
  {
   "cell_type": "markdown",
   "id": "d4868c11",
   "metadata": {},
   "source": [
    "### Substrings\n",
    "A **substring** is a smaller (or equally-sized) string consisting of consecutive characters within a larger string (or **superstring**). When we slice a string, we get a substring:"
   ]
  },
  {
   "cell_type": "code",
   "execution_count": null,
   "id": "0d4379a9",
   "metadata": {},
   "outputs": [],
   "source": [
    "sub_text = text[:5]\n",
    "sub_text"
   ]
  },
  {
   "cell_type": "markdown",
   "id": "15fd4198",
   "metadata": {},
   "source": [
    "We can check whether a string is contained in a superstring by using the `in` keyword:"
   ]
  },
  {
   "cell_type": "code",
   "execution_count": null,
   "id": "971c8afe",
   "metadata": {},
   "outputs": [],
   "source": [
    "sub_text in text"
   ]
  },
  {
   "cell_type": "markdown",
   "id": "cfb29c16",
   "metadata": {},
   "source": [
    "Strings are case-sensitive, though, so the characters need to match exactly:"
   ]
  },
  {
   "cell_type": "code",
   "execution_count": null,
   "id": "13136c85",
   "metadata": {},
   "outputs": [],
   "source": [
    "\"chief\" in text"
   ]
  },
  {
   "cell_type": "markdown",
   "id": "26c25be9",
   "metadata": {},
   "source": [
    "### Upper and lower-case\n",
    "Sometimes we want to change the case of a string, or ignore the case altogether. A few methods return a new string with different capitalization.\n",
    "\n",
    "The `text.upper()` returns an all upper-case version of the string, and `text.lower()` returns a lower-case one:"
   ]
  },
  {
   "cell_type": "code",
   "execution_count": null,
   "id": "7a16e017",
   "metadata": {},
   "outputs": [],
   "source": [
    "text.upper()"
   ]
  },
  {
   "cell_type": "code",
   "execution_count": null,
   "id": "9a2a02e7",
   "metadata": {},
   "outputs": [],
   "source": [
    "text.lower()"
   ]
  },
  {
   "cell_type": "markdown",
   "id": "55a07ac7",
   "metadata": {},
   "source": [
    "Switching to all one case can make it easier to search a text for a string:"
   ]
  },
  {
   "cell_type": "code",
   "execution_count": null,
   "id": "cf1c5c7d",
   "metadata": {},
   "outputs": [],
   "source": [
    "\"chief\" in text.lower()"
   ]
  },
  {
   "cell_type": "markdown",
   "id": "147a1983",
   "metadata": {},
   "source": [
    "The `title()` method capitalizes the first letter of each word but lower-cases the rest:"
   ]
  },
  {
   "cell_type": "code",
   "execution_count": null,
   "id": "fbff3100",
   "metadata": {},
   "outputs": [],
   "source": [
    "text.title()"
   ]
  },
  {
   "cell_type": "code",
   "execution_count": null,
   "id": "d1c49268",
   "metadata": {},
   "outputs": [],
   "source": []
  },
  {
   "cell_type": "markdown",
   "id": "7bba8133",
   "metadata": {},
   "source": [
    "### Splitting strings\n",
    "We can split a string into smaller strings whenever a particular character/characters occurs with the `split()` method. This is how **comma-separated files** distinguish between each column:"
   ]
  },
  {
   "cell_type": "code",
   "execution_count": null,
   "id": "99726976",
   "metadata": {},
   "outputs": [],
   "source": [
    "\"name,age,city,state\".split(\",\")"
   ]
  },
  {
   "cell_type": "code",
   "execution_count": null,
   "id": "b0249c76",
   "metadata": {},
   "outputs": [],
   "source": [
    "\"alec chapman,29,salt lake city\".split(\",\")"
   ]
  },
  {
   "cell_type": "markdown",
   "id": "82c80b0e",
   "metadata": {},
   "source": [
    "After splitting a string, we can **unpack it** into distinct values:"
   ]
  },
  {
   "cell_type": "code",
   "execution_count": null,
   "id": "cb64f6ce",
   "metadata": {},
   "outputs": [],
   "source": [
    "name, age, city = \"alec chapman,29,salt lake city\".split(\",\")\n",
    "print(name)\n",
    "print(age)\n",
    "print(city)"
   ]
  },
  {
   "cell_type": "markdown",
   "id": "8fecf399",
   "metadata": {},
   "source": [
    "But be careful - if one of the elements actually contains a comma, it will split in a way you might not expect:"
   ]
  },
  {
   "cell_type": "code",
   "execution_count": null,
   "id": "8a58c407",
   "metadata": {},
   "outputs": [],
   "source": [
    "\"alec chapman,29,salt lake city, utah\".split(\",\")"
   ]
  },
  {
   "cell_type": "code",
   "execution_count": null,
   "id": "599fd2a6",
   "metadata": {},
   "outputs": [],
   "source": [
    "# Throws an error\n",
    "name, age, city = \"alec chapman,29,salt lake city, ut\".split(\",\")"
   ]
  },
  {
   "cell_type": "markdown",
   "id": "036f4f7d",
   "metadata": {},
   "source": [
    "You can split by any character. Splitting by *whitespaces* is a simple way to break a string up into individual words (but do you see any problems with this?)"
   ]
  },
  {
   "cell_type": "code",
   "execution_count": null,
   "id": "aae463b5",
   "metadata": {},
   "outputs": [],
   "source": [
    "\"This is a sentence.\".split(\" \")"
   ]
  },
  {
   "cell_type": "markdown",
   "id": "b97faea7",
   "metadata": {},
   "source": [
    "#### TODO\n",
    "An **empty string** is a string without any characters:\n",
    "\n",
    "`\"\"`"
   ]
  },
  {
   "cell_type": "code",
   "execution_count": null,
   "id": "19adb0f6",
   "metadata": {},
   "outputs": [],
   "source": [
    "# RUN CELL TO SEE QUIZ\n",
    "quiz_len_empty"
   ]
  },
  {
   "cell_type": "code",
   "execution_count": null,
   "id": "6b9a0c2c",
   "metadata": {},
   "outputs": [],
   "source": [
    "# RUN CELL TO SEE QUIZ\n",
    "quiz_split_pna_empty"
   ]
  },
  {
   "cell_type": "code",
   "execution_count": null,
   "id": "66c50499",
   "metadata": {},
   "outputs": [],
   "source": []
  },
  {
   "cell_type": "markdown",
   "id": "82051f4d",
   "metadata": {},
   "source": [
    "### Joining strings\n",
    "The inverse of *splitting* strings is *joining* strings. We saw in the first notebook how to **concatenate** two strings together to create a larger string:"
   ]
  },
  {
   "cell_type": "code",
   "execution_count": null,
   "id": "8f3a61d8",
   "metadata": {},
   "outputs": [],
   "source": [
    "\"Chief\" + \" \" + \"complaint\""
   ]
  },
  {
   "cell_type": "markdown",
   "id": "c6a97791",
   "metadata": {},
   "source": [
    "We can take a list of strings and create a string with all of them joined by some character (or multiple characters):"
   ]
  },
  {
   "cell_type": "code",
   "execution_count": null,
   "id": "8e1970a0",
   "metadata": {},
   "outputs": [],
   "source": [
    "\" \".join([\"Chief\", \"complaint:\", \"5\", \"days\", \"worsening\", \"SOB\", \"DOE\"])"
   ]
  },
  {
   "cell_type": "code",
   "execution_count": null,
   "id": "f977255e",
   "metadata": {},
   "outputs": [],
   "source": [
    "\"...\".join([\"This\", \"feels\", \"very\", \"passive\", \"aggressive\", \"\"])"
   ]
  },
  {
   "cell_type": "code",
   "execution_count": null,
   "id": "6dd68140",
   "metadata": {},
   "outputs": [],
   "source": []
  },
  {
   "cell_type": "markdown",
   "id": "a544ef9a",
   "metadata": {},
   "source": [
    "### String formatting\n",
    "Sometimes we want to use \"template\" texts and fill in values based on variable. For example, way back in the first notebook we had a function called `print_name` which would create and print a string based on the function arguments. **String formatting** is a nice way to do this. For example, one way to do this is using so-called `f-strings`, which are denoted with an `f` at the beginning of the string and then contain variable names in curly brackets `{}`."
   ]
  },
  {
   "cell_type": "code",
   "execution_count": null,
   "id": "b371741a",
   "metadata": {},
   "outputs": [],
   "source": [
    "first = \"Alec\"\n",
    "last = \"Chapman\"\n",
    "print(f\"My name is {first} {last}\")"
   ]
  },
  {
   "cell_type": "markdown",
   "id": "fc436995",
   "metadata": {},
   "source": [
    "You can also use the string method `.format()`:"
   ]
  },
  {
   "cell_type": "code",
   "execution_count": null,
   "id": "2c2589ea",
   "metadata": {},
   "outputs": [],
   "source": [
    "print(\"My name is {} {}\".format(\"Alec\", \"Chapman\"))"
   ]
  },
  {
   "cell_type": "markdown",
   "id": "35ab3459",
   "metadata": {},
   "source": [
    "## Practice with strings"
   ]
  },
  {
   "cell_type": "markdown",
   "id": "81f18a82",
   "metadata": {},
   "source": [
    "### 1.\n",
    "In NLP, **tokenization** is the process of splitting a text into individual words. It can be informative to see which unique words appear in a document. Split `disch_summ` into tokens and then create an object containing unique tokens. As an optional next step, count how many times each token appears."
   ]
  },
  {
   "cell_type": "code",
   "execution_count": null,
   "id": "e9cc18ec",
   "metadata": {},
   "outputs": [],
   "source": [
    "# RUN CELL TO SEE HINT\n",
    "hint_tokenize_disch_summ "
   ]
  },
  {
   "cell_type": "code",
   "execution_count": null,
   "id": "ab33c6d5",
   "metadata": {},
   "outputs": [],
   "source": []
  },
  {
   "cell_type": "code",
   "execution_count": null,
   "id": "4bf9f0bc",
   "metadata": {},
   "outputs": [],
   "source": []
  },
  {
   "cell_type": "markdown",
   "id": "d32bdd37",
   "metadata": {},
   "source": [
    "### 2.\n",
    "Clinical notes are often structured with different *sections* which describe different parts of a patient's care. You can often recognize a new section by a title followed by a new line:\n",
    "\n",
    "```\n",
    "History of Present Illness:\n",
    "The pt is a 63M w...\n",
    "```\n",
    "\n",
    "Each of the texts below come from different sections of a clinical note. Write a function called `get_section_name` which takes a text and returns the name of the section. The expected values are written as comments. Test it on the three strings below. Note that the character `\"\\n\"` indicates a new line."
   ]
  },
  {
   "cell_type": "code",
   "execution_count": null,
   "id": "931805a1",
   "metadata": {},
   "outputs": [],
   "source": [
    "texts = [\n",
    "    \"Chief Complaint:\\n5 days worsening SOB, DOE\", # \"Chief Complaint\"\n",
    "    \"History of Present Illness:\\nPt is a 63M w/ h/o metastatic carcinoid tumor.\", # \"History of Present Illness\"\n",
    "    \"Social History:\\nLives alone with two daughters.\" # \"Social History\"\n",
    "]"
   ]
  },
  {
   "cell_type": "code",
   "execution_count": null,
   "id": "9329c906",
   "metadata": {},
   "outputs": [],
   "source": [
    "# Define a function called get_section_name"
   ]
  },
  {
   "cell_type": "code",
   "execution_count": null,
   "id": "98f819c9",
   "metadata": {},
   "outputs": [],
   "source": [
    "# RUN CELL TO TEST FUNCTION\n",
    "test_get_section_name.test(get_section_name)"
   ]
  },
  {
   "cell_type": "code",
   "execution_count": null,
   "id": "299bd26d",
   "metadata": {},
   "outputs": [],
   "source": []
  },
  {
   "cell_type": "markdown",
   "id": "94c24953",
   "metadata": {},
   "source": [
    "### 3.\n",
    "Write a function called `pneumonia_in_text` which checks if a string contains *\"pneumonia\"* or the abbreviation *\"pna\"* is in a string. Test it on the following strings:\n"
   ]
  },
  {
   "cell_type": "code",
   "execution_count": null,
   "id": "d52d3acd",
   "metadata": {},
   "outputs": [],
   "source": [
    "pna_strings = [\n",
    "    \"The patient has pneumonia.\",\n",
    "    \"INDICATION: EVALUATE FOR PNEUMONIA\",\n",
    "    \"Patient shows symptoms concerning for pna.\",\n",
    "    \"The chest image found no evidence of pna\",\n",
    "]"
   ]
  },
  {
   "cell_type": "code",
   "execution_count": null,
   "id": "ce9cc737",
   "metadata": {},
   "outputs": [],
   "source": [
    "def pneumonia_in_text(text):\n",
    "    ____"
   ]
  },
  {
   "cell_type": "code",
   "execution_count": null,
   "id": "23c121a5",
   "metadata": {},
   "outputs": [],
   "source": []
  },
  {
   "cell_type": "code",
   "execution_count": null,
   "id": "17f5eb64",
   "metadata": {},
   "outputs": [],
   "source": [
    "# RUN CELL TO TEST FUNCTION\n",
    "test_pneumonia_in_text.test(pneumonia_in_text)"
   ]
  },
  {
   "cell_type": "code",
   "execution_count": null,
   "id": "b73c86ee",
   "metadata": {},
   "outputs": [],
   "source": [
    "# RUN CELL TO SEE QUIZ\n",
    "quiz_mc_pneumonia_in_text"
   ]
  },
  {
   "cell_type": "code",
   "execution_count": null,
   "id": "94284f0b",
   "metadata": {},
   "outputs": [],
   "source": []
  },
  {
   "cell_type": "markdown",
   "id": "3d4e717d",
   "metadata": {},
   "source": [
    "### 4.\n",
    "Edit the code below so that the function which generates a string which gives the patient's name, age, and chief complaint based on the argument values."
   ]
  },
  {
   "cell_type": "code",
   "execution_count": null,
   "id": "1a0fc782",
   "metadata": {},
   "outputs": [],
   "source": [
    "# RUN CELL TO SEE QUIZ\n",
    "hint_generate_chief_complaint"
   ]
  },
  {
   "cell_type": "code",
   "execution_count": null,
   "id": "85e97797",
   "metadata": {},
   "outputs": [],
   "source": [
    "def generate_chief_complaint(name, age, chief_complaint):\n",
    "    text = \"Alec Chapman is a 29-year-old patient who presents today with a broken arm.\"\n",
    "    return text"
   ]
  },
  {
   "cell_type": "code",
   "execution_count": null,
   "id": "1c3b323f",
   "metadata": {},
   "outputs": [],
   "source": [
    "# Each line should print a different value\n",
    "print(generate_chief_complaint(\"Alec Chapman\", \"29\", \"a broken arm\"))\n",
    "print(generate_chief_complaint(\"John Doe\", \"41\", \"cough and fever.\"))\n",
    "print(generate_chief_complaint(\"Jane Doe\", \"61\", \"symptoms concerning for pneumonia.\"))"
   ]
  },
  {
   "cell_type": "code",
   "execution_count": null,
   "id": "931748a7",
   "metadata": {},
   "outputs": [],
   "source": []
  }
 ],
 "metadata": {
  "kernelspec": {
   "display_name": "Python 3 (ipykernel)",
   "language": "python",
   "name": "python3"
  },
  "language_info": {
   "codemirror_mode": {
    "name": "ipython",
    "version": 3
   },
   "file_extension": ".py",
   "mimetype": "text/x-python",
   "name": "python",
   "nbconvert_exporter": "python",
   "pygments_lexer": "ipython3",
   "version": "3.9.12"
  }
 },
 "nbformat": 4,
 "nbformat_minor": 5
}
