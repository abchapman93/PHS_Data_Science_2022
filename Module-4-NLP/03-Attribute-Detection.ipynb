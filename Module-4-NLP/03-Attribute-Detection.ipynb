{
 "cells": [
  {
   "cell_type": "markdown",
   "metadata": {},
   "source": [
    "<html>\n",
    "<table width=\"100%\" cellspacing=\"2\" cellpadding=\"2\" border=\"1\">\n",
    "<tbody>\n",
    "<tr>\n",
    "<td valign=\"center\" align=\"center\" width=\"45%\"><img src=\"../media/Univ-Utah.jpeg\"><br>\n",
    "</td>\n",
    "    <td valign=\"center\" align=\"center\" width=\"75%\">\n",
    "<h1 align=\"center\"><font size=\"+1\">University of Utah<br>Population Health Sciences<br>Data Science Workshop</font></h1></td>\n",
    "<td valign=\"center\" align=\"center\" width=\"45%\"><img\n",
    "src=\"../media/U_Health_stacked_png_red.png\" alt=\"Utah Health\n",
    "Logo\" width=\"128\" height=\"134\"><br>\n",
    "</td>\n",
    "</tr>\n",
    "</tbody>\n",
    "</table>\n",
    "<br>\n",
    "</html>"
   ]
  },
  {
   "cell_type": "code",
   "execution_count": null,
   "metadata": {},
   "outputs": [],
   "source": [
    "import medspacy\n",
    "from IPython.display import Image"
   ]
  },
  {
   "cell_type": "code",
   "execution_count": null,
   "metadata": {},
   "outputs": [],
   "source": [
    "from medspacy.visualization import visualize_dep, visualize_ent, MedspaCyVisualizerWidget"
   ]
  },
  {
   "cell_type": "code",
   "execution_count": null,
   "metadata": {},
   "outputs": [],
   "source": [
    "from helpers import *"
   ]
  },
  {
   "cell_type": "code",
   "execution_count": null,
   "metadata": {},
   "outputs": [],
   "source": [
    "import warnings\n",
    "warnings.filterwarnings(\"ignore\") "
   ]
  },
  {
   "cell_type": "markdown",
   "metadata": {},
   "source": [
    "# Attribute Detection\n",
    "In the last notebook, we used a statistical NLP model to extract clinical events such as problems, treatments, and tests. However, just because a report mentions a clinical concept doesn't mean that a patient actually has that concept.\n",
    "\n",
    "Another important task in clinical NLP is **attribute detection**, which involves looking for clues around a concept that indicate whether a concept is:\n",
    "- Negated\n",
    "- Historical\n",
    "- Uncertain\n",
    "- Experienced by someone other than the patient (such as family history)\n",
    "- Hypothetical (something that could occur in the future)\n",
    "\n",
    "There are two main ways for doing this: using **contextual analysis** or by identifying which **section** in a note it occurred in. We'll cover the former in this notebook and see some examples of section detection in the next notebook.\n",
    "\n",
    "## `ConText`\n",
    "### The ConText algorithm\n",
    "One method for performing this analysis is the **ConText** algorithm. This algorithm was originally proposed in this paper: [Context: An Algorithm for Determining Negation, Experiencer, and Temporal Status from Clinical Reports](https://www.ncbi.nlm.nih.gov/pmc/articles/PMC2757457/) by Harkema et al. ConText is an extension of the NegEx algorithm, which is very similar.\n",
    "\n",
    "There are several implementations of ConText and clinical NLP systems which use ConText, including:\n",
    "- [cTAKES](https://www.ncbi.nlm.nih.gov/pmc/articles/PMC2995668/)\n",
    "- [Leo](https://department-of-veterans-affairs.github.io/Leo/index.html)\n",
    "- [pyConText](https://github.com/chapmanbe/pyConTextNLP)\n",
    "\n",
    "### How ConText works\n",
    "\n",
    "ConText connects certain **modifiers**, such as **\"no evidence of\"** or no **\"is negative\"**, with the target concepts we are extracting. \n",
    "\n",
    "---\n",
    "There is **no evidence of** **_pneumonia_**\n",
    "\n",
    "---\n",
    "In this sentence, the **target** is **_pneumonia_**: this is the clinical concept we are trying to extract. The **modifier** is **no evidence of**: this shows that the concept is **negated**. \n",
    "\n",
    "ConText finds these targets and modifiers in text and builds **relationships** between them. Here is a visual representation of the graph ConText would create out of this sentence:\n",
    "\n",
    "<img src=\"./media/negated_pneumonia.png\" width=\"75%\"></img>"
   ]
  },
  {
   "cell_type": "markdown",
   "metadata": {},
   "source": [
    "Likewise, here is another example using family history:\n",
    "\n",
    "---\n",
    "There is **_diabetes_** **on her mother's side**\n",
    "\n",
    "---\n",
    "\n",
    "<img src=\"./media/family_history_diabetes.png\" width=\"75%\"></img>"
   ]
  },
  {
   "cell_type": "markdown",
   "metadata": {},
   "source": [
    "In both of these examples, finding the clinical problem in the text is not enough: you also need to recognize that the concept is negated or in the patient's family, rather than the patient themself."
   ]
  },
  {
   "cell_type": "code",
   "execution_count": null,
   "metadata": {},
   "outputs": [],
   "source": []
  },
  {
   "cell_type": "markdown",
   "metadata": {},
   "source": [
    "### ConText with medspaCy\n",
    "We will use context by adding it to our NLP pipeline, just like we did with the **EntityRuler**. The helper function below will load a medspaCy model with some pre-defined target rules to work with."
   ]
  },
  {
   "cell_type": "code",
   "execution_count": null,
   "metadata": {},
   "outputs": [],
   "source": [
    "nlp = build_nlp_context()\n",
    "nlp.pipe_names"
   ]
  },
  {
   "cell_type": "markdown",
   "metadata": {},
   "source": [
    "We can access the ConText component in the pipeline:"
   ]
  },
  {
   "cell_type": "code",
   "execution_count": null,
   "metadata": {
    "scrolled": true
   },
   "outputs": [],
   "source": [
    "context = nlp.get_pipe(\"medspacy_context\")"
   ]
  },
  {
   "cell_type": "code",
   "execution_count": null,
   "metadata": {},
   "outputs": [],
   "source": [
    "context"
   ]
  },
  {
   "cell_type": "code",
   "execution_count": null,
   "metadata": {},
   "outputs": [],
   "source": [
    "context.categories"
   ]
  },
  {
   "cell_type": "markdown",
   "metadata": {},
   "source": [
    "### A simple example\n",
    "Let's go back to the example we saw in our last notebook. Our NER model correctly identified **\"pneumonia\"** as a **problem**, but in this sentence it is explicitly negated:\n",
    "\n",
    "---\n",
    "There is **no evidence of** **_pneumonia_**\n",
    "\n",
    "---\n",
    "\n",
    "Using the ConText algorithm, we can now recognize that this concept is negated. Thanks to the modular nature of spaCy processing pipelines, we don't need to do anything different:"
   ]
  },
  {
   "cell_type": "code",
   "execution_count": null,
   "metadata": {},
   "outputs": [],
   "source": [
    "doc = nlp(\"There is no evidence of pneumonia.\")"
   ]
  },
  {
   "cell_type": "markdown",
   "metadata": {},
   "source": [
    "Let's visualize what the ConText algorithm is doing. MedspaCy offers two functions for visualizing the algorithm. The first function, `visualize_ent`, visualizes the clinical concepts and modifiers in an NER-style visualization, as we saw in the last notebook:"
   ]
  },
  {
   "cell_type": "code",
   "execution_count": null,
   "metadata": {},
   "outputs": [],
   "source": [
    "from medspacy.visualization import visualize_dep, visualize_ent"
   ]
  },
  {
   "cell_type": "code",
   "execution_count": null,
   "metadata": {},
   "outputs": [],
   "source": [
    "visualize_ent(doc)"
   ]
  },
  {
   "cell_type": "markdown",
   "metadata": {},
   "source": [
    "The second, `visualize_dep` one visualizes the relationships between targets and modifiers in a dependency-style visualization. Here, we can see that the modifier **\"no evidence of\"** is applied to the target **\"pneumonia\"**."
   ]
  },
  {
   "cell_type": "code",
   "execution_count": null,
   "metadata": {
    "scrolled": true
   },
   "outputs": [],
   "source": [
    "visualize_dep(doc)"
   ]
  },
  {
   "cell_type": "markdown",
   "metadata": {},
   "source": [
    "When an entity is negated by context, the negation is stored in the `ent._.is_negated` attribute. If `True`, then the concept is negated. By default, it will be `False`."
   ]
  },
  {
   "cell_type": "code",
   "execution_count": null,
   "metadata": {},
   "outputs": [],
   "source": [
    "for ent in doc.ents:\n",
    "    print(ent, ent._.is_negated)"
   ]
  },
  {
   "cell_type": "code",
   "execution_count": null,
   "metadata": {},
   "outputs": [],
   "source": []
  },
  {
   "cell_type": "markdown",
   "metadata": {},
   "source": [
    "#### TODO\n",
    "Each of the following sentences have an entity marked in **bold**. Which of them should have the attribute `ent._.is_negated == True`?\n",
    "1. **Pneumonia** was not seen on the x-ray.\n",
    "2. She was hospitalized for **pneumonia** in 2012.\n",
    "3. **Pneumonia** was ruled out.\n",
    "4. We will order a chest x-ray to rule out **pneumonia**.\n",
    "5. While **pneumonia** is unlikely, it is still a possible diagnosis.\n"
   ]
  },
  {
   "cell_type": "code",
   "execution_count": null,
   "metadata": {},
   "outputs": [],
   "source": [
    "# RUN CELL TO SEE QUIZ\n",
    "quiz_pneumonia_negated_select_multiple"
   ]
  },
  {
   "cell_type": "code",
   "execution_count": null,
   "metadata": {},
   "outputs": [],
   "source": []
  },
  {
   "cell_type": "markdown",
   "metadata": {},
   "source": [
    "## Other attributes\n",
    "By default, medspaCy will extract the following attributes, which are all False unless the entity is modified by a certain type of modifier:\n",
    "- `ent._.is_negated`\n",
    "- `ent._.is_historical`\n",
    "- `ent._.is_uncertain`\n",
    "- `ent._.is_family`\n",
    "- `ent._.is_hypothetical`\n",
    "\n",
    "Let's see some more examples:"
   ]
  },
  {
   "cell_type": "markdown",
   "metadata": {},
   "source": [
    "### Historical"
   ]
  },
  {
   "cell_type": "code",
   "execution_count": null,
   "metadata": {},
   "outputs": [],
   "source": [
    "doc = nlp(\"Past medical history significant for nephrectomy.\")"
   ]
  },
  {
   "cell_type": "code",
   "execution_count": null,
   "metadata": {},
   "outputs": [],
   "source": [
    "visualize_dep(doc)"
   ]
  },
  {
   "cell_type": "code",
   "execution_count": null,
   "metadata": {},
   "outputs": [],
   "source": [
    "for ent in doc.ents:\n",
    "    print(ent, \"Historical:\", ent._.is_historical)"
   ]
  },
  {
   "cell_type": "code",
   "execution_count": null,
   "metadata": {},
   "outputs": [],
   "source": []
  },
  {
   "cell_type": "markdown",
   "metadata": {},
   "source": [
    "### Uncertainty"
   ]
  },
  {
   "cell_type": "code",
   "execution_count": null,
   "metadata": {},
   "outputs": [],
   "source": [
    "doc = nlp(\"The scan likely shows a pneumothorax.\")"
   ]
  },
  {
   "cell_type": "code",
   "execution_count": null,
   "metadata": {},
   "outputs": [],
   "source": [
    "visualize_ent(doc)"
   ]
  },
  {
   "cell_type": "code",
   "execution_count": null,
   "metadata": {},
   "outputs": [],
   "source": [
    "visualize_dep(doc)"
   ]
  },
  {
   "cell_type": "code",
   "execution_count": null,
   "metadata": {},
   "outputs": [],
   "source": [
    "for ent in doc.ents:\n",
    "    print(ent, \"Uncertain:\", ent._.is_uncertain)"
   ]
  },
  {
   "cell_type": "code",
   "execution_count": null,
   "metadata": {},
   "outputs": [],
   "source": []
  },
  {
   "cell_type": "markdown",
   "metadata": {},
   "source": [
    "### Family history"
   ]
  },
  {
   "cell_type": "code",
   "execution_count": null,
   "metadata": {},
   "outputs": [],
   "source": [
    "doc = nlp(\"Her mother had breast cancer.\")"
   ]
  },
  {
   "cell_type": "code",
   "execution_count": null,
   "metadata": {},
   "outputs": [],
   "source": [
    "visualize_ent(doc)"
   ]
  },
  {
   "cell_type": "code",
   "execution_count": null,
   "metadata": {},
   "outputs": [],
   "source": [
    "visualize_dep(doc)"
   ]
  },
  {
   "cell_type": "code",
   "execution_count": null,
   "metadata": {},
   "outputs": [],
   "source": [
    "for ent in doc.ents:\n",
    "    print(ent, \"Family:\", ent._.is_family)"
   ]
  },
  {
   "cell_type": "code",
   "execution_count": null,
   "metadata": {},
   "outputs": [],
   "source": []
  },
  {
   "cell_type": "markdown",
   "metadata": {},
   "source": [
    "### Hypothetical"
   ]
  },
  {
   "cell_type": "code",
   "execution_count": null,
   "metadata": {},
   "outputs": [],
   "source": [
    "doc = nlp(\"She should stop taking warfarin if she develops a rash.\")"
   ]
  },
  {
   "cell_type": "code",
   "execution_count": null,
   "metadata": {},
   "outputs": [],
   "source": [
    "visualize_ent(doc)"
   ]
  },
  {
   "cell_type": "code",
   "execution_count": null,
   "metadata": {},
   "outputs": [],
   "source": [
    "visualize_dep(doc)"
   ]
  },
  {
   "cell_type": "code",
   "execution_count": null,
   "metadata": {},
   "outputs": [],
   "source": [
    "for ent in doc.ents:\n",
    "    print(ent, \"Hypothetical:\", ent._.is_hypothetical)"
   ]
  },
  {
   "cell_type": "markdown",
   "metadata": {},
   "source": [
    "#### TODO\n",
    "For each of the examples below, choose whether the entity in bold should be negated, historical, uncertain, family experiencer, or hypothetical. If multiple attributes are true, choose all. If none of those are true, leave it blank."
   ]
  },
  {
   "cell_type": "code",
   "execution_count": null,
   "metadata": {},
   "outputs": [],
   "source": [
    "# RUN CELL TO SEE QUIZ\n",
    "quiz_context_attributes1"
   ]
  },
  {
   "cell_type": "code",
   "execution_count": null,
   "metadata": {},
   "outputs": [],
   "source": [
    "# RUN CELL TO SEE QUIZ\n",
    "quiz_context_attributes2"
   ]
  },
  {
   "cell_type": "code",
   "execution_count": null,
   "metadata": {},
   "outputs": [],
   "source": [
    "# RUN CELL TO SEE QUIZ\n",
    "quiz_context_attributes3"
   ]
  },
  {
   "cell_type": "code",
   "execution_count": null,
   "metadata": {},
   "outputs": [],
   "source": [
    "# RUN CELL TO SEE QUIZ\n",
    "quiz_context_attributes4"
   ]
  },
  {
   "cell_type": "code",
   "execution_count": null,
   "metadata": {},
   "outputs": [],
   "source": [
    "# RUN CELL TO SEE QUIZ\n",
    "quiz_context_attributes5"
   ]
  },
  {
   "cell_type": "markdown",
   "metadata": {},
   "source": [
    "### Asserted entities\n",
    "Sometimes we are interested in an entity only if all of the attributes above are `False`. We can refer to these as `asserted` entities since they have been asserted to be current and to exist.\n",
    "\n",
    "One way to check if an entity is asserted in medspaCy is to use the `ent._.any_context_attributes` flag, or to look at the dictionary `ent._.context_attributes`."
   ]
  },
  {
   "cell_type": "code",
   "execution_count": null,
   "metadata": {},
   "outputs": [],
   "source": [
    "ent_neg = nlp(\"There is no evidence of pneumonia.\").ents[0]\n",
    "\n",
    "# This is True, so this entity is not asserted\n",
    "print(ent_neg._.any_context_attributes)\n",
    "print(ent_neg._.context_attributes)"
   ]
  },
  {
   "cell_type": "code",
   "execution_count": null,
   "metadata": {},
   "outputs": [],
   "source": [
    "ent_pos = nlp(\"Final diagnosis: pneumonia.\").ents[0]\n",
    "\n",
    "# This is False, so this entity is asserted\n",
    "print(ent_pos._.any_context_attributes)\n",
    "print(ent_pos._.context_attributes)"
   ]
  },
  {
   "cell_type": "markdown",
   "metadata": {},
   "source": [
    "#### TODO: Document classification\n",
    "After identifying attributes for individual entities we will often make some inference about the **document**. For example, based on the entities found in a note, is the patient *positive* or *negative* for pneumonia? This is called **document classification**.\n",
    "\n",
    "A simple schema for document classification is to say:\n",
    "- **\"POS\"** if at least one entity is asserted\n",
    "- **\"NEG\"** otherwise\n",
    "\n",
    "The texts below each have a mention of Covid-19. Write a function `classify_covid` which returns **\"POS\"** if any of the mentions of Covid-19 are asserted and **\"NEG\"** otherwise."
   ]
  },
  {
   "cell_type": "code",
   "execution_count": null,
   "metadata": {},
   "outputs": [],
   "source": [
    "texts = [\n",
    "    \"The patient has Covid-19.\", \n",
    "    \"Her husband recently came down with Covid. He is isolated and doing okay. She tested positive for SARS-COV-2 one week later.\", \n",
    "    \"If you test positive for SARS-COV-2, isolate according to CDC guidelines.\", \n",
    "    \"She recently had a positive PCR for Covid-19.\", \n",
    "    \"She had symptoms which were concerning for Covid-19 but her Covid test was negative.\" \n",
    "]"
   ]
  },
  {
   "cell_type": "code",
   "execution_count": null,
   "metadata": {},
   "outputs": [],
   "source": [
    "for text in texts:\n",
    "    visualize_ent(nlp(text))"
   ]
  },
  {
   "cell_type": "code",
   "execution_count": null,
   "metadata": {},
   "outputs": [],
   "source": [
    "def classify_covid(doc):\n",
    "    # ...\n",
    "    "
   ]
  },
  {
   "cell_type": "code",
   "execution_count": null,
   "metadata": {},
   "outputs": [],
   "source": []
  },
  {
   "cell_type": "code",
   "execution_count": null,
   "metadata": {},
   "outputs": [],
   "source": [
    "# RUN CELL TO TEST FUNCTION\n",
    "test_classify_covid.test(classify_covid)"
   ]
  },
  {
   "cell_type": "code",
   "execution_count": null,
   "metadata": {},
   "outputs": [],
   "source": []
  },
  {
   "cell_type": "markdown",
   "metadata": {},
   "source": [
    "### Creating your own modifiers\n",
    "We've been using the default knowledge base that comes with context. However, you may want to modify or context's behavior, including adding brand new concepts."
   ]
  },
  {
   "cell_type": "markdown",
   "metadata": {},
   "source": [
    "Let's replace our **context** component with a blank instance, then add our own rules."
   ]
  },
  {
   "cell_type": "code",
   "execution_count": null,
   "metadata": {},
   "outputs": [],
   "source": [
    "from medspacy.context import ConTextComponent, ConTextItem"
   ]
  },
  {
   "cell_type": "code",
   "execution_count": null,
   "metadata": {},
   "outputs": [],
   "source": [
    "nlp_blank_context = build_nlp_context(rules=False)"
   ]
  },
  {
   "cell_type": "code",
   "execution_count": null,
   "metadata": {},
   "outputs": [],
   "source": [
    "blank_context = nlp_blank_context.get_pipe(\"medspacy_context\")\n",
    "blank_context.rules # Empty list"
   ]
  },
  {
   "cell_type": "markdown",
   "metadata": {},
   "source": [
    "Let's go back to our first example. If we process this will our blank ConText, it won't be negated:"
   ]
  },
  {
   "cell_type": "code",
   "execution_count": null,
   "metadata": {},
   "outputs": [],
   "source": [
    "text = \"There is no evidence of pneumonia.\""
   ]
  },
  {
   "cell_type": "code",
   "execution_count": null,
   "metadata": {},
   "outputs": [],
   "source": [
    "doc = nlp_blank_context(text)\n",
    "visualize_ent(doc)\n",
    "print(\"is_negated:\", doc.ents[0]._.is_negated)"
   ]
  },
  {
   "cell_type": "code",
   "execution_count": null,
   "metadata": {},
   "outputs": [],
   "source": []
  },
  {
   "cell_type": "markdown",
   "metadata": {},
   "source": [
    "### `ConTextRule`\n",
    "The modifier rules in context are controlled by `ConTextRule`. A ConTextRule defines what span of text to match as a modifier, how that modifier behaves, and the semantic category of the modifier. It takes these main arguments:\n",
    "- **`literal`**: The exact text to match\n",
    "- **`category`**: The semantic category of the modifier, such as **\"NEGATED_EXISTENCE\"** or **\"HISTORICAL\"**\n",
    "- **`direction`**: Which **direction** the modifier should look in the sentence. Look back at the two images at the top of the notebook. In the first example, \"There is **no evidence** of **_pneumonia_**\", the modifier is **\"no evidence\"** and it comes before the target concept. In that case, we say it moves **\"forward\"** in the sentence (to the right). In the other example, \"There is **_diabetes_** **on her mother's side**\", the modifier comes after the target and we say it moves **backward** in the sentence. This argument in context can take the following values:\n",
    "    - **\"BIDIRECTIONAL\"** - This is the default and the modifier will apply to targets on both sides of the modifier\n",
    "    - **\"FORWARD\"** - The modifier will modify any targets *after* the modifier\n",
    "    - **\"BACKWARD\"** - The modifier will modify any targets *before* the modifier\n",
    "    - **TERMINATE\"** - Any modifiers will stop at this point, such as **\"but\"** in \"No evidence of pneumonia or pleural opacities **but** he has PE.\"\n",
    "- **`pattern`**: An optional spaCy pattern to match, like we saw in the pattern-matching notebooks\n",
    "\n",
    "Here are some examples of ConTextRules from the default pipeline we loaded earlier:"
   ]
  },
  {
   "cell_type": "code",
   "execution_count": null,
   "metadata": {},
   "outputs": [],
   "source": [
    "for rule in nlp.get_pipe(\"medspacy_context\").rules[:5]:\n",
    "    print(rule)\n",
    "    print()"
   ]
  },
  {
   "cell_type": "markdown",
   "metadata": {},
   "source": [
    "Let's import the `ConTextRule` from medspaCy and go through some examples."
   ]
  },
  {
   "cell_type": "code",
   "execution_count": null,
   "metadata": {},
   "outputs": [],
   "source": [
    "from medspacy.context import ConTextRule"
   ]
  },
  {
   "cell_type": "markdown",
   "metadata": {},
   "source": [
    "### Example 1: Negation\n",
    "Let's create a `ConTextRule` to negate **\"pneumonia\"** in our first example: \"There is **no evidence** of **_pneumonia_**\".\n",
    "\n",
    "#### TODO\n",
    "Create a `ConTextItem` with the following arguments:\n",
    "- **\"no evidence of\"**: This will match the phrase in the text\n",
    "- **\"NEGATED_EXISTENCE\"**: This is the semantic category\n",
    "- **\"FORWARD\"**: The target concept comes *after* the modifier in the sentence"
   ]
  },
  {
   "cell_type": "code",
   "execution_count": null,
   "metadata": {},
   "outputs": [],
   "source": [
    "rule = ConTextRule(____, category=____, ____=\"FORWARD\")"
   ]
  },
  {
   "cell_type": "markdown",
   "metadata": {},
   "source": [
    "We then add a list of ConTextItems to our context object:"
   ]
  },
  {
   "cell_type": "code",
   "execution_count": null,
   "metadata": {},
   "outputs": [],
   "source": [
    "blank_context.add([rule])"
   ]
  },
  {
   "cell_type": "code",
   "execution_count": null,
   "metadata": {},
   "outputs": [],
   "source": [
    "blank_context.rules"
   ]
  },
  {
   "cell_type": "markdown",
   "metadata": {},
   "source": [
    "Now when we call `nlp` on our text, we can see that **\"pneumonia\"** is negated by the modifier."
   ]
  },
  {
   "cell_type": "code",
   "execution_count": null,
   "metadata": {},
   "outputs": [],
   "source": [
    "doc = nlp_blank_context(\"There is no evidence of pneumonia.\")"
   ]
  },
  {
   "cell_type": "code",
   "execution_count": null,
   "metadata": {},
   "outputs": [],
   "source": [
    "doc = nlp_blank_context(text)\n",
    "visualize_ent(doc)\n",
    "print(\"is_negated:\", doc.ents[0]._.is_negated)"
   ]
  },
  {
   "cell_type": "code",
   "execution_count": null,
   "metadata": {},
   "outputs": [],
   "source": [
    "visualize_dep(doc)"
   ]
  },
  {
   "cell_type": "code",
   "execution_count": null,
   "metadata": {},
   "outputs": [],
   "source": []
  },
  {
   "cell_type": "markdown",
   "metadata": {},
   "source": [
    "## Example 2: Family History\n",
    "\n",
    "Now let's identify the **family** modifier in \"There is diabetes on her mother's side.\"\n",
    "\n",
    "### TODO\n",
    "Create a ConTextRule which will match **\"mother's side\"** and modify **\"diabetes\"**. It should have the category **\"FAMILY\"** and the rule should be **\"BACKWARD\"**."
   ]
  },
  {
   "cell_type": "code",
   "execution_count": null,
   "metadata": {},
   "outputs": [],
   "source": [
    "doc = nlp_blank_context(\"There is diabetes on her mother's side.\")\n",
    "doc.ents"
   ]
  },
  {
   "cell_type": "code",
   "execution_count": null,
   "metadata": {},
   "outputs": [],
   "source": [
    "rule = ConTextRule(____, category=____, ____=____)"
   ]
  },
  {
   "cell_type": "code",
   "execution_count": null,
   "metadata": {},
   "outputs": [],
   "source": [
    "blank_context.add([rule])"
   ]
  },
  {
   "cell_type": "code",
   "execution_count": null,
   "metadata": {},
   "outputs": [],
   "source": [
    "doc = nlp_blank_context(\"There is diabetes on her mother's side.\")\n",
    "visualize_ent(doc)"
   ]
  },
  {
   "cell_type": "code",
   "execution_count": null,
   "metadata": {},
   "outputs": [],
   "source": [
    "visualize_dep(doc)"
   ]
  },
  {
   "cell_type": "markdown",
   "metadata": {},
   "source": [
    "## Example 3: Uncertainty\n",
    "In the phrase below, the physician is considering both **\"pneumonia\"** and **\"bronchitis\"** as a diagnosis. In this case, the modifier should go in both directions, not just **\"forward\"** or **\"backward\"**.\n",
    "\n",
    "### TODO\n",
    "Create a ConTextRule which matches both targets. The category should be **\"POSSIBLE_EXISTENCE\"** and the rule should be **\"BIDIRECTIONAL\"**."
   ]
  },
  {
   "cell_type": "code",
   "execution_count": null,
   "metadata": {},
   "outputs": [],
   "source": [
    "doc = nlp_blank_context(\"Pneumonia vs bronchitis\")\n",
    "doc.ents"
   ]
  },
  {
   "cell_type": "code",
   "execution_count": null,
   "metadata": {},
   "outputs": [],
   "source": [
    "rule = ____"
   ]
  },
  {
   "cell_type": "code",
   "execution_count": null,
   "metadata": {},
   "outputs": [],
   "source": [
    "blank_context.add([rule])"
   ]
  },
  {
   "cell_type": "code",
   "execution_count": null,
   "metadata": {},
   "outputs": [],
   "source": [
    "doc = nlp_blank_context(\"Pneumonia vs bronchitis\")\n",
    "visualize_ent(doc)"
   ]
  },
  {
   "cell_type": "code",
   "execution_count": null,
   "metadata": {},
   "outputs": [],
   "source": [
    "visualize_dep(doc)"
   ]
  },
  {
   "cell_type": "code",
   "execution_count": null,
   "metadata": {},
   "outputs": [],
   "source": []
  },
  {
   "cell_type": "markdown",
   "metadata": {},
   "source": [
    "# Additional examples\n",
    "Below are a number of additional texts. Go through each of them and process with the NLP. Identify which modifiers should be matched in the sentence and create ConTextItems to connect the modifiers with the targets.\n",
    "\n",
    "The **category** arguments in the ConTextRules can be:\n",
    "- \"NEGATED_EXISTENCE\"\n",
    "- \"POSSIBLE_EXISTENCE\"\n",
    "- \"HISTORICAL\"\n",
    "- \"HYPOTHETICAL\"\n",
    "- \"FAMILY\"\n",
    "\n",
    "And the **rule** arguments can be:\n",
    "- \"BIDIRECTIONAL\"\n",
    "- \"FORWARD\"\n",
    "- \"BACKWARD\"\n",
    "- \"TERMINATE\"\n",
    "\n",
    "You may also need to add additional target rules to identify all of the entities."
   ]
  },
  {
   "cell_type": "code",
   "execution_count": null,
   "metadata": {},
   "outputs": [],
   "source": [
    "# RUN CELL TO SEE HINT\n",
    "hint_custom_context"
   ]
  },
  {
   "cell_type": "code",
   "execution_count": null,
   "metadata": {},
   "outputs": [],
   "source": [
    "from medspacy.target_matcher import TargetRule\n",
    "target_rules = [\n",
    "\n",
    "]\n",
    "nlp_blank_context.get_pipe(\"medspacy_target_matcher\").add(target_rules)"
   ]
  },
  {
   "cell_type": "code",
   "execution_count": null,
   "metadata": {},
   "outputs": [],
   "source": [
    "context_rules = [\n",
    "    \n",
    "]"
   ]
  },
  {
   "cell_type": "code",
   "execution_count": null,
   "metadata": {},
   "outputs": [],
   "source": [
    "blank_context.add(context_rules)"
   ]
  },
  {
   "cell_type": "code",
   "execution_count": null,
   "metadata": {},
   "outputs": [],
   "source": [
    "texts = [\n",
    "    \"His wife recently died from end stage renal disease.\",\n",
    "    \"Whether this is pneumonia is unknown.\",\n",
    "    \"Pneumonia vs. bronchitis\",\n",
    "    \"Past medical history significant for afib, CHF, and CKD.\",\n",
    "    \"Pt's grandfather had prostate cancer.\",\n",
    "    \"Stop taking medications if any side effects occur.\",\n",
    "    \"The respiratory panel returned negative for influenza.\",\n",
    "    \n",
    "]"
   ]
  },
  {
   "cell_type": "code",
   "execution_count": null,
   "metadata": {},
   "outputs": [],
   "source": [
    "docs = list(nlp_blank_context.pipe(texts))"
   ]
  },
  {
   "cell_type": "code",
   "execution_count": null,
   "metadata": {},
   "outputs": [],
   "source": [
    "w = MedspaCyVisualizerWidget(docs)"
   ]
  },
  {
   "cell_type": "code",
   "execution_count": null,
   "metadata": {},
   "outputs": [],
   "source": [
    "for doc in docs:\n",
    "    visualize_ent(doc)"
   ]
  },
  {
   "cell_type": "code",
   "execution_count": null,
   "metadata": {},
   "outputs": [],
   "source": []
  }
 ],
 "metadata": {
  "kernelspec": {
   "display_name": "Python 3 (ipykernel)",
   "language": "python",
   "name": "python3"
  },
  "language_info": {
   "codemirror_mode": {
    "name": "ipython",
    "version": 3
   },
   "file_extension": ".py",
   "mimetype": "text/x-python",
   "name": "python",
   "nbconvert_exporter": "python",
   "pygments_lexer": "ipython3",
   "version": "3.9.12"
  }
 },
 "nbformat": 4,
 "nbformat_minor": 4
}
