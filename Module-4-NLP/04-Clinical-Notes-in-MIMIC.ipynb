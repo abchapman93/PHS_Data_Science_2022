{
 "cells": [
  {
   "cell_type": "markdown",
   "metadata": {},
   "source": [
    "<html>\n",
    "<table width=\"100%\" cellspacing=\"2\" cellpadding=\"2\" border=\"1\">\n",
    "<tbody>\n",
    "<tr>\n",
    "<td valign=\"center\" align=\"center\" width=\"45%\"><img src=\"../media/Univ-Utah.jpeg\"><br>\n",
    "</td>\n",
    "    <td valign=\"center\" align=\"center\" width=\"75%\">\n",
    "<h1 align=\"center\"><font size=\"+1\">University of Utah<br>Population Health Sciences<br>Data Science Workshop</font></h1></td>\n",
    "<td valign=\"center\" align=\"center\" width=\"45%\"><img\n",
    "src=\"../media/U_Health_stacked_png_red.png\" alt=\"Utah Health\n",
    "Logo\" width=\"128\" height=\"134\"><br>\n",
    "</td>\n",
    "</tr>\n",
    "</tbody>\n",
    "</table>\n",
    "<br>\n",
    "</html>"
   ]
  },
  {
   "cell_type": "code",
   "execution_count": null,
   "metadata": {},
   "outputs": [],
   "source": [
    "import medspacy\n",
    "from IPython.display import Image"
   ]
  },
  {
   "cell_type": "code",
   "execution_count": null,
   "metadata": {},
   "outputs": [],
   "source": [
    "from medspacy.visualization import visualize_dep, visualize_ent, MedspaCyVisualizerWidget"
   ]
  },
  {
   "cell_type": "code",
   "execution_count": null,
   "metadata": {},
   "outputs": [],
   "source": [
    "from helpers import *\n",
    "import pandas as pd"
   ]
  },
  {
   "cell_type": "code",
   "execution_count": null,
   "metadata": {},
   "outputs": [],
   "source": [
    "import warnings\n",
    "warnings.filterwarnings(\"ignore\") "
   ]
  },
  {
   "cell_type": "code",
   "execution_count": null,
   "metadata": {},
   "outputs": [],
   "source": [
    "conn = connect_to_mimic()"
   ]
  },
  {
   "cell_type": "markdown",
   "metadata": {},
   "source": [
    "# Clinical notes in MIMIC\n",
    "\n",
    "The reason that we can use MIMIC-II for education and research is that the data is **deidentified**, meaning any references to patient identifiers (like names, dates, SSNs) have been removed. Deidentification is especially important for clinical notes which refer to patients by name and discuss details of their lives and care. MIMIC-II contains a set of clinical notes which have been deidentified. In this notebook, we'll query some of these notes and get a sense of what real clinical text looks like.\n",
    "\n",
    "## `noteevents`\n",
    "\n",
    "In MIMIC, clinical notes are stored in the `noteevents` table. Let's select the first 10 rows.\n",
    "\n",
    "### TODO\n",
    "Query the first 10 rows of `noteevents` and save to `df`."
   ]
  },
  {
   "cell_type": "code",
   "execution_count": null,
   "metadata": {},
   "outputs": [],
   "source": [
    "# ...\n",
    "df = # ..."
   ]
  },
  {
   "cell_type": "code",
   "execution_count": null,
   "metadata": {},
   "outputs": [],
   "source": [
    "df.head()"
   ]
  },
  {
   "cell_type": "markdown",
   "metadata": {},
   "source": [
    "In addition to the identifier columns like `subject_id` and `hadm_id` that we've been working with throughout this workshop, two important new columns are:\n",
    "- `category`: The type of note \n",
    "- `text`: The raw text of the note\n",
    "\n",
    "Let's explore what types of notes are stored in MIMIC.\n",
    "\n",
    "#### TODO\n",
    "Write and execute a SQL query to answer the quiz below."
   ]
  },
  {
   "cell_type": "code",
   "execution_count": null,
   "metadata": {},
   "outputs": [],
   "source": [
    "# RUN CELL TO SEE QUIZ\n",
    "quiz_note_categories"
   ]
  },
  {
   "cell_type": "code",
   "execution_count": null,
   "metadata": {},
   "outputs": [],
   "source": [
    "# ..."
   ]
  },
  {
   "cell_type": "code",
   "execution_count": null,
   "metadata": {},
   "outputs": [],
   "source": []
  },
  {
   "cell_type": "markdown",
   "metadata": {},
   "source": [
    "In this notebook, we'll focus on two note types: **discharge summaries** and **radiology reports**."
   ]
  },
  {
   "cell_type": "markdown",
   "metadata": {},
   "source": [
    "## Discharge summaries\n",
    "A discharge summary is written at the end of a hospitalization and provides a detailed summary of the most important events of the hospitalization. Among other things, a discharge summary will typically contain:\n",
    "- A brief histroy of the patient and what brought them to the hospital\n",
    "- Results of labs, imaging, and other procedures\n",
    "- A description of the course of care since being admitted\n",
    "- Plans for future care and patient instructions\n",
    "\n",
    "Let's take a look at the discharge summary for a particular hospitalization.\n",
    "\n",
    "#### TODO\n",
    "Edit the query below to pull the discharge summary for hospital admission with id `28766`."
   ]
  },
  {
   "cell_type": "code",
   "execution_count": null,
   "metadata": {},
   "outputs": [],
   "source": [
    "query = \"\"\"\n",
    "SELECT text\n",
    "FROM noteevents\n",
    "WHERE ____ = 28766\n",
    "    AND ____ = '____'\n",
    "LIMIT 1\n",
    "\"\"\"\n",
    "disch_summ = pd.read_sql(query, conn)[\"text\"].iloc[0]"
   ]
  },
  {
   "cell_type": "code",
   "execution_count": null,
   "metadata": {},
   "outputs": [],
   "source": [
    "print(disch_summ)"
   ]
  },
  {
   "cell_type": "markdown",
   "metadata": {},
   "source": [
    "Read the note above. Does it look similar to the discharge summary we looked at earlier today? How is the note structured?\n",
    "\n",
    "To help understand the contents of a discharge summary, we should better understand its structure.\n",
    "\n",
    "### Clinical note sections\n",
    "Clinical notes are typically broken up into different sections, with each section containing information about a different patient's course of care. Referring back to our list of what is typically in a discharge summary, here's how that information might be structured in the note:\n",
    "\n",
    "1. History of Present Illness/Past Medical History/Family History\n",
    "2. Pertinent Results/Procedures/Imaging\n",
    "3. Hospital Course\n",
    "4. Final Diagnosis/Discharge Medications/Discharge Instructions\n",
    "\n",
    "Let's see how medspaCy handles sections and use that to help us read the note.\n",
    "\n",
    "### `Sectionizer`\n",
    "The `Sectionizer` component identifies section headers in the text and uses that to split up a note. The sectionizer isn't loaded by default, but we can add it to our pipeline using the `nlp.add_pipe` method.\n",
    "\n",
    "Let's load the NLP pipeline we used in the previous notebook and add a sectionizer."
   ]
  },
  {
   "cell_type": "code",
   "execution_count": null,
   "metadata": {},
   "outputs": [],
   "source": [
    "nlp = build_nlp_context()\n",
    "print(nlp.pipe_names)"
   ]
  },
  {
   "cell_type": "code",
   "execution_count": null,
   "metadata": {},
   "outputs": [],
   "source": [
    "sectionizer = nlp.add_pipe(\"medspacy_sectionizer\")"
   ]
  },
  {
   "cell_type": "markdown",
   "metadata": {},
   "source": [
    "Now when we process a doc we can see the section headers highlighted in gray:"
   ]
  },
  {
   "cell_type": "code",
   "execution_count": null,
   "metadata": {},
   "outputs": [],
   "source": [
    "doc = nlp(disch_summ)"
   ]
  },
  {
   "cell_type": "code",
   "execution_count": null,
   "metadata": {},
   "outputs": [],
   "source": [
    "visualize_ent(doc)"
   ]
  },
  {
   "cell_type": "code",
   "execution_count": null,
   "metadata": {},
   "outputs": [],
   "source": [
    "# RUN CELL TO SEE QUIZ\n",
    "quiz_pna_in_disch_summ"
   ]
  },
  {
   "cell_type": "markdown",
   "metadata": {},
   "source": [
    "We can iterate through the sections with `doc._.sections`. For each section, `title_span` is the section header (typically the named of the section followed by \":\") and `section_category` is the normalized category of the section."
   ]
  },
  {
   "cell_type": "code",
   "execution_count": null,
   "metadata": {},
   "outputs": [],
   "source": [
    "for section in doc._.sections:\n",
    "    print(section.title_span, section.category)\n",
    "    print()"
   ]
  },
  {
   "cell_type": "markdown",
   "metadata": {},
   "source": [
    "`section_span` is the entire section of the doc within that section:"
   ]
  },
  {
   "cell_type": "code",
   "execution_count": null,
   "metadata": {},
   "outputs": [],
   "source": [
    "print(doc._.sections[5].section_span)"
   ]
  },
  {
   "cell_type": "markdown",
   "metadata": {},
   "source": [
    "We can also see this information for the section where an entity occurred with `ent._.section_category`, `ent._.section_title`, and `ent._.section_body`:"
   ]
  },
  {
   "cell_type": "code",
   "execution_count": null,
   "metadata": {},
   "outputs": [],
   "source": [
    "ent = doc.ents[0]\n",
    "print(ent)"
   ]
  },
  {
   "cell_type": "code",
   "execution_count": null,
   "metadata": {},
   "outputs": [],
   "source": [
    "ent._.section_category"
   ]
  },
  {
   "cell_type": "code",
   "execution_count": null,
   "metadata": {},
   "outputs": [],
   "source": [
    "ent._.section_body"
   ]
  },
  {
   "cell_type": "code",
   "execution_count": null,
   "metadata": {},
   "outputs": [],
   "source": []
  },
  {
   "cell_type": "markdown",
   "metadata": {},
   "source": [
    "### Section attributes\n",
    "Certain sections are associated with attributes like being historical (e.g., **\"Past Medical History\"**) or experienced by a family member (e.g., **\"Family History\"**). When medspaCy finds an entity in these sections, it sets the appropriate attributes like `is_historical` or `is_family` to `True`:"
   ]
  },
  {
   "cell_type": "code",
   "execution_count": null,
   "metadata": {},
   "outputs": [],
   "source": [
    "doc_pmh = nlp(\"Past Medical History: pneumonia\")\n",
    "ent_pmh = doc_pmh.ents[0]\n",
    "visualize_ent(doc_pmh)"
   ]
  },
  {
   "cell_type": "code",
   "execution_count": null,
   "metadata": {},
   "outputs": [],
   "source": [
    "print(ent_pmh)\n",
    "print(\"is_historical:\", ent_pmh._.is_historical)"
   ]
  },
  {
   "cell_type": "code",
   "execution_count": null,
   "metadata": {},
   "outputs": [],
   "source": [
    "doc_fh = nlp(\"Family History: breast cancer\")\n",
    "ent_fh = doc_fh.ents[0]\n",
    "visualize_ent(doc_pmh)"
   ]
  },
  {
   "cell_type": "code",
   "execution_count": null,
   "metadata": {},
   "outputs": [],
   "source": [
    "print(ent_fh)\n",
    "print(\"is_family:\", ent_fh._.is_family)"
   ]
  },
  {
   "cell_type": "markdown",
   "metadata": {},
   "source": [
    "### Adding sections\n",
    "The structure of notes differs widely across different institutions and across different clinical settings. For example, a discharge summary in the VA might be structured differently than on in the University of Utah, and any discharge summary will look very different from a chest imaging report. So it's important to customize section detection for a specific setting.\n",
    "\n",
    "We can control section detection in medspaCy using the `SectionRule` class. This behaves just like `ContextRule` and `TargetRule` and we add it to the `medspacy_sectionzer` component: "
   ]
  },
  {
   "cell_type": "code",
   "execution_count": null,
   "metadata": {},
   "outputs": [],
   "source": [
    "from medspacy.section_detection import SectionRule"
   ]
  },
  {
   "cell_type": "code",
   "execution_count": null,
   "metadata": {},
   "outputs": [],
   "source": [
    "# Section isn't recognized\n",
    "text_procedures = \"Important procedures: rij central line placement\"\n",
    "doc = nlp(text_procedures)\n",
    "visualize_ent(doc)\n",
    "print(doc._.section_categories)"
   ]
  },
  {
   "cell_type": "code",
   "execution_count": null,
   "metadata": {},
   "outputs": [],
   "source": [
    "# Add a rule to recognize this section\n",
    "rule = SectionRule(\"Important procedures:\", \"procedures\")\n",
    "nlp.get_pipe(\"medspacy_sectionizer\").add(rule)\n",
    "doc = nlp(text_procedures)\n",
    "visualize_ent(doc)\n",
    "print(doc._.section_categories)"
   ]
  },
  {
   "cell_type": "code",
   "execution_count": null,
   "metadata": {},
   "outputs": [],
   "source": []
  },
  {
   "cell_type": "markdown",
   "metadata": {},
   "source": [
    "#### TODO\n",
    "Update the sections below to match the **Social History** sections in the texts below and assign it the category of `social_history`. You could do this with one rule if you want to use some more advanced techniques, or do it with multiple rules."
   ]
  },
  {
   "cell_type": "code",
   "execution_count": null,
   "metadata": {},
   "outputs": [],
   "source": [
    "social_hx_texts = [\n",
    "    \"Social Hx: homeless\",\n",
    "    \"Social Factors: lives with two daughters.\"\n",
    "]"
   ]
  },
  {
   "cell_type": "code",
   "execution_count": null,
   "metadata": {},
   "outputs": [],
   "source": [
    "rules = [\n",
    "    \n",
    "]"
   ]
  },
  {
   "cell_type": "code",
   "execution_count": null,
   "metadata": {},
   "outputs": [],
   "source": [
    "nlp.get_pipe(\"medspacy_sectionizer\").add(rules)"
   ]
  },
  {
   "cell_type": "code",
   "execution_count": null,
   "metadata": {},
   "outputs": [],
   "source": [
    "for text in social_hx_texts:\n",
    "    visualize_ent(nlp(text))"
   ]
  },
  {
   "cell_type": "code",
   "execution_count": null,
   "metadata": {},
   "outputs": [],
   "source": []
  },
  {
   "cell_type": "markdown",
   "metadata": {},
   "source": [
    "## Radiology Reports\n",
    "The other type of note we'll look at in this class is **radiology reports**. These are narratives describing a radiologist's interpretation of an imaging procedure like a [chest x-ray (CXR)](https://www.hopkinsmedicine.org/health/treatment-tests-and-therapies/chest-xray#:~:text=What%20is%20a%20chest%20X,cause%20changes%20in%20your%20lungs.), [MRI](https://en.wikipedia.org/wiki/Magnetic_resonance_imaging) or [CT scan](https://en.wikipedia.org/wiki/CT_scan).\n",
    "\n",
    "#### TODO\n",
    "Edit the query below to query **all** radiology reports for hospital admission 28766."
   ]
  },
  {
   "cell_type": "code",
   "execution_count": null,
   "metadata": {},
   "outputs": [],
   "source": [
    "query = \"\"\"\n",
    "SELECT text\n",
    "FROM noteevents\n",
    "WHERE hadm_id = 28766\n",
    "    AND category = '____'\n",
    "\"\"\"\n",
    "rad_reports = pd.read_sql(query, conn)[\"text\"]"
   ]
  },
  {
   "cell_type": "code",
   "execution_count": null,
   "metadata": {},
   "outputs": [],
   "source": [
    "rad_reports"
   ]
  },
  {
   "cell_type": "code",
   "execution_count": null,
   "metadata": {},
   "outputs": [],
   "source": [
    "# RUN CELL TO SEE QUIZ\n",
    "quiz_n_rad_reports"
   ]
  },
  {
   "cell_type": "markdown",
   "metadata": {},
   "source": [
    "Let's process all of the radiology reports from this hospitalization and review them. To process multiple docs with a medspaCy model, we can run:\n",
    "\n",
    "```\n",
    "docs = list(nlp.pipe(texts))\n",
    "```\n",
    "\n",
    "and a nice way to visualize multiple docs is the `MedspacyVisualizerWidget` class."
   ]
  },
  {
   "cell_type": "code",
   "execution_count": null,
   "metadata": {},
   "outputs": [],
   "source": [
    "docs = list(nlp.pipe(rad_reports))"
   ]
  },
  {
   "cell_type": "code",
   "execution_count": null,
   "metadata": {
    "scrolled": true
   },
   "outputs": [],
   "source": [
    "w = MedspaCyVisualizerWidget(docs)\n",
    "w"
   ]
  },
  {
   "cell_type": "markdown",
   "metadata": {},
   "source": [
    "Here is a summary of some of the sections in a radiology report:\n",
    "- **Indication** / **Reason for Exam**: What the patient is hospitalized for and why they're undergoing the procedure\n",
    "- **Technique**: Technical details about the procedure\n",
    "- **Findings**: An objective study of what the images show\n",
    "- **Interpretation** / **Impression**: The radiologist's interpretation of what this means for the patient's diagnosis"
   ]
  },
  {
   "cell_type": "code",
   "execution_count": null,
   "metadata": {},
   "outputs": [],
   "source": [
    "# RUN CELL TO SEE QUIZ\n",
    "quiz_rad_interpretation"
   ]
  },
  {
   "cell_type": "code",
   "execution_count": null,
   "metadata": {},
   "outputs": [],
   "source": []
  }
 ],
 "metadata": {
  "kernelspec": {
   "display_name": "Python 3 (ipykernel)",
   "language": "python",
   "name": "python3"
  },
  "language_info": {
   "codemirror_mode": {
    "name": "ipython",
    "version": 3
   },
   "file_extension": ".py",
   "mimetype": "text/x-python",
   "name": "python",
   "nbconvert_exporter": "python",
   "pygments_lexer": "ipython3",
   "version": "3.9.12"
  }
 },
 "nbformat": 4,
 "nbformat_minor": 4
}
