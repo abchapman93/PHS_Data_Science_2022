{
 "cells": [
  {
   "cell_type": "markdown",
   "id": "1de3876d",
   "metadata": {},
   "source": [
    "<html>\n",
    "<table width=\"100%\" cellspacing=\"2\" cellpadding=\"2\" border=\"1\">\n",
    "<tbody>\n",
    "<tr>\n",
    "<td valign=\"center\" align=\"center\" width=\"45%\"><img src=\"../media/Univ-Utah.jpeg\"><br>\n",
    "</td>\n",
    "    <td valign=\"center\" align=\"center\" width=\"75%\">\n",
    "<h1 align=\"center\"><font size=\"+1\">University of Utah<br>Population Health Sciences<br>Data Science Workshop</font></h1></td>\n",
    "<td valign=\"center\" align=\"center\" width=\"45%\"><img\n",
    "src=\"../media/U_Health_stacked_png_red.png\" alt=\"Utah Health\n",
    "Logo\" width=\"128\" height=\"134\"><br>\n",
    "</td>\n",
    "</tr>\n",
    "</tbody>\n",
    "</table>\n",
    "<br>\n",
    "</html>\n"
   ]
  },
  {
   "cell_type": "code",
   "execution_count": null,
   "id": "968360c6",
   "metadata": {},
   "outputs": [],
   "source": [
    "from helpers import *"
   ]
  },
  {
   "cell_type": "markdown",
   "id": "39366055",
   "metadata": {},
   "source": [
    "# Module 1 Exercises Part 1\n",
    "We have covered a lot of material so far! Before moving on to the remainder of the module, we'll do some exercises which will review and apply the skills we've learned so far. These exercises will cover the following topics:\n",
    "\n",
    "1. Variables and data types\n",
    "2. Writing and using functions\n",
    "3. Control statements\n",
    "4. For-loops\n",
    "5. Data structures\n"
   ]
  },
  {
   "cell_type": "markdown",
   "id": "a2c25980",
   "metadata": {},
   "source": [
    "## Exercise 1: Emergency room roster\n",
    "Let's again go back to our roster of emergency room patients. Here is the recorded information for each patient:\n",
    "\n",
    "| name | arrival_time | age | severity |\n",
    "|------|--------------|-----|----------|\n",
    "|   Jim   |      6:00        |  40   |     40     |\n",
    "|   Mary   |       6:30       | 31   |     10     |\n",
    "|   Rachel   |        7:00      |   27  |    20      |\n",
    "|    Laura  |        7:30      |   38  |     15     |\n",
    "|   Chloe   |         8:00     |   25  |     50     |"
   ]
  },
  {
   "cell_type": "markdown",
   "id": "ddd23d0d",
   "metadata": {},
   "source": [
    "### Exercise 1.1\n",
    "Below is variable called `pt_roster` which will allow us to look up arrival time, age, and severity by name. Answer the three multichoice questions about this variable."
   ]
  },
  {
   "cell_type": "code",
   "execution_count": null,
   "id": "b8df5d7d",
   "metadata": {},
   "outputs": [],
   "source": [
    "pt_roster = {\n",
    "    \"Jim\": {\n",
    "        \"arrival_time\": \"6:00\",\n",
    "        \"age\": 40,\n",
    "        \"severity\": 40,\n",
    "    },\n",
    "    \"Mary\": {\n",
    "        \"arrival_time\": \"6:30\",\n",
    "        \"age\": 31,\n",
    "        \"severity\": 10,\n",
    "    },\n",
    "    \"Rachel\": {\n",
    "        \"arrival_time\": \"7:00\",\n",
    "        \"age\": 27,\n",
    "        \"severity\": 20,\n",
    "    },\n",
    "    \"Laura\": {\n",
    "        \"arrival_time\": \"7:30\",\n",
    "        \"age\": 38,\n",
    "        \"severity\": 15,\n",
    "    },\n",
    "    \"Chloe\": {\n",
    "        \"arrival_time\": \"8:00\",\n",
    "        \"age\": 25,\n",
    "        \"severity\": 50,\n",
    "    }\n",
    "}"
   ]
  },
  {
   "cell_type": "code",
   "execution_count": null,
   "id": "793b4e4e",
   "metadata": {},
   "outputs": [],
   "source": [
    "# RUN CELL TO SEE QUIZ\n",
    "quiz_data_type_test_pt_roster"
   ]
  },
  {
   "cell_type": "code",
   "execution_count": null,
   "id": "e56f3474",
   "metadata": {},
   "outputs": [],
   "source": [
    "# RUN CELL TO SEE QUIZ\n",
    "quiz_data_type_pt_roster_rachel"
   ]
  },
  {
   "cell_type": "code",
   "execution_count": null,
   "id": "0ea914bc",
   "metadata": {},
   "outputs": [],
   "source": [
    "# RUN CELL TO SEE QUIZ\n",
    "quiz_data_type_severity"
   ]
  },
  {
   "cell_type": "code",
   "execution_count": null,
   "id": "1741440f",
   "metadata": {},
   "outputs": [],
   "source": []
  },
  {
   "cell_type": "markdown",
   "id": "a2922f0b",
   "metadata": {},
   "source": [
    "### Exercise 1.2\n",
    "What code would give you Rachel's age and Laura's arrival time?"
   ]
  },
  {
   "cell_type": "code",
   "execution_count": null,
   "id": "4c48780d",
   "metadata": {},
   "outputs": [],
   "source": [
    "# RUN CELL TO SEE QUIZ\n",
    "test_rachel_age"
   ]
  },
  {
   "cell_type": "code",
   "execution_count": null,
   "id": "e3b61eef",
   "metadata": {},
   "outputs": [],
   "source": [
    "# RUN CELL TO SEE QUIZ\n",
    "test_laura_time"
   ]
  },
  {
   "cell_type": "markdown",
   "id": "56a56d7c",
   "metadata": {},
   "source": [
    "### Exercise 1.3\n",
    "Write code to find the names of the patients with the lowest and highest severity scores. There are a few different ways of doing this, so there's no quiz here to check your answer, but there are some hints below."
   ]
  },
  {
   "cell_type": "code",
   "execution_count": null,
   "id": "f1e562b8",
   "metadata": {},
   "outputs": [],
   "source": [
    "# RUN CELL TO SEE HINT\n",
    "hint_sort_severity"
   ]
  },
  {
   "cell_type": "code",
   "execution_count": null,
   "id": "98efacec",
   "metadata": {},
   "outputs": [],
   "source": []
  },
  {
   "cell_type": "markdown",
   "id": "6e79dc0a",
   "metadata": {},
   "source": [
    "## Exercise 2: BMI\n",
    "Below are some measurements of BMI."
   ]
  },
  {
   "cell_type": "code",
   "execution_count": null,
   "id": "d76fea35",
   "metadata": {},
   "outputs": [],
   "source": [
    "bmis = [\n",
    "    24,\n",
    "    23,\n",
    "    49,\n",
    "    27,\n",
    "    25,\n",
    "    22,\n",
    "    38,\n",
    "    29,\n",
    "    56,\n",
    "    27,\n",
    "    22,\n",
    "]"
   ]
  },
  {
   "cell_type": "markdown",
   "id": "06303c5f",
   "metadata": {},
   "source": [
    "### 2.1\n",
    "What are the min and max values of `bmis`?"
   ]
  },
  {
   "cell_type": "code",
   "execution_count": null,
   "id": "f1df3e99",
   "metadata": {},
   "outputs": [],
   "source": [
    "min_bmi = ____\n",
    "____ = ____"
   ]
  },
  {
   "cell_type": "markdown",
   "id": "d806301d",
   "metadata": {},
   "source": [
    "### 2.2\n",
    "Created a new variable called `sorted_bmis` which contains the BMI values sorted from smallest to largest."
   ]
  },
  {
   "cell_type": "code",
   "execution_count": null,
   "id": "9f3abbc4",
   "metadata": {},
   "outputs": [],
   "source": [
    "sorted_bmis = ____\n",
    "sorted_bmis"
   ]
  },
  {
   "cell_type": "markdown",
   "id": "bb340ef9",
   "metadata": {},
   "source": [
    "### 2.3\n",
    "Write a function called `discretize_bmi` which takes a numeric BMI value to the following categories:\n",
    "- **<18.5**\n",
    "- **18.5-24.9**\n",
    "- **25.0-29.9**\n",
    "- **30-39.9**\n",
    "- **>=40**\n",
    "\n",
    "Then make a list called `bmis_discrete` which contains the categorized BMI values for `bmis`."
   ]
  },
  {
   "cell_type": "code",
   "execution_count": null,
   "id": "354ad75d",
   "metadata": {},
   "outputs": [],
   "source": [
    "# ..."
   ]
  },
  {
   "cell_type": "code",
   "execution_count": null,
   "id": "80870ee3",
   "metadata": {},
   "outputs": [],
   "source": []
  },
  {
   "cell_type": "code",
   "execution_count": null,
   "id": "5fdd0921",
   "metadata": {},
   "outputs": [],
   "source": [
    "# RUN CELL TO TEST FUNCTION\n",
    "test_discretize_bmi.test(discretize_bmi)"
   ]
  },
  {
   "cell_type": "code",
   "execution_count": null,
   "id": "aef29753",
   "metadata": {},
   "outputs": [],
   "source": []
  },
  {
   "cell_type": "markdown",
   "id": "0e8a75cf",
   "metadata": {},
   "source": [
    "## Exercise 3: Patient diagnoses\n",
    "In the following exercises, we'll be given a set of patients and check which ones have either pneumonia, sepsis, or respiratory disease."
   ]
  },
  {
   "cell_type": "markdown",
   "id": "dd89979f",
   "metadata": {},
   "source": [
    "### 3.1\n",
    "Load the dataset using the helper function `load_dx_subject_sets()`. Explore the object that it returns. What class is it? What values are contained in it?"
   ]
  },
  {
   "cell_type": "code",
   "execution_count": null,
   "id": "178b7aaf",
   "metadata": {},
   "outputs": [],
   "source": [
    "dx_subject_sets = load_dx_subject_sets()"
   ]
  },
  {
   "cell_type": "code",
   "execution_count": null,
   "id": "e552460c",
   "metadata": {},
   "outputs": [],
   "source": []
  },
  {
   "cell_type": "markdown",
   "id": "1740d827",
   "metadata": {},
   "source": [
    "### 3.2\n",
    "Create a dictionary called `dx_subject_counts` that maps the diagnosis name to the number of patients who have that diagnosis."
   ]
  },
  {
   "cell_type": "code",
   "execution_count": null,
   "id": "72b53c11",
   "metadata": {},
   "outputs": [],
   "source": []
  },
  {
   "cell_type": "code",
   "execution_count": null,
   "id": "54aaec6a",
   "metadata": {},
   "outputs": [],
   "source": [
    "# RUN CELL TO TEST VALUE\n",
    "test_dx_subject_counts.test(dx_subject_counts)"
   ]
  },
  {
   "cell_type": "code",
   "execution_count": null,
   "id": "cdaefd5d",
   "metadata": {},
   "outputs": [],
   "source": []
  },
  {
   "cell_type": "markdown",
   "id": "e6403654",
   "metadata": {},
   "source": [
    "### 3.3\n",
    "Patients can have multiple co-morbidities. Calculate how many patients have:\n",
    "- Both pneumonia and sepsis\n",
    "- Pneumonia, sepsis, and respiratory disease\n",
    "- Any of the diseases\n",
    "- Only pneumonia"
   ]
  },
  {
   "cell_type": "code",
   "execution_count": null,
   "id": "1e507c1b",
   "metadata": {},
   "outputs": [],
   "source": [
    "hint_comorbidities"
   ]
  },
  {
   "cell_type": "code",
   "execution_count": null,
   "id": "753b64a8",
   "metadata": {},
   "outputs": [],
   "source": [
    "# Pneumonia and sepsis\n"
   ]
  },
  {
   "cell_type": "code",
   "execution_count": null,
   "id": "fb2a2048",
   "metadata": {},
   "outputs": [],
   "source": [
    "# TEST CELL TO SEE QUIZ\n",
    "test_pna_sepsis"
   ]
  },
  {
   "cell_type": "code",
   "execution_count": null,
   "id": "f2ac286f",
   "metadata": {},
   "outputs": [],
   "source": [
    "# All 3\n"
   ]
  },
  {
   "cell_type": "code",
   "execution_count": null,
   "id": "df31246c",
   "metadata": {},
   "outputs": [],
   "source": [
    "# RUN CELL TO SEE QUIZ\n",
    "test_pna_sepsis_resp"
   ]
  },
  {
   "cell_type": "code",
   "execution_count": null,
   "id": "9b482a7b",
   "metadata": {},
   "outputs": [],
   "source": [
    "# Any of the 3\n"
   ]
  },
  {
   "cell_type": "code",
   "execution_count": null,
   "id": "e3c58bf2",
   "metadata": {},
   "outputs": [],
   "source": [
    "# RUN CELL TO SEE QUIZ\n",
    "test_pna_or_sepsis_or_resp"
   ]
  },
  {
   "cell_type": "code",
   "execution_count": null,
   "id": "a6fa0213",
   "metadata": {},
   "outputs": [],
   "source": [
    "# Only pneumonia\n"
   ]
  },
  {
   "cell_type": "code",
   "execution_count": null,
   "id": "5ab6adb7",
   "metadata": {},
   "outputs": [],
   "source": [
    "# RUN CELL TO SEE QUIZ\n",
    "test_pna_only"
   ]
  },
  {
   "cell_type": "markdown",
   "id": "935100c6",
   "metadata": {},
   "source": [
    "### 3.4 \n",
    "The previous exercise calculated the counts of patients with particular diagnoses. Now let's calculate the **probabilities** of patients having diseases in this dataset."
   ]
  },
  {
   "cell_type": "markdown",
   "id": "c840507b",
   "metadata": {},
   "source": [
    "**a.** Create a variable `dx_subject_probs` which contains the probability of a patient in our dataset having each disease."
   ]
  },
  {
   "cell_type": "code",
   "execution_count": null,
   "id": "306ce3f3",
   "metadata": {},
   "outputs": [],
   "source": [
    "# RUN CELL TO SEE HINT\n",
    "hint_prob_icd"
   ]
  },
  {
   "cell_type": "code",
   "execution_count": null,
   "id": "36a6ffa1",
   "metadata": {},
   "outputs": [],
   "source": [
    "dx_subject_probs = # ..."
   ]
  },
  {
   "cell_type": "code",
   "execution_count": null,
   "id": "174be018",
   "metadata": {},
   "outputs": [],
   "source": [
    "# RUN CELL TO TEST VALUE\n",
    "test_dx_subject_probs.test(dx_subject_probs)"
   ]
  },
  {
   "cell_type": "code",
   "execution_count": null,
   "id": "0a3e75f7",
   "metadata": {},
   "outputs": [],
   "source": []
  },
  {
   "cell_type": "markdown",
   "id": "9c0760d1",
   "metadata": {},
   "source": [
    "### 3.5 (Advanced)"
   ]
  },
  {
   "cell_type": "markdown",
   "id": "b7fd5b2e",
   "metadata": {},
   "source": [
    "**b.** Calculate:\n",
    "\n",
    "$$P(Pneumonia \\cap Sepsis)$$\n",
    "\n",
    "$$P(Pneumonia \\cup Sepsis)$$\n",
    "\n",
    "$$P(Pneumonia \\cap Sepsis \\cap Respiratory)$$\n",
    "\n",
    "$$P(Pneumonia \\cup Sepsis \\cup Respiratory)$$\n",
    "\n",
    "$$P(Pneumonia|Sepsis)$$\n",
    "\n",
    "$$P(Sepsis|Pneumonia)$$\n",
    "\n",
    "$$P(\\neg Sepsis|Pneumonia)$$"
   ]
  },
  {
   "cell_type": "code",
   "execution_count": null,
   "id": "3df8c632",
   "metadata": {},
   "outputs": [],
   "source": []
  }
 ],
 "metadata": {
  "kernelspec": {
   "display_name": "Python 3 (ipykernel)",
   "language": "python",
   "name": "python3"
  },
  "language_info": {
   "codemirror_mode": {
    "name": "ipython",
    "version": 3
   },
   "file_extension": ".py",
   "mimetype": "text/x-python",
   "name": "python",
   "nbconvert_exporter": "python",
   "pygments_lexer": "ipython3",
   "version": "3.9.12"
  }
 },
 "nbformat": 4,
 "nbformat_minor": 5
}
