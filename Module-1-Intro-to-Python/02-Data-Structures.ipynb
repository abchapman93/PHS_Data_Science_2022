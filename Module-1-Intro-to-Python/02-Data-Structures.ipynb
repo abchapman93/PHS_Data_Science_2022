{
 "cells": [
  {
   "cell_type": "markdown",
   "id": "f142f65f",
   "metadata": {},
   "source": [
    "<html>\n",
    "<table width=\"100%\" cellspacing=\"2\" cellpadding=\"2\" border=\"1\">\n",
    "<tbody>\n",
    "<tr>\n",
    "<td valign=\"center\" align=\"center\" width=\"45%\"><img src=\"../media/Univ-Utah.jpeg\"><br>\n",
    "</td>\n",
    "    <td valign=\"center\" align=\"center\" width=\"75%\">\n",
    "<h1 align=\"center\"><font size=\"+1\">University of Utah<br>Population Health Sciences<br>Data Science Workshop</font></h1></td>\n",
    "<td valign=\"center\" align=\"center\" width=\"45%\"><img\n",
    "src=\"../media/U_Health_stacked_png_red.png\" alt=\"Utah Health\n",
    "Logo\" width=\"128\" height=\"134\"><br>\n",
    "</td>\n",
    "</tr>\n",
    "</tbody>\n",
    "</table>\n",
    "<br>\n",
    "</html>\n"
   ]
  },
  {
   "cell_type": "code",
   "execution_count": null,
   "id": "44cdd3e1",
   "metadata": {},
   "outputs": [],
   "source": [
    "from helpers import *"
   ]
  },
  {
   "cell_type": "markdown",
   "id": "d42912cc",
   "metadata": {},
   "source": [
    "# Data Structures\n",
    "In the previous notebook we learned about some of the essential . We'll now dive deeper into Python's built-in **data structures**. A data structure is a type of object which helps us organize and access data. Each data structure is used for a slightly different purpose and has different methods associated with it.\n",
    "\n",
    "\n",
    "We've already seen one example of a data structure: `list`. The other data types we'll look at in this notebook are:\n",
    "- II. `tuple`\n",
    "- III. `dict` (dictionary)\n",
    "- IV. `set`\n",
    "\n",
    "## Lists\n",
    "The following are all lists in Python: "
   ]
  },
  {
   "cell_type": "code",
   "execution_count": null,
   "id": "2b8fc082",
   "metadata": {},
   "outputs": [],
   "source": [
    "x = [1, 2, 3]\n",
    "y = [\"a\", \"b\", \"c\"]\n",
    "z = [1, \"b\", x]"
   ]
  },
  {
   "cell_type": "markdown",
   "id": "dd476de4",
   "metadata": {},
   "source": [
    "#### TODO\n",
    "What are the data types of the three elements of `z` in the previous cell?"
   ]
  },
  {
   "cell_type": "code",
   "execution_count": null,
   "id": "f0e5e246",
   "metadata": {},
   "outputs": [],
   "source": [
    "# RUN CELL TO SEE QUIZ\n",
    "quiz_data_types_z"
   ]
  },
  {
   "cell_type": "markdown",
   "id": "5ebdec5a",
   "metadata": {},
   "source": [
    "Here are some things we might want to do with lists:\n",
    "1. Access specific elements\n",
    "2. Add or remove elements\n",
    "3. Combine two different lists\n",
    "4. Sorting and finding the min/max values"
   ]
  },
  {
   "cell_type": "markdown",
   "id": "6a6a3ed2",
   "metadata": {},
   "source": [
    "### 1. Accessing specific elements\n",
    "Lists and the other data structures in this notebook are also called **containers** because they **contain** other objects. As such, one of the main purposes of a list is to store an object in it and access it later.\n",
    "\n",
    "The main way to do this with lists is **indexing**. Each element in a list has a numeric index - that is, its *ordered* position in a list. You do this by putting brackets after the name of the list and a numeric index. For example, let's say we want to access the first element of `x`. We would do this as:\n",
    "\n",
    "```python\n",
    "x[0]\n",
    "```\n",
    "\n",
    "This might look a little funny to you - the *zeroth* index of x? The reason that we use `x[0]` instead of `x[1]` for the first elementing is that Python uses **zero indexing**, meaning that the positions start at 0 and end at `len(x) - 1`. This is different from R or many other statistical software packages. You can think of this as saying: **Give me the element of x which is `0` positions away from the beginning**. "
   ]
  },
  {
   "cell_type": "markdown",
   "id": "0d38366a",
   "metadata": {},
   "source": [
    "#### TODO\n",
    "What code would give you the second element of `x`?"
   ]
  },
  {
   "cell_type": "code",
   "execution_count": null,
   "id": "ee59f898",
   "metadata": {},
   "outputs": [],
   "source": [
    "# RUN CELL TO SEE QUIZ\n",
    "quiz_second_element_x"
   ]
  },
  {
   "cell_type": "markdown",
   "id": "319e619f",
   "metadata": {},
   "source": [
    "#### TODO\n",
    "What value would get if you ran the following line of code?\n",
    "```python\n",
    "x[3]\n",
    "```"
   ]
  },
  {
   "cell_type": "code",
   "execution_count": null,
   "id": "68476daf",
   "metadata": {},
   "outputs": [],
   "source": [
    "# RUN CELL TO SEE QUIZ\n",
    "quiz_x3 "
   ]
  },
  {
   "cell_type": "markdown",
   "id": "a2835fe0",
   "metadata": {},
   "source": [
    "To get the length of a list, we can use the built-in `len` function. "
   ]
  },
  {
   "cell_type": "code",
   "execution_count": null,
   "id": "1789b82b",
   "metadata": {},
   "outputs": [],
   "source": [
    "len(x)"
   ]
  },
  {
   "cell_type": "markdown",
   "id": "590268d3",
   "metadata": {},
   "source": [
    "#### TODO\n",
    "What is the largest value of `idx` we could use in the code `x[idx]`?"
   ]
  },
  {
   "cell_type": "code",
   "execution_count": null,
   "id": "db37d9ed",
   "metadata": {},
   "outputs": [],
   "source": [
    "# RUN CODE TO SEE QUIZ\n",
    "quiz_largest_idx_x"
   ]
  },
  {
   "cell_type": "markdown",
   "id": "cc75d914",
   "metadata": {},
   "source": [
    "#### `k` steps back\n",
    "When we pass in 0 or a positive index `k` for list `x`, we go `k` positions from the beginning. But if we pass in a negative number, we go backwards from the end of the list. So one way to get the last element of `x` is:"
   ]
  },
  {
   "cell_type": "code",
   "execution_count": null,
   "id": "088dea0f",
   "metadata": {},
   "outputs": [],
   "source": [
    "x[-1]"
   ]
  },
  {
   "cell_type": "code",
   "execution_count": null,
   "id": "1be6416e",
   "metadata": {},
   "outputs": [],
   "source": [
    "x"
   ]
  },
  {
   "cell_type": "markdown",
   "id": "fed0a257",
   "metadata": {},
   "source": [
    "#### TODO\n",
    "Which of the following lines of code would give you the second-to-last element of x?\n",
    "- a) `x[-2]`\n",
    "- b) `x[1]`\n",
    "- c) `x[len(x)-2]`"
   ]
  },
  {
   "cell_type": "code",
   "execution_count": null,
   "id": "537cce96",
   "metadata": {},
   "outputs": [],
   "source": [
    "# RUN CELL TO SEE QUIZ\n",
    "quiz_second_to_last_x"
   ]
  },
  {
   "cell_type": "code",
   "execution_count": null,
   "id": "2e3f6096",
   "metadata": {},
   "outputs": [],
   "source": []
  },
  {
   "cell_type": "markdown",
   "id": "6337f40d",
   "metadata": {},
   "source": [
    "Note that in our example lists, the last element of `z` is the list `x`. "
   ]
  },
  {
   "cell_type": "code",
   "execution_count": null,
   "id": "995c7f60",
   "metadata": {},
   "outputs": [],
   "source": [
    "z"
   ]
  },
  {
   "cell_type": "markdown",
   "id": "30e69e36",
   "metadata": {},
   "source": [
    "#### TODO\n",
    "Which of the following lines of code would give the value `2`?\n",
    "- a) `x[1]`\n",
    "- b) `x[-2]`\n",
    "- c) `z[3]`\n",
    "- d) `z[-1][-2]`"
   ]
  },
  {
   "cell_type": "code",
   "execution_count": null,
   "id": "2601d21a",
   "metadata": {},
   "outputs": [],
   "source": [
    "# RUN CELL TO SEE QUIZ\n",
    "quiz_values_of_2"
   ]
  },
  {
   "cell_type": "markdown",
   "id": "04a40fb5",
   "metadata": {},
   "source": [
    "If we a subset of a list (that is, a smaller list containing some of the elements of the larger list), we use the following notation:\n",
    "\n",
    "```python\n",
    "x[start:end]\n",
    "```\n",
    "\n",
    "This will give us a list containing `[x[start], x[start+1], ..., x[end-1]]`\n",
    "\n",
    "**Question**: Why will the sublist end at `x[end-1]`?"
   ]
  },
  {
   "cell_type": "markdown",
   "id": "0442e8e9",
   "metadata": {},
   "source": [
    "#### TODO\n",
    "Create a smaller list containing only the second and third elements of `x`. Name it `x_sub1`."
   ]
  },
  {
   "cell_type": "code",
   "execution_count": null,
   "id": "260655fe",
   "metadata": {},
   "outputs": [],
   "source": [
    "x_sub1 = ____"
   ]
  },
  {
   "cell_type": "code",
   "execution_count": null,
   "id": "e65301cb",
   "metadata": {},
   "outputs": [],
   "source": [
    "# RUN CELL TO TEST VALUE\n",
    "test_x_sub1.test(x_sub1)"
   ]
  },
  {
   "cell_type": "markdown",
   "id": "8ffbdb89",
   "metadata": {},
   "source": [
    "If we leave out the `start` index, then the sublist will contain all of the elements of `x` from the beginning until `end-1`:"
   ]
  },
  {
   "cell_type": "code",
   "execution_count": null,
   "id": "8dc64ba6",
   "metadata": {},
   "outputs": [],
   "source": [
    "x[:2]"
   ]
  },
  {
   "cell_type": "markdown",
   "id": "40d71adc",
   "metadata": {},
   "source": [
    "Similarly, if we leave out the `end` index, the sublist will contain all elements from `start` through the end of the list:"
   ]
  },
  {
   "cell_type": "code",
   "execution_count": null,
   "id": "bca682fc",
   "metadata": {},
   "outputs": [],
   "source": [
    "x[1:]"
   ]
  },
  {
   "cell_type": "markdown",
   "id": "e6950362",
   "metadata": {},
   "source": [
    "#### TODO\n",
    "What list would be created with the code `x[:]`. Why?"
   ]
  },
  {
   "cell_type": "code",
   "execution_count": null,
   "id": "0310fcc5",
   "metadata": {},
   "outputs": [],
   "source": [
    "# RUN CELL TO SEE QUIZ\n",
    "quiz_x_colon"
   ]
  },
  {
   "cell_type": "code",
   "execution_count": null,
   "id": "c8243b94",
   "metadata": {},
   "outputs": [],
   "source": []
  },
  {
   "cell_type": "markdown",
   "id": "64724899",
   "metadata": {},
   "source": [
    "### 2. Adding or removing elements\n",
    "Often the containers we're using aren't static. We might update them by adding new objects to them or removing some. Next we'lllook at a few methods for doing this.\n",
    "\n",
    "**Methods** are like functions but are associated with a particular object. Calling a method looks similar to calling a function but comes from the object:\n",
    "\n",
    "```python\n",
    "obj.method_name(args)\n",
    "```\n",
    "\n",
    "For example, lists have a method called `append` that adds an element to the end of the list. This method takes one argument, which is the object we want to add to the list. \n",
    "\n",
    "For example, let's say we had a list of names for patients in the emergency department. We'll call this list `waiting_list`. When a new patient shows up, we need to **append** their name to the list."
   ]
  },
  {
   "cell_type": "code",
   "execution_count": null,
   "id": "8e311f27",
   "metadata": {},
   "outputs": [],
   "source": [
    "waiting_list = [\"Jim\", \"Mary\", \"Rachel\"]\n",
    "waiting_list.append(\"Laura\")"
   ]
  },
  {
   "cell_type": "markdown",
   "id": "120f69a3",
   "metadata": {},
   "source": [
    "Now when we look at this object, we can see that \"Laura\" is also in our queue."
   ]
  },
  {
   "cell_type": "code",
   "execution_count": null,
   "id": "e4afeb62",
   "metadata": {},
   "outputs": [],
   "source": [
    "waiting_list"
   ]
  },
  {
   "cell_type": "markdown",
   "id": "f7e760cf",
   "metadata": {},
   "source": [
    "But let's say that someone named **\"Chloe\"** comes in who is much sicker than the other patients and needs to be seen with higher priority. We can add an element to a specific position in a list by using the `insert` method. This takes two arguments: the index of the list where you want to put the new object, and the object itself.\n",
    "\n",
    "So, for example, the line below will add `\"Chloe\"` to the beginning of the list."
   ]
  },
  {
   "cell_type": "code",
   "execution_count": null,
   "id": "09f911f8",
   "metadata": {},
   "outputs": [],
   "source": [
    "waiting_list.insert(0, \"Chloe\")"
   ]
  },
  {
   "cell_type": "code",
   "execution_count": null,
   "id": "8c420f0c",
   "metadata": {},
   "outputs": [],
   "source": [
    "waiting_list"
   ]
  },
  {
   "cell_type": "markdown",
   "id": "bec4ff9e",
   "metadata": {},
   "source": [
    "Eventually, the understaffed doctors in the emergency room are ready to see a patient. To remove an object from a specific position we can use the `pop` method. This takes one argment, the index of the element to remove. Since our queue is already in the order we want to see the patients, we pass in `0` as the index.\n",
    "\n",
    "This also returns the removed object, so we can save that as a variable to see who the next patient is."
   ]
  },
  {
   "cell_type": "code",
   "execution_count": null,
   "id": "23555999",
   "metadata": {},
   "outputs": [],
   "source": [
    "next_patient = waiting_list.pop(0)\n",
    "print(f\"Next up: {next_patient}\")"
   ]
  },
  {
   "cell_type": "markdown",
   "id": "27cfd50d",
   "metadata": {},
   "source": [
    "#### TODO\n",
    "What would be the value of `next_patient` if you ran the previous cell again?"
   ]
  },
  {
   "cell_type": "code",
   "execution_count": null,
   "id": "a294d153",
   "metadata": {},
   "outputs": [],
   "source": [
    "# RUN CELL TO SEE QUIZ\n",
    "quiz_next_patient2"
   ]
  },
  {
   "cell_type": "markdown",
   "id": "82c83d4f",
   "metadata": {},
   "source": [
    "#### TODO\n",
    "Let's say someone named **\"Jacob\"** comes into the ER. At first they don't seem too sick, so we put them at the end of the queue. Write the code below to add `\"Jacob\"` to the end of `waiting_list`."
   ]
  },
  {
   "cell_type": "code",
   "execution_count": null,
   "id": "da667767",
   "metadata": {},
   "outputs": [],
   "source": [
    "____.____"
   ]
  },
  {
   "cell_type": "code",
   "execution_count": null,
   "id": "e055cc3c",
   "metadata": {},
   "outputs": [],
   "source": [
    "waiting_list"
   ]
  },
  {
   "cell_type": "code",
   "execution_count": null,
   "id": "49068453",
   "metadata": {},
   "outputs": [],
   "source": []
  },
  {
   "cell_type": "code",
   "execution_count": null,
   "id": "a581efb2",
   "metadata": {},
   "outputs": [],
   "source": [
    "# RUN CELL TO TEST VALUE\n",
    "test_waiting_list_jacob.test(waiting_list)"
   ]
  },
  {
   "cell_type": "code",
   "execution_count": null,
   "id": "a2736d0f",
   "metadata": {},
   "outputs": [],
   "source": []
  },
  {
   "cell_type": "markdown",
   "id": "21ccbb4c",
   "metadata": {},
   "source": [
    "#### TODO\n",
    "After being added to the end of the queue, Jacob's condition suddenly worsens and he needs to be seen immediately. Remove Jacob's name from the list and save it as `next_patient`. \n",
    "\n"
   ]
  },
  {
   "cell_type": "code",
   "execution_count": null,
   "id": "b073eecf",
   "metadata": {},
   "outputs": [],
   "source": [
    "next_patient = ____.____"
   ]
  },
  {
   "cell_type": "code",
   "execution_count": null,
   "id": "8503082e",
   "metadata": {},
   "outputs": [],
   "source": [
    "next_patient"
   ]
  },
  {
   "cell_type": "code",
   "execution_count": null,
   "id": "eb652090",
   "metadata": {},
   "outputs": [],
   "source": [
    "# RUN CELL TO TEST VALUE\n",
    "test_next_patient3.test(next_patient)"
   ]
  },
  {
   "cell_type": "markdown",
   "id": "3fa2fb41",
   "metadata": {},
   "source": [
    "After running the code above, what is the value of `len(waiting_list)`?"
   ]
  },
  {
   "cell_type": "code",
   "execution_count": null,
   "id": "48999f8d",
   "metadata": {},
   "outputs": [],
   "source": [
    "FreeTextTest(answer=\"4\")"
   ]
  },
  {
   "cell_type": "code",
   "execution_count": null,
   "id": "1fc142b5",
   "metadata": {},
   "outputs": [],
   "source": []
  },
  {
   "cell_type": "markdown",
   "id": "b08c88da",
   "metadata": {},
   "source": [
    "### 3. Combing two different lists\n",
    "In addition to adding individual elements, we can also take two different lists and combine This is called **concatenation**. \n",
    "\n",
    "There are two ways to do this: First by using the addition operator `+`. For example, to combine the elements of `x` and `y` into one new list, we could do:"
   ]
  },
  {
   "cell_type": "code",
   "execution_count": null,
   "id": "bf089433",
   "metadata": {},
   "outputs": [],
   "source": [
    "x + y"
   ]
  },
  {
   "cell_type": "markdown",
   "id": "3631909b",
   "metadata": {},
   "source": [
    "This creates a *new list* containing the elements of `x` followed by the elements of `y`. But the original lists are not altered: "
   ]
  },
  {
   "cell_type": "code",
   "execution_count": null,
   "id": "dbc99cb5",
   "metadata": {},
   "outputs": [],
   "source": [
    "x"
   ]
  },
  {
   "cell_type": "markdown",
   "id": "043feef4",
   "metadata": {},
   "source": [
    "The second option is the method `extend` which modifies the list directly. So if you called:\n",
    "\n",
    "```pythong\n",
    "x.extend(y)\n",
    "print(x)\n",
    "```\n",
    "\n",
    "You would see the new, longer list: `[1, 2, 3, 'a', 'b', 'c']`\n",
    "\n",
    "I prefer not altering original objects whenever possible, so I personally recommend using the `+` operator. You can also update the value of x accordingly by saying:\n",
    "\n",
    "```python\n",
    "x += y\n",
    "print(x)\n",
    "# [1, 2, 3, 'a', 'b', 'c']\n",
    "```"
   ]
  },
  {
   "cell_type": "markdown",
   "id": "7e27ce9d",
   "metadata": {},
   "source": [
    "#### TODO\n",
    "Below are three lists: `a`, `b`, and `c`. Write code to do the following:\n",
    "\n",
    "1. Create a new list `z` which contains the elements of `b` followed by the elements of `a`\n",
    "2. Modify `c` directly to include the elements in `a` and `b` (in that order)"
   ]
  },
  {
   "cell_type": "code",
   "execution_count": null,
   "id": "5522e8cd",
   "metadata": {},
   "outputs": [],
   "source": [
    "a = [1, 2, 3]\n",
    "b = [\"a\", \"b\", \"c\"]\n",
    "c = [2, 4, \"6\"]"
   ]
  },
  {
   "cell_type": "code",
   "execution_count": null,
   "id": "98f7dc5f",
   "metadata": {},
   "outputs": [],
   "source": [
    "z = ____"
   ]
  },
  {
   "cell_type": "code",
   "execution_count": null,
   "id": "ce3a61cf",
   "metadata": {},
   "outputs": [],
   "source": [
    "# RUN CELL TO TEST VALUE\n",
    "test_list_a_added_to_b.test(z)"
   ]
  },
  {
   "cell_type": "code",
   "execution_count": null,
   "id": "7f105d43",
   "metadata": {},
   "outputs": [],
   "source": [
    "___ # Add elements of a to c\n",
    "____ # Add elements of b to c"
   ]
  },
  {
   "cell_type": "code",
   "execution_count": null,
   "id": "6dc0a432",
   "metadata": {},
   "outputs": [],
   "source": [
    "c"
   ]
  },
  {
   "cell_type": "code",
   "execution_count": null,
   "id": "98a82c65",
   "metadata": {},
   "outputs": [],
   "source": [
    "# RUN CELL TO TEST VALUE\n",
    "test_list_a_b_added_to_c.test(c)"
   ]
  },
  {
   "cell_type": "code",
   "execution_count": null,
   "id": "2d8de17b",
   "metadata": {},
   "outputs": [],
   "source": []
  },
  {
   "cell_type": "markdown",
   "id": "0500f37b",
   "metadata": {},
   "source": [
    "### 4. Sorting lists\n",
    "We may initially get data in completely arbitrary order. But it's often useful to sort them in some way.\n",
    "\n",
    "Again, there are two ways we can do this. First, the built-in function `sorted` takes a array and returns a new array containing the elements in ascending order:"
   ]
  },
  {
   "cell_type": "code",
   "execution_count": null,
   "id": "1c5aef05",
   "metadata": {},
   "outputs": [],
   "source": [
    "my_list = [5, 2, 9]"
   ]
  },
  {
   "cell_type": "code",
   "execution_count": null,
   "id": "8482da06",
   "metadata": {},
   "outputs": [],
   "source": [
    "sorted(my_list)"
   ]
  },
  {
   "cell_type": "code",
   "execution_count": null,
   "id": "440c20e5",
   "metadata": {},
   "outputs": [],
   "source": [
    "print(my_list)"
   ]
  },
  {
   "cell_type": "markdown",
   "id": "22e77062",
   "metadata": {},
   "source": [
    "We can also sort in descending order using the `reverse` argument:"
   ]
  },
  {
   "cell_type": "code",
   "execution_count": null,
   "id": "2a4284e3",
   "metadata": {},
   "outputs": [],
   "source": [
    "sorted(my_list, reverse=True)"
   ]
  },
  {
   "cell_type": "markdown",
   "id": "f311234f",
   "metadata": {},
   "source": [
    "Once a list is sorted, we can use that to get identify the n smallest/largest numbers.\n",
    "\n",
    "\n",
    "#### TODO\n",
    "Use the `sorted` function to find the three smallest and three largest values of `random_list`. Save the values as lists with length 3 called `my_list_smallest` and `my_list_largest`, both in ascending order."
   ]
  },
  {
   "cell_type": "code",
   "execution_count": null,
   "id": "8411844c",
   "metadata": {},
   "outputs": [],
   "source": [
    "random_list = [87, 69, 56, 17, 80, 30, 29, 10, 88, 12, 88, 97, 89, 74, 97, 26, 13,\n",
    "       88, 41, 22, 92, 26, 49, 46, 73]"
   ]
  },
  {
   "cell_type": "code",
   "execution_count": null,
   "id": "06215f3a",
   "metadata": {},
   "outputs": [],
   "source": [
    "\n",
    "random_list_smallest = ____\n",
    "random_list_largest =  ____"
   ]
  },
  {
   "cell_type": "code",
   "execution_count": null,
   "id": "3f6967e7",
   "metadata": {},
   "outputs": [],
   "source": [
    "# RUN CELL TO TEST VALUE\n",
    "test_random_list_smallest.test(random_list_smallest)"
   ]
  },
  {
   "cell_type": "code",
   "execution_count": null,
   "id": "1f2286f6",
   "metadata": {},
   "outputs": [],
   "source": [
    "# RUN CELL TO TEST VALUE\n",
    "test_random_list_largest.test(random_list_largest)"
   ]
  },
  {
   "cell_type": "code",
   "execution_count": null,
   "id": "ffc29071",
   "metadata": {},
   "outputs": [],
   "source": []
  },
  {
   "cell_type": "markdown",
   "id": "0a554d3f",
   "metadata": {},
   "source": [
    "#### `min` and `max` function\n",
    "If you only need absolute smallest/largest values, you can use the `min` and `max` functions:"
   ]
  },
  {
   "cell_type": "code",
   "execution_count": null,
   "id": "ae76f2d0",
   "metadata": {},
   "outputs": [],
   "source": [
    "min(random_list)"
   ]
  },
  {
   "cell_type": "code",
   "execution_count": null,
   "id": "781d3a1e",
   "metadata": {},
   "outputs": [],
   "source": [
    "max(random_list)"
   ]
  },
  {
   "cell_type": "markdown",
   "id": "9dad8a73",
   "metadata": {},
   "source": [
    "#### TODO\n",
    "Consider this list of strings:\n",
    "\n",
    "```python\n",
    "waiting_list2 = ['Jim', 'Chloe',  'Mary', 'Rachel', 'Laura', 'Jacob']\n",
    "```\n",
    "\n",
    "What values would we get if we called `min(waiting_list2)` and `max(waiting_list2)`?"
   ]
  },
  {
   "cell_type": "code",
   "execution_count": null,
   "id": "4a2c333f",
   "metadata": {},
   "outputs": [],
   "source": [
    "# RUN CELL TO SEE QUIZ\n",
    "quiz_min_max_waiting_list"
   ]
  },
  {
   "cell_type": "code",
   "execution_count": null,
   "id": "f35efef3",
   "metadata": {},
   "outputs": [],
   "source": []
  },
  {
   "cell_type": "code",
   "execution_count": null,
   "id": "27e6b1a9",
   "metadata": {},
   "outputs": [],
   "source": []
  },
  {
   "cell_type": "code",
   "execution_count": null,
   "id": "3677c64d",
   "metadata": {},
   "outputs": [],
   "source": []
  },
  {
   "cell_type": "code",
   "execution_count": null,
   "id": "fe2604df",
   "metadata": {},
   "outputs": [],
   "source": []
  },
  {
   "cell_type": "markdown",
   "id": "4a409474",
   "metadata": {},
   "source": [
    "## II. Tuples\n",
    "Now we'll move onto a second type of data structure. We declare a **tuple** by separating values by commas within parentheses (as opposed to the squares brackets used for lists)."
   ]
  },
  {
   "cell_type": "code",
   "execution_count": null,
   "id": "80b64ece",
   "metadata": {},
   "outputs": [],
   "source": [
    "x_tup = (1, 2, 3)\n",
    "x_tup"
   ]
  },
  {
   "cell_type": "markdown",
   "id": "373c972f",
   "metadata": {},
   "source": [
    "Tuples are very similar to lists, except that they are **immutable**. That means once a tuple is declared, we can't modify it or its contents. This is useful if we know a collection of elements are fairly permanent and don't plan on altering them.\n",
    "\n",
    "So, for example, while with lists we could append an element to the end using `list.append(item)` and remove elements with `list.pop(i)`, with tuples we need to create a brand new object."
   ]
  },
  {
   "cell_type": "markdown",
   "id": "466eb923",
   "metadata": {},
   "source": [
    "#### TODO\n",
    "What will happen when we run the code below?\n",
    "```python\n",
    "x_tup.append(4)\n",
    "```"
   ]
  },
  {
   "cell_type": "code",
   "execution_count": null,
   "id": "5193fbe4",
   "metadata": {},
   "outputs": [],
   "source": [
    "# RUN CELL TO SEE QUIZ\n",
    "quiz_tup_append"
   ]
  },
  {
   "cell_type": "markdown",
   "id": "b67d2ae7",
   "metadata": {},
   "source": [
    "#### TODO\n",
    "What will happen when we run the code below?\n",
    "```python\n",
    "x_tup[1] = \"a\"\n",
    "```"
   ]
  },
  {
   "cell_type": "code",
   "execution_count": null,
   "id": "e3d0facf",
   "metadata": {},
   "outputs": [],
   "source": [
    "# RUN CODE TO SEE QUIZ\n",
    "quiz_set_tup_index"
   ]
  },
  {
   "cell_type": "markdown",
   "id": "37610e93",
   "metadata": {},
   "source": [
    "#### TODO\n",
    "Which line of code would cause the value of the variable `x_tup` to include the elements `4` and `5`?\n",
    "\n",
    "- a) `x_tup.extend((4,5))`\n",
    "- b) `x_tup += (4, 5)`\n",
    "- c) `x_tup.append(4); x_tup.append(5)`"
   ]
  },
  {
   "cell_type": "code",
   "execution_count": null,
   "id": "a9c3e6e1",
   "metadata": {},
   "outputs": [],
   "source": [
    "quiz_x_tup_4_5 "
   ]
  },
  {
   "cell_type": "markdown",
   "id": "b1e7b5fc",
   "metadata": {},
   "source": [
    "Other than changing their contents, we can do a lot of the same things with tuples that we did with lists.\n",
    "\n",
    "We index them the same way:"
   ]
  },
  {
   "cell_type": "code",
   "execution_count": null,
   "id": "1f61ae6f",
   "metadata": {},
   "outputs": [],
   "source": [
    "x_tup[0]"
   ]
  },
  {
   "cell_type": "code",
   "execution_count": null,
   "id": "03a680fa",
   "metadata": {},
   "outputs": [],
   "source": [
    "x_tup[-1]"
   ]
  },
  {
   "cell_type": "code",
   "execution_count": null,
   "id": "2497c5fe",
   "metadata": {},
   "outputs": [],
   "source": [
    "x_tup[1:]"
   ]
  },
  {
   "cell_type": "markdown",
   "id": "46625a40",
   "metadata": {},
   "source": [
    "And we can gets the min and max sort them using the appropriate functions."
   ]
  },
  {
   "cell_type": "code",
   "execution_count": null,
   "id": "3bfb5d05",
   "metadata": {},
   "outputs": [],
   "source": [
    "max(x_tup)"
   ]
  },
  {
   "cell_type": "code",
   "execution_count": null,
   "id": "0664fa6a",
   "metadata": {},
   "outputs": [],
   "source": [
    "min(x_tup)"
   ]
  },
  {
   "cell_type": "code",
   "execution_count": null,
   "id": "375a7a42",
   "metadata": {},
   "outputs": [],
   "source": [
    "sorted(x_tup)"
   ]
  },
  {
   "cell_type": "code",
   "execution_count": null,
   "id": "b240efeb",
   "metadata": {},
   "outputs": [],
   "source": [
    "sorted(x_tup, reverse=True)"
   ]
  },
  {
   "cell_type": "markdown",
   "id": "5d23771b",
   "metadata": {},
   "source": [
    "#### TODO\n",
    "What data type is returned by `sorted(x_tup)`?"
   ]
  },
  {
   "cell_type": "code",
   "execution_count": null,
   "id": "428af767",
   "metadata": {},
   "outputs": [],
   "source": [
    "# RUN CODE TO SEE QUIZ\n",
    "quiz_type_sorted_tup"
   ]
  },
  {
   "cell_type": "markdown",
   "id": "64a77c5f",
   "metadata": {},
   "source": [
    "We can create tuples from lists and vice-versa:"
   ]
  },
  {
   "cell_type": "code",
   "execution_count": null,
   "id": "f87f642c",
   "metadata": {},
   "outputs": [],
   "source": [
    "list(x_tup)"
   ]
  },
  {
   "cell_type": "markdown",
   "id": "6327c1fa",
   "metadata": {},
   "source": [
    "#### TODO\n",
    "Create a list called `x_list` from `x_tup`. What code would test whether `x_list` is equal to `x`? Are they equal?"
   ]
  },
  {
   "cell_type": "code",
   "execution_count": null,
   "id": "c7b446f3",
   "metadata": {},
   "outputs": [],
   "source": [
    "x_list = ____"
   ]
  },
  {
   "cell_type": "code",
   "execution_count": null,
   "id": "7aaf4ea8",
   "metadata": {},
   "outputs": [],
   "source": [
    "# RUN CELL TO TEST VALUE\n",
    "test_x_list.test(x_list)"
   ]
  },
  {
   "cell_type": "code",
   "execution_count": null,
   "id": "640e1e69",
   "metadata": {},
   "outputs": [],
   "source": [
    "# RUN CELL TO SEE QUIZ\n",
    "quiz_test_x_list_equals_x"
   ]
  },
  {
   "cell_type": "code",
   "execution_count": null,
   "id": "4a738de2",
   "metadata": {},
   "outputs": [],
   "source": [
    "# RUN CELL TO SEE QUIZ\n",
    "quiz_x_equals_x_list"
   ]
  },
  {
   "cell_type": "code",
   "execution_count": null,
   "id": "f34e9fab",
   "metadata": {},
   "outputs": [],
   "source": []
  },
  {
   "cell_type": "markdown",
   "id": "06ca694a",
   "metadata": {},
   "source": [
    "## Sets\n",
    "Sets, like lists and tuples, are collections of Python objects. Two of the key characteristics of lists and tuples are:\n",
    "1. **Ordering and indexing**: The order matters in lists and tuples. Two lists which have the same elements but in different orders are not considered the same (can you show this using Python code?). Because the elements are ordered, you can access individual elements using their positional index.\n",
    "2. **There can be duplicate values**: Because lists and tuples are defined by both the elements in them and their order, it's perfectly valid for a list to have the same element more than once. For example, `[\"a\", \"c\", \"c\"]` or `[1, 1, 2]`\n",
    "\n",
    "**Sets** differ in both these qualities. Sets in Python are closer to the idea of [mathematical sets](https://en.wikipedia.org/wiki/Set_(mathematics)) than lists and arrays, in that they are a collection of objects and what matters most is what elements are **members** of the set.\n",
    "\n",
    "We declare a set in Python similar to lists and tuples, but with curly brackets:\n",
    "\n",
    "```\n",
    "x = {x1, x2, ...}\n",
    "```\n",
    "\n",
    "We can also take another collection and create a set out of it:\n",
    "\n",
    "```\n",
    "set([1, 2, 3])\n",
    "```"
   ]
  },
  {
   "cell_type": "markdown",
   "id": "fa873982",
   "metadata": {},
   "source": [
    "#### TODO\n",
    "Declare three sets below: \n",
    "1. `evens`, which contains the elements `[2, 4, 6, 8, 10]`\n",
    "2. `odds`, which contains the elements `[1, 3, 5, 7, 9]`\n",
    "3. `primes`, which contains `[2, 5, 7]`"
   ]
  },
  {
   "cell_type": "code",
   "execution_count": null,
   "id": "9c04ccee",
   "metadata": {},
   "outputs": [],
   "source": [
    "evens = ____\n",
    "____ = {1, 3, 5, 7, 9}\n",
    "____ = ____"
   ]
  },
  {
   "cell_type": "markdown",
   "id": "b381f2d2",
   "metadata": {},
   "source": [
    "To check if an object is a **member** of a set, we can use the `in` keyword, which returns `True` if the element is in the set and `False` otherwise.\n",
    "\n",
    "```python\n",
    "# Example:\n",
    "x_set = {1, 2, 3}\n",
    "1 in x_set\n",
    ">>> True\n",
    "0 in x_set \n",
    ">>> False\n",
    "```\n",
    "\n",
    "#### TODO\n",
    "What code would check whether `1` is in `primes`? What value would this code return?"
   ]
  },
  {
   "cell_type": "code",
   "execution_count": null,
   "id": "5b5484fc",
   "metadata": {},
   "outputs": [],
   "source": [
    "# RUN CELL TO SEE QUIZ\n",
    "quiz_code_1_in_primes"
   ]
  },
  {
   "cell_type": "code",
   "execution_count": null,
   "id": "701618e3",
   "metadata": {},
   "outputs": [],
   "source": [
    "# RUN CELL TO SEE QUIZ\n",
    "quiz_1_in_primes"
   ]
  },
  {
   "cell_type": "code",
   "execution_count": null,
   "id": "a98bd5e1",
   "metadata": {},
   "outputs": [],
   "source": []
  },
  {
   "cell_type": "markdown",
   "id": "86c7022a",
   "metadata": {},
   "source": [
    "#### TODO\n",
    "What value would we get if we executed `evens[0]`? Why?"
   ]
  },
  {
   "cell_type": "code",
   "execution_count": null,
   "id": "6a2db529",
   "metadata": {},
   "outputs": [],
   "source": [
    "# RUN CELL TO SEE QUIZ\n",
    "quiz_evens0 "
   ]
  },
  {
   "cell_type": "markdown",
   "id": "b110d6ab",
   "metadata": {},
   "source": [
    "#### Comparing sets\n",
    "We often want to compare two sets with each other. For example, if we consider all [natural numbers](https://en.wikipedia.org/wiki/Natural_number) from 1-10, this is a set of 10 numbers:\n",
    "\n",
    "```python\n",
    "naturals_10 = {1, 2, 3, 4, 5, 6, 7, 8, 9, 10}\n",
    "```\n",
    "\n",
    "We could create subsets such as:\n",
    "- All **odd** numbers in the first 10 natural numbers\n",
    "- All **even** numbers\n",
    "- All **prime** numbers (i.e., numbers only divisible by one and themselves)\n",
    "\n",
    "That's exactly what we did when we declared our three sets above.\n",
    "\n",
    "Let's say we want to ask: Which numbers are both **odd** and **prime**?\n",
    "\n",
    "\n",
    "This can be visually compared using [Venn diagrams](https://en.wikipedia.org/wiki/Venn_diagram). \n",
    "\n",
    "One way we could do this is check each number and see whether it's in both `odds` and `primes`:"
   ]
  },
  {
   "cell_type": "code",
   "execution_count": null,
   "id": "3d0d06f1",
   "metadata": {},
   "outputs": [],
   "source": [
    "(1 in odds) & (1 in primes)"
   ]
  },
  {
   "cell_type": "code",
   "execution_count": null,
   "id": "d874160b",
   "metadata": {},
   "outputs": [],
   "source": [
    "(2 in odds) & (2 in primes)"
   ]
  },
  {
   "cell_type": "code",
   "execution_count": null,
   "id": "81698665",
   "metadata": {},
   "outputs": [],
   "source": [
    "(3 in odds) & (3 in primes)"
   ]
  },
  {
   "cell_type": "markdown",
   "id": "50f8c6e2",
   "metadata": {},
   "source": [
    "But this gets old pretty quickly. A faster way to do this is using the method `set.intersection()`:"
   ]
  },
  {
   "cell_type": "code",
   "execution_count": null,
   "id": "cb9ab60d",
   "metadata": {},
   "outputs": [],
   "source": [
    "odds.intersection(primes)"
   ]
  },
  {
   "cell_type": "markdown",
   "id": "4888092c",
   "metadata": {},
   "source": [
    "#### TODO\n",
    "Create a set called `even_primes` of all numbers between 1 and 10 which are both even and prime. Don't manually write out the set, but instead use existing sets and methods."
   ]
  },
  {
   "cell_type": "code",
   "execution_count": null,
   "id": "d259ac7a",
   "metadata": {},
   "outputs": [],
   "source": [
    "____"
   ]
  },
  {
   "cell_type": "code",
   "execution_count": null,
   "id": "15b505c8",
   "metadata": {},
   "outputs": [],
   "source": [
    "# RUN CELL TO TEST VALUE\n",
    "test_even_primes.test(even_primes)"
   ]
  },
  {
   "cell_type": "markdown",
   "id": "cb252684",
   "metadata": {},
   "source": [
    "#### TODO\n",
    "What is the length of `odds.intersection(evens)`?"
   ]
  },
  {
   "cell_type": "code",
   "execution_count": null,
   "id": "dc239ce8",
   "metadata": {},
   "outputs": [],
   "source": [
    "# RUN CELL TO SEE QUIZ\n",
    "quiz_len_odds_evens"
   ]
  },
  {
   "cell_type": "markdown",
   "id": "072103f1",
   "metadata": {},
   "source": [
    "If we think of a Venn diagram, the intersection is the part in the middle of two circles which overlap (i.e., **\"intersect\"** ).\n",
    "\n",
    "The other parts of a Venn diagram are:\n",
    "\n",
    "**The difference**: These are the elements that are in one set but not the other."
   ]
  },
  {
   "cell_type": "code",
   "execution_count": null,
   "id": "9473df6e",
   "metadata": {},
   "outputs": [],
   "source": [
    "evens.difference(primes)"
   ]
  },
  {
   "cell_type": "markdown",
   "id": "9f77e2c0",
   "metadata": {},
   "source": [
    "#### TODO\n",
    "Create a set called `primes_not_odd` which is the set of all prime numbers that are not odd."
   ]
  },
  {
   "cell_type": "code",
   "execution_count": null,
   "id": "00a1a640",
   "metadata": {},
   "outputs": [],
   "source": [
    "primes_not_odd = primes.difference(odds)"
   ]
  },
  {
   "cell_type": "code",
   "execution_count": null,
   "id": "229ccd54",
   "metadata": {},
   "outputs": [],
   "source": [
    "# RUN CELL TO TEST VALUE\n",
    "test_primes_not_odd.test(primes_not_odd)"
   ]
  },
  {
   "cell_type": "markdown",
   "id": "b9fbe3bc",
   "metadata": {},
   "source": [
    "#### TODO\n",
    "What is the value of `len(primes_not_odd.difference(even_primes))`?"
   ]
  },
  {
   "cell_type": "code",
   "execution_count": null,
   "id": "de1da97c",
   "metadata": {},
   "outputs": [],
   "source": [
    "# RUN CELL TO SEE QUIZ\n",
    "test_len_pno_ep"
   ]
  },
  {
   "cell_type": "code",
   "execution_count": null,
   "id": "05b1c77e",
   "metadata": {},
   "outputs": [],
   "source": []
  },
  {
   "cell_type": "markdown",
   "id": "cbb606d0",
   "metadata": {},
   "source": [
    "**The union:** These are all elements in both sets (i.e., all off the venn diagram)"
   ]
  },
  {
   "cell_type": "code",
   "execution_count": null,
   "id": "eb62c169",
   "metadata": {},
   "outputs": [],
   "source": [
    "odds.union(primes)"
   ]
  },
  {
   "cell_type": "markdown",
   "id": "08480756",
   "metadata": {},
   "source": [
    "#### TODO\n",
    "Create a new set called `naturals_10` which contains all of the whole numbers 1-10. Don't manually write out the set as `{1, 2, ...}`, but instead use existing sets to create a **superset**."
   ]
  },
  {
   "cell_type": "code",
   "execution_count": null,
   "id": "c31edadb",
   "metadata": {},
   "outputs": [],
   "source": [
    "naturals_10 = ____"
   ]
  },
  {
   "cell_type": "code",
   "execution_count": null,
   "id": "991752b9",
   "metadata": {},
   "outputs": [],
   "source": [
    "# RUN CELL TO TEST VALUE\n",
    "test_naturals_10.test(naturals_10)"
   ]
  },
  {
   "cell_type": "code",
   "execution_count": null,
   "id": "40c41619",
   "metadata": {},
   "outputs": [],
   "source": []
  },
  {
   "cell_type": "markdown",
   "id": "8c0c7c1d",
   "metadata": {},
   "source": [
    "#### Deduplicating with sets\n",
    "Another common way of using sets is **deduplicating collections**. We said earlier that lists and tuples can have duplicate values, while sets contain only unique values. That means that if we want to know what all the unique values in a list with duplicates are, we can do this by turning a list into a set.\n",
    "\n",
    "For example, let's say we had a class with a lot of people whose names start with **\"A\"** and put their names in a list. To get the unique list of first names, we could do the following:"
   ]
  },
  {
   "cell_type": "code",
   "execution_count": null,
   "id": "c7d2cd3f",
   "metadata": {},
   "outputs": [],
   "source": [
    "first_names = [\"Alex\", \"Alec\", \"Alex\", \"Aaron\", \"Alex\", \"Alek\", \"Alexis\"]\n",
    "first_names_unq = set(first_names)\n",
    "first_names_unq"
   ]
  },
  {
   "cell_type": "markdown",
   "id": "3f6975b9",
   "metadata": {},
   "source": [
    "#### TODO\n",
    "Let's say we had a list of the cities where a group of patients live. We want to know how many unique cities our patient populations reside in. Create an object called called `unq_cities` and count how many values are in it. Save that number as `num_unq_cities`."
   ]
  },
  {
   "cell_type": "code",
   "execution_count": null,
   "id": "eed6f429",
   "metadata": {},
   "outputs": [],
   "source": [
    "pt_cities = [\n",
    "    \"Salt Lake City\",\n",
    "    \"Ogden\",\n",
    "    \"Evanston\",\n",
    "    \"Salt Lake City\",\n",
    "    \"Salt Lake Cit, UT\",\n",
    "    \"Provo\",\n",
    "    \"Provo\"\n",
    "]"
   ]
  },
  {
   "cell_type": "code",
   "execution_count": null,
   "id": "975c3c90",
   "metadata": {},
   "outputs": [],
   "source": [
    "unq_cities = set(pt_cities)"
   ]
  },
  {
   "cell_type": "code",
   "execution_count": null,
   "id": "f884ef11",
   "metadata": {},
   "outputs": [],
   "source": [
    "num_unq_cities = len(unq_cities)"
   ]
  },
  {
   "cell_type": "code",
   "execution_count": null,
   "id": "08d222e6",
   "metadata": {},
   "outputs": [],
   "source": [
    "num_unq_cities"
   ]
  },
  {
   "cell_type": "code",
   "execution_count": null,
   "id": "8039d31a",
   "metadata": {},
   "outputs": [],
   "source": [
    "# RUN CELL TO TEST VALUE\n",
    "test_num_unq_cities.test(num_unq_cities)"
   ]
  },
  {
   "cell_type": "markdown",
   "id": "fecec2fe",
   "metadata": {},
   "source": [
    "#### Discussion\n",
    "What is an issue with our count above? What information do we lose when we deduplicate the lists?"
   ]
  },
  {
   "cell_type": "code",
   "execution_count": null,
   "id": "325be6ba",
   "metadata": {},
   "outputs": [],
   "source": []
  },
  {
   "cell_type": "markdown",
   "id": "7f8e8492",
   "metadata": {},
   "source": [
    "## Dictionaries\n",
    "Like sets, **dictionaries** are unique and unordered. However, while sets are collections of individual elements, dictionaries are collections of **key/value pairs**. \n",
    "\n",
    "A key/value pair is a unique mapping from one item (a key) to another (a value). An example of this in real life is a mapping from states to their capitals:\n",
    "\n",
    "- Utah --> Salt Lake City\n",
    "- Pennsylvania --> Harrisburg\n",
    "- New York --> Albany\n",
    "\n",
    "The states are the keys and the capitals are values. Let's see what this would look like in Python.\n",
    "\n",
    "Dictionaries are declared using curly brackets (just like sets). But we signify the key/value mapping using a colon **\":\"**."
   ]
  },
  {
   "cell_type": "code",
   "execution_count": null,
   "id": "87e97602",
   "metadata": {},
   "outputs": [],
   "source": [
    "state_capitals = {\n",
    "    \"Utah\": \"Salt Lake City\",\n",
    "    \"Pennsylvania\": \"Harrisburg\",\n",
    "    \"New York\": \"Alabany\"\n",
    "}"
   ]
  },
  {
   "cell_type": "code",
   "execution_count": null,
   "id": "8813ac11",
   "metadata": {},
   "outputs": [],
   "source": [
    "state_capitals"
   ]
  },
  {
   "cell_type": "markdown",
   "id": "4857688c",
   "metadata": {},
   "source": [
    "Let's say we want to know the capital of a particular state. We can get this by using the key (i.e., state) as the index:"
   ]
  },
  {
   "cell_type": "code",
   "execution_count": null,
   "id": "3d10afaf",
   "metadata": {},
   "outputs": [],
   "source": [
    "state_capitals[\"Utah\"]"
   ]
  },
  {
   "cell_type": "markdown",
   "id": "34318c1b",
   "metadata": {},
   "source": [
    "#### TODO\n",
    "What code would we use to get the capital of Pennsylvania?"
   ]
  },
  {
   "cell_type": "code",
   "execution_count": null,
   "id": "7bc82e18",
   "metadata": {},
   "outputs": [],
   "source": [
    "# RUN CODE TO SEE QUIZ\n",
    "test_capital_pa"
   ]
  },
  {
   "cell_type": "markdown",
   "id": "fa499e06",
   "metadata": {},
   "source": [
    "If you try to index using a key that isn't in the dictionary, you get an error:"
   ]
  },
  {
   "cell_type": "code",
   "execution_count": null,
   "id": "a144ed20",
   "metadata": {},
   "outputs": [],
   "source": [
    "state_capitals[\"Ohio\"]"
   ]
  },
  {
   "cell_type": "markdown",
   "id": "5ac85c44",
   "metadata": {},
   "source": [
    "You can add a key/value pair to a dictionary like this:"
   ]
  },
  {
   "cell_type": "code",
   "execution_count": null,
   "id": "b0f7a2fe",
   "metadata": {},
   "outputs": [],
   "source": [
    "state_capitals[\"California\"] = \"Sacramento\""
   ]
  },
  {
   "cell_type": "code",
   "execution_count": null,
   "id": "f289b555",
   "metadata": {},
   "outputs": [],
   "source": [
    "state_capitals"
   ]
  },
  {
   "cell_type": "code",
   "execution_count": null,
   "id": "0ea80e60",
   "metadata": {},
   "outputs": [],
   "source": [
    "len(state_capitals)"
   ]
  },
  {
   "cell_type": "markdown",
   "id": "4f4bb073",
   "metadata": {},
   "source": [
    "And you can remove one using the `pop(key)` method (similar to lists):"
   ]
  },
  {
   "cell_type": "code",
   "execution_count": null,
   "id": "7a74075a",
   "metadata": {},
   "outputs": [],
   "source": [
    "state_capitals.pop(\"California\")"
   ]
  },
  {
   "cell_type": "code",
   "execution_count": null,
   "id": "5f3a9440",
   "metadata": {},
   "outputs": [],
   "source": [
    "len(state_capitals)"
   ]
  },
  {
   "cell_type": "code",
   "execution_count": null,
   "id": "585d4dbd",
   "metadata": {},
   "outputs": [],
   "source": [
    "state_capitals"
   ]
  },
  {
   "cell_type": "markdown",
   "id": "c1ebd375",
   "metadata": {},
   "source": [
    "#### TODO\n",
    "Add `\"Idaho\"` and its capital city to our dictionary."
   ]
  },
  {
   "cell_type": "code",
   "execution_count": null,
   "id": "ddbacb20",
   "metadata": {},
   "outputs": [],
   "source": [
    "____ = \"Boise\""
   ]
  },
  {
   "cell_type": "code",
   "execution_count": null,
   "id": "3285916f",
   "metadata": {},
   "outputs": [],
   "source": [
    "# RUN CODE TO TEST VALUE\n",
    "test_capital_idaho.test(state_capitals[\"Idaho\"])"
   ]
  },
  {
   "cell_type": "markdown",
   "id": "d0c2bd9a",
   "metadata": {},
   "source": [
    "#### Uniqueness\n",
    "Just like sets, dictionaries are unique, so you can only map a key to a single value. This makes sense in our case: a state can't have more than one capital!\n",
    "\n",
    "#### Discussion\n",
    "Let's say that a mapping actually can have multiple values. For example, maybe we were mapping states to **all** cities in that state, not just the capital. How could we do this with a Python dictionary?"
   ]
  },
  {
   "cell_type": "markdown",
   "id": "4a79bb16",
   "metadata": {},
   "source": [
    "#### TODO\n",
    "\n",
    "What value would be printed out by the code below?\n",
    "\n",
    "```python\n",
    "state_capitals2 = {\n",
    "    \"Utah\": \"Salt Lake City\",\n",
    "    \"Pennsylvania\": \"Harrisburg\",\n",
    "    \"New York\": \"Alabany\"\n",
    "}\n",
    "\n",
    "state_capitals2[\"New York\"] = \"New York City\"\n",
    "print(state_capitals2[\"New York\"])\n",
    "```"
   ]
  },
  {
   "cell_type": "code",
   "execution_count": null,
   "id": "f0e27598",
   "metadata": {},
   "outputs": [],
   "source": [
    "# RUN CELL TO SEE QUIZ\n",
    "quiz_state_capitals2_ny "
   ]
  },
  {
   "cell_type": "markdown",
   "id": "a36a8b88",
   "metadata": {},
   "source": [
    "Let's think back to our example of emergency room patients. Earlier, all we had done is record patient names. But let's say we started to record some additional information as well:\n",
    "\n",
    "| name | arrival_time | age | severity |\n",
    "|------|--------------|-----|----------|\n",
    "|   Jim   |      6:00        |  40   |     40     |\n",
    "|   Mary   |       6:30       | 31   |     10     |\n",
    "|   Rachel   |        7:00      |   27  |    20      |\n",
    "|    Laura  |        7:30      |   38  |     15     |\n",
    "|   Chloe   |         8:00     |   25  |     50     |\n",
    "\n",
    "We can use dictionaries to map each name to the respective value. Let's start by just mapping names to arrival times:"
   ]
  },
  {
   "cell_type": "code",
   "execution_count": null,
   "id": "8a3ba159",
   "metadata": {},
   "outputs": [],
   "source": [
    "pt_arrivals = {\n",
    "    \"Jim\": \"6:00\",\n",
    "    \"Mary\": \"6:30\",\n",
    "    \"Rachel\": \"7:00\",\n",
    "    \"Laura\": \"7:30\",\n",
    "    \"Chloe\": \"8:00\"\n",
    "}"
   ]
  },
  {
   "cell_type": "code",
   "execution_count": null,
   "id": "7682d1fc",
   "metadata": {},
   "outputs": [],
   "source": [
    "pt_arrivals"
   ]
  },
  {
   "cell_type": "markdown",
   "id": "5148dc5d",
   "metadata": {},
   "source": [
    "#### TODO"
   ]
  },
  {
   "cell_type": "code",
   "execution_count": null,
   "id": "1deec25a",
   "metadata": {},
   "outputs": [],
   "source": [
    "# RUN CELL TO SEE QUIZ\n",
    "quiz_code_rachel_arrival "
   ]
  },
  {
   "cell_type": "markdown",
   "id": "5f40bc31",
   "metadata": {},
   "source": [
    "We can separate out the keys and values using the `dict.keys()` and `dict.values()` methods:"
   ]
  },
  {
   "cell_type": "code",
   "execution_count": null,
   "id": "cb30e54e",
   "metadata": {},
   "outputs": [],
   "source": [
    "pt_arrivals.keys()"
   ]
  },
  {
   "cell_type": "code",
   "execution_count": null,
   "id": "dfb99903",
   "metadata": {},
   "outputs": [],
   "source": [
    "pt_arrivals.values()"
   ]
  },
  {
   "cell_type": "markdown",
   "id": "a0f96759",
   "metadata": {},
   "source": [
    "This can be useful if we just want to check if there is a patient by a certain name in our records, or if anyone arrived at a certain time."
   ]
  },
  {
   "cell_type": "markdown",
   "id": "a4e9f0e5",
   "metadata": {},
   "source": [
    "#### TODO"
   ]
  },
  {
   "cell_type": "code",
   "execution_count": null,
   "id": "68950b0b",
   "metadata": {},
   "outputs": [],
   "source": [
    "# RUN CODE TO SEE QUIZ\n",
    "test_check_pt_name"
   ]
  },
  {
   "cell_type": "code",
   "execution_count": null,
   "id": "1549fed5",
   "metadata": {},
   "outputs": [],
   "source": [
    "# RUN CELL TO SEE QUIZ\n",
    "quiz_jacob_in_dict"
   ]
  },
  {
   "cell_type": "code",
   "execution_count": null,
   "id": "3588ceba",
   "metadata": {},
   "outputs": [],
   "source": [
    "# RUN CELL TO SEE QUIZ\n",
    "test_check_pt_time"
   ]
  },
  {
   "cell_type": "markdown",
   "id": "0ecf2c35",
   "metadata": {},
   "source": [
    "All of the examples we've seen so far have had strings as both the keys and values. But there are lots of other options for what data we put in a dictionary. Without getting too much into the details, the values can be any data type that is **hashable** - so that includes numerics, ints, tuples, and strings. The values can be any data type.\n",
    "\n",
    "So in our earlier example where we wanted to map states to multiple names of cities, we could have done that as:\n",
    "\n",
    "```python\n",
    "{\n",
    "    \"Utah\": {\"Salt Lake City\", \"Provo\", \"Ogden\", \"Park City\"},\n",
    "    \"Pennsylvania\": {\"Pittsburgh\", \"Philadelphia\", \"Erie\", \"Harrisburg\"},\n",
    "    \"California\": {\"San Francisco\", \"San Diego\", \"Los Angeles\", \"Sacramento\"}\n",
    "}\n",
    "```"
   ]
  },
  {
   "cell_type": "code",
   "execution_count": null,
   "id": "0dde0efe",
   "metadata": {},
   "outputs": [],
   "source": [
    "# RUN CELL TO SEE CODE\n",
    "quiz_dict_data_types"
   ]
  },
  {
   "cell_type": "markdown",
   "id": "bccedb1b",
   "metadata": {},
   "source": [
    "One especially useful way of structuring is **nested dictionaries** where the keys are some basic data type, such as strings, and the values are other dictionaries. This is a common way of mapping keys to multiple attributes.\n",
    "\n",
    "For example, if we wanted to map state names to several different facts about them, we could do that as:"
   ]
  },
  {
   "cell_type": "code",
   "execution_count": null,
   "id": "52070b27",
   "metadata": {},
   "outputs": [],
   "source": [
    "states = {\n",
    "    \"Utah\": {\n",
    "        \"cities\": {\"Salt Lake City\", \"Provo\", \"Ogden\", \"Park City\"},\n",
    "        \"capital\": \"Salt Lake City\",\n",
    "        \"population\": 3.15 # 3.15 million\n",
    "    },\n",
    "    \"Pennsylvania\": {\n",
    "        \"cities\": {\"Pittsburgh\", \"Philadelphia\", \"Erie\", \"Harrisburg\"},\n",
    "        \"capital\": \"Harrisburg\",\n",
    "        \"population\": 12.79\n",
    "    },\n",
    "    \"California\": {\n",
    "        \"cities\": {\"San Francisco\", \"San Diego\", \"Los Angeles\", \"Sacramento\"},\n",
    "        \"capital\": \"Sacramento\",\n",
    "        \"population\": 39.35\n",
    "    }\n",
    "}"
   ]
  },
  {
   "cell_type": "code",
   "execution_count": null,
   "id": "98cee28c",
   "metadata": {},
   "outputs": [],
   "source": [
    "# RUN CELL TO SEE QUIZ\n",
    "quiz_type_states_utah"
   ]
  },
  {
   "cell_type": "markdown",
   "id": "f4dc671e",
   "metadata": {},
   "source": [
    "Once we access the inner dictionary in a nested dictionary, we can then use the keys in that dictionary to look up the properties of the city:"
   ]
  },
  {
   "cell_type": "code",
   "execution_count": null,
   "id": "6db88fea",
   "metadata": {},
   "outputs": [],
   "source": [
    "states[\"Utah\"][\"capital\"]"
   ]
  },
  {
   "cell_type": "markdown",
   "id": "f9f7a7e8",
   "metadata": {},
   "source": [
    "#### TODO"
   ]
  },
  {
   "cell_type": "code",
   "execution_count": null,
   "id": "b3e38762",
   "metadata": {},
   "outputs": [],
   "source": [
    "# RUN CELL TO SEE QUIZ\n",
    "quiz_ca_population"
   ]
  },
  {
   "cell_type": "markdown",
   "id": "75c361c5",
   "metadata": {},
   "source": [
    "#### TODO\n",
    "Let's say we wanted to get the set of all cities in either Utah or Pennsylvania. Using `states`, create a new variable called `cities_ut_pa` which contains all the corresponding elements."
   ]
  },
  {
   "cell_type": "code",
   "execution_count": null,
   "id": "2f511092",
   "metadata": {},
   "outputs": [],
   "source": [
    "____ = ____\n",
    "cities_ut_pa"
   ]
  },
  {
   "cell_type": "code",
   "execution_count": null,
   "id": "80c9ee66",
   "metadata": {
    "scrolled": true
   },
   "outputs": [],
   "source": [
    "# RUN CELL TO TEST VALUE\n",
    "test_cities_ut_pa.test(cities_ut_pa)"
   ]
  },
  {
   "cell_type": "code",
   "execution_count": null,
   "id": "fb1e3244",
   "metadata": {},
   "outputs": [],
   "source": []
  }
 ],
 "metadata": {
  "kernelspec": {
   "display_name": "Python 3 (ipykernel)",
   "language": "python",
   "name": "python3"
  },
  "language_info": {
   "codemirror_mode": {
    "name": "ipython",
    "version": 3
   },
   "file_extension": ".py",
   "mimetype": "text/x-python",
   "name": "python",
   "nbconvert_exporter": "python",
   "pygments_lexer": "ipython3",
   "version": "3.9.12"
  }
 },
 "nbformat": 4,
 "nbformat_minor": 5
}
