{
 "cells": [
  {
   "cell_type": "markdown",
   "id": "c3250811",
   "metadata": {},
   "source": [
    "<html>\n",
    "<table width=\"100%\" cellspacing=\"2\" cellpadding=\"2\" border=\"1\">\n",
    "<tbody>\n",
    "<tr>\n",
    "<td valign=\"center\" align=\"center\" width=\"45%\"><img src=\"../media/Univ-Utah.jpeg\"><br>\n",
    "</td>\n",
    "    <td valign=\"center\" align=\"center\" width=\"75%\">\n",
    "<h1 align=\"center\"><font size=\"+1\">University of Utah<br>Population Health Sciences<br>Data Science Workshop</font></h1></td>\n",
    "<td valign=\"center\" align=\"center\" width=\"45%\"><img\n",
    "src=\"../media/U_Health_stacked_png_red.png\" alt=\"Utah Health\n",
    "Logo\" width=\"128\" height=\"134\"><br>\n",
    "</td>\n",
    "</tr>\n",
    "</tbody>\n",
    "</table>\n",
    "<br>\n",
    "</html>\n"
   ]
  },
  {
   "cell_type": "markdown",
   "id": "d42912cc",
   "metadata": {},
   "source": [
    "# 1. Python Essentials\n",
    "We'll start by learning some of the essentials of Python, as well as how to use Jupyter Notebooks."
   ]
  },
  {
   "cell_type": "code",
   "execution_count": null,
   "id": "c5d3bbf0",
   "metadata": {},
   "outputs": [],
   "source": []
  },
  {
   "cell_type": "markdown",
   "id": "205c9dc6",
   "metadata": {},
   "source": [
    "# I. Jupyter Notebooks\n",
    "Jupyter Notebooks are an environment which can be used for running code, displaying results and visualizations, and sharing human-readable information. Jupyter notebooks consist of *cells* and each cell defines a single piece of code. \n",
    "\n",
    "The cell which you're reading now is called a *Markdown* cell: It is meant to be human-readable and allows formatting like:\n",
    "- Bullted or numbered lists\n",
    "- **bold text**\n",
    "- *italics*\n",
    "\n",
    "Double-click on this cell to see what the raw markdown looks like. Then press `\"Run\"` or hit \"Shift+Enter\" to re-execute the cell so it renders in your browser. "
   ]
  },
  {
   "cell_type": "markdown",
   "id": "934267db",
   "metadata": {},
   "source": [
    "The other main cell type is the **Code** cell. This contains executable Python code. When you run a code cell, it will execute the code within and display the output. This way, you can go through a notebook a run code step-by-step and inspect the output.\n",
    "\n",
    "You can change a cell type by clicking the dropdown menu above which says **\"Markdown\"**. To make it a Python cell, select **\"Code\"**."
   ]
  },
  {
   "cell_type": "code",
   "execution_count": null,
   "id": "d2e8dadb",
   "metadata": {},
   "outputs": [],
   "source": [
    "print(\"This is a code cell.\")"
   ]
  },
  {
   "cell_type": "markdown",
   "id": "a747cb7c",
   "metadata": {},
   "source": [
    "Inside of a code cell, you can write **comments** by putting a `#` symbol before text. Anything on the line after a `#` will not be executed and is just there for humans to read it."
   ]
  },
  {
   "cell_type": "code",
   "execution_count": null,
   "id": "d1bfd76f",
   "metadata": {},
   "outputs": [],
   "source": [
    "# This line won't run\n",
    "print(\"But this one will!\") # (but nothing after this)"
   ]
  },
  {
   "cell_type": "markdown",
   "id": "9a3d418e",
   "metadata": {},
   "source": [
    "#### TODO\n",
    "Run the cell below. Make sure it runs successfully, otherwise you'll get errors later in the notebook!"
   ]
  },
  {
   "cell_type": "code",
   "execution_count": null,
   "id": "02258de8",
   "metadata": {},
   "outputs": [],
   "source": [
    "from helpers import *"
   ]
  },
  {
   "cell_type": "code",
   "execution_count": null,
   "id": "a45a1b2f",
   "metadata": {},
   "outputs": [],
   "source": []
  },
  {
   "cell_type": "markdown",
   "id": "f6a44b76",
   "metadata": {},
   "source": [
    "### TODO\n",
    "Change the cell below to be a code cell. Then modify the code so the `print` statement will execute. Run the cell by hitting either the `\"Run\"` button above (looks like a \"play\" button\") or hitting \"Shift+Enter\". "
   ]
  },
  {
   "cell_type": "raw",
   "id": "da3a728b",
   "metadata": {},
   "source": [
    "# print(\"Hello, there!\")"
   ]
  },
  {
   "cell_type": "markdown",
   "id": "6de857be",
   "metadata": {},
   "source": [
    "Note that in the code cell above, when we execute the cell it runs the single line of code and then displays the output underneath."
   ]
  },
  {
   "cell_type": "markdown",
   "id": "b19c61e0",
   "metadata": {},
   "source": [
    "To create a new cell, press the **\"+\"** buttom in the menu. The default cell type is **Code**.\n",
    "\n",
    "### TODO\n",
    "Create two new cells below. Make the first cell a Markdown cell. Copy and paste the following text into the Markdown cell and edit it with your information. Run the cell. Notice how the formatting of the text is rendered once you execute the cell.\n",
    "\n",
    "```\n",
    "- **First Name**: your first name\n",
    "- **Last Name**: your last name\n",
    "- **Major**: Your department\n",
    "```\n",
    "\n",
    "Then, make the second cell a Code cell. Copy and paste the following code and execute it:\n",
    "\n",
    "```\n",
    "print(\"1 + 2 = \", 1 + 2)\n",
    "```"
   ]
  },
  {
   "cell_type": "code",
   "execution_count": null,
   "id": "13698072",
   "metadata": {},
   "outputs": [],
   "source": []
  },
  {
   "cell_type": "markdown",
   "id": "3b8eb9e4",
   "metadata": {},
   "source": [
    "## Errors\n",
    "Errors tell you that something in the code was incorrect and either couldn't run or failed some check that the developer put in. They aren't always pleasant, but you're going to see a lot of them, so we might as well get familiar with them!\n",
    "\n",
    "There are several different types of errors you'll come across. Let's see some examples and learn how to understand them.\n",
    "\n",
    "The most common is a **syntax error**. This tells you that you've made a mistake in the syntax of your code. The code below needs parentheses around `x`. Read the message at the bottom."
   ]
  },
  {
   "cell_type": "code",
   "execution_count": null,
   "id": "db2689fb",
   "metadata": {},
   "outputs": [],
   "source": [
    "print 1"
   ]
  },
  {
   "cell_type": "code",
   "execution_count": null,
   "id": "53b80c74",
   "metadata": {},
   "outputs": [],
   "source": [
    "print(1)"
   ]
  },
  {
   "cell_type": "markdown",
   "id": "f7025fa2",
   "metadata": {},
   "source": [
    "Another common error is `NameError`. That means you haven't defined a variable yet, or maybe you misspelled something."
   ]
  },
  {
   "cell_type": "code",
   "execution_count": null,
   "id": "7e6167bf",
   "metadata": {},
   "outputs": [],
   "source": [
    "# Throws an error\n",
    "x"
   ]
  },
  {
   "cell_type": "code",
   "execution_count": null,
   "id": "3bd26f60",
   "metadata": {},
   "outputs": [],
   "source": [
    "# Runs successfully\n",
    "x = 3\n",
    "x"
   ]
  },
  {
   "cell_type": "code",
   "execution_count": null,
   "id": "1c783a15",
   "metadata": {},
   "outputs": [],
   "source": [
    "# Throws an error\n",
    "my_vriable = 2\n",
    "my_variable"
   ]
  },
  {
   "cell_type": "code",
   "execution_count": null,
   "id": "0095f9ad",
   "metadata": {},
   "outputs": [],
   "source": [
    "# Runs successfully\n",
    "my_variable = 2\n",
    "my_variable"
   ]
  },
  {
   "cell_type": "code",
   "execution_count": null,
   "id": "0a151333",
   "metadata": {},
   "outputs": [],
   "source": []
  },
  {
   "cell_type": "markdown",
   "id": "84d34f77",
   "metadata": {},
   "source": [
    "# Functions\n",
    "\n",
    "#### What is a function?\n",
    "One of the most important concepts in Python programming is **functions**. Functions are what will allow us to take input (e.g., data) and produce some sort of output (e.g., summary statistics) which are useful to us.\n",
    "\n",
    "\n",
    "#### Examples of functions\n",
    "\n",
    "You already saw one example of a function earlier called `print`. This function takes a message and \"prints\" it out for the user to see. The message we printed out below was *Hello, world!*"
   ]
  },
  {
   "cell_type": "markdown",
   "id": "b4646625",
   "metadata": {},
   "source": [
    "#### TODO\n",
    "Print your name in the cell below."
   ]
  },
  {
   "cell_type": "code",
   "execution_count": null,
   "id": "63b10b5a",
   "metadata": {},
   "outputs": [],
   "source": [
    "print(\"____\")"
   ]
  },
  {
   "cell_type": "markdown",
   "id": "d1cc1727",
   "metadata": {},
   "source": [
    "The syntax for using a function is:\n",
    "\n",
    "```python\n",
    "function_name(arg1, arg2, ...)\n",
    "```\n",
    "\n",
    "- Type the function name\n",
    "- Pass in any **arguments** or **parameters** in parentheses (sometimes there aren't any arguments!). \n",
    "\n",
    "You can print mutliple different phrases by passing multiple arguments into `print`:"
   ]
  },
  {
   "cell_type": "code",
   "execution_count": null,
   "id": "21ac4340",
   "metadata": {},
   "outputs": [],
   "source": [
    "print(\"My name is\", \"Alec\", \"B.\", \"Chapman\")"
   ]
  },
  {
   "cell_type": "markdown",
   "id": "5795c7b3",
   "metadata": {},
   "source": [
    "The `print` function, and a number of other functions, are loaded by default. Another useful funtion is `help`, which gives us information about how to use a function:"
   ]
  },
  {
   "cell_type": "code",
   "execution_count": null,
   "id": "1d173ecf",
   "metadata": {},
   "outputs": [],
   "source": [
    "help(print)"
   ]
  },
  {
   "cell_type": "code",
   "execution_count": null,
   "id": "8a452ae3",
   "metadata": {},
   "outputs": [],
   "source": [
    "help(help)"
   ]
  },
  {
   "cell_type": "markdown",
   "id": "8b165dfa",
   "metadata": {},
   "source": [
    "We'll learn how to write our own functions later, but first let's get some practice using functions."
   ]
  },
  {
   "cell_type": "markdown",
   "id": "3bd8d12c",
   "metadata": {},
   "source": [
    "#### TODO\n",
    "\n",
    "Here are a few examples of functions that have been defined for you:\n",
    "- `square(x)`: Squares a number\n",
    "- `add(x, y)`: Add x and y together\n",
    "- `print_name(first_name, last_name, middle_name=None)`: Prints \"My name is\", followed by your first/last name and optional middle initial (we'll talk more about optional arguments later)\n",
    "\n",
    "Using these functions, do the following:\n",
    "1. Calculate the square of 2\n",
    "2. Add 3 and 5\n",
    "3. Add 3 and 5 and square the result\n",
    "4. Print out your name"
   ]
  },
  {
   "cell_type": "code",
   "execution_count": null,
   "id": "7aa41683",
   "metadata": {},
   "outputs": [],
   "source": [
    "# Calculate the square of 2\n",
    "square(__)"
   ]
  },
  {
   "cell_type": "code",
   "execution_count": null,
   "id": "b2ad7444",
   "metadata": {},
   "outputs": [],
   "source": [
    "# Add 3 and 5\n",
    "add(__, 5)"
   ]
  },
  {
   "cell_type": "code",
   "execution_count": null,
   "id": "c2d03de5",
   "metadata": {},
   "outputs": [],
   "source": [
    "# Add 3 and 5, then square the result\n",
    "__"
   ]
  },
  {
   "cell_type": "code",
   "execution_count": null,
   "id": "91f20e5d",
   "metadata": {},
   "outputs": [],
   "source": [
    "# Print your name\n",
    "print_name(____)"
   ]
  },
  {
   "cell_type": "markdown",
   "id": "f98e8796",
   "metadata": {},
   "source": [
    "### Positional and Keyword Arguments\n",
    "There are two ways of providing arguments to functions: **positional** and **keyword** arguments. Positional arguments need to follow the right order for Python to know which argument is which. Keyword arguments are specified with a name. \n",
    "\n",
    "For example, we saw above that the function `print_name` takes three arguments - `first_name`, `last_name`, and `middle_name`:\n",
    "\n",
    "`print_name(first_name, last_name, middle_name=None)`\n",
    "\n",
    "You could call this function with each argument as a positional argument:"
   ]
  },
  {
   "cell_type": "code",
   "execution_count": null,
   "id": "e61700d5",
   "metadata": {},
   "outputs": [],
   "source": [
    "print_name(\"Alec\", \"Chapman\", \"B.\")"
   ]
  },
  {
   "cell_type": "markdown",
   "id": "7a7f15c3",
   "metadata": {},
   "source": [
    "Or with each as keyword arguments (in whatever order you like):"
   ]
  },
  {
   "cell_type": "code",
   "execution_count": null,
   "id": "e60c48ec",
   "metadata": {},
   "outputs": [],
   "source": [
    "print_name(first=\"Alec\", middle=\"B.\", last=\"Chapman\")"
   ]
  },
  {
   "cell_type": "markdown",
   "id": "fe98b121",
   "metadata": {},
   "source": [
    "Or some other combination:"
   ]
  },
  {
   "cell_type": "code",
   "execution_count": null,
   "id": "4ee54312",
   "metadata": {},
   "outputs": [],
   "source": [
    "print_name(\"Alec\", last=\"Chapman\", middle=\"B.\")"
   ]
  },
  {
   "cell_type": "markdown",
   "id": "9d285455",
   "metadata": {},
   "source": [
    "However, you **can't** have positional arguments follow keyword arguments. Once you start using keyword arguments, the rest have to be keyword arguments as well."
   ]
  },
  {
   "cell_type": "code",
   "execution_count": null,
   "id": "f20ad1fc",
   "metadata": {},
   "outputs": [],
   "source": [
    "# Throws an error\n",
    "print_name(\"Alec\", last=\"Chapman\", \"B.\")"
   ]
  },
  {
   "cell_type": "markdown",
   "id": "bf4d8623",
   "metadata": {},
   "source": [
    "When you look at `help(print_name`, you can see that `middle` is defined as a keyword argument because it says `middle=None`. That means that `None` is the default value for this argument, so you can optionally leave it out."
   ]
  },
  {
   "cell_type": "code",
   "execution_count": null,
   "id": "6dd84c5b",
   "metadata": {},
   "outputs": [],
   "source": [
    "help(print_name)"
   ]
  },
  {
   "cell_type": "code",
   "execution_count": null,
   "id": "180cca9c",
   "metadata": {},
   "outputs": [],
   "source": [
    "print_name(\"Alec\", \"Chapman\")"
   ]
  },
  {
   "cell_type": "markdown",
   "id": "a1e4e5b9",
   "metadata": {},
   "source": [
    "But you can't leave out a positional argument:"
   ]
  },
  {
   "cell_type": "code",
   "execution_count": null,
   "id": "694241cb",
   "metadata": {},
   "outputs": [],
   "source": [
    "# THROWS AN ERROR\n",
    "print_name(\"Alec\")"
   ]
  },
  {
   "cell_type": "markdown",
   "id": "e1fc0d66",
   "metadata": {},
   "source": [
    "#### TODO"
   ]
  },
  {
   "cell_type": "code",
   "execution_count": null,
   "id": "72384b62",
   "metadata": {},
   "outputs": [],
   "source": [
    "quiz_keyword_positional_args "
   ]
  },
  {
   "cell_type": "code",
   "execution_count": null,
   "id": "733c907a",
   "metadata": {},
   "outputs": [],
   "source": []
  },
  {
   "cell_type": "markdown",
   "id": "94a1f5d1",
   "metadata": {},
   "source": [
    "## Variables\n",
    "Now that we know how to use functions, the next tool we'll learn about is **variables**.\n",
    "\n",
    "Variables are objects whose values can be changed. The opposite of a variable is a **literal**, which is a single specific value like `5` or `\"abc\"`.\n",
    "\n",
    "We **declare** a variable using the assignent operator `=`:\n",
    "\n",
    "```python\n",
    "var_name = ... \n",
    "```\n",
    "\n",
    "So, for example, we can declare a variable **x** and give it the value of 5. Then we can pass `x` into our `square` function and get the value of `x**2`."
   ]
  },
  {
   "cell_type": "code",
   "execution_count": null,
   "id": "ce5e5583",
   "metadata": {},
   "outputs": [],
   "source": [
    "x = 5\n",
    "square(x)"
   ]
  },
  {
   "cell_type": "markdown",
   "id": "45729ea5",
   "metadata": {},
   "source": [
    "Since `x` is a variable, we can change it to a different value so we can run our function using a different value."
   ]
  },
  {
   "cell_type": "code",
   "execution_count": null,
   "id": "64590c5c",
   "metadata": {},
   "outputs": [],
   "source": [
    "x = 3\n",
    "square(3)"
   ]
  },
  {
   "cell_type": "markdown",
   "id": "8625d616",
   "metadata": {},
   "source": [
    "We can also define a variable using the output of a function.\n",
    "\n",
    "### TODO\n",
    "What value will we get with the following code?\n",
    "```python\n",
    "x = 3\n",
    "y = square(x)\n",
    "x = x - 1\n",
    "add(x, y)\n",
    "```"
   ]
  },
  {
   "cell_type": "code",
   "execution_count": null,
   "id": "61f11430",
   "metadata": {},
   "outputs": [],
   "source": [
    "# RUN CELL TO SEE QUIZ\n",
    "x_y_changing_var_quiz "
   ]
  },
  {
   "cell_type": "markdown",
   "id": "d3ce6c4d",
   "metadata": {},
   "source": [
    "#### TODO\n",
    "Declare two variables, `r` and `pi`. Set `r` equal to 2 and `pi` equal to `3.14`."
   ]
  },
  {
   "cell_type": "code",
   "execution_count": null,
   "id": "76d65e31",
   "metadata": {},
   "outputs": [],
   "source": [
    "r = __\n",
    "____"
   ]
  },
  {
   "cell_type": "code",
   "execution_count": null,
   "id": "b4a22da4",
   "metadata": {},
   "outputs": [],
   "source": [
    "test_r_equals_2.test(r)"
   ]
  },
  {
   "cell_type": "code",
   "execution_count": null,
   "id": "7f751cc6",
   "metadata": {},
   "outputs": [],
   "source": [
    "test_pi_equals.test(pi)"
   ]
  },
  {
   "cell_type": "code",
   "execution_count": null,
   "id": "de80c030",
   "metadata": {},
   "outputs": [],
   "source": []
  },
  {
   "cell_type": "code",
   "execution_count": null,
   "id": "146436e9",
   "metadata": {},
   "outputs": [],
   "source": []
  },
  {
   "cell_type": "markdown",
   "id": "9773b862",
   "metadata": {},
   "source": [
    "## Datatypes\n",
    "Variables can be of any Python **datatype**. Here are some examples of data types:"
   ]
  },
  {
   "cell_type": "markdown",
   "id": "6fc70cb8",
   "metadata": {},
   "source": [
    "### Integers\n",
    "Integers are whole numbers. Each of the following cells have an integer."
   ]
  },
  {
   "cell_type": "code",
   "execution_count": null,
   "id": "cc3320cf",
   "metadata": {},
   "outputs": [],
   "source": [
    "1"
   ]
  },
  {
   "cell_type": "code",
   "execution_count": null,
   "id": "b96b582c",
   "metadata": {},
   "outputs": [],
   "source": [
    "x = 3\n",
    "x"
   ]
  },
  {
   "cell_type": "markdown",
   "id": "6221ba27",
   "metadata": {},
   "source": [
    "We can add two or more integers using the `+` operator (instead of the `add` function we used earlier - that was just an example):"
   ]
  },
  {
   "cell_type": "code",
   "execution_count": null,
   "id": "859af498",
   "metadata": {},
   "outputs": [],
   "source": [
    "x + 5"
   ]
  },
  {
   "cell_type": "code",
   "execution_count": null,
   "id": "368d782e",
   "metadata": {},
   "outputs": [],
   "source": [
    "x + 5 + 4"
   ]
  },
  {
   "cell_type": "markdown",
   "id": "03922b38",
   "metadata": {},
   "source": [
    "Or multiply them with `*`:"
   ]
  },
  {
   "cell_type": "code",
   "execution_count": null,
   "id": "4ff9547a",
   "metadata": {},
   "outputs": [],
   "source": [
    "x * 5"
   ]
  },
  {
   "cell_type": "markdown",
   "id": "d7d1ad21",
   "metadata": {},
   "source": [
    "... divide them  with `/` (note that it isn't an integer anymore):"
   ]
  },
  {
   "cell_type": "code",
   "execution_count": null,
   "id": "35c3157a",
   "metadata": {},
   "outputs": [],
   "source": [
    "x / 5"
   ]
  },
  {
   "cell_type": "markdown",
   "id": "07aad6a3",
   "metadata": {},
   "source": [
    "... or exponentiate them using `**`:"
   ]
  },
  {
   "cell_type": "code",
   "execution_count": null,
   "id": "3f162f1c",
   "metadata": {},
   "outputs": [],
   "source": [
    "x ** x"
   ]
  },
  {
   "cell_type": "markdown",
   "id": "1fc81d1a",
   "metadata": {},
   "source": [
    "## Floats\n",
    "Floats are the other numeric datatype in Python and are a number with a decimal. "
   ]
  },
  {
   "cell_type": "code",
   "execution_count": null,
   "id": "a9434c7e",
   "metadata": {},
   "outputs": [],
   "source": [
    "1.3"
   ]
  },
  {
   "cell_type": "code",
   "execution_count": null,
   "id": "3caadd0f",
   "metadata": {},
   "outputs": [],
   "source": [
    "pi = 3.14\n",
    "pi"
   ]
  },
  {
   "cell_type": "markdown",
   "id": "379a7ecb",
   "metadata": {},
   "source": [
    "We can do all the same operations on floats that we did on integers. We can also do those same operations between floats and integers."
   ]
  },
  {
   "cell_type": "code",
   "execution_count": null,
   "id": "6f0c7f5c",
   "metadata": {},
   "outputs": [],
   "source": [
    "pi + pi"
   ]
  },
  {
   "cell_type": "code",
   "execution_count": null,
   "id": "7dd7823c",
   "metadata": {},
   "outputs": [],
   "source": [
    "2 * pi"
   ]
  },
  {
   "cell_type": "code",
   "execution_count": null,
   "id": "0ff5aea5",
   "metadata": {},
   "outputs": [],
   "source": [
    "pi + x"
   ]
  },
  {
   "cell_type": "code",
   "execution_count": null,
   "id": "69c1f557",
   "metadata": {},
   "outputs": [],
   "source": [
    "pi ** x"
   ]
  },
  {
   "cell_type": "markdown",
   "id": "70a354c1",
   "metadata": {},
   "source": [
    "We can convert a float to an int and vice-versa:"
   ]
  },
  {
   "cell_type": "code",
   "execution_count": null,
   "id": "ad2b1181",
   "metadata": {},
   "outputs": [],
   "source": [
    "int(pi)"
   ]
  },
  {
   "cell_type": "code",
   "execution_count": null,
   "id": "441b2db1",
   "metadata": {},
   "outputs": [],
   "source": [
    "float(2)"
   ]
  },
  {
   "cell_type": "markdown",
   "id": "5c3d3811",
   "metadata": {},
   "source": [
    "#### TODO\n",
    "What data type is the value: \n",
    "\n",
    "```python\n",
    "r=3\n",
    "2*r*pi\n",
    "```"
   ]
  },
  {
   "cell_type": "code",
   "execution_count": null,
   "id": "d30ad6e9",
   "metadata": {},
   "outputs": [],
   "source": [
    "# RUN CELL TO SEE QUIZ\n",
    "quiz_data_type_2_pi_r"
   ]
  },
  {
   "cell_type": "code",
   "execution_count": null,
   "id": "ec5ac091",
   "metadata": {},
   "outputs": [],
   "source": [
    "# RUN CELL TO SEE QUIZ\n",
    "quiz_2_pi_r_part2"
   ]
  },
  {
   "cell_type": "markdown",
   "id": "be4e85c9",
   "metadata": {},
   "source": [
    "## Strings\n",
    "**Strings** represent text. We make a string by wrapping characters in quotation marks:"
   ]
  },
  {
   "cell_type": "code",
   "execution_count": null,
   "id": "82475883",
   "metadata": {},
   "outputs": [],
   "source": [
    "\"Hello!\""
   ]
  },
  {
   "cell_type": "markdown",
   "id": "7d5d57c6",
   "metadata": {},
   "source": [
    "You can also use single quotes (although I personally prefer double-quotes):"
   ]
  },
  {
   "cell_type": "code",
   "execution_count": null,
   "id": "f2c4e61c",
   "metadata": {},
   "outputs": [],
   "source": [
    "'Hi!'"
   ]
  },
  {
   "cell_type": "markdown",
   "id": "54b22a51",
   "metadata": {},
   "source": [
    "You can also use **triple-quotes** to span multiple lines in the code:"
   ]
  },
  {
   "cell_type": "code",
   "execution_count": null,
   "id": "d7ea77b5",
   "metadata": {},
   "outputs": [],
   "source": [
    "# https://www.poetryfoundation.org/poems/42916/jabberwocky\n",
    "\"\"\"\n",
    "’Twas brillig, and the slithy toves\n",
    "      Did gyre and gimble in the wabe:\n",
    "All mimsy were the borogoves,\n",
    "      And the mome raths outgrabe.\n",
    "\n",
    "“Beware the Jabberwock, my son!\n",
    "      The jaws that bite, the claws that catch!\n",
    "Beware the Jubjub bird, and shun\n",
    "      The frumious Bandersnatch!”\n",
    "\"\"\""
   ]
  },
  {
   "cell_type": "code",
   "execution_count": null,
   "id": "8a705bb3",
   "metadata": {},
   "outputs": [],
   "source": []
  },
  {
   "cell_type": "markdown",
   "id": "0becb88a",
   "metadata": {},
   "source": [
    "#### Concatenating strings\n",
    "We can add strings together to get a longer string:"
   ]
  },
  {
   "cell_type": "code",
   "execution_count": null,
   "id": "b4c16984",
   "metadata": {},
   "outputs": [],
   "source": [
    "first = \"Alec\"\n",
    "middle = \"B.\"\n",
    "last = \"Chapman\""
   ]
  },
  {
   "cell_type": "code",
   "execution_count": null,
   "id": "e49b6896",
   "metadata": {},
   "outputs": [],
   "source": [
    "first + \" \" + middle + \" \" + last"
   ]
  },
  {
   "cell_type": "markdown",
   "id": "ca1b45de",
   "metadata": {},
   "source": [
    "However, you cannot add a string and numeric objects:"
   ]
  },
  {
   "cell_type": "code",
   "execution_count": null,
   "id": "7be3598c",
   "metadata": {},
   "outputs": [],
   "source": [
    "first + 1"
   ]
  },
  {
   "cell_type": "markdown",
   "id": "1f03d6e5",
   "metadata": {},
   "source": [
    "#### TODO\n",
    "What do you think will happen if you multiply a string and an int? Test it out below."
   ]
  },
  {
   "cell_type": "code",
   "execution_count": null,
   "id": "6d11c70e",
   "metadata": {},
   "outputs": [],
   "source": []
  },
  {
   "cell_type": "code",
   "execution_count": null,
   "id": "c77d6da1",
   "metadata": {},
   "outputs": [],
   "source": []
  },
  {
   "cell_type": "markdown",
   "id": "9d5c94c7",
   "metadata": {},
   "source": [
    "## Booleans and comparators\n",
    "**Booleans** can have two possible values: `True` or `False`. These are **logical** values and represent whether some condition holds."
   ]
  },
  {
   "cell_type": "code",
   "execution_count": null,
   "id": "1e0da08f",
   "metadata": {},
   "outputs": [],
   "source": [
    "True"
   ]
  },
  {
   "cell_type": "code",
   "execution_count": null,
   "id": "ca0420ec",
   "metadata": {},
   "outputs": [],
   "source": [
    "False"
   ]
  },
  {
   "cell_type": "markdown",
   "id": "9b48b56d",
   "metadata": {},
   "source": [
    "A common way to encounter booleans is through `comparators`, such as whether two values are equal or if one is greater than another.\n",
    "\n",
    "To check whether two values are equal, we put double equal signs `==` between the two values. If the two values are equal, then this evaluates as `True`. Otherwise, we get `False`."
   ]
  },
  {
   "cell_type": "code",
   "execution_count": null,
   "id": "0a3bd436",
   "metadata": {},
   "outputs": [],
   "source": [
    "x = 3\n",
    "x == 3"
   ]
  },
  {
   "cell_type": "code",
   "execution_count": null,
   "id": "c7996828",
   "metadata": {},
   "outputs": [],
   "source": [
    "x == 2"
   ]
  },
  {
   "cell_type": "markdown",
   "id": "07303da0",
   "metadata": {},
   "source": [
    "Or we can check whether two values are not equal with `!=`:"
   ]
  },
  {
   "cell_type": "code",
   "execution_count": null,
   "id": "c32e3586",
   "metadata": {},
   "outputs": [],
   "source": [
    "x != 3"
   ]
  },
  {
   "cell_type": "code",
   "execution_count": null,
   "id": "de981d21",
   "metadata": {},
   "outputs": [],
   "source": [
    "x != 2"
   ]
  },
  {
   "cell_type": "code",
   "execution_count": null,
   "id": "67e69c14",
   "metadata": {},
   "outputs": [],
   "source": []
  },
  {
   "cell_type": "markdown",
   "id": "30ba8080",
   "metadata": {},
   "source": [
    "To check whether one value is greater than another, we use `>`. If we want to check greater than or equal to, we add an equal sign `>=`."
   ]
  },
  {
   "cell_type": "code",
   "execution_count": null,
   "id": "85057e71",
   "metadata": {},
   "outputs": [],
   "source": [
    "x > 1"
   ]
  },
  {
   "cell_type": "code",
   "execution_count": null,
   "id": "642f917e",
   "metadata": {},
   "outputs": [],
   "source": [
    "x > 3.0"
   ]
  },
  {
   "cell_type": "code",
   "execution_count": null,
   "id": "7e34da57",
   "metadata": {},
   "outputs": [],
   "source": [
    "x >= 3.0"
   ]
  },
  {
   "cell_type": "markdown",
   "id": "1bccd184",
   "metadata": {},
   "source": [
    "And we do the same for less than but with. `<`"
   ]
  },
  {
   "cell_type": "code",
   "execution_count": null,
   "id": "db02a0bf",
   "metadata": {},
   "outputs": [],
   "source": [
    "x < 3.001"
   ]
  },
  {
   "cell_type": "code",
   "execution_count": null,
   "id": "5e66471f",
   "metadata": {},
   "outputs": [],
   "source": [
    "x <= 2.9999"
   ]
  },
  {
   "cell_type": "code",
   "execution_count": null,
   "id": "b1554544",
   "metadata": {},
   "outputs": [],
   "source": []
  },
  {
   "cell_type": "markdown",
   "id": "f9d6ee35",
   "metadata": {},
   "source": [
    "#### TODO\n",
    "Write code to answer the following questions. Then paste the code to test your answers."
   ]
  },
  {
   "cell_type": "code",
   "execution_count": null,
   "id": "6cb73542",
   "metadata": {},
   "outputs": [],
   "source": [
    "y = 10\n",
    "z = 5"
   ]
  },
  {
   "cell_type": "code",
   "execution_count": null,
   "id": "5e330b80",
   "metadata": {},
   "outputs": [],
   "source": [
    "# RUN CELL TO SEE QUIZ\n",
    "quiz_y_gt_z"
   ]
  },
  {
   "cell_type": "code",
   "execution_count": null,
   "id": "5ea3f3f5",
   "metadata": {},
   "outputs": [],
   "source": [
    "# RUN CELL TO SEE QUIZ\n",
    "quiz_y_lte_z"
   ]
  },
  {
   "cell_type": "code",
   "execution_count": null,
   "id": "907a1390",
   "metadata": {},
   "outputs": [],
   "source": [
    "# RUN CELL TO SEE QUIZ\n",
    "quiz_y_ne_z"
   ]
  },
  {
   "cell_type": "markdown",
   "id": "4f2fb790",
   "metadata": {},
   "source": [
    "### Other boolean operators\n",
    "We can check more complex conditions using **boolean connectors** like **and**/**or**, as well as the negation operator **not**.\n",
    "\n",
    "For example, if we have two values we can check whether they are both true using either `&`/`and`:"
   ]
  },
  {
   "cell_type": "code",
   "execution_count": null,
   "id": "3c447780",
   "metadata": {},
   "outputs": [],
   "source": [
    "(x == 3) and (x > 1)"
   ]
  },
  {
   "cell_type": "code",
   "execution_count": null,
   "id": "771a45ec",
   "metadata": {},
   "outputs": [],
   "source": [
    "(x == 3) & (x < 1)"
   ]
  },
  {
   "cell_type": "markdown",
   "id": "a42d5e4d",
   "metadata": {},
   "source": [
    "If we want to check whether either condition is true, we can use `or`/`|`:"
   ]
  },
  {
   "cell_type": "code",
   "execution_count": null,
   "id": "2194ec97",
   "metadata": {},
   "outputs": [],
   "source": [
    "(x == 3) & (x > 1)"
   ]
  },
  {
   "cell_type": "code",
   "execution_count": null,
   "id": "78d8125b",
   "metadata": {},
   "outputs": [],
   "source": [
    "(x == 3) | (x < 1)"
   ]
  },
  {
   "cell_type": "markdown",
   "id": "706dc27f",
   "metadata": {},
   "source": [
    "We can check whether some value is `False` by putting `not` in front of it. In the examples below, this essentially reverses the conditions above:"
   ]
  },
  {
   "cell_type": "code",
   "execution_count": null,
   "id": "0a5c2e15",
   "metadata": {},
   "outputs": [],
   "source": [
    "not (x == 3)"
   ]
  },
  {
   "cell_type": "code",
   "execution_count": null,
   "id": "33c3798a",
   "metadata": {},
   "outputs": [],
   "source": [
    "not (x == 2)"
   ]
  },
  {
   "cell_type": "code",
   "execution_count": null,
   "id": "9c8354d6",
   "metadata": {},
   "outputs": [],
   "source": [
    "not (True or False)"
   ]
  },
  {
   "cell_type": "code",
   "execution_count": null,
   "id": "a54921b8",
   "metadata": {},
   "outputs": [],
   "source": []
  },
  {
   "cell_type": "code",
   "execution_count": null,
   "id": "77bcef4f",
   "metadata": {},
   "outputs": [],
   "source": [
    "# RUN CELL TO SEE QUIZ\n",
    "quiz_select_all_true "
   ]
  },
  {
   "cell_type": "code",
   "execution_count": null,
   "id": "8f76ea70",
   "metadata": {},
   "outputs": [],
   "source": []
  },
  {
   "cell_type": "markdown",
   "id": "507c9dad",
   "metadata": {},
   "source": [
    "### None\n",
    "A special data type is the `NoneType`. This is a **null value** and essentially means that the variable doesn't have a value. We'll see more examples of how this is useful in future notebooks."
   ]
  },
  {
   "cell_type": "code",
   "execution_count": null,
   "id": "cc4e2158",
   "metadata": {},
   "outputs": [],
   "source": [
    "None"
   ]
  },
  {
   "cell_type": "code",
   "execution_count": null,
   "id": "f07fc001",
   "metadata": {},
   "outputs": [],
   "source": [
    "x = None"
   ]
  },
  {
   "cell_type": "markdown",
   "id": "98cbdf66",
   "metadata": {},
   "source": [
    "One example we've seen already is that the default value of `middle` in `print_name` is `None`:"
   ]
  },
  {
   "cell_type": "code",
   "execution_count": null,
   "id": "f73a6842",
   "metadata": {},
   "outputs": [],
   "source": [
    "help(print_name)"
   ]
  },
  {
   "cell_type": "code",
   "execution_count": null,
   "id": "484338fb",
   "metadata": {},
   "outputs": [],
   "source": []
  }
 ],
 "metadata": {
  "kernelspec": {
   "display_name": "Python 3 (ipykernel)",
   "language": "python",
   "name": "python3"
  },
  "language_info": {
   "codemirror_mode": {
    "name": "ipython",
    "version": 3
   },
   "file_extension": ".py",
   "mimetype": "text/x-python",
   "name": "python",
   "nbconvert_exporter": "python",
   "pygments_lexer": "ipython3",
   "version": "3.9.12"
  }
 },
 "nbformat": 4,
 "nbformat_minor": 5
}
