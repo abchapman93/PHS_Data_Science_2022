{
 "cells": [
  {
   "cell_type": "markdown",
   "id": "f142f65f",
   "metadata": {},
   "source": [
    "<html>\n",
    "<table width=\"100%\" cellspacing=\"2\" cellpadding=\"2\" border=\"1\">\n",
    "<tbody>\n",
    "<tr>\n",
    "<td valign=\"center\" align=\"center\" width=\"45%\"><img src=\"../media/Univ-Utah.jpeg\"><br>\n",
    "</td>\n",
    "    <td valign=\"center\" align=\"center\" width=\"75%\">\n",
    "<h1 align=\"center\"><font size=\"+1\">University of Utah<br>Population Health Sciences<br>Data Science Workshop</font></h1></td>\n",
    "<td valign=\"center\" align=\"center\" width=\"45%\"><img\n",
    "src=\"../media/U_Health_stacked_png_red.png\" alt=\"Utah Health\n",
    "Logo\" width=\"128\" height=\"134\"><br>\n",
    "</td>\n",
    "</tr>\n",
    "</tbody>\n",
    "</table>\n",
    "<br>\n",
    "</html>\n"
   ]
  },
  {
   "cell_type": "code",
   "execution_count": null,
   "id": "9894db5e",
   "metadata": {},
   "outputs": [],
   "source": [
    "from helpers import *"
   ]
  },
  {
   "cell_type": "markdown",
   "id": "b71e2e87",
   "metadata": {},
   "source": [
    "## Writing your own functions\n",
    "As we learn to manipulate data, we might want to perform some standard actions many times. We don't want to do rewrite the code every time, so instead we might put this code into our own **functions**. \n",
    "\n",
    "The syntax for writing a function is:\n",
    "```python\n",
    "def function_name(arg1, arg2,...):\n",
    "    # Your code here\n",
    "    value = ...\n",
    "    return value\n",
    "```\n",
    "\n",
    "1. Start by writing `def`, followed by the function name and argument names. This indicates you are going to define a function.\n",
    "2. In an **indented block**, write your code which performs the task you want to function to do. \n",
    "3. `return` the value you want the function to generate. \n",
    "\n",
    "Note that the indentation (i.e., four spaces or a tab) at the beginning of each line following the first is very important. You'll get an error if it isn't spaced correctly."
   ]
  },
  {
   "cell_type": "markdown",
   "id": "bb2c225b",
   "metadata": {},
   "source": [
    "#### TODO\n",
    "In the first notebook, we had three custom functions which I had written for you: `square`, `add`, and `print_name`. Below is code for the `square` function, but it isn't quite right. Fix the code so it runs and defines a function."
   ]
  },
  {
   "cell_type": "code",
   "execution_count": null,
   "id": "7e0c5f22",
   "metadata": {},
   "outputs": [],
   "source": [
    "define square(x)\n",
    "squared = x**2\n",
    "        return x"
   ]
  },
  {
   "cell_type": "markdown",
   "id": "fa5374fa",
   "metadata": {},
   "source": [
    "#### TODO\n",
    "Write your own implementations of the function `add`. Refer to the first notebook to remember what these functions did. For `print_name`, you'll need to use some of the string methods we saw in the previous notebook."
   ]
  },
  {
   "cell_type": "code",
   "execution_count": null,
   "id": "b442f7ee",
   "metadata": {},
   "outputs": [],
   "source": []
  },
  {
   "cell_type": "code",
   "execution_count": null,
   "id": "be509ec9",
   "metadata": {},
   "outputs": [],
   "source": [
    "# RUN CELL TO TEST FUNCTION\n",
    "test_add_function.test(add)"
   ]
  },
  {
   "cell_type": "markdown",
   "id": "f6663c37",
   "metadata": {},
   "source": [
    "In the first notebook, we learned about **positional** and **keyword** arguments. Keyword arguments are optional, so you can give a default value.\n",
    "\n",
    "The function `print_name` had a default value of `None`. This allowed me to write the function so it printed out a middle name if it was provided, but to skip it if it wasn't. We don't quite have all the tools needed to implement this logic, so for now we'll do a slightly simpler version.\n",
    "\n",
    "#### TODO\n",
    "Finish the implementation below of `print_name` so that it prints a user's first and last name and optional middle name. If the user doesn't provide a middle name, use the [value \"Danger\"](https://i.pinimg.com/originals/bd/d2/8d/bdd28d7be77137c9d70410eabe46307a.jpg). Then print your name, first with and then without a middle name (or nickname!)."
   ]
  },
  {
   "cell_type": "code",
   "execution_count": null,
   "id": "19e500bc",
   "metadata": {},
   "outputs": [],
   "source": [
    "# RUN CELL TO SEE HINT\n",
    "hint_print_name"
   ]
  },
  {
   "cell_type": "code",
   "execution_count": null,
   "id": "091b3c09",
   "metadata": {},
   "outputs": [],
   "source": [
    "print_name(__, __)"
   ]
  },
  {
   "cell_type": "code",
   "execution_count": null,
   "id": "7a9742a4",
   "metadata": {},
   "outputs": [],
   "source": [
    "print_name(__, __, __=__)"
   ]
  },
  {
   "cell_type": "code",
   "execution_count": null,
   "id": "2eb3074e",
   "metadata": {},
   "outputs": [],
   "source": []
  },
  {
   "cell_type": "markdown",
   "id": "d42912cc",
   "metadata": {},
   "source": [
    "## For loops\n",
    "Another useful construct in Python is the `for loop`. For loops allow you to repeat some action multiple times or over a set of objects. \n",
    "\n",
    "For example, let's say we wanted to print out the following names:"
   ]
  },
  {
   "cell_type": "code",
   "execution_count": null,
   "id": "76496e38",
   "metadata": {},
   "outputs": [],
   "source": [
    "names = [\"Alec\", \"Dan\", \"Marcie\"]"
   ]
  },
  {
   "cell_type": "markdown",
   "id": "9d49d483",
   "metadata": {},
   "source": [
    "One way we could do that is to type `print(name)` individually for each name:"
   ]
  },
  {
   "cell_type": "code",
   "execution_count": null,
   "id": "243b0727",
   "metadata": {},
   "outputs": [],
   "source": [
    "print(\"Alec\")\n",
    "print(\"Dan\")\n",
    "print(\"Marcie\")"
   ]
  },
  {
   "cell_type": "markdown",
   "id": "99bc6313",
   "metadata": {},
   "source": [
    "That's okay in this case where we only have 3 names. But what if we had 20 names? 100?\n",
    "\n",
    "We'll instead **loop** through each of the elementsd of `names` and print out the current element. Here's how this looks in code. Note again that you need to indent the code correctly."
   ]
  },
  {
   "cell_type": "code",
   "execution_count": null,
   "id": "db96e51a",
   "metadata": {},
   "outputs": [],
   "source": [
    "for name in names: # Start the for loop\n",
    "    print(name) # In an indented block, perform the action\n",
    "    # Any other code goes in an indented block\n",
    "    # ..."
   ]
  },
  {
   "cell_type": "markdown",
   "id": "7f09ea03",
   "metadata": {},
   "source": [
    "#### TODO\n",
    "Loop through the elements of `my_list`. Within the for-loop, do three things:\n",
    "1. Print the element\n",
    "2. Print the value of the element + 1\n",
    "3. Print a new line by calling `print()` without any arguments"
   ]
  },
  {
   "cell_type": "code",
   "execution_count": null,
   "id": "d9e42f5b",
   "metadata": {},
   "outputs": [],
   "source": [
    "hint_print_my_list"
   ]
  },
  {
   "cell_type": "code",
   "execution_count": null,
   "id": "2b8fc082",
   "metadata": {},
   "outputs": [],
   "source": [
    "my_list = [1, 2, 3, 4]"
   ]
  },
  {
   "cell_type": "code",
   "execution_count": null,
   "id": "ef3330cb",
   "metadata": {},
   "outputs": [],
   "source": [
    "for element in my_list:\n",
    "    print(element)\n",
    "    print(element+1)\n",
    "    print()"
   ]
  },
  {
   "cell_type": "markdown",
   "id": "1a3dbda4",
   "metadata": {},
   "source": [
    "When you add or multiply elements in a list using a for-loop, this is equivalent to this common mathematical notation:\n",
    "\n",
    "**Sums:** $$x = \\sum_{i=0}^{n-1}i$$"
   ]
  },
  {
   "cell_type": "code",
   "execution_count": null,
   "id": "cadaee26",
   "metadata": {},
   "outputs": [],
   "source": [
    "x = 0\n",
    "for element in my_list:\n",
    "    x += element # += is the same as: x = x + element\n",
    "print(x)"
   ]
  },
  {
   "cell_type": "markdown",
   "id": "43f49287",
   "metadata": {},
   "source": [
    "**Products:** $$x = \\prod_{i=0}^{n-1}i$$"
   ]
  },
  {
   "cell_type": "code",
   "execution_count": null,
   "id": "a999e741",
   "metadata": {},
   "outputs": [],
   "source": [
    "x = 1\n",
    "for element in my_list:\n",
    "    x *= element # *= is the same as: x = x * element\n",
    "print(x)"
   ]
  },
  {
   "cell_type": "code",
   "execution_count": null,
   "id": "368fa37d",
   "metadata": {},
   "outputs": [],
   "source": []
  },
  {
   "cell_type": "markdown",
   "id": "b7de806d",
   "metadata": {},
   "source": [
    "#### TODO\n",
    "Using the lists below, write use for-loops to calculate **1)** the sample average; and **2)** the sample standard deviation of the elements in the list. Put your code into functions called `my_mean` and `my_sd`. Test your functions using the list `a`. The equations for both are below. Note that to calculate the standard deviation you need the mean.\n",
    "\n",
    "$$mean(x) = \\sum_{i=0}^{n-1}\\frac{x_i}{n}   $$\n",
    "$$sd(x) = \\sqrt{\\sum_{i=0}^{n-1}\\frac{(x_i - \\bar{x})^2}{n}} $$"
   ]
  },
  {
   "cell_type": "code",
   "execution_count": null,
   "id": "3adde83b",
   "metadata": {},
   "outputs": [],
   "source": [
    "# RUN CELL TO SEE HINT\n",
    "hint_square_root"
   ]
  },
  {
   "cell_type": "code",
   "execution_count": null,
   "id": "548da729",
   "metadata": {},
   "outputs": [],
   "source": [
    "import random as rand"
   ]
  },
  {
   "cell_type": "code",
   "execution_count": null,
   "id": "a587e359",
   "metadata": {},
   "outputs": [],
   "source": [
    "a = [4, 0, 2, 2, 0, 10, 7, 8, 5, 0]"
   ]
  },
  {
   "cell_type": "code",
   "execution_count": null,
   "id": "30d1c3d6",
   "metadata": {},
   "outputs": [],
   "source": []
  },
  {
   "cell_type": "code",
   "execution_count": null,
   "id": "c1cf4f12",
   "metadata": {},
   "outputs": [],
   "source": [
    "# RUN CELL TO TEST FUNCTION\n",
    "test_my_mean.test(my_mean)"
   ]
  },
  {
   "cell_type": "code",
   "execution_count": null,
   "id": "11ab211e",
   "metadata": {},
   "outputs": [],
   "source": []
  },
  {
   "cell_type": "code",
   "execution_count": null,
   "id": "cafc293f",
   "metadata": {},
   "outputs": [],
   "source": [
    "# RUN CELL TO TEST FUNCTION\n",
    "test_my_sd.test(my_sd)"
   ]
  },
  {
   "cell_type": "code",
   "execution_count": null,
   "id": "c8e74343",
   "metadata": {},
   "outputs": [],
   "source": []
  },
  {
   "cell_type": "markdown",
   "id": "04ba047b",
   "metadata": {},
   "source": [
    "## Control statements\n",
    "**Control statements** control what executes in a program based on particular logic and variable values. This gives us a lot of flexibility over what our code does. \n",
    "\n",
    "Here is an example of how this works in real life.\n",
    "\n",
    "**If it is raining, drive to work. Otherwise, walk.**\n",
    "\n",
    "Let's see how we'd code this in Python."
   ]
  },
  {
   "cell_type": "code",
   "execution_count": null,
   "id": "03f5b43a",
   "metadata": {},
   "outputs": [],
   "source": [
    "raining = True\n",
    "\n",
    "# First if/else depending on `raining`\n",
    "if raining is True: \n",
    "    drive = True\n",
    "else:\n",
    "    drive = False\n",
    "\n",
    "# Second if/else depending on `drive`\n",
    "if drive is True:\n",
    "    print(\"You should drive to work.\")\n",
    "else:\n",
    "    print(\"You should walk to work.\")\n",
    "    "
   ]
  },
  {
   "cell_type": "markdown",
   "id": "94108e1f",
   "metadata": {},
   "source": [
    "The main feature of the code block above is an `if/else` statement. It executes one block of code if a statement is `True`, and a different one if it is `False`. Note again the indentation: both the `if` and `else` statements are followed by indented blocks."
   ]
  },
  {
   "cell_type": "markdown",
   "id": "1ead2681",
   "metadata": {},
   "source": [
    "#### TODO\n",
    "What would get printed out in the code above if we set `raining` to `False`?"
   ]
  },
  {
   "cell_type": "code",
   "execution_count": null,
   "id": "a84d87ce",
   "metadata": {},
   "outputs": [],
   "source": [
    "# RUN CELL TO SEE QUIZ\n",
    "quiz_raining_false"
   ]
  },
  {
   "cell_type": "code",
   "execution_count": null,
   "id": "8d109d4d",
   "metadata": {},
   "outputs": [],
   "source": []
  },
  {
   "cell_type": "markdown",
   "id": "9a6400e0",
   "metadata": {},
   "source": [
    "`if/else` statements are most (only) useful when a variable can take on different values. This makes it a good use case for including if/else statements in functions, where the return value should change based on the argument values provided by the user.\n",
    "\n",
    "#### TODO\n",
    "Put the code block implementing the driving/walking decision into a function called `decide_to_drive`. It should take one positional argument (which variable from above should be the argument?)."
   ]
  },
  {
   "cell_type": "code",
   "execution_count": null,
   "id": "62d8eb63",
   "metadata": {},
   "outputs": [],
   "source": [
    "# ..."
   ]
  },
  {
   "cell_type": "code",
   "execution_count": null,
   "id": "a918f86e",
   "metadata": {},
   "outputs": [],
   "source": [
    "# RUN CELL TO TEST FUNCTION\n",
    "test_decide_to_bring_umbrella.test(decide_to_drive)"
   ]
  },
  {
   "cell_type": "code",
   "execution_count": null,
   "id": "fab93c74",
   "metadata": {},
   "outputs": [],
   "source": []
  },
  {
   "cell_type": "markdown",
   "id": "3ada918f",
   "metadata": {},
   "source": [
    "#### TODO\n",
    "The `if/else` statement below checks if a number is odd or even using the [modulo](https://realpython.com/python-modulo-operator/) operator. But the code isn't quite right. Change it so it runs correctly."
   ]
  },
  {
   "cell_type": "code",
   "execution_count": null,
   "id": "693d1e8a",
   "metadata": {},
   "outputs": [],
   "source": [
    "x = 2\n",
    "if x % 2 == 0:\n",
    "print(\"x is even\")\n",
    "else\n",
    "    print(\"x is odd\")"
   ]
  },
  {
   "cell_type": "code",
   "execution_count": null,
   "id": "4c725bb5",
   "metadata": {},
   "outputs": [],
   "source": []
  },
  {
   "cell_type": "markdown",
   "id": "fb348e4e",
   "metadata": {},
   "source": [
    "In an earlier notebook we saw some examples of boolean logic, where we checked if at least one condition was true (`or`) or if all of them are true (`and`). We can apply that here to implement some more sophisticated logic.\n",
    "\n",
    "#### TODO\n",
    "In addition to rain, let's say we also want to walk if it's hot outside. In the cell below, extend the logic from the earlier code to this new scenario in a new function called `decide_to_drive2`."
   ]
  },
  {
   "cell_type": "code",
   "execution_count": null,
   "id": "29c76023",
   "metadata": {},
   "outputs": [],
   "source": []
  },
  {
   "cell_type": "code",
   "execution_count": null,
   "id": "7f49e991",
   "metadata": {},
   "outputs": [],
   "source": [
    "test_decide_to_drive2.test(decide_to_drive2)"
   ]
  },
  {
   "cell_type": "code",
   "execution_count": null,
   "id": "7b1bab87",
   "metadata": {},
   "outputs": [],
   "source": []
  },
  {
   "cell_type": "markdown",
   "id": "27517cb6",
   "metadata": {},
   "source": [
    "Sometimes, we want to run certain logic only if a condition is `True` and don't need any alternative. In these cases, we don't need an `else` part of the `if` statement.\n",
    "\n",
    "For example, the code below calculates a patient's BMI based on weight/height, but first validates whether the given values are valid. If they are, no need to do anything further. But if it is, we'll print out a warning."
   ]
  },
  {
   "cell_type": "code",
   "execution_count": null,
   "id": "dd44f781",
   "metadata": {},
   "outputs": [],
   "source": [
    "weight = 60 # kg\n",
    "height = -1.8 # m\n",
    "\n",
    "if weight <= 0 or height <= 0:\n",
    "    print(\"Are you sure the weight and height are correct?\")\n",
    "\n",
    "bmi = weight / height ** 2\n",
    "print(\"BMI is\", bmi)"
   ]
  },
  {
   "cell_type": "markdown",
   "id": "4982a210",
   "metadata": {},
   "source": [
    "The scenarios above each had 1 or 2 possible conditions to check. But we might have more than that. Consider this scenario:\n",
    "\n",
    "**If a traffic light is green, go. If it is yellow, slow down. Otherwise, stop.**\n",
    "\n",
    "Here we can't just say `if/else` because we need to allow for a third option. Here, Python gives us the `elif` option (short for \"else if\").\n",
    "\n",
    "```python\n",
    "if condition_1:\n",
    "    ...\n",
    "elif condition_2: # Since condition_1 isn't True, try condition_2\n",
    "    ...\n",
    "else: # Neither condition_2 nor condition_1 were True, so this is our final outcome\n",
    "    ...\n",
    "```\n",
    "\n",
    "Let's see how we'd code the traffic light logic in a Python function."
   ]
  },
  {
   "cell_type": "code",
   "execution_count": null,
   "id": "f84b2945",
   "metadata": {},
   "outputs": [],
   "source": [
    "def traffic_light(color):\n",
    "    if color == \"green\":\n",
    "        action = \"Go!\"\n",
    "    elif color == \"yellow\":\n",
    "        action = \"Slow down.\"\n",
    "    else:\n",
    "        action = \"Stop!\"\n",
    "    return action"
   ]
  },
  {
   "cell_type": "code",
   "execution_count": null,
   "id": "881fad5f",
   "metadata": {},
   "outputs": [],
   "source": [
    "traffic_light(\"green\")"
   ]
  },
  {
   "cell_type": "code",
   "execution_count": null,
   "id": "079337a6",
   "metadata": {},
   "outputs": [],
   "source": [
    "traffic_light(\"yellow\")"
   ]
  },
  {
   "cell_type": "code",
   "execution_count": null,
   "id": "28c7ca08",
   "metadata": {},
   "outputs": [],
   "source": [
    "traffic_light(\"red\")"
   ]
  },
  {
   "cell_type": "markdown",
   "id": "9a520387",
   "metadata": {},
   "source": [
    "#### TODO\n",
    "Let's say we changed the function above to this:\n",
    "```python\n",
    "def traffic_light(color):\n",
    "    if color == \"green\":\n",
    "        action = \"Go!\"\n",
    "    elif color == \"yellow\":\n",
    "        action = \"Slow down.\"\n",
    "    return action\n",
    "```\n",
    "\n",
    "What would happen if we called `traffic_light(\"red\")`?"
   ]
  },
  {
   "cell_type": "code",
   "execution_count": null,
   "id": "04525d03",
   "metadata": {},
   "outputs": [],
   "source": [
    "# RUN CELL TO SEE QUIZ\n",
    "quiz_traffic_light_red"
   ]
  },
  {
   "cell_type": "markdown",
   "id": "b456b956",
   "metadata": {},
   "source": [
    "### Nested control statements\n",
    "Finally, we can also nest `if/else` statements within other `if/else` blocks to write complicated logic:\n",
    "\n",
    "```python\n",
    "if condition1:\n",
    "    # Indented block\n",
    "    if conidition 2:\n",
    "        # Another indented block\n",
    "        # ...\n",
    "    else:\n",
    "        # ...\n",
    "else:\n",
    "    if condition 3:\n",
    "        # ...\n",
    "    \n",
    "```\n",
    "\n",
    "These allow us to implement the logic you see in flow diagrams like this one which first decides whether we should walk or drive and then, if driving, what action we should take at the light:\n",
    "![flow-diagram](../media/driving_flow_diagram.png)\n",
    "\n",
    "#### TODO\n",
    "Write a function `execute_commute` which implements the flow chart above. It should take two arguments, `raining` and `color`, and return two values: \n",
    "1. `drive`: A boolean saying whether or not to drive\n",
    "2. `action`: The driving action if you decide to drive, and `\"walk\"` if you decide to walk."
   ]
  },
  {
   "cell_type": "code",
   "execution_count": null,
   "id": "a8d61162",
   "metadata": {},
   "outputs": [],
   "source": [
    "def execute_commute(____, ____):\n",
    "    # ...\n",
    "        \n",
    "    return drive, action"
   ]
  },
  {
   "cell_type": "code",
   "execution_count": null,
   "id": "b763b936",
   "metadata": {},
   "outputs": [],
   "source": []
  },
  {
   "cell_type": "code",
   "execution_count": null,
   "id": "d54c131c",
   "metadata": {},
   "outputs": [],
   "source": [
    "# RUN CELL TO TEST FUNCTION\n",
    "test_execute_commute.test(execute_commute)"
   ]
  },
  {
   "cell_type": "code",
   "execution_count": null,
   "id": "2c0121bc",
   "metadata": {},
   "outputs": [],
   "source": []
  },
  {
   "cell_type": "markdown",
   "id": "bd111d26",
   "metadata": {},
   "source": [
    "#### TODO\n",
    "Let's say we called `execute_commute` three times with the following values and saved the decision of whether to drive each time:\n",
    "\n",
    "```python\n",
    "result1 = execute_commute(raining=False, color=\"green\")[0]\n",
    "result2 = execute_commute(raining=False, color=\"yellow\")[0]\n",
    "result3 = execute_commute(raining=False, color=\"red\")[0]\n",
    "```\n",
    "What would be the values of:\n",
    "```python\n",
    "result1 == result2 == result3\n",
    "(result1 == result2) or (result1 == result3) or (result2 == result3)\n",
    "(result1 != result2) or (result1 != result3) or (result2 != result3)\n",
    "```"
   ]
  },
  {
   "cell_type": "code",
   "execution_count": null,
   "id": "270bbd3f",
   "metadata": {},
   "outputs": [],
   "source": [
    "# RUN CELL TO SEE QUIZ\n",
    "quiz_execute_commute_drive"
   ]
  },
  {
   "cell_type": "code",
   "execution_count": null,
   "id": "e63468cd",
   "metadata": {},
   "outputs": [],
   "source": []
  }
 ],
 "metadata": {
  "kernelspec": {
   "display_name": "Python 3 (ipykernel)",
   "language": "python",
   "name": "python3"
  },
  "language_info": {
   "codemirror_mode": {
    "name": "ipython",
    "version": 3
   },
   "file_extension": ".py",
   "mimetype": "text/x-python",
   "name": "python",
   "nbconvert_exporter": "python",
   "pygments_lexer": "ipython3",
   "version": "3.9.12"
  }
 },
 "nbformat": 4,
 "nbformat_minor": 5
}
