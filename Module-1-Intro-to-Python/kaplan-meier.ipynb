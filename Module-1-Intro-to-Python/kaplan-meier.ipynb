{
 "cells": [
  {
   "cell_type": "code",
   "execution_count": 1,
   "id": "fc10c31b",
   "metadata": {},
   "outputs": [],
   "source": [
    "import pandas as pd\n",
    "import os\n",
    "import numpy as np\n",
    "\n",
    "import matplotlib.pyplot as plt\n",
    "import seaborn as sns"
   ]
  },
  {
   "cell_type": "code",
   "execution_count": 2,
   "id": "10045eb9",
   "metadata": {},
   "outputs": [],
   "source": [
    "%matplotlib inline\n",
    "\n",
    "sns.set()"
   ]
  },
  {
   "cell_type": "code",
   "execution_count": 3,
   "id": "bfaf13fc",
   "metadata": {},
   "outputs": [],
   "source": [
    "from helpers import *"
   ]
  },
  {
   "cell_type": "code",
   "execution_count": null,
   "id": "bffa0d52",
   "metadata": {},
   "outputs": [],
   "source": []
  },
  {
   "cell_type": "markdown",
   "id": "23d84e90",
   "metadata": {},
   "source": [
    "## 0. Read in data\n",
    "#### TODO\n",
    "Read in a dataset from `\"../data/pna_30_day_mortality.csv\"` and save it as `df."
   ]
  },
  {
   "cell_type": "code",
   "execution_count": 4,
   "id": "43548a5d",
   "metadata": {},
   "outputs": [],
   "source": [
    "df = pd.read_csv(\"../data/pna_30_day_mortality.csv\")"
   ]
  },
  {
   "cell_type": "code",
   "execution_count": 5,
   "id": "e81df238",
   "metadata": {},
   "outputs": [
    {
     "data": {
      "text/plain": [
       "5074"
      ]
     },
     "execution_count": 5,
     "metadata": {},
     "output_type": "execute_result"
    }
   ],
   "source": [
    "len(df)"
   ]
  },
  {
   "cell_type": "code",
   "execution_count": 6,
   "id": "e210db7e",
   "metadata": {},
   "outputs": [
    {
     "data": {
      "text/html": [
       "<div>\n",
       "<style scoped>\n",
       "    .dataframe tbody tr th:only-of-type {\n",
       "        vertical-align: middle;\n",
       "    }\n",
       "\n",
       "    .dataframe tbody tr th {\n",
       "        vertical-align: top;\n",
       "    }\n",
       "\n",
       "    .dataframe thead th {\n",
       "        text-align: right;\n",
       "    }\n",
       "</style>\n",
       "<table border=\"1\" class=\"dataframe\">\n",
       "  <thead>\n",
       "    <tr style=\"text-align: right;\">\n",
       "      <th></th>\n",
       "      <th>subject_id</th>\n",
       "      <th>hadm_id</th>\n",
       "      <th>disch_dt</th>\n",
       "      <th>dod</th>\n",
       "      <th>sex</th>\n",
       "      <th>ethnicity_descr</th>\n",
       "      <th>age_at_discharge</th>\n",
       "      <th>age_at_discharge_binned</th>\n",
       "      <th>pna</th>\n",
       "      <th>time_discharge_to_death</th>\n",
       "      <th>mortality_30_day</th>\n",
       "    </tr>\n",
       "  </thead>\n",
       "  <tbody>\n",
       "    <tr>\n",
       "      <th>0</th>\n",
       "      <td>56</td>\n",
       "      <td>28766</td>\n",
       "      <td>2644-01-23 00:00:00</td>\n",
       "      <td>2644-01-23 00:00:00</td>\n",
       "      <td>F</td>\n",
       "      <td>WHITE</td>\n",
       "      <td>90.7205</td>\n",
       "      <td>91+</td>\n",
       "      <td>0</td>\n",
       "      <td>0</td>\n",
       "      <td>1</td>\n",
       "    </tr>\n",
       "    <tr>\n",
       "      <th>1</th>\n",
       "      <td>37</td>\n",
       "      <td>18052</td>\n",
       "      <td>3264-08-19 00:00:00</td>\n",
       "      <td>3265-12-31 00:00:00</td>\n",
       "      <td>M</td>\n",
       "      <td>WHITE</td>\n",
       "      <td>68.9863</td>\n",
       "      <td>66-90</td>\n",
       "      <td>1</td>\n",
       "      <td>499</td>\n",
       "      <td>0</td>\n",
       "    </tr>\n",
       "    <tr>\n",
       "      <th>2</th>\n",
       "      <td>78</td>\n",
       "      <td>15161</td>\n",
       "      <td>2778-03-27 00:00:00</td>\n",
       "      <td>2781-03-11 00:00:00</td>\n",
       "      <td>M</td>\n",
       "      <td>BLACK/AFRICAN AMERICAN</td>\n",
       "      <td>48.6658</td>\n",
       "      <td>36-65</td>\n",
       "      <td>0</td>\n",
       "      <td>1080</td>\n",
       "      <td>0</td>\n",
       "    </tr>\n",
       "    <tr>\n",
       "      <th>3</th>\n",
       "      <td>67</td>\n",
       "      <td>35878</td>\n",
       "      <td>2976-11-29 00:00:00</td>\n",
       "      <td>2976-11-29 00:00:00</td>\n",
       "      <td>M</td>\n",
       "      <td>WHITE</td>\n",
       "      <td>73.5397</td>\n",
       "      <td>66-90</td>\n",
       "      <td>0</td>\n",
       "      <td>0</td>\n",
       "      <td>1</td>\n",
       "    </tr>\n",
       "    <tr>\n",
       "      <th>4</th>\n",
       "      <td>3</td>\n",
       "      <td>2075</td>\n",
       "      <td>2682-09-18 00:00:00</td>\n",
       "      <td>2683-05-02 00:00:00</td>\n",
       "      <td>M</td>\n",
       "      <td>WHITE</td>\n",
       "      <td>76.6055</td>\n",
       "      <td>66-90</td>\n",
       "      <td>0</td>\n",
       "      <td>226</td>\n",
       "      <td>0</td>\n",
       "    </tr>\n",
       "  </tbody>\n",
       "</table>\n",
       "</div>"
      ],
      "text/plain": [
       "   subject_id  hadm_id             disch_dt                  dod sex  \\\n",
       "0          56    28766  2644-01-23 00:00:00  2644-01-23 00:00:00   F   \n",
       "1          37    18052  3264-08-19 00:00:00  3265-12-31 00:00:00   M   \n",
       "2          78    15161  2778-03-27 00:00:00  2781-03-11 00:00:00   M   \n",
       "3          67    35878  2976-11-29 00:00:00  2976-11-29 00:00:00   M   \n",
       "4           3     2075  2682-09-18 00:00:00  2683-05-02 00:00:00   M   \n",
       "\n",
       "          ethnicity_descr  age_at_discharge age_at_discharge_binned  pna  \\\n",
       "0                   WHITE           90.7205                     91+    0   \n",
       "1                   WHITE           68.9863                   66-90    1   \n",
       "2  BLACK/AFRICAN AMERICAN           48.6658                   36-65    0   \n",
       "3                   WHITE           73.5397                   66-90    0   \n",
       "4                   WHITE           76.6055                   66-90    0   \n",
       "\n",
       "   time_discharge_to_death  mortality_30_day  \n",
       "0                        0                 1  \n",
       "1                      499                 0  \n",
       "2                     1080                 0  \n",
       "3                        0                 1  \n",
       "4                      226                 0  "
      ]
     },
     "execution_count": 6,
     "metadata": {},
     "output_type": "execute_result"
    }
   ],
   "source": [
    "df.head()"
   ]
  },
  {
   "cell_type": "code",
   "execution_count": null,
   "id": "f7c55d72",
   "metadata": {},
   "outputs": [],
   "source": []
  },
  {
   "cell_type": "markdown",
   "id": "70d4f153",
   "metadata": {},
   "source": [
    "# 5. Survival analysis (Advanced)\n",
    "As a final, optional exercise if you'd like an additional challenge, implement the [Kaplain-Meier method](https://en.wikipedia.org/wiki/Kaplan%E2%80%93Meier_estimator) from scratch and use it to analyze the post-discharge outcomes for patients in our dataset. This will utilize all the Python skills we've learned today to do a **survival analysis** on our dataset.\n",
    "\n",
    "### Overview of Kaplan-Meier"
   ]
  },
  {
   "cell_type": "markdown",
   "id": "4446050f",
   "metadata": {},
   "source": [
    "#### Step 1: Filter the dataset to patients who did not die in the hospital and died within 30 days. Call it `df_dc` (short for \"discharged\")"
   ]
  },
  {
   "cell_type": "code",
   "execution_count": 40,
   "id": "d313eb34",
   "metadata": {},
   "outputs": [
    {
     "data": {
      "text/html": [
       "<div>\n",
       "<style scoped>\n",
       "    .dataframe tbody tr th:only-of-type {\n",
       "        vertical-align: middle;\n",
       "    }\n",
       "\n",
       "    .dataframe tbody tr th {\n",
       "        vertical-align: top;\n",
       "    }\n",
       "\n",
       "    .dataframe thead th {\n",
       "        text-align: right;\n",
       "    }\n",
       "</style>\n",
       "<table border=\"1\" class=\"dataframe\">\n",
       "  <thead>\n",
       "    <tr style=\"text-align: right;\">\n",
       "      <th></th>\n",
       "      <th>subject_id</th>\n",
       "      <th>hadm_id</th>\n",
       "      <th>disch_dt</th>\n",
       "      <th>dod</th>\n",
       "      <th>sex</th>\n",
       "      <th>ethnicity_descr</th>\n",
       "      <th>age_at_discharge</th>\n",
       "      <th>age_at_discharge_binned</th>\n",
       "      <th>pna</th>\n",
       "      <th>time_discharge_to_death</th>\n",
       "      <th>mortality_30_day</th>\n",
       "      <th>in_hospital_mortality</th>\n",
       "    </tr>\n",
       "  </thead>\n",
       "  <tbody>\n",
       "    <tr>\n",
       "      <th>0</th>\n",
       "      <td>56</td>\n",
       "      <td>28766</td>\n",
       "      <td>2644-01-23 00:00:00</td>\n",
       "      <td>2644-01-23 00:00:00</td>\n",
       "      <td>F</td>\n",
       "      <td>WHITE</td>\n",
       "      <td>90.7205</td>\n",
       "      <td>91+</td>\n",
       "      <td>0</td>\n",
       "      <td>0</td>\n",
       "      <td>1</td>\n",
       "      <td>True</td>\n",
       "    </tr>\n",
       "    <tr>\n",
       "      <th>1</th>\n",
       "      <td>37</td>\n",
       "      <td>18052</td>\n",
       "      <td>3264-08-19 00:00:00</td>\n",
       "      <td>3265-12-31 00:00:00</td>\n",
       "      <td>M</td>\n",
       "      <td>WHITE</td>\n",
       "      <td>68.9863</td>\n",
       "      <td>66-90</td>\n",
       "      <td>1</td>\n",
       "      <td>499</td>\n",
       "      <td>0</td>\n",
       "      <td>False</td>\n",
       "    </tr>\n",
       "    <tr>\n",
       "      <th>2</th>\n",
       "      <td>78</td>\n",
       "      <td>15161</td>\n",
       "      <td>2778-03-27 00:00:00</td>\n",
       "      <td>2781-03-11 00:00:00</td>\n",
       "      <td>M</td>\n",
       "      <td>BLACK/AFRICAN AMERICAN</td>\n",
       "      <td>48.6658</td>\n",
       "      <td>36-65</td>\n",
       "      <td>0</td>\n",
       "      <td>1080</td>\n",
       "      <td>0</td>\n",
       "      <td>False</td>\n",
       "    </tr>\n",
       "    <tr>\n",
       "      <th>3</th>\n",
       "      <td>67</td>\n",
       "      <td>35878</td>\n",
       "      <td>2976-11-29 00:00:00</td>\n",
       "      <td>2976-11-29 00:00:00</td>\n",
       "      <td>M</td>\n",
       "      <td>WHITE</td>\n",
       "      <td>73.5397</td>\n",
       "      <td>66-90</td>\n",
       "      <td>0</td>\n",
       "      <td>0</td>\n",
       "      <td>1</td>\n",
       "      <td>True</td>\n",
       "    </tr>\n",
       "    <tr>\n",
       "      <th>4</th>\n",
       "      <td>3</td>\n",
       "      <td>2075</td>\n",
       "      <td>2682-09-18 00:00:00</td>\n",
       "      <td>2683-05-02 00:00:00</td>\n",
       "      <td>M</td>\n",
       "      <td>WHITE</td>\n",
       "      <td>76.6055</td>\n",
       "      <td>66-90</td>\n",
       "      <td>0</td>\n",
       "      <td>226</td>\n",
       "      <td>0</td>\n",
       "      <td>False</td>\n",
       "    </tr>\n",
       "  </tbody>\n",
       "</table>\n",
       "</div>"
      ],
      "text/plain": [
       "   subject_id  hadm_id             disch_dt                  dod sex  \\\n",
       "0          56    28766  2644-01-23 00:00:00  2644-01-23 00:00:00   F   \n",
       "1          37    18052  3264-08-19 00:00:00  3265-12-31 00:00:00   M   \n",
       "2          78    15161  2778-03-27 00:00:00  2781-03-11 00:00:00   M   \n",
       "3          67    35878  2976-11-29 00:00:00  2976-11-29 00:00:00   M   \n",
       "4           3     2075  2682-09-18 00:00:00  2683-05-02 00:00:00   M   \n",
       "\n",
       "          ethnicity_descr  age_at_discharge age_at_discharge_binned  pna  \\\n",
       "0                   WHITE           90.7205                     91+    0   \n",
       "1                   WHITE           68.9863                   66-90    1   \n",
       "2  BLACK/AFRICAN AMERICAN           48.6658                   36-65    0   \n",
       "3                   WHITE           73.5397                   66-90    0   \n",
       "4                   WHITE           76.6055                   66-90    0   \n",
       "\n",
       "   time_discharge_to_death  mortality_30_day  in_hospital_mortality  \n",
       "0                        0                 1                   True  \n",
       "1                      499                 0                  False  \n",
       "2                     1080                 0                  False  \n",
       "3                        0                 1                   True  \n",
       "4                      226                 0                  False  "
      ]
     },
     "execution_count": 40,
     "metadata": {},
     "output_type": "execute_result"
    }
   ],
   "source": [
    "df.head()"
   ]
  },
  {
   "cell_type": "code",
   "execution_count": 41,
   "id": "306890f5",
   "metadata": {},
   "outputs": [],
   "source": [
    "df_dc = df.query(\"0 < time_discharge_to_death\")"
   ]
  },
  {
   "cell_type": "code",
   "execution_count": 42,
   "id": "be7ca734",
   "metadata": {},
   "outputs": [
    {
     "data": {
      "text/plain": [
       "3391"
      ]
     },
     "execution_count": 42,
     "metadata": {},
     "output_type": "execute_result"
    }
   ],
   "source": [
    "len(df_dc)"
   ]
  },
  {
   "cell_type": "code",
   "execution_count": 43,
   "id": "af28e053",
   "metadata": {},
   "outputs": [
    {
     "data": {
      "text/html": [
       "<div>\n",
       "<style scoped>\n",
       "    .dataframe tbody tr th:only-of-type {\n",
       "        vertical-align: middle;\n",
       "    }\n",
       "\n",
       "    .dataframe tbody tr th {\n",
       "        vertical-align: top;\n",
       "    }\n",
       "\n",
       "    .dataframe thead th {\n",
       "        text-align: right;\n",
       "    }\n",
       "</style>\n",
       "<table border=\"1\" class=\"dataframe\">\n",
       "  <thead>\n",
       "    <tr style=\"text-align: right;\">\n",
       "      <th></th>\n",
       "      <th>subject_id</th>\n",
       "      <th>hadm_id</th>\n",
       "      <th>disch_dt</th>\n",
       "      <th>dod</th>\n",
       "      <th>sex</th>\n",
       "      <th>ethnicity_descr</th>\n",
       "      <th>age_at_discharge</th>\n",
       "      <th>age_at_discharge_binned</th>\n",
       "      <th>pna</th>\n",
       "      <th>time_discharge_to_death</th>\n",
       "      <th>mortality_30_day</th>\n",
       "      <th>in_hospital_mortality</th>\n",
       "    </tr>\n",
       "  </thead>\n",
       "  <tbody>\n",
       "    <tr>\n",
       "      <th>1</th>\n",
       "      <td>37</td>\n",
       "      <td>18052</td>\n",
       "      <td>3264-08-19 00:00:00</td>\n",
       "      <td>3265-12-31 00:00:00</td>\n",
       "      <td>M</td>\n",
       "      <td>WHITE</td>\n",
       "      <td>68.9863</td>\n",
       "      <td>66-90</td>\n",
       "      <td>1</td>\n",
       "      <td>499</td>\n",
       "      <td>0</td>\n",
       "      <td>False</td>\n",
       "    </tr>\n",
       "    <tr>\n",
       "      <th>2</th>\n",
       "      <td>78</td>\n",
       "      <td>15161</td>\n",
       "      <td>2778-03-27 00:00:00</td>\n",
       "      <td>2781-03-11 00:00:00</td>\n",
       "      <td>M</td>\n",
       "      <td>BLACK/AFRICAN AMERICAN</td>\n",
       "      <td>48.6658</td>\n",
       "      <td>36-65</td>\n",
       "      <td>0</td>\n",
       "      <td>1080</td>\n",
       "      <td>0</td>\n",
       "      <td>False</td>\n",
       "    </tr>\n",
       "    <tr>\n",
       "      <th>4</th>\n",
       "      <td>3</td>\n",
       "      <td>2075</td>\n",
       "      <td>2682-09-18 00:00:00</td>\n",
       "      <td>2683-05-02 00:00:00</td>\n",
       "      <td>M</td>\n",
       "      <td>WHITE</td>\n",
       "      <td>76.6055</td>\n",
       "      <td>66-90</td>\n",
       "      <td>0</td>\n",
       "      <td>226</td>\n",
       "      <td>0</td>\n",
       "      <td>False</td>\n",
       "    </tr>\n",
       "    <tr>\n",
       "      <th>5</th>\n",
       "      <td>26</td>\n",
       "      <td>15067</td>\n",
       "      <td>3079-03-10 00:00:00</td>\n",
       "      <td>3080-12-22 00:00:00</td>\n",
       "      <td>M</td>\n",
       "      <td>UNKNOWN/NOT SPECIFIED</td>\n",
       "      <td>72.0712</td>\n",
       "      <td>66-90</td>\n",
       "      <td>0</td>\n",
       "      <td>653</td>\n",
       "      <td>0</td>\n",
       "      <td>False</td>\n",
       "    </tr>\n",
       "    <tr>\n",
       "      <th>8</th>\n",
       "      <td>61</td>\n",
       "      <td>7149</td>\n",
       "      <td>3352-07-26 00:00:00</td>\n",
       "      <td>3353-02-09 00:00:00</td>\n",
       "      <td>M</td>\n",
       "      <td>WHITE</td>\n",
       "      <td>54.7808</td>\n",
       "      <td>36-65</td>\n",
       "      <td>0</td>\n",
       "      <td>198</td>\n",
       "      <td>0</td>\n",
       "      <td>False</td>\n",
       "    </tr>\n",
       "  </tbody>\n",
       "</table>\n",
       "</div>"
      ],
      "text/plain": [
       "   subject_id  hadm_id             disch_dt                  dod sex  \\\n",
       "1          37    18052  3264-08-19 00:00:00  3265-12-31 00:00:00   M   \n",
       "2          78    15161  2778-03-27 00:00:00  2781-03-11 00:00:00   M   \n",
       "4           3     2075  2682-09-18 00:00:00  2683-05-02 00:00:00   M   \n",
       "5          26    15067  3079-03-10 00:00:00  3080-12-22 00:00:00   M   \n",
       "8          61     7149  3352-07-26 00:00:00  3353-02-09 00:00:00   M   \n",
       "\n",
       "          ethnicity_descr  age_at_discharge age_at_discharge_binned  pna  \\\n",
       "1                   WHITE           68.9863                   66-90    1   \n",
       "2  BLACK/AFRICAN AMERICAN           48.6658                   36-65    0   \n",
       "4                   WHITE           76.6055                   66-90    0   \n",
       "5   UNKNOWN/NOT SPECIFIED           72.0712                   66-90    0   \n",
       "8                   WHITE           54.7808                   36-65    0   \n",
       "\n",
       "   time_discharge_to_death  mortality_30_day  in_hospital_mortality  \n",
       "1                      499                 0                  False  \n",
       "2                     1080                 0                  False  \n",
       "4                      226                 0                  False  \n",
       "5                      653                 0                  False  \n",
       "8                      198                 0                  False  "
      ]
     },
     "execution_count": 43,
     "metadata": {},
     "output_type": "execute_result"
    }
   ],
   "source": [
    "df_dc.head()"
   ]
  },
  {
   "cell_type": "markdown",
   "id": "8ee921f6",
   "metadata": {},
   "source": [
    "#### Step 2: Group the data by time_to_discharge_death"
   ]
  },
  {
   "cell_type": "code",
   "execution_count": 44,
   "id": "a9d04462",
   "metadata": {},
   "outputs": [],
   "source": [
    "df_daily = df_dc.groupby(\"time_discharge_to_death\").size().sort_index().to_frame(\"n_deaths\").reset_index()"
   ]
  },
  {
   "cell_type": "code",
   "execution_count": 45,
   "id": "1629b0f1",
   "metadata": {},
   "outputs": [
    {
     "data": {
      "text/html": [
       "<div>\n",
       "<style scoped>\n",
       "    .dataframe tbody tr th:only-of-type {\n",
       "        vertical-align: middle;\n",
       "    }\n",
       "\n",
       "    .dataframe tbody tr th {\n",
       "        vertical-align: top;\n",
       "    }\n",
       "\n",
       "    .dataframe thead th {\n",
       "        text-align: right;\n",
       "    }\n",
       "</style>\n",
       "<table border=\"1\" class=\"dataframe\">\n",
       "  <thead>\n",
       "    <tr style=\"text-align: right;\">\n",
       "      <th></th>\n",
       "      <th>time_discharge_to_death</th>\n",
       "      <th>n_deaths</th>\n",
       "    </tr>\n",
       "  </thead>\n",
       "  <tbody>\n",
       "    <tr>\n",
       "      <th>0</th>\n",
       "      <td>1</td>\n",
       "      <td>30</td>\n",
       "    </tr>\n",
       "    <tr>\n",
       "      <th>1</th>\n",
       "      <td>2</td>\n",
       "      <td>36</td>\n",
       "    </tr>\n",
       "    <tr>\n",
       "      <th>2</th>\n",
       "      <td>3</td>\n",
       "      <td>22</td>\n",
       "    </tr>\n",
       "    <tr>\n",
       "      <th>3</th>\n",
       "      <td>4</td>\n",
       "      <td>23</td>\n",
       "    </tr>\n",
       "    <tr>\n",
       "      <th>4</th>\n",
       "      <td>5</td>\n",
       "      <td>17</td>\n",
       "    </tr>\n",
       "    <tr>\n",
       "      <th>...</th>\n",
       "      <td>...</td>\n",
       "      <td>...</td>\n",
       "    </tr>\n",
       "    <tr>\n",
       "      <th>1351</th>\n",
       "      <td>2612</td>\n",
       "      <td>1</td>\n",
       "    </tr>\n",
       "    <tr>\n",
       "      <th>1352</th>\n",
       "      <td>2622</td>\n",
       "      <td>1</td>\n",
       "    </tr>\n",
       "    <tr>\n",
       "      <th>1353</th>\n",
       "      <td>2654</td>\n",
       "      <td>1</td>\n",
       "    </tr>\n",
       "    <tr>\n",
       "      <th>1354</th>\n",
       "      <td>2677</td>\n",
       "      <td>1</td>\n",
       "    </tr>\n",
       "    <tr>\n",
       "      <th>1355</th>\n",
       "      <td>2735</td>\n",
       "      <td>1</td>\n",
       "    </tr>\n",
       "  </tbody>\n",
       "</table>\n",
       "<p>1356 rows × 2 columns</p>\n",
       "</div>"
      ],
      "text/plain": [
       "      time_discharge_to_death  n_deaths\n",
       "0                           1        30\n",
       "1                           2        36\n",
       "2                           3        22\n",
       "3                           4        23\n",
       "4                           5        17\n",
       "...                       ...       ...\n",
       "1351                     2612         1\n",
       "1352                     2622         1\n",
       "1353                     2654         1\n",
       "1354                     2677         1\n",
       "1355                     2735         1\n",
       "\n",
       "[1356 rows x 2 columns]"
      ]
     },
     "execution_count": 45,
     "metadata": {},
     "output_type": "execute_result"
    }
   ],
   "source": [
    "df_daily"
   ]
  },
  {
   "cell_type": "markdown",
   "id": "77768a84",
   "metadata": {},
   "source": [
    "#### Step 3: Implement the Kaplan Meier algorithm\n"
   ]
  },
  {
   "cell_type": "code",
   "execution_count": 46,
   "id": "9c905fa5",
   "metadata": {},
   "outputs": [
    {
     "ename": "NameError",
     "evalue": "name 'curr_count_at_risk' is not defined",
     "output_type": "error",
     "traceback": [
      "\u001b[0;31m---------------------------------------------------------------------------\u001b[0m",
      "\u001b[0;31mNameError\u001b[0m                                 Traceback (most recent call last)",
      "Input \u001b[0;32mIn [46]\u001b[0m, in \u001b[0;36m<cell line: 3>\u001b[0;34m()\u001b[0m\n\u001b[1;32m      1\u001b[0m total_n_at_risk \u001b[38;5;241m=\u001b[39m \u001b[38;5;28mlen\u001b[39m(df_dc)\n\u001b[1;32m      2\u001b[0m curr_n_at_risk \u001b[38;5;241m=\u001b[39m \u001b[38;5;28mlen\u001b[39m(df_dc)\n\u001b[0;32m----> 3\u001b[0m \u001b[38;5;28mprint\u001b[39m(\u001b[43mcurr_count_at_risk\u001b[49m)\n\u001b[1;32m      4\u001b[0m total_deaths \u001b[38;5;241m=\u001b[39m []\n\u001b[1;32m      5\u001b[0m daily_n_at_risk \u001b[38;5;241m=\u001b[39m []\n",
      "\u001b[0;31mNameError\u001b[0m: name 'curr_count_at_risk' is not defined"
     ]
    }
   ],
   "source": [
    "total_n_at_risk = len(df_dc)\n",
    "curr_n_at_risk = len(df_dc)\n",
    "print(curr_count_at_risk)\n",
    "total_deaths = []\n",
    "daily_n_at_risk = []\n",
    "\n",
    "\n",
    "for i in range(0, len(df_by_day)):\n",
    "    n_deaths = df_daily.iloc[i][\"n_deaths\"]\n",
    "    daily_n_at_risk.append(curr_count_at_risk)\n",
    "    curr_n_at_risk -= n_deaths\n",
    "    \n",
    "    if i > 0:\n",
    "        total_deaths.append(total_deaths[-1] + n_deaths)\n",
    "    else:\n",
    "        total_deaths.append(0 + n_deaths)"
   ]
  },
  {
   "cell_type": "code",
   "execution_count": null,
   "id": "8986f1b9",
   "metadata": {},
   "outputs": [],
   "source": [
    "len(daily_at_risk)"
   ]
  },
  {
   "cell_type": "code",
   "execution_count": null,
   "id": "146bb183",
   "metadata": {},
   "outputs": [],
   "source": [
    "len(df_daily)"
   ]
  },
  {
   "cell_type": "code",
   "execution_count": null,
   "id": "2b454ad4",
   "metadata": {},
   "outputs": [],
   "source": [
    "df_daily[\"n_at_risk\"] = daily_at_risk\n",
    "df_daily[\"p_death\"] = df_daily[\"n_deaths\"] / df_daily[\"n_at_risk\"]\n",
    "df_daily[\"total_died\"] = total_deaths\n",
    "df_daily[\"p_death_running\"] = df_daily[\"total_died\"] / total_n_at_risk"
   ]
  },
  {
   "cell_type": "code",
   "execution_count": null,
   "id": "43105eeb",
   "metadata": {},
   "outputs": [],
   "source": [
    "df_daily.head()"
   ]
  },
  {
   "cell_type": "markdown",
   "id": "84c46d57",
   "metadata": {},
   "source": [
    "#### TODO\n",
    "What is the probability of dying within 30 days of discharge?"
   ]
  },
  {
   "cell_type": "code",
   "execution_count": null,
   "id": "2b00d96a",
   "metadata": {},
   "outputs": [],
   "source": [
    "df_daily.query(\"time_discharge_to_death == 30\")"
   ]
  },
  {
   "cell_type": "code",
   "execution_count": null,
   "id": "0afc1b9d",
   "metadata": {},
   "outputs": [],
   "source": []
  },
  {
   "cell_type": "markdown",
   "id": "70298e62",
   "metadata": {},
   "source": [
    "#### Step 4: Put it all into a function\n",
    " \n",
    "#### Advanced\n",
    "If you want to come up with really clean code you could break it up into multiple functions."
   ]
  },
  {
   "cell_type": "code",
   "execution_count": null,
   "id": "2eed4a11",
   "metadata": {},
   "outputs": [],
   "source": [
    "def kaplan_meier(df, max_days=None):\n",
    "    # Wrangle data\n",
    "    df_dc = df.query(\"0 < time_discharge_to_death\")\n",
    "    df_daily = df_dc.groupby(\"time_discharge_to_death\").size().sort_index().to_frame(\"n_deaths\").reset_index()\n",
    "    \n",
    "    # Kaplan-Meier algorithm\n",
    "    total_n_at_risk = len(df_dc)\n",
    "    curr_n_at_risk = len(df_dc)\n",
    "    total_deaths = []\n",
    "    daily_n_at_risk = []\n",
    "\n",
    "    for i in range(0, len(df_daily)):\n",
    "        n_deaths = df_daily.iloc[i][\"n_deaths\"]\n",
    "        daily_n_at_risk.append(curr_n_at_risk)\n",
    "        curr_n_at_risk -= n_deaths\n",
    "\n",
    "        if i > 0:\n",
    "            total_deaths.append(total_deaths[-1] + n_deaths)\n",
    "        else:\n",
    "            total_deaths.append(0 + n_deaths)\n",
    "            \n",
    "    \n",
    "    # Add new columns and return\n",
    "    df_daily[\"n_at_risk\"] = daily_n_at_risk\n",
    "    df_daily[\"p_death\"] = df_daily[\"n_deaths\"] / df_daily[\"n_at_risk\"]\n",
    "    df_daily[\"total_died\"] = total_deaths\n",
    "    df_daily[\"p_death_running\"] = df_daily[\"total_died\"] / total_n_at_risk\n",
    "    \n",
    "    return df_daily\n",
    "    "
   ]
  },
  {
   "cell_type": "code",
   "execution_count": null,
   "id": "c4e523e0",
   "metadata": {},
   "outputs": [],
   "source": [
    "df_daily = kaplan_meier(df)"
   ]
  },
  {
   "cell_type": "markdown",
   "id": "fbdd05dd",
   "metadata": {},
   "source": [
    "#### Step 6\n",
    "Next let's plot the mortality curve. "
   ]
  },
  {
   "cell_type": "code",
   "execution_count": null,
   "id": "fbc9d660",
   "metadata": {},
   "outputs": [],
   "source": [
    "def plot_mortality_curve(df_daily, max_days=None, label=None):\n",
    "    if max_days is not None:\n",
    "        df_daily = df_daily.query(f\"time_discharge_to_death <= {max_days}\")\n",
    "    ax = sns.lineplot(x=\"time_discharge_to_death\", y=\"p_death_running\", data=df_daily, drawstyle='steps-pre', label=label)\n",
    "    if label is not None:\n",
    "        ax.legend()\n",
    "    return ax"
   ]
  },
  {
   "cell_type": "code",
   "execution_count": null,
   "id": "32e9d1b4",
   "metadata": {},
   "outputs": [],
   "source": [
    "plot_mortality_curve(df_daily)"
   ]
  },
  {
   "cell_type": "code",
   "execution_count": null,
   "id": "56a03f67",
   "metadata": {},
   "outputs": [],
   "source": [
    "plot_mortality_curve(df_daily, max_days=30)"
   ]
  },
  {
   "cell_type": "markdown",
   "id": "8be503c0",
   "metadata": {},
   "source": [
    "#### Step 5: Comparing groups\n",
    "Next, break up your dataset into patients with and without pneumonia and calculate risk of mortality separately. Then consider the following questions:\n",
    "- What can you say about the difference in 30-day mortality between the two groups?\n",
    "- For pneumonia patients, which day in the first 30 days has the highest risk?\n",
    "- Which day has the lowest risk?"
   ]
  },
  {
   "cell_type": "code",
   "execution_count": null,
   "id": "48b37f8d",
   "metadata": {},
   "outputs": [],
   "source": [
    "df_daily_pna = kaplan_meier(df.query(\"pna == 1\"))\n",
    "df_daily_pna_neg = kaplan_meier(df.query(\"pna == 0\"))"
   ]
  },
  {
   "cell_type": "code",
   "execution_count": null,
   "id": "633f993d",
   "metadata": {},
   "outputs": [],
   "source": [
    "df_daily_pna.tail()"
   ]
  },
  {
   "cell_type": "code",
   "execution_count": null,
   "id": "0adc0d34",
   "metadata": {},
   "outputs": [],
   "source": [
    "df_daily_pna.query(\"time_discharge_to_death == 30\")"
   ]
  },
  {
   "cell_type": "code",
   "execution_count": null,
   "id": "d7ed1dde",
   "metadata": {},
   "outputs": [],
   "source": [
    "df_daily_pna_neg.query(\"time_discharge_to_death == 30\")"
   ]
  },
  {
   "cell_type": "code",
   "execution_count": null,
   "id": "c824bcec",
   "metadata": {},
   "outputs": [],
   "source": [
    "plot_mortality_curve(df_daily_pna, max_days=30, label=\"Pna (+)\")\n",
    "plot_mortality_curve(df_daily_pna_neg, max_days=30, label=\"Pna (-)\")"
   ]
  },
  {
   "cell_type": "code",
   "execution_count": null,
   "id": "143e38f1",
   "metadata": {},
   "outputs": [],
   "source": [
    "# Day with highest risk\n",
    "df_daily_pna.query(\"time_discharge_to_death <= 30\").sort_values(\"p_death\", ascending=False)"
   ]
  },
  {
   "cell_type": "code",
   "execution_count": null,
   "id": "58caec55",
   "metadata": {},
   "outputs": [],
   "source": [
    "# Day with lowest risk\n",
    "df_daily_pna.query(\"time_discharge_to_death <= 30\").sort_values(\"p_death\", ascending=True)"
   ]
  },
  {
   "cell_type": "code",
   "execution_count": null,
   "id": "b124378c",
   "metadata": {},
   "outputs": [],
   "source": []
  },
  {
   "cell_type": "code",
   "execution_count": null,
   "id": "56a10567",
   "metadata": {},
   "outputs": [],
   "source": []
  },
  {
   "cell_type": "code",
   "execution_count": null,
   "id": "6b17944e",
   "metadata": {},
   "outputs": [],
   "source": [
    "ax = sns.lineplot(x=\"time_discharge_to_death\", y=\"p_death_running\", data=df_daily_pna.iloc[:30], drawstyle='steps-pre')\n",
    "ax = sns.lineplot(x=\"time_discharge_to_death\", y=\"p_death_running\", data=df_daily_pna_neg.iloc[:30], drawstyle='steps-pre')\n"
   ]
  },
  {
   "cell_type": "code",
   "execution_count": null,
   "id": "73508007",
   "metadata": {},
   "outputs": [],
   "source": []
  },
  {
   "cell_type": "code",
   "execution_count": null,
   "id": "237b5039",
   "metadata": {},
   "outputs": [],
   "source": []
  },
  {
   "cell_type": "code",
   "execution_count": null,
   "id": "e07442d8",
   "metadata": {},
   "outputs": [],
   "source": [
    "sns.lineplot(x=\"time_discharge_to_death\", y=\"p_death_running\", data=df_daily.iloc[:30], drawstyle='steps-pre')"
   ]
  },
  {
   "cell_type": "code",
   "execution_count": null,
   "id": "a94a6c3d",
   "metadata": {},
   "outputs": [],
   "source": [
    "sns.lineplot(x=\"time_discharge_to_death\", y=\"p_death_running\", data=df_daily, drawstyle='steps-pre')"
   ]
  },
  {
   "cell_type": "code",
   "execution_count": null,
   "id": "9b4fc261",
   "metadata": {},
   "outputs": [],
   "source": [
    "len(df[(df[\"time_discharge_to_death\"] <= 30) & (df[\"time_discharge_to_death\"] >0)])"
   ]
  },
  {
   "cell_type": "code",
   "execution_count": null,
   "id": "112e9f2f",
   "metadata": {},
   "outputs": [],
   "source": []
  },
  {
   "cell_type": "code",
   "execution_count": null,
   "id": "89c990f1",
   "metadata": {},
   "outputs": [],
   "source": []
  }
 ],
 "metadata": {
  "kernelspec": {
   "display_name": "Python 3 (ipykernel)",
   "language": "python",
   "name": "python3"
  },
  "language_info": {
   "codemirror_mode": {
    "name": "ipython",
    "version": 3
   },
   "file_extension": ".py",
   "mimetype": "text/x-python",
   "name": "python",
   "nbconvert_exporter": "python",
   "pygments_lexer": "ipython3",
   "version": "3.9.12"
  }
 },
 "nbformat": 4,
 "nbformat_minor": 5
}
