{
 "cells": [
  {
   "cell_type": "markdown",
   "id": "c12d4144",
   "metadata": {},
   "source": [
    "<html>\n",
    "<table width=\"100%\" cellspacing=\"2\" cellpadding=\"2\" border=\"1\">\n",
    "<tbody>\n",
    "<tr>\n",
    "<td valign=\"center\" align=\"center\" width=\"45%\"><img src=\"../media/Univ-Utah.jpeg\"><br>\n",
    "</td>\n",
    "    <td valign=\"center\" align=\"center\" width=\"75%\">\n",
    "<h1 align=\"center\"><font size=\"+1\">University of Utah<br>Population Health Sciences<br>Data Science Workshop</font></h1></td>\n",
    "<td valign=\"center\" align=\"center\" width=\"45%\"><img\n",
    "src=\"../media/U_Health_stacked_png_red.png\" alt=\"Utah Health\n",
    "Logo\" width=\"128\" height=\"134\"><br>\n",
    "</td>\n",
    "</tr>\n",
    "</tbody>\n",
    "</table>\n",
    "<br>\n",
    "</html>\n"
   ]
  },
  {
   "cell_type": "markdown",
   "id": "1473797a",
   "metadata": {},
   "source": [
    "# Module 1\n",
    "Welcome to the PHS Data Science Workshop! This class will use **Jupyter Notebooks** for writing code, running it on data, and viewing the results. Each day will start with a **Roadmap** that will outline the plans for the day.\n",
    "\n",
    "The general outline for each day will be:\n",
    "1. Introduction of today's topic and review what we learned the day before\n",
    "2. Learn the skills of the day by completing educational notebooks\n",
    "3. Apply our new skills to a use case of pneumonia\n",
    "\n",
    "## Overview\n",
    "In this module we'll start learning how to analyze data with Python. We'll start by learning how to use other people's code with **libraries**. Some of the most important libraries we'll use will give us tools for manipulating, analyzing, and visualizing datasets. We'll learn a few important packages and then study a dataset of patient height and weights. Finally, we'll load a real-world dataset of ICU encounters."
   ]
  },
  {
   "cell_type": "code",
   "execution_count": null,
   "id": "082b2aa3",
   "metadata": {},
   "outputs": [],
   "source": []
  },
  {
   "cell_type": "markdown",
   "id": "97007039",
   "metadata": {},
   "source": [
    "## Outline\n",
    "1. Python Packages\n",
    "2. Visualization\n",
    "3. Analyzing Data in Python\n",
    "4. Module 2 Exercises"
   ]
  },
  {
   "cell_type": "markdown",
   "id": "f663095f",
   "metadata": {},
   "source": [
    "## Next Steps\n"
   ]
  },
  {
   "cell_type": "code",
   "execution_count": null,
   "id": "81fd34fb",
   "metadata": {},
   "outputs": [],
   "source": []
  }
 ],
 "metadata": {
  "kernelspec": {
   "display_name": "Python 3 (ipykernel)",
   "language": "python",
   "name": "python3"
  },
  "language_info": {
   "codemirror_mode": {
    "name": "ipython",
    "version": 3
   },
   "file_extension": ".py",
   "mimetype": "text/x-python",
   "name": "python",
   "nbconvert_exporter": "python",
   "pygments_lexer": "ipython3",
   "version": "3.9.12"
  }
 },
 "nbformat": 4,
 "nbformat_minor": 5
}
