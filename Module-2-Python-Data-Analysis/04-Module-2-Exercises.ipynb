{
 "cells": [
  {
   "cell_type": "markdown",
   "id": "5001c82a",
   "metadata": {},
   "source": [
    "<html>\n",
    "<table width=\"100%\" cellspacing=\"2\" cellpadding=\"2\" border=\"1\">\n",
    "<tbody>\n",
    "<tr>\n",
    "<td valign=\"center\" align=\"center\" width=\"45%\"><img src=\"../media/Univ-Utah.jpeg\"><br>\n",
    "</td>\n",
    "    <td valign=\"center\" align=\"center\" width=\"75%\">\n",
    "<h1 align=\"center\"><font size=\"+1\">University of Utah<br>Population Health Sciences<br>Data Science Workshop</font></h1></td>\n",
    "<td valign=\"center\" align=\"center\" width=\"45%\"><img\n",
    "src=\"../media/U_Health_stacked_png_red.png\" alt=\"Utah Health\n",
    "Logo\" width=\"128\" height=\"134\"><br>\n",
    "</td>\n",
    "</tr>\n",
    "</tbody>\n",
    "</table>\n",
    "<br>\n",
    "</html>\n",
    "\n",
    "# Module 2 Exercises\n",
    "\n",
    "In this notebook, we will put our newly developed Python skills to use. We will analyze a dataset of ICU patients from the MIMIC-II database."
   ]
  },
  {
   "cell_type": "code",
   "execution_count": null,
   "id": "bfaf13fc",
   "metadata": {},
   "outputs": [],
   "source": [
    "from helpers import *"
   ]
  },
  {
   "cell_type": "code",
   "execution_count": null,
   "id": "daddc3be",
   "metadata": {},
   "outputs": [],
   "source": []
  },
  {
   "cell_type": "markdown",
   "id": "23d84e90",
   "metadata": {},
   "source": [
    "## 0. Import libraries and Read in data\n",
    "\n",
    "#### TODO\n",
    "First, import the following libraries:\n",
    "- `pandas` with an alias `pd`\n",
    "- `matplotlib.pyplot` with an alias `plt`\n",
    "- `seaborn` with an alias `sns`\n",
    "\n",
    "Then, read in the dataset `\"../data/pna_30_day_mortality.csv\"` and save it as `df`."
   ]
  },
  {
   "cell_type": "code",
   "execution_count": null,
   "id": "e405d05f",
   "metadata": {},
   "outputs": [],
   "source": [
    "# Import libraries\n",
    "\n",
    "# Then set visualization styles\n",
    "%matplotlib inline\n",
    "sns.set()"
   ]
  },
  {
   "cell_type": "code",
   "execution_count": null,
   "id": "43548a5d",
   "metadata": {},
   "outputs": [],
   "source": [
    "df = ____"
   ]
  },
  {
   "cell_type": "code",
   "execution_count": null,
   "id": "8197471b",
   "metadata": {},
   "outputs": [],
   "source": [
    "df.head()"
   ]
  },
  {
   "cell_type": "markdown",
   "id": "5b0de7d5",
   "metadata": {},
   "source": [
    "# Exploratory data analysis"
   ]
  },
  {
   "cell_type": "markdown",
   "id": "5e4b55ad",
   "metadata": {},
   "source": [
    "#### TODO\n",
    "Our first analysis will be exploring the dataset using visualization and summary statistics. We will answer questions like:\n",
    "- What are the demographics of the patient population?\n",
    "- How many patients died in the hospital? How long did patients survive after discharge?\n",
    "- How many patients had pneumonia? Does the subpopulation of pneumonia cases differ at all from the rest of the population?\n",
    "\n",
    "But first, you may need to do some additional data transformations to get the necessary variables. Start by exploring the dataset and getting familiar with it. What do each of the columns mean? Which columns would we use to answer the questions above? Do you need to calculate any more columns?"
   ]
  },
  {
   "cell_type": "code",
   "execution_count": null,
   "id": "510576ec",
   "metadata": {},
   "outputs": [],
   "source": []
  },
  {
   "cell_type": "markdown",
   "id": "1943653f",
   "metadata": {},
   "source": [
    "# 1. Ethnicity\n",
    "What are the counts in the `ethnicity_descr` column? Calculate the values, then plot them."
   ]
  },
  {
   "cell_type": "code",
   "execution_count": null,
   "id": "87c9b4bb",
   "metadata": {},
   "outputs": [],
   "source": []
  },
  {
   "cell_type": "code",
   "execution_count": null,
   "id": "802b0567",
   "metadata": {},
   "outputs": [],
   "source": [
    "# RUN CELL TO SEE HINT\n",
    "ethnicity_descr_hint"
   ]
  },
  {
   "cell_type": "code",
   "execution_count": null,
   "id": "1f8c432a",
   "metadata": {},
   "outputs": [],
   "source": [
    "# Get counts for ethnicity_descr\n"
   ]
  },
  {
   "cell_type": "code",
   "execution_count": null,
   "id": "9048be50",
   "metadata": {},
   "outputs": [],
   "source": [
    "# Plot the counts from above\n"
   ]
  },
  {
   "cell_type": "code",
   "execution_count": null,
   "id": "170ece06",
   "metadata": {},
   "outputs": [],
   "source": []
  },
  {
   "cell_type": "markdown",
   "id": "36541b54",
   "metadata": {},
   "source": [
    "# 2: Age at discharge\n",
    "What is the distribution of patient ages at the time of discharge? First calculate summary statistics, then plot the values using an appropriate method."
   ]
  },
  {
   "cell_type": "code",
   "execution_count": null,
   "id": "70c9d445",
   "metadata": {},
   "outputs": [],
   "source": [
    "# RUN CELL TO SEE QUIZ\n",
    "age_at_discharge_mc"
   ]
  },
  {
   "cell_type": "code",
   "execution_count": null,
   "id": "54290a15",
   "metadata": {},
   "outputs": [],
   "source": []
  },
  {
   "cell_type": "code",
   "execution_count": null,
   "id": "cc65318f",
   "metadata": {},
   "outputs": [],
   "source": [
    "# RUN CELL TO SEE HINT\n",
    "age_at_discharge_viz_hint"
   ]
  },
  {
   "cell_type": "code",
   "execution_count": null,
   "id": "33492a90",
   "metadata": {},
   "outputs": [],
   "source": []
  },
  {
   "cell_type": "code",
   "execution_count": null,
   "id": "223807cd",
   "metadata": {},
   "outputs": [],
   "source": []
  },
  {
   "cell_type": "markdown",
   "id": "305f0cfc",
   "metadata": {},
   "source": [
    "# 3. In-hospital mortality \n",
    "Next let's study how many patients died in the hospital. However, our dataset doesn't tell us right away whether patients died in the hospital or not. \n",
    "\n",
    "## 3.1\n",
    "Which columns Could tell us whether a patient died in the hospital? There's more than one way we could do this, so select all that apply."
   ]
  },
  {
   "cell_type": "code",
   "execution_count": null,
   "id": "67f09b06",
   "metadata": {},
   "outputs": [],
   "source": [
    "# RUN CELL TO SEE QUIZ\n",
    "mortality_cols_quiz "
   ]
  },
  {
   "cell_type": "code",
   "execution_count": null,
   "id": "156e7760",
   "metadata": {},
   "outputs": [],
   "source": []
  },
  {
   "cell_type": "markdown",
   "id": "f7a765d3",
   "metadata": {},
   "source": [
    "## 3.2\n",
    "Add a column `in_hospital_mortality` which is a binary indicator of whether they died in the hospital.\n",
    "\n",
    "**Hint**: You could either represent this as an integer (`0` or `1`) or a boolean (`True` or `False`)."
   ]
  },
  {
   "cell_type": "code",
   "execution_count": null,
   "id": "15fbff11",
   "metadata": {},
   "outputs": [],
   "source": [
    "# RUN CELL TO SEE HINT\n",
    "in_hospital_mortality_hint"
   ]
  },
  {
   "cell_type": "code",
   "execution_count": null,
   "id": "8a35943a",
   "metadata": {},
   "outputs": [],
   "source": []
  },
  {
   "cell_type": "code",
   "execution_count": null,
   "id": "0a39e87c",
   "metadata": {},
   "outputs": [],
   "source": [
    "# RUN CELL TO CHECK ANSWER\n",
    "test_in_hospital_mortality.test(df)"
   ]
  },
  {
   "cell_type": "code",
   "execution_count": null,
   "id": "0b54c62d",
   "metadata": {},
   "outputs": [],
   "source": []
  },
  {
   "cell_type": "markdown",
   "id": "8fa91b60",
   "metadata": {},
   "source": [
    "## 3.3\n",
    "What proportion of patients died in the hospital? Calculate the value then plot the raw counts."
   ]
  },
  {
   "cell_type": "code",
   "execution_count": null,
   "id": "9c720037",
   "metadata": {},
   "outputs": [],
   "source": [
    "# RUN CELL TO SEE QUIZ\n",
    "prop_pt_mortality_quiz"
   ]
  },
  {
   "cell_type": "code",
   "execution_count": null,
   "id": "fc982f77",
   "metadata": {},
   "outputs": [],
   "source": []
  },
  {
   "cell_type": "markdown",
   "id": "9051c756",
   "metadata": {},
   "source": [
    "## 3.4\n",
    "What is the relationship between age at discharge and in-hospital mortality? Use the ordinal column `\"age_at_discharge_binned\"` to calculate the proportion of individuals in each bin who died in the hospital. Then plot the values."
   ]
  },
  {
   "cell_type": "code",
   "execution_count": null,
   "id": "34f263ac",
   "metadata": {},
   "outputs": [],
   "source": [
    "# RUN CELL TO SEE HINT\n",
    "age_at_discharge_mortality_hint"
   ]
  },
  {
   "cell_type": "code",
   "execution_count": null,
   "id": "1181939d",
   "metadata": {},
   "outputs": [],
   "source": [
    "# RUN CELL TO SEE QUIZ\n",
    "age_at_discharge_mortality_quiz"
   ]
  },
  {
   "cell_type": "code",
   "execution_count": null,
   "id": "c5ee0ff4",
   "metadata": {},
   "outputs": [],
   "source": []
  },
  {
   "cell_type": "markdown",
   "id": "f5238fb4",
   "metadata": {},
   "source": [
    "# 4. Pneumonia\n",
    "Pneumonia is a common infection and serious comorbidity for ICU patients. We'll explore pneumonia throughout the class, beginning with the next few questions.\n",
    "\n",
    "## 4.1\n",
    "What proportion of patients had pneumonia during their hospitalization? Calculate the proportion and plot the counts."
   ]
  },
  {
   "cell_type": "code",
   "execution_count": null,
   "id": "d4f06023",
   "metadata": {},
   "outputs": [],
   "source": [
    "# RUN CELL TO SEE QUIZ\n",
    "pna_prop"
   ]
  },
  {
   "cell_type": "code",
   "execution_count": null,
   "id": "5559c147",
   "metadata": {},
   "outputs": [],
   "source": []
  },
  {
   "cell_type": "markdown",
   "id": "f938ebc3",
   "metadata": {},
   "source": [
    "## 4.2\n",
    "The column `time_discharge_to_death` tells us how many days there were between when the patient discharged and when they died. What is the distribution of time to death among patients who did/did not have pneumonia? Try a few different methods for comparing the two groups. Do the distributions differ?"
   ]
  },
  {
   "cell_type": "code",
   "execution_count": null,
   "id": "d3962c29",
   "metadata": {},
   "outputs": [],
   "source": [
    "# RUN CELL TO SEE HINT\n",
    "time_to_death_viz_hint"
   ]
  },
  {
   "cell_type": "code",
   "execution_count": null,
   "id": "e1222c1f",
   "metadata": {},
   "outputs": [],
   "source": [
    "# RUN CELL TO SEE QUIZ\n",
    "time_to_death_mean_quiz"
   ]
  },
  {
   "cell_type": "code",
   "execution_count": null,
   "id": "8e20e752",
   "metadata": {},
   "outputs": [],
   "source": []
  },
  {
   "cell_type": "code",
   "execution_count": null,
   "id": "2e2b9620",
   "metadata": {},
   "outputs": [],
   "source": [
    "# Plot time_discharge_to_death by pneumonia\n"
   ]
  },
  {
   "cell_type": "code",
   "execution_count": null,
   "id": "0aa212df",
   "metadata": {},
   "outputs": [],
   "source": []
  },
  {
   "cell_type": "markdown",
   "id": "56038d20",
   "metadata": {},
   "source": [
    "## 4.3\n",
    "The [relative risk](https://en.wikipedia.org/wiki/Relative_risk) is a statistic which tells us how likely an outcome is to occur in one group versus another. For example, the outcome might be in-hospital mortality and you could compare between different levels of age to see if there's a difference between older and younger individuals. \n",
    "\n",
    "Calculate the relative risk of in-hospital mortality for patients with pneumonia against patients without pneumonia and assign it the name `rr`. It can be calculated as the proportion of pneumonia positive patients who died over the proportion of pneumonia negative patients who died.\n",
    "\n",
    "How would you interpret the results? "
   ]
  },
  {
   "cell_type": "code",
   "execution_count": null,
   "id": "17167508",
   "metadata": {},
   "outputs": [],
   "source": []
  },
  {
   "cell_type": "code",
   "execution_count": null,
   "id": "e45f6271",
   "metadata": {},
   "outputs": [],
   "source": [
    "# RUN CELL TO SEE QUIZ\n",
    "in_hospital_mortality_rr_quiz"
   ]
  },
  {
   "cell_type": "code",
   "execution_count": null,
   "id": "9830eeac",
   "metadata": {},
   "outputs": [],
   "source": [
    "# RUN CELL TO SEE QUIZ\n",
    "in_hospital_mortality_rr_interpretation_quiz"
   ]
  },
  {
   "cell_type": "code",
   "execution_count": null,
   "id": "d22551dc",
   "metadata": {},
   "outputs": [],
   "source": []
  }
 ],
 "metadata": {
  "kernelspec": {
   "display_name": "Python 3 (ipykernel)",
   "language": "python",
   "name": "python3"
  },
  "language_info": {
   "codemirror_mode": {
    "name": "ipython",
    "version": 3
   },
   "file_extension": ".py",
   "mimetype": "text/x-python",
   "name": "python",
   "nbconvert_exporter": "python",
   "pygments_lexer": "ipython3",
   "version": "3.9.12"
  }
 },
 "nbformat": 4,
 "nbformat_minor": 5
}
