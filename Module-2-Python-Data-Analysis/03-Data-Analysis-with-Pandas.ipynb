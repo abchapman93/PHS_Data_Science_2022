{
 "cells": [
  {
   "cell_type": "markdown",
   "id": "e665b6dd",
   "metadata": {},
   "source": [
    "<html>\n",
    "<table width=\"100%\" cellspacing=\"2\" cellpadding=\"2\" border=\"1\">\n",
    "<tbody>\n",
    "<tr>\n",
    "<td valign=\"center\" align=\"center\" width=\"45%\"><img src=\"../media/Univ-Utah.jpeg\"><br>\n",
    "</td>\n",
    "    <td valign=\"center\" align=\"center\" width=\"75%\">\n",
    "<h1 align=\"center\"><font size=\"+1\">University of Utah<br>Population Health Sciences<br>Data Science Workshop</font></h1></td>\n",
    "<td valign=\"center\" align=\"center\" width=\"45%\"><img\n",
    "src=\"../media/U_Health_stacked_png_red.png\" alt=\"Utah Health\n",
    "Logo\" width=\"128\" height=\"134\"><br>\n",
    "</td>\n",
    "</tr>\n",
    "</tbody>\n",
    "</table>\n",
    "<br>\n",
    "</html>\n"
   ]
  },
  {
   "cell_type": "code",
   "execution_count": null,
   "id": "23d4e4ed",
   "metadata": {},
   "outputs": [],
   "source": [
    "from helpers import *\n",
    "\n",
    "import seaborn as sns\n",
    "sns.set()\n",
    "\n",
    "import matplotlib.pyplot as plt\n",
    "%matplotlib inline"
   ]
  },
  {
   "cell_type": "markdown",
   "id": "2d50d838",
   "metadata": {},
   "source": [
    "# Data Analysis with Pandas\n",
    "This notebook will do a deeper dive into the `pandas` library and show how to use pandas along with seaborn/matplotlib to analyze a full dataset.\n",
    "\n",
    "## Data source\n",
    "\n",
    "This dataset has been saved to this directory as **\"500_Person_Gender_Height_Weight_Index.csv\"**. It originally came from [Kaggle](https://www.kaggle.com/yersever/500-person-gender-height-weight-bodymassindex/data).\n",
    "\n",
    "#### TODO\n",
    "We'll start by reading in the csv file containing the data. Pandas can read files of a number data types. First, import pandas with the alias `pd`."
   ]
  },
  {
   "cell_type": "code",
   "execution_count": null,
   "id": "7e7a1bb4",
   "metadata": {},
   "outputs": [],
   "source": [
    "import pandas as pd"
   ]
  },
  {
   "cell_type": "markdown",
   "id": "1075b55b",
   "metadata": {},
   "source": [
    "Next, we need to tell pandas where to find our data source. This dataset is saved as a comma-separated values (csv) file in the following location:\n",
    "\n",
    "`../data/500_Person_Gender_Height_Weight_Index.csv`\n",
    "\n",
    "A **filepath** like the one above tells your program where to find a file on your machine. This filepath means:\n",
    "- `..`: Go up one folder/directory\n",
    "- `../data/`: Go to the folder called `data`\n",
    "- `../data/500_Person_Gender_Height_Weight_Index.csv`: In the data folder, look for a file called **\"500_Person_Gender_Height_Weight_Index.csv\"**"
   ]
  },
  {
   "cell_type": "markdown",
   "id": "5dcd9c72",
   "metadata": {},
   "source": [
    "#### TODO\n",
    "Using the appropriate pandas function (see the previous notebook), pass in the filepath as a string. Save the resulting object as a variable called `df`."
   ]
  },
  {
   "cell_type": "code",
   "execution_count": null,
   "id": "3e0bfc8e",
   "metadata": {},
   "outputs": [],
   "source": [
    "df = pd.____(\"____\")"
   ]
  },
  {
   "cell_type": "markdown",
   "id": "7d10d31c",
   "metadata": {},
   "source": [
    "Now, let's get a sense of our dataset. The method `df.head()` subsets the first 5 rows of a DataFrame and can give us a quick look at the data structure.\n",
    "\n",
    "#### TODO\n",
    "Take a look at the first 5 rows of the dataset. What variables are in it? What data types are they? What would be some useful summary statistics to analyze this dataset?"
   ]
  },
  {
   "cell_type": "code",
   "execution_count": null,
   "id": "699a1f26",
   "metadata": {},
   "outputs": [],
   "source": [
    "df.head()"
   ]
  },
  {
   "cell_type": "markdown",
   "id": "6efef458",
   "metadata": {},
   "source": [
    "#### TODO\n",
    "Which of the variables appear to be **categorical** variables? What do the values in these columns mean?\n",
    "\n",
    "**Hint**: Look at the Kaggle link above if you need some additional information about a column."
   ]
  },
  {
   "cell_type": "code",
   "execution_count": null,
   "id": "0f332fc0",
   "metadata": {},
   "outputs": [],
   "source": [
    "# QUIZ CATEGORICAL\n",
    "quiz_categorical"
   ]
  },
  {
   "cell_type": "markdown",
   "id": "33dd2f05",
   "metadata": {},
   "source": [
    "#### TODO\n",
    "Calculate summary statistics for all of the numeric columns in the dataset. Then calculate the min, max, and mean values for **Height**."
   ]
  },
  {
   "cell_type": "code",
   "execution_count": null,
   "id": "896e7b84",
   "metadata": {},
   "outputs": [],
   "source": [
    "df.describe()"
   ]
  },
  {
   "cell_type": "code",
   "execution_count": null,
   "id": "71cc18e9",
   "metadata": {},
   "outputs": [],
   "source": [
    "# Mean\n",
    "df[____].mean() "
   ]
  },
  {
   "cell_type": "code",
   "execution_count": null,
   "id": "e190eeb6",
   "metadata": {},
   "outputs": [],
   "source": [
    "# Min\n",
    "df[\"Weight\"].____()"
   ]
  },
  {
   "cell_type": "code",
   "execution_count": null,
   "id": "bbdeac51",
   "metadata": {},
   "outputs": [],
   "source": [
    "# Max\n",
    "df[___].____()"
   ]
  },
  {
   "cell_type": "code",
   "execution_count": null,
   "id": "6ac1ba37",
   "metadata": {},
   "outputs": [],
   "source": []
  },
  {
   "cell_type": "markdown",
   "id": "09a4087c",
   "metadata": {},
   "source": [
    "## Aggregating by Variables\n",
    "We can call methods on the columns of a DataFrame to do additional analysis on specific variables. Let's look at two categorical variables: **Gender** and **Index**. With categorical variables, we might want to get the count of rows where the variable takes on a certain value. For example, how many rows are **Male** vs. **Female**? What are the average height and weight within these two categories?\n",
    "\n",
    "One way to do this is by using the `groupby` method. This **aggregates** the dataframe by a variable (such as **Gender**) and then calculates statistics within each category. \n",
    "\n",
    "**Note**: This is the equivalent in SQL of using  `GROUP BY` clause. We'll learn more about that tomorrow.\n",
    "\n",
    "The syntax for a pandas group by is:\n",
    "\n",
    "`df.groupby(\"column_name\").agg_function()`\n",
    "\n",
    "where `agg_function()` is a function which calculates a summary statistic of interest.\n",
    "\n",
    "For example, one aggregate function is `size()`, which calculates the number of rows in each category:"
   ]
  },
  {
   "cell_type": "code",
   "execution_count": null,
   "id": "a9a3e076",
   "metadata": {},
   "outputs": [],
   "source": [
    "df.groupby(\"Gender\").size()"
   ]
  },
  {
   "cell_type": "markdown",
   "id": "05914eef",
   "metadata": {},
   "source": [
    "#### TODO\n",
    "Calculate the number of people within each level of **Index**. Then answer the quiz question below."
   ]
  },
  {
   "cell_type": "code",
   "execution_count": null,
   "id": "0833c554",
   "metadata": {},
   "outputs": [],
   "source": []
  },
  {
   "cell_type": "code",
   "execution_count": null,
   "id": "5667c1bd",
   "metadata": {},
   "outputs": [],
   "source": [
    "# RUN CELL TO SEE QUIZ\n",
    "quiz_index_0_3"
   ]
  },
  {
   "cell_type": "markdown",
   "id": "6053409b",
   "metadata": {},
   "source": [
    "We can also group by multiple variables:"
   ]
  },
  {
   "cell_type": "code",
   "execution_count": null,
   "id": "ea9c12e7",
   "metadata": {},
   "outputs": [],
   "source": [
    "df.groupby([\"Gender\", \"Index\"]).size()"
   ]
  },
  {
   "cell_type": "code",
   "execution_count": null,
   "id": "590450c0",
   "metadata": {},
   "outputs": [],
   "source": []
  },
  {
   "cell_type": "markdown",
   "id": "7739458f",
   "metadata": {},
   "source": [
    "If we group by a categorical variable, we can then analyze the distribution of numeric columns within each category. To do that, we have to first group by our grouping variable, access the numeric column, and then call the aggregate statistic. "
   ]
  },
  {
   "cell_type": "code",
   "execution_count": null,
   "id": "692c6535",
   "metadata": {},
   "outputs": [],
   "source": [
    "df.groupby(\"Gender\")[\"Height\"].mean()"
   ]
  },
  {
   "cell_type": "code",
   "execution_count": null,
   "id": "a7efa976",
   "metadata": {},
   "outputs": [],
   "source": [
    "df.groupby(\"Gender\")[\"Height\"].median()"
   ]
  },
  {
   "cell_type": "markdown",
   "id": "159fe9f8",
   "metadata": {},
   "source": [
    "Just like with a normal DataFrame, we can access multiple columns and perform multiple aggregations at once."
   ]
  },
  {
   "cell_type": "code",
   "execution_count": null,
   "id": "f2e35087",
   "metadata": {},
   "outputs": [],
   "source": [
    "df.groupby(\"Gender\")[[\"Height\", \"Weight\"]].describe()"
   ]
  },
  {
   "cell_type": "markdown",
   "id": "fb75a472",
   "metadata": {},
   "source": [
    "#### TODO\n",
    "Group the dataset by **Index** and look at the distribution of **Height** and **Weight** within each category. The find the following values and put your answers in the subsequent quizzes:\n",
    "- The mean height for subjects with an Index of **3**\n",
    "- The median height for subjects with an Index of **5**\n",
    "- The max height for a female subject with an index of 0"
   ]
  },
  {
   "cell_type": "code",
   "execution_count": null,
   "id": "deebeb8f",
   "metadata": {},
   "outputs": [],
   "source": []
  },
  {
   "cell_type": "code",
   "execution_count": null,
   "id": "88de5fc0",
   "metadata": {},
   "outputs": [],
   "source": [
    "# RUN CELL TO SEE QUIZ\n",
    "quiz_mean_height_index3"
   ]
  },
  {
   "cell_type": "code",
   "execution_count": null,
   "id": "02e25c2e",
   "metadata": {},
   "outputs": [],
   "source": []
  },
  {
   "cell_type": "code",
   "execution_count": null,
   "id": "19ac0d53",
   "metadata": {},
   "outputs": [],
   "source": [
    "df.groupby(\"Index\")[\"Height\"].median()"
   ]
  },
  {
   "cell_type": "code",
   "execution_count": null,
   "id": "02e15ca6",
   "metadata": {},
   "outputs": [],
   "source": []
  },
  {
   "cell_type": "code",
   "execution_count": null,
   "id": "521b7d9b",
   "metadata": {},
   "outputs": [],
   "source": [
    "# RUN CELL TO SEE QUIZ\n",
    "quiz_median_weight_index5"
   ]
  },
  {
   "cell_type": "code",
   "execution_count": null,
   "id": "d8f3886c",
   "metadata": {},
   "outputs": [],
   "source": []
  },
  {
   "cell_type": "code",
   "execution_count": null,
   "id": "73a13f94",
   "metadata": {},
   "outputs": [],
   "source": [
    "# RUN CELL TO SEE QUIZ\n",
    "quiz_max_height_f0"
   ]
  },
  {
   "cell_type": "markdown",
   "id": "0798bdc1",
   "metadata": {},
   "source": [
    "### Visualization with `pandas`\n",
    "We can use `matplotlib` and `seaborn` to plot data from a DataFrame. In addition, pandas has a few out-of-the-box methods that are helpful visualizing a dataset.\n",
    "\n",
    "One example is plotting **histogram** of the values in a column:"
   ]
  },
  {
   "cell_type": "code",
   "execution_count": null,
   "id": "6b74d1a2",
   "metadata": {},
   "outputs": [],
   "source": [
    "df[\"Weight\"].hist()"
   ]
  },
  {
   "cell_type": "markdown",
   "id": "91a03827",
   "metadata": {},
   "source": [
    "#### TODO\n",
    "Plot a histogram of the **Index** column to see how many individuals are in each group."
   ]
  },
  {
   "cell_type": "code",
   "execution_count": null,
   "id": "6d95a444",
   "metadata": {},
   "outputs": [],
   "source": [
    "hint_hist_index  "
   ]
  },
  {
   "cell_type": "code",
   "execution_count": null,
   "id": "9a2faf7c",
   "metadata": {},
   "outputs": [],
   "source": [
    "df[\"Index\"].hist()"
   ]
  },
  {
   "cell_type": "code",
   "execution_count": null,
   "id": "44fbdb87",
   "metadata": {},
   "outputs": [],
   "source": []
  },
  {
   "cell_type": "markdown",
   "id": "7b0cbb40",
   "metadata": {},
   "source": [
    "We can plot a **box plot** to see how the numeric columns are distributed within a categorical variable. For example, the code below first groups by **\"Index\"** and puts those on the x-axis, then plots the distribution of height and weight on the y-axis. What patterns does this visualization reveal?"
   ]
  },
  {
   "cell_type": "code",
   "execution_count": null,
   "id": "ed29a000",
   "metadata": {},
   "outputs": [],
   "source": [
    "df.plot.box(\"Index\")"
   ]
  },
  {
   "cell_type": "markdown",
   "id": "5a5433f1",
   "metadata": {},
   "source": [
    "We could also plot individual pairs using `seaborn`:"
   ]
  },
  {
   "cell_type": "code",
   "execution_count": null,
   "id": "8aa7229d",
   "metadata": {},
   "outputs": [],
   "source": [
    "sns.boxplot(x=\"Index\", y=\"Height\", data=df)"
   ]
  },
  {
   "cell_type": "code",
   "execution_count": null,
   "id": "580d3463",
   "metadata": {},
   "outputs": [],
   "source": [
    "sns.boxplot(x=\"Index\", y=\"Weight\", data=df)"
   ]
  },
  {
   "cell_type": "code",
   "execution_count": null,
   "id": "90c52fdb",
   "metadata": {},
   "outputs": [],
   "source": []
  },
  {
   "cell_type": "markdown",
   "id": "521a9f22",
   "metadata": {},
   "source": [
    "#### TODO\n",
    "Plot box plots of height and weight with **\"Gender\"** on the x-axis. Use either `seaborn` or `pandas`.\n",
    "\n",
    "**NOTE FOR ALEC: ADD HINT**"
   ]
  },
  {
   "cell_type": "code",
   "execution_count": null,
   "id": "7ffc3fd6",
   "metadata": {},
   "outputs": [],
   "source": []
  },
  {
   "cell_type": "code",
   "execution_count": null,
   "id": "d1519451",
   "metadata": {},
   "outputs": [],
   "source": []
  },
  {
   "cell_type": "markdown",
   "id": "091dc943",
   "metadata": {},
   "source": [
    "We can also plot two columns against each other in a scatterplot. This is helpful for assessing if there is any correlation between the two variables."
   ]
  },
  {
   "cell_type": "code",
   "execution_count": null,
   "id": "0d056134",
   "metadata": {
    "scrolled": true
   },
   "outputs": [],
   "source": [
    "df.plot.scatter(x=\"Height\", y=\"Weight\")"
   ]
  },
  {
   "cell_type": "markdown",
   "id": "6e002c1f",
   "metadata": {},
   "source": [
    "We can also quantify this correlation with the `.corr()` method. What does this value and the plot above tell you about the correlation of height and weight? Does that surprise you?"
   ]
  },
  {
   "cell_type": "code",
   "execution_count": null,
   "id": "f42e98be",
   "metadata": {},
   "outputs": [],
   "source": [
    "df[\"Height\"].corr(df[\"Weight\"])"
   ]
  },
  {
   "cell_type": "code",
   "execution_count": null,
   "id": "7ec8989c",
   "metadata": {},
   "outputs": [],
   "source": []
  },
  {
   "cell_type": "markdown",
   "id": "44311ab9",
   "metadata": {},
   "source": [
    "It can useful to break the data up into subgroups to see if any of the trends differ.\n",
    "\n",
    "#### TODO\n",
    "Let's see if there is the correlation between height and weight looks any different in different `Index` groups. For each of levels **1**, **3**, and **5**, create a new DataFrame which is filtered to only include patients within that group. Then create a scatter plot of height and weight within each group and calculate the correlation.\n"
   ]
  },
  {
   "cell_type": "code",
   "execution_count": null,
   "id": "5168cc74",
   "metadata": {},
   "outputs": [],
   "source": [
    "# RUN CELL TO SEE HINT\n",
    "hint_output_hw_scatter"
   ]
  },
  {
   "cell_type": "code",
   "execution_count": null,
   "id": "f77aa382",
   "metadata": {},
   "outputs": [],
   "source": [
    "df_index1 = ____\n",
    "df_index3 = ____\n",
    "____ = ____"
   ]
  },
  {
   "cell_type": "code",
   "execution_count": null,
   "id": "64721e01",
   "metadata": {},
   "outputs": [],
   "source": []
  },
  {
   "cell_type": "markdown",
   "id": "c83d760f",
   "metadata": {},
   "source": [
    "## Creating new columns\n",
    "We can also add new columns to a DataFrame, often constructed using the other variables.\n",
    "\n",
    "We can create a new column by saying:\n",
    "```python\n",
    "df[\"column_name\"] = value\n",
    "```\n",
    "\n",
    "The value value a single scalar, a list, a series, etc. Unless it's a scalar, it needs to be the same length as the DataFrame.\n",
    "\n",
    "#### TODO\n",
    "Square the **Height** column of `df` and save it as a new column called `\"height_sqrd\"`"
   ]
  },
  {
   "cell_type": "code",
   "execution_count": null,
   "id": "2d9ce0cd",
   "metadata": {},
   "outputs": [],
   "source": [
    "df[\"____\"] =  ____"
   ]
  },
  {
   "cell_type": "code",
   "execution_count": null,
   "id": "795550d4",
   "metadata": {},
   "outputs": [],
   "source": [
    "# RUN CELL TO TEST VALUE\n",
    "test_df_height_sqrd.test(df)"
   ]
  },
  {
   "cell_type": "code",
   "execution_count": null,
   "id": "791fa590",
   "metadata": {},
   "outputs": [],
   "source": [
    "df.head()"
   ]
  },
  {
   "cell_type": "markdown",
   "id": "7afb8566",
   "metadata": {},
   "source": [
    "Let's use the height and weight columns to create a new column with **BMI** measurements. BMI is calculated from height and weight using this equation:\n",
    "\n",
    "$$BMI = \\frac{Weight (kg)}{Height (m) ^ 2}$$\n",
    "\n",
    "#### TODO\n",
    "To get the BMI measurement, we'll need to go through a few steps:\n",
    "1. Convert **Height** from centimers to meters. We'll save this as a new variabled called `height_m`\n",
    "2. Square the **Height in meters** column. Save this as a variable `height_m_sqrd`\n",
    "3. Divide the **Weight** column by the **Height in meters** column. Save this as a variabled called `bmi`\n",
    "4. Assign the result to a new column in `df` called `\"bmi\"` and plot it in a histogram."
   ]
  },
  {
   "cell_type": "code",
   "execution_count": null,
   "id": "64b38680",
   "metadata": {},
   "outputs": [],
   "source": [
    "# Convert from centimeters to meters\n",
    "height_m = ____\n",
    "height_m"
   ]
  },
  {
   "cell_type": "code",
   "execution_count": null,
   "id": "58f897b1",
   "metadata": {
    "scrolled": true
   },
   "outputs": [],
   "source": [
    "# Square height in meters\n",
    "____ = ____\n",
    "height_m_sqrd"
   ]
  },
  {
   "cell_type": "code",
   "execution_count": null,
   "id": "0ad2b05c",
   "metadata": {},
   "outputs": [],
   "source": [
    "# Calculate BMI\n",
    "____ = ____ / ____\n",
    "df[\"bmi\"]"
   ]
  },
  {
   "cell_type": "code",
   "execution_count": null,
   "id": "8191f559",
   "metadata": {},
   "outputs": [],
   "source": [
    "# Plot\n"
   ]
  },
  {
   "cell_type": "code",
   "execution_count": null,
   "id": "684bfea0",
   "metadata": {},
   "outputs": [],
   "source": [
    "# RUN CELL TO TEST VALUE\n",
    "test_bmi.test(df[\"bmi\"])"
   ]
  },
  {
   "cell_type": "code",
   "execution_count": null,
   "id": "164f53c1",
   "metadata": {},
   "outputs": [],
   "source": []
  }
 ],
 "metadata": {
  "kernelspec": {
   "display_name": "Python 3 (ipykernel)",
   "language": "python",
   "name": "python3"
  },
  "language_info": {
   "codemirror_mode": {
    "name": "ipython",
    "version": 3
   },
   "file_extension": ".py",
   "mimetype": "text/x-python",
   "name": "python",
   "nbconvert_exporter": "python",
   "pygments_lexer": "ipython3",
   "version": "3.9.12"
  }
 },
 "nbformat": 4,
 "nbformat_minor": 5
}
