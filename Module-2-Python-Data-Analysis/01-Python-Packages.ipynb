{
 "cells": [
  {
   "cell_type": "markdown",
   "id": "f142f65f",
   "metadata": {},
   "source": [
    "<html>\n",
    "<table width=\"100%\" cellspacing=\"2\" cellpadding=\"2\" border=\"1\">\n",
    "<tbody>\n",
    "<tr>\n",
    "<td valign=\"center\" align=\"center\" width=\"45%\"><img src=\"../media/Univ-Utah.jpeg\"><br>\n",
    "</td>\n",
    "    <td valign=\"center\" align=\"center\" width=\"75%\">\n",
    "<h1 align=\"center\"><font size=\"+1\">University of Utah<br>Population Health Sciences<br>Data Science Workshop</font></h1></td>\n",
    "<td valign=\"center\" align=\"center\" width=\"45%\"><img\n",
    "src=\"../media/U_Health_stacked_png_red.png\" alt=\"Utah Health\n",
    "Logo\" width=\"128\" height=\"134\"><br>\n",
    "</td>\n",
    "</tr>\n",
    "</tbody>\n",
    "</table>\n",
    "<br>\n",
    "</html>\n"
   ]
  },
  {
   "cell_type": "markdown",
   "id": "d42912cc",
   "metadata": {},
   "source": [
    "# Python Packages\n",
    "In the last notebook we saw how to write our own functions to manipulate data. That's helpful for when we have common manipulations we need to perform multiple times. But we don't want to write functions for every single data analysis task. Instead, we can leverage code written by other people in the Python communities.\n",
    "\n",
    "**Packages** (also called **libraries**) are collections of functions and other Python code, *packaged* together and distributed for the open-source community to use. Packages contain smaller sets of functionality called **modules** and we may sometimes refer to them interchangably here. In this notebook, we'll look at a few of the most important packages in Python for data science.\n",
    "- `numpy`\n",
    "- `pandas`\n",
    "- `matplotlib` and `seaborn`"
   ]
  },
  {
   "cell_type": "markdown",
   "id": "5ffd2307",
   "metadata": {},
   "source": [
    "## Importing packages\n",
    "To use a package in Python, we first have to *import* it. The syntax for this is:\n",
    "\n",
    "```python\n",
    "import package_name\n",
    "```\n",
    "\n",
    "Without getting too technical, this loads  the library into your namespace and you can access all the contents of the library (functions, classes, etc.) as:\n",
    "\n",
    "```python\n",
    "package_name.function_name()\n",
    "```\n",
    "\n",
    "---\n",
    "#### Comparison with R\n",
    "\n",
    "This is the Python equivalent of R's `library(...)` function. A major difference between how R and python imports packages is that in R, calling `library(...)` directly loads all of package's contents to your namespace. For example, if you call `library(dplyr)`, you can directly access functions like `group_by`:\n",
    "\n",
    "```r\n",
    "# R\n",
    "library(tidyverse)\n",
    "df <- read_csv(...) %>% # read_csv, %>% loaded from tidyverse packages\n",
    "    group_by(subject_id) %>% # group_by is from dplyr\n",
    "    summarise(n=count())\n",
    "```\n",
    "\n",
    "In Python, the functions and classes are underneath the higher-level `module` object:\n",
    "\n",
    "```python\n",
    "# python\n",
    "import pandas\n",
    "df = pandas.read_csv(...) # read_csv needs to be accessed through `pandas.read_csv`\n",
    "df = df.group_by(\"subject_id\").agg{\"dt\": len} # The other methods are accessed through the dataframe object\n",
    "```\n",
    "\n",
    "---"
   ]
  },
  {
   "cell_type": "markdown",
   "id": "1cf923fb",
   "metadata": {},
   "source": [
    "Instead of importing a module, we can import all of the contents of the module as:\n",
    "\n",
    "```python\n",
    "from package_name import *\n",
    "```\n",
    "\n",
    "The asterisk \"\\*\" means: \"Import everything that is defined in `package_name`. So if you did this in the example above, you could run:\n",
    "\n",
    "\n",
    "```python\n",
    "from pandas import *\n",
    "df = read_csv(...) # Now we can just call read_csv directly\n",
    "```\n",
    "\n",
    "This is typically not recommended, but can sometimes be useful. In fact, we've already seen an example of this in our previous notebooks. Most of the notebooks today have had the following line of code:"
   ]
  },
  {
   "cell_type": "code",
   "execution_count": null,
   "id": "4feda285",
   "metadata": {},
   "outputs": [],
   "source": [
    "from helpers import *"
   ]
  },
  {
   "cell_type": "markdown",
   "id": "e16da004",
   "metadata": {},
   "source": [
    "This line of code imports all of the contents of a local module called `helpers` that I created to implement quizzes and helper functions. You can see the code I wrote by opening up the file `helpers.py` in the `module_1` directory."
   ]
  },
  {
   "cell_type": "markdown",
   "id": "c7599fed",
   "metadata": {},
   "source": [
    "#### TODO\n",
    "Open up the file `module_1/helpers.py`. Copy and paste the code from line 4 of this file into the quiz below."
   ]
  },
  {
   "cell_type": "code",
   "execution_count": null,
   "id": "b30958cc",
   "metadata": {},
   "outputs": [],
   "source": [
    "# RUN CELL TO SEE QUIZ\n",
    "quiz_helpers_code"
   ]
  },
  {
   "cell_type": "markdown",
   "id": "941192d2",
   "metadata": {},
   "source": [
    "What does the line of code from `helpers.py` do?"
   ]
  },
  {
   "cell_type": "code",
   "execution_count": null,
   "id": "b928c1fd",
   "metadata": {},
   "outputs": [],
   "source": [
    "# RUN CELL TO SEE QUIZ\n",
    "quiz_helpers_code_mc"
   ]
  },
  {
   "cell_type": "markdown",
   "id": "94d114a1",
   "metadata": {},
   "source": [
    "## Specific packages\n",
    "Let's get comfortable using some popular Python packages."
   ]
  },
  {
   "cell_type": "markdown",
   "id": "c25f5eac",
   "metadata": {},
   "source": [
    "## `numpy`\n",
    "`numpy` is maybe the foundational Python package for data science. `numpy` implements methods for arrays and matrices and allows us to perform mathematical operations on them. It also implements important functions for calculating summary statistics from our data\n",
    "\n",
    "First, we import the library. Then we can access functions in the library using `numpy.function_name`."
   ]
  },
  {
   "cell_type": "code",
   "execution_count": null,
   "id": "8bf6a3cd",
   "metadata": {},
   "outputs": [],
   "source": [
    "import numpy"
   ]
  },
  {
   "cell_type": "markdown",
   "id": "a98d3099",
   "metadata": {},
   "source": [
    "`numpy` has lots of functions for computing statistics from data. On example is a `mean` function, so we don't need to write our own function to calculate averages. Here's how to use numpy to calculate the mean of a list we saw in a previous notebook."
   ]
  },
  {
   "cell_type": "code",
   "execution_count": null,
   "id": "ea8dceb9",
   "metadata": {},
   "outputs": [],
   "source": [
    "a = [4, 0, 2, 2, 0, 10, 7, 8, 5, 0]\n",
    "numpy.mean(a)"
   ]
  },
  {
   "cell_type": "markdown",
   "id": "5f02c5c3",
   "metadata": {},
   "source": [
    "Sometimes we use a library so much we don't want to type its whole name every time. So for some libraries (including numpy), it's standard practice to assign an **alias** by saying:\n",
    "\n",
    "```python\n",
    "import package_name as alias\n",
    "```\n",
    "\n",
    "Then we use `alias.function_name` in our code. \n",
    "\n",
    "For `numpy`, we typically refer to it as `np`:"
   ]
  },
  {
   "cell_type": "code",
   "execution_count": null,
   "id": "10f31a4a",
   "metadata": {},
   "outputs": [],
   "source": [
    "import numpy as np\n",
    "np.mean(a)"
   ]
  },
  {
   "cell_type": "code",
   "execution_count": null,
   "id": "db160b48",
   "metadata": {},
   "outputs": [],
   "source": [
    "np.std(a)"
   ]
  },
  {
   "cell_type": "markdown",
   "id": "cd4a591f",
   "metadata": {},
   "source": [
    "If you only need to use one particular function in a library, instead of importing the entire package you can just import the function you want (again with or without an alias):\n",
    "\n",
    "```python\n",
    "from package_name import function_name\n",
    "from package_name import function_name as alias\n",
    "```"
   ]
  },
  {
   "cell_type": "markdown",
   "id": "b3818a4a",
   "metadata": {},
   "source": [
    "#### TODO\n",
    "Import the `std` function from numpy and assign it an alias of `sd` so it matches what you might be used to in R."
   ]
  },
  {
   "cell_type": "code",
   "execution_count": null,
   "id": "8e430d2c",
   "metadata": {},
   "outputs": [],
   "source": []
  },
  {
   "cell_type": "code",
   "execution_count": null,
   "id": "48ce4d42",
   "metadata": {},
   "outputs": [],
   "source": [
    "# RUN CELL TO CHECK VALUE\n",
    "test_np_sd.test(sd)"
   ]
  },
  {
   "cell_type": "code",
   "execution_count": null,
   "id": "d1603446",
   "metadata": {},
   "outputs": [],
   "source": [
    "sd(a)"
   ]
  },
  {
   "cell_type": "code",
   "execution_count": null,
   "id": "d055cf8e",
   "metadata": {},
   "outputs": [],
   "source": [
    "sd is np.std"
   ]
  },
  {
   "cell_type": "code",
   "execution_count": null,
   "id": "79d7b813",
   "metadata": {},
   "outputs": [],
   "source": []
  },
  {
   "cell_type": "markdown",
   "id": "ff616cee",
   "metadata": {},
   "source": [
    "### Arrays and matrices\n",
    "One of the most important contributions of `numpy` is its implementation of `arrays`. Arrays are similar to lists, but with a lot of important extensions:\n",
    "\n",
    "- They have mathematical operations defined on them that allows for easy and efficient data manipulation\n",
    "- The can have multiple **axes** (i.e., rows and columns), allowing us to build matrices"
   ]
  },
  {
   "cell_type": "code",
   "execution_count": null,
   "id": "9178ebad",
   "metadata": {},
   "outputs": [],
   "source": [
    "a_arr = np.array(a)\n",
    "a_arr"
   ]
  },
  {
   "cell_type": "code",
   "execution_count": null,
   "id": "6c46a635",
   "metadata": {},
   "outputs": [],
   "source": [
    "numpy.ndarray"
   ]
  },
  {
   "cell_type": "markdown",
   "id": "b82e8a7e",
   "metadata": {},
   "source": [
    "We can calculate the sum, mean, and standard deviation of the array using the appropriate methods:"
   ]
  },
  {
   "cell_type": "code",
   "execution_count": null,
   "id": "581cc24d",
   "metadata": {},
   "outputs": [],
   "source": [
    "a_arr.sum()"
   ]
  },
  {
   "cell_type": "code",
   "execution_count": null,
   "id": "50499ccd",
   "metadata": {},
   "outputs": [],
   "source": [
    "# You can also still use python's built-in function\n",
    "sum(a)"
   ]
  },
  {
   "cell_type": "code",
   "execution_count": null,
   "id": "9013ba5c",
   "metadata": {},
   "outputs": [],
   "source": [
    "a_arr.mean()"
   ]
  },
  {
   "cell_type": "code",
   "execution_count": null,
   "id": "3d241ea7",
   "metadata": {},
   "outputs": [],
   "source": [
    "a_arr.std()"
   ]
  },
  {
   "cell_type": "markdown",
   "id": "7a77e384",
   "metadata": {},
   "source": [
    "We can also perform element-wise operations on the array (that is, apply a mathematical operation to each individual element of the array and get a new array with the results):"
   ]
  },
  {
   "cell_type": "code",
   "execution_count": null,
   "id": "b739c4cd",
   "metadata": {},
   "outputs": [],
   "source": [
    "# Square the elements\n",
    "a_arr ** 2"
   ]
  },
  {
   "cell_type": "code",
   "execution_count": null,
   "id": "d2c906f8",
   "metadata": {},
   "outputs": [],
   "source": [
    "# Divide the elements by 3\n",
    "a_arr / 3"
   ]
  },
  {
   "cell_type": "markdown",
   "id": "8fed5e0c",
   "metadata": {},
   "source": [
    "We can see the dimensionality of an array by using the `array.shape` attribute. This tells us that that `a_arr` is a 10x1 vector (the `,` means that there are no columns):"
   ]
  },
  {
   "cell_type": "code",
   "execution_count": null,
   "id": "ab0f3f04",
   "metadata": {},
   "outputs": [],
   "source": [
    "a_arr.shape"
   ]
  },
  {
   "cell_type": "code",
   "execution_count": null,
   "id": "1ace4c78",
   "metadata": {},
   "outputs": [],
   "source": []
  },
  {
   "cell_type": "markdown",
   "id": "72f5a56e",
   "metadata": {},
   "source": [
    "### Multiple arrays\n",
    "Performing operations on multiple arrays is often easier with numpy than with lists. For example, we can add or multiply the elements together:"
   ]
  },
  {
   "cell_type": "code",
   "execution_count": null,
   "id": "0c337ead",
   "metadata": {},
   "outputs": [],
   "source": [
    "b_arr = np.array([4, 1, 4, 3, 9, 2, 0, 0, 5, 4])"
   ]
  },
  {
   "cell_type": "code",
   "execution_count": null,
   "id": "38be3da5",
   "metadata": {},
   "outputs": [],
   "source": [
    "a_arr + b_arr"
   ]
  },
  {
   "cell_type": "code",
   "execution_count": null,
   "id": "db864657",
   "metadata": {},
   "outputs": [],
   "source": [
    "a_arr * b_arr"
   ]
  },
  {
   "cell_type": "markdown",
   "id": "fff264e0",
   "metadata": {},
   "source": [
    "Or compute their dot product:"
   ]
  },
  {
   "cell_type": "code",
   "execution_count": null,
   "id": "6471e26c",
   "metadata": {},
   "outputs": [],
   "source": [
    "a_arr.dot(b_arr)"
   ]
  },
  {
   "cell_type": "markdown",
   "id": "87a3fdad",
   "metadata": {},
   "source": [
    "However, this will throw an error if the shapes of the arrays don't line up:"
   ]
  },
  {
   "cell_type": "code",
   "execution_count": null,
   "id": "d15c9ac5",
   "metadata": {},
   "outputs": [],
   "source": [
    "a_arr + np.array([1, 2])"
   ]
  },
  {
   "cell_type": "code",
   "execution_count": null,
   "id": "714d0861",
   "metadata": {},
   "outputs": [],
   "source": []
  },
  {
   "cell_type": "markdown",
   "id": "c3ed7c4c",
   "metadata": {},
   "source": [
    "### Matrices\n",
    "A [**matrix**](https://en.wikipedia.org/wiki/Matrix_(mathematics)) is an array with multiple rows or columns. If we have two arrays, we can create a matrix by calling:\n",
    "\n",
    "`np.array([array1, array2, ...])`\n",
    "\n",
    "The code below creates a matrix using `a_arr` and `b_arr`:"
   ]
  },
  {
   "cell_type": "code",
   "execution_count": null,
   "id": "8990b680",
   "metadata": {},
   "outputs": [],
   "source": [
    "matrix = np.array([a_arr, b_arr])"
   ]
  },
  {
   "cell_type": "code",
   "execution_count": null,
   "id": "99de0b31",
   "metadata": {},
   "outputs": [],
   "source": [
    "matrix"
   ]
  },
  {
   "cell_type": "markdown",
   "id": "5d8d7fdf",
   "metadata": {},
   "source": [
    "#### TODO\n",
    "What shape does our new variable `matrix` have?"
   ]
  },
  {
   "cell_type": "code",
   "execution_count": null,
   "id": "38d32bf2",
   "metadata": {},
   "outputs": [],
   "source": [
    "# RUN CELL TO SEE QUIZ\n",
    "quiz_shape_matrix"
   ]
  },
  {
   "cell_type": "code",
   "execution_count": null,
   "id": "5fb7e33f",
   "metadata": {},
   "outputs": [],
   "source": [
    "matrix.shape"
   ]
  },
  {
   "cell_type": "markdown",
   "id": "799e2c73",
   "metadata": {},
   "source": [
    "What class is `matrix`?"
   ]
  },
  {
   "cell_type": "code",
   "execution_count": null,
   "id": "25529415",
   "metadata": {},
   "outputs": [],
   "source": [
    "# RUN CELL TO SEE QUIZ\n",
    "quiz_data_type_matrix"
   ]
  },
  {
   "cell_type": "code",
   "execution_count": null,
   "id": "14732e13",
   "metadata": {},
   "outputs": [],
   "source": []
  },
  {
   "cell_type": "markdown",
   "id": "3024c38b",
   "metadata": {},
   "source": [
    "We can switch the rows and the columns by calling `matrix.transpose()`:"
   ]
  },
  {
   "cell_type": "code",
   "execution_count": null,
   "id": "397ce8a9",
   "metadata": {},
   "outputs": [],
   "source": [
    "matrix.transpose()"
   ]
  },
  {
   "cell_type": "markdown",
   "id": "ed59dc01",
   "metadata": {},
   "source": [
    "#### TODO\n",
    "What shape does `matrix.transpose()` have?"
   ]
  },
  {
   "cell_type": "code",
   "execution_count": null,
   "id": "a06b4946",
   "metadata": {},
   "outputs": [],
   "source": [
    "# RUN CELL TO SEE QUIZ\n",
    "quiz_shape_matrix_t"
   ]
  },
  {
   "cell_type": "code",
   "execution_count": null,
   "id": "06cae3e5",
   "metadata": {},
   "outputs": [],
   "source": []
  },
  {
   "cell_type": "markdown",
   "id": "5f5d4139",
   "metadata": {},
   "source": [
    "### Indexing arrays\n",
    "For single-axis arrays, we can index arrays the same way we did with lists:"
   ]
  },
  {
   "cell_type": "code",
   "execution_count": null,
   "id": "8098d8ac",
   "metadata": {},
   "outputs": [],
   "source": [
    "a_arr[0]"
   ]
  },
  {
   "cell_type": "code",
   "execution_count": null,
   "id": "77b7432e",
   "metadata": {},
   "outputs": [],
   "source": [
    "a_arr[0:3]"
   ]
  },
  {
   "cell_type": "code",
   "execution_count": null,
   "id": "fdb36d36",
   "metadata": {},
   "outputs": [],
   "source": [
    "a_arr[:-1]"
   ]
  },
  {
   "cell_type": "markdown",
   "id": "c8d748d4",
   "metadata": {},
   "source": [
    "When we have two-axis matrices, we can slice along the rows *and* columns we want. If you want to get a single row of the matrix:"
   ]
  },
  {
   "cell_type": "code",
   "execution_count": null,
   "id": "71ca9ac9",
   "metadata": {},
   "outputs": [],
   "source": [
    "matrix[0]"
   ]
  },
  {
   "cell_type": "markdown",
   "id": "acd007f4",
   "metadata": {},
   "source": [
    "We can slice along the columns by putting a comma in between the row and column indices.\n",
    "\n",
    "So, for example, to get the value in the first row and first column:"
   ]
  },
  {
   "cell_type": "code",
   "execution_count": null,
   "id": "7c3a5b97",
   "metadata": {},
   "outputs": [],
   "source": [
    "matrix[0,0]"
   ]
  },
  {
   "cell_type": "markdown",
   "id": "8a1755f4",
   "metadata": {},
   "source": [
    "To get *all* the rows and the first column, we put a colon in the row index (to indicate we're going from the beginning through the end) and then pass in the column index:"
   ]
  },
  {
   "cell_type": "code",
   "execution_count": null,
   "id": "f093ddbd",
   "metadata": {},
   "outputs": [],
   "source": [
    "matrix[:,0]"
   ]
  },
  {
   "cell_type": "markdown",
   "id": "df748a87",
   "metadata": {},
   "source": [
    "#### TODO\n",
    "What code would give you only the first *row* and all the columns? Select all that apply."
   ]
  },
  {
   "cell_type": "code",
   "execution_count": null,
   "id": "deb023a0",
   "metadata": {},
   "outputs": [],
   "source": [
    "# RUN CELL TO SEE QUIZ\n",
    "test_matrix_first_row_all_cols"
   ]
  },
  {
   "cell_type": "code",
   "execution_count": null,
   "id": "820e628f",
   "metadata": {},
   "outputs": [],
   "source": []
  },
  {
   "cell_type": "markdown",
   "id": "28c5a1c0",
   "metadata": {},
   "source": [
    "## Pandas\n",
    "The second package we'll use *a lot* over the next few days is **pandas**. This library shares a lot in common with numpy but implements an important class of objects called a `DataFrame`. If you've used R before, lots of the pandas library should feel familiar.\n",
    "\n",
    "But first, we'll need to learn about **installing packages**.\n",
    "\n",
    "### Installing Python packages\n",
    "So far, all of the packages we've used have been available by default. But there are many, many other Python packages out there. Many of them you can install with a single line of code.\n",
    "\n",
    "Depending on the installation of Python that you have, `pandas` may not have be included in your default build. If so, you would get the following error when attempting to import pandas:\n",
    "```\n",
    "ModuleNotFoundError: No module named 'pandas'\n",
    "```\n",
    "\n",
    "Whenever you get that error in Python, you probably need to install the package.\n",
    "\n",
    "You can install a package by running the following command:\n",
    "\n",
    "```\n",
    "pip install package_name\n",
    "```\n",
    "\n",
    "You can either run this in your terminal (\"Terminal\" on Mac, \"Anaconda Prompt\" on Windows) or in a cell in a Jupter notebook with `!` in front of it.\n",
    "\n",
    "#### TODO\n",
    "Run the cell below to install `pandas`."
   ]
  },
  {
   "cell_type": "code",
   "execution_count": null,
   "id": "c356ca72",
   "metadata": {},
   "outputs": [],
   "source": [
    "!pip install pandas"
   ]
  },
  {
   "cell_type": "markdown",
   "id": "a99768ef",
   "metadata": {},
   "source": [
    "Now you can import pandas (with an alias):"
   ]
  },
  {
   "cell_type": "code",
   "execution_count": null,
   "id": "01051f76",
   "metadata": {},
   "outputs": [],
   "source": [
    "import pandas as pd"
   ]
  },
  {
   "cell_type": "markdown",
   "id": "cfbc3674",
   "metadata": {},
   "source": [
    "### Dataframes\n",
    "A DataFrame is similar to a matrix in that it is composed of `rows` and `columns`. But DataFrames have some nice additional features:\n",
    "- Rows and columns can have names\n",
    "- Advanced indexing options\n",
    "- Useful methods for analyzing and visualizing data\n",
    "\n",
    "As an example of DataFrame, the function `load_pt_roster` will return the data about our emergency room waiting list from our previous notebook. Let's call it `df` (short for \"dataframe\"):"
   ]
  },
  {
   "cell_type": "code",
   "execution_count": null,
   "id": "a2fd4f36",
   "metadata": {},
   "outputs": [],
   "source": [
    "def load_pt_roster():\n",
    "    import pandas as pd\n",
    "    return pd.read_csv(\"../data/ed_patient_poster.csv\")"
   ]
  },
  {
   "cell_type": "code",
   "execution_count": null,
   "id": "5f8d29ca",
   "metadata": {},
   "outputs": [],
   "source": [
    "df = load_pt_roster()\n",
    "df"
   ]
  },
  {
   "cell_type": "markdown",
   "id": "b0389ae1",
   "metadata": {},
   "source": [
    "Indexing DataFrames is similar to how we indexed in numpy but with a few differences. The first is that indexing is typically done using the dataframe's `iloc` attribute rather than the dataframe itself:\n",
    "\n",
    "```python\n",
    "# Correct\n",
    "df.iloc[start:end]\n",
    "\n",
    "# Will sometimes work but could throw an error \n",
    "# depending on the structure of your dataframe\n",
    "df[start:end]\n",
    "```"
   ]
  },
  {
   "cell_type": "markdown",
   "id": "ea4fa1ce",
   "metadata": {},
   "source": [
    "#### TODO\n",
    "Select the first 3 rows of `df` using the `iloc` attribute."
   ]
  },
  {
   "cell_type": "code",
   "execution_count": null,
   "id": "56e03862",
   "metadata": {},
   "outputs": [],
   "source": []
  },
  {
   "cell_type": "markdown",
   "id": "ed21ee0c",
   "metadata": {},
   "source": [
    "#### TODO\n",
    "Select the final row of `df`."
   ]
  },
  {
   "cell_type": "code",
   "execution_count": null,
   "id": "5e1ae850",
   "metadata": {},
   "outputs": [],
   "source": []
  },
  {
   "cell_type": "markdown",
   "id": "483a8cab",
   "metadata": {},
   "source": [
    "Did you notice any difference between the two returned values from above?\n",
    "\n",
    "When we slice multiple rows, the resulting object is a `DataFrame`. But when we access a single row, we get  a `Series`, which is analogous to a column vector or 1-axis numpy array. For example, the code below gives us a `Series` which is only the first row of data."
   ]
  },
  {
   "cell_type": "code",
   "execution_count": null,
   "id": "5c609835",
   "metadata": {},
   "outputs": [],
   "source": [
    "type(df.iloc[0])"
   ]
  },
  {
   "cell_type": "code",
   "execution_count": null,
   "id": "4a970231",
   "metadata": {},
   "outputs": [],
   "source": [
    "type(df.iloc[1:])"
   ]
  },
  {
   "cell_type": "markdown",
   "id": "f8a36289",
   "metadata": {},
   "source": [
    "#### Columns\n",
    "We access columns either numerically (like in numpy) or by passing in the name(s) of the columns we want to access. \n",
    "\n",
    "To get multiple columns by name we pass in a list of strings:"
   ]
  },
  {
   "cell_type": "code",
   "execution_count": null,
   "id": "e756c6c4",
   "metadata": {},
   "outputs": [],
   "source": [
    "df[[\"name\", \"arrival_time\"]]"
   ]
  },
  {
   "cell_type": "code",
   "execution_count": null,
   "id": "ef1c904b",
   "metadata": {},
   "outputs": [],
   "source": [
    "# Numeric slicing by column\n",
    "df.iloc[:,:2]"
   ]
  },
  {
   "cell_type": "markdown",
   "id": "784249e0",
   "metadata": {},
   "source": [
    "Just like rows, if we access a single column it returns a `Series`. To get this, you pass in just the string rather than a list of strings:"
   ]
  },
  {
   "cell_type": "code",
   "execution_count": null,
   "id": "41bdcb77",
   "metadata": {},
   "outputs": [],
   "source": [
    "df[\"name\"]"
   ]
  },
  {
   "cell_type": "markdown",
   "id": "e4521846",
   "metadata": {},
   "source": [
    "#### TODO\n",
    "Pull out the column `severity` as a Series. Assign it to `severity`."
   ]
  },
  {
   "cell_type": "code",
   "execution_count": null,
   "id": "c80e4708",
   "metadata": {},
   "outputs": [],
   "source": []
  },
  {
   "cell_type": "code",
   "execution_count": null,
   "id": "18e76cd0",
   "metadata": {},
   "outputs": [],
   "source": [
    "# RUN CELL TO SEE QUIZ\n",
    "test_severity.test(severity)"
   ]
  },
  {
   "cell_type": "code",
   "execution_count": null,
   "id": "de0d0f4f",
   "metadata": {},
   "outputs": [],
   "source": []
  },
  {
   "cell_type": "markdown",
   "id": "48c74862",
   "metadata": {},
   "source": [
    "### Dataframe and Series methods\n",
    "\n",
    "Just like how numpy had methods like `array.mean()`, DataFrames and Series have methods associated with them for calculations.\n",
    "\n",
    "For example, we can get the min, max, mean, standard deviation, and median of a column:"
   ]
  },
  {
   "cell_type": "code",
   "execution_count": null,
   "id": "7102c86f",
   "metadata": {},
   "outputs": [],
   "source": [
    "print(\"Min severity:\", severity.min())\n",
    "print(\"Max severity:\", severity.max())\n",
    "print(\"Mean severity:\", severity.mean())\n",
    "print(\"Standard deviation of severity:\", severity.std())\n",
    "print(\"Median severity:\", severity.median())"
   ]
  },
  {
   "cell_type": "markdown",
   "id": "394e8d49",
   "metadata": {},
   "source": [
    "Or we could do that for multiple columns in a DataFrame:"
   ]
  },
  {
   "cell_type": "code",
   "execution_count": null,
   "id": "8c842594",
   "metadata": {},
   "outputs": [],
   "source": [
    "df[[\"age\", \"severity\"]].max()"
   ]
  },
  {
   "cell_type": "markdown",
   "id": "f3c4f8b5",
   "metadata": {},
   "source": [
    "Nice method for getting a quick overview of your data is the `describe()` method which calculates summary statistics for all of the numeric columns in your DataFrame/Series:"
   ]
  },
  {
   "cell_type": "code",
   "execution_count": null,
   "id": "f9a81f83",
   "metadata": {},
   "outputs": [],
   "source": [
    "df.describe()"
   ]
  },
  {
   "cell_type": "code",
   "execution_count": null,
   "id": "5f92b897",
   "metadata": {},
   "outputs": [],
   "source": [
    "severity.describe()"
   ]
  },
  {
   "cell_type": "code",
   "execution_count": null,
   "id": "8d53785d",
   "metadata": {},
   "outputs": [],
   "source": []
  },
  {
   "cell_type": "markdown",
   "id": "825e7e4e",
   "metadata": {},
   "source": [
    "### Filtering data in `pandas`\n",
    "We often wish to do analyses on a specific subset of data. To do this we need to filter the data. There are several ways to do this with `pandas`. One nice and simple way is to use the DataFrame's `query` method, where you pass in a Python expression which will be used to filter your data, such as:\n",
    "\n",
    "```python\n",
    "df.query(\"column == value\")\n",
    "```\n",
    "\n",
    "As an example, the code below filters the data to only the rows where `name = 'Jim'`:"
   ]
  },
  {
   "cell_type": "code",
   "execution_count": null,
   "id": "07d76d5d",
   "metadata": {},
   "outputs": [],
   "source": [
    "df.query(\"name == 'Jim'\")"
   ]
  },
  {
   "cell_type": "markdown",
   "id": "02d28c14",
   "metadata": {},
   "source": [
    "And this code looks for are 30 or younger:"
   ]
  },
  {
   "cell_type": "code",
   "execution_count": null,
   "id": "80c43c14",
   "metadata": {},
   "outputs": [],
   "source": [
    "df.query(\"age <= 30\")"
   ]
  },
  {
   "cell_type": "markdown",
   "id": "b1a1092a",
   "metadata": {},
   "source": [
    "#### TODO\n",
    "Filter the dataset to patients who have a severit score of 30 or higher."
   ]
  },
  {
   "cell_type": "code",
   "execution_count": null,
   "id": "5c03ddb5",
   "metadata": {},
   "outputs": [],
   "source": [
    "# RUN CELL TO SEE HINT\n",
    "hint_severity_below_30"
   ]
  },
  {
   "cell_type": "code",
   "execution_count": null,
   "id": "65f1a0db",
   "metadata": {},
   "outputs": [],
   "source": []
  },
  {
   "cell_type": "markdown",
   "id": "a7c5f52a",
   "metadata": {},
   "source": [
    "### Reading data with `pandas`\n",
    "So far most of our examples have used small, mostly synthetic datasets. But eventually we'll want to work with real clinical data. To do this we need to be able to load data into Python to manipulate and analyze.\n",
    "\n",
    "`pandas` offers lots of helpful functions for doing this. Here are a few methods for reading in data with pandas from different data sources. Each takes a different type of data input and returns a DataFrame. \n",
    "\n",
    "- `pd.read_csv`: Comma-separated files\n",
    "- `pd.read_excel`: Excel workbooks\n",
    "- `pd.read_sql`: SQL databases (more on this tomorrow)\n",
    "- `pd.read_json`: JSON files\n",
    "\n",
    "Today we'll use some datasets kept in `csv` files, and tomorrow we'll move on to SQL databases.\n",
    "\n",
    "The helper function we used early actually just called `pd.read_csv` to load our patient roster:\n"
   ]
  },
  {
   "cell_type": "code",
   "execution_count": null,
   "id": "8899cb7c",
   "metadata": {},
   "outputs": [],
   "source": [
    "pd.read_csv(\"../data/ed_patient_poster.csv\")"
   ]
  },
  {
   "cell_type": "code",
   "execution_count": null,
   "id": "0e2d368e",
   "metadata": {},
   "outputs": [],
   "source": []
  }
 ],
 "metadata": {
  "kernelspec": {
   "display_name": "Python 3 (ipykernel)",
   "language": "python",
   "name": "python3"
  },
  "language_info": {
   "codemirror_mode": {
    "name": "ipython",
    "version": 3
   },
   "file_extension": ".py",
   "mimetype": "text/x-python",
   "name": "python",
   "nbconvert_exporter": "python",
   "pygments_lexer": "ipython3",
   "version": "3.9.12"
  }
 },
 "nbformat": 4,
 "nbformat_minor": 5
}
